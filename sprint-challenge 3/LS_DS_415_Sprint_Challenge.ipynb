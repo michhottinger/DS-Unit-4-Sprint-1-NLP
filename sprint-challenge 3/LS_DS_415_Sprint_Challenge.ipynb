{
 "cells": [
  {
   "cell_type": "markdown",
   "metadata": {},
   "source": [
    "<img align=\"left\" src=\"https://lever-client-logos.s3.amazonaws.com/864372b1-534c-480e-acd5-9711f850815c-1524247202159.png\" width=200>\n",
    "<br></br>\n",
    "<br></br>\n",
    "\n",
    "# Sprint Challenge\n",
    "## *Data Science Unit 4 Sprint 1*\n",
    "\n",
    "After a week of Natural Language Processing, you've learned some cool new stuff: how to process text, how turn text into vectors, and how to model topics from documents. Apply your newly acquired skills to one of the most famous NLP datasets out there: [Yelp](https://www.yelp.com/dataset/challenge). As part of the job selection process, some of my friends have been asked to create analysis of this dataset, so I want to empower you to have a head start.  \n",
    "\n",
    "The real dataset is massive (almost 8 gigs uncompressed). I've sampled the data for you to something more managable for the Sprint Challenge. You can analyze the full dataset as a stretch goal or after the sprint challenge. As you work on the challenge, I suggest adding notes about your findings and things you want to analyze in the future.\n",
    "\n",
    "## Challenge Objectives\n",
    "*Successfully complete these all these objectives to earn a 2. There are more details on each objective further down in the notebook.*\n",
    "* <a href=\"#p1\">Part 1</a>: Write a function to tokenize the yelp reviews\n",
    "* <a href=\"#p2\">Part 2</a>: Create a vector representation of those tokens\n",
    "* <a href=\"#p3\">Part 3</a>: Use your tokens in a classification model on yelp rating\n",
    "* <a href=\"#p4\">Part 4</a>: Estimate & Interpret a topic model of the Yelp reviews"
   ]
  },
  {
   "cell_type": "code",
   "execution_count": 92,
   "metadata": {},
   "outputs": [],
   "source": [
    "import pandas as pd\n",
    "import numpy as np\n",
    "import gensim\n",
    "import os\n",
    "import re\n",
    "\n",
    "from spacy.tokenizer import Tokenizer\n",
    "from gensim.utils import simple_preprocess\n",
    "from gensim.parsing.preprocessing import STOPWORDS\n",
    "from gensim import corpora\n",
    "\n",
    "from sklearn.pipeline import Pipeline\n",
    "from sklearn.ensemble import RandomForestClassifier\n",
    "from sklearn.model_selection import GridSearchCV\n",
    "from sklearn.feature_extraction.text import TfidfVectorizer\n",
    "\n",
    "from gensim.models.ldamulticore import LdaMulticore\n",
    "\n",
    "import pandas as pd\n",
    "#yelp = pd.read_json('./data/review_sample.json', lines=True)\n",
    "\n",
    "yelp = pd.read_json('sprint-challenge 3/data/review_sample.json', lines=True)"
   ]
  },
  {
   "cell_type": "code",
   "execution_count": 93,
   "metadata": {},
   "outputs": [
    {
     "data": {
      "text/html": [
       "<div>\n",
       "<style scoped>\n",
       "    .dataframe tbody tr th:only-of-type {\n",
       "        vertical-align: middle;\n",
       "    }\n",
       "\n",
       "    .dataframe tbody tr th {\n",
       "        vertical-align: top;\n",
       "    }\n",
       "\n",
       "    .dataframe thead th {\n",
       "        text-align: right;\n",
       "    }\n",
       "</style>\n",
       "<table border=\"1\" class=\"dataframe\">\n",
       "  <thead>\n",
       "    <tr style=\"text-align: right;\">\n",
       "      <th></th>\n",
       "      <th>business_id</th>\n",
       "      <th>cool</th>\n",
       "      <th>date</th>\n",
       "      <th>funny</th>\n",
       "      <th>review_id</th>\n",
       "      <th>stars</th>\n",
       "      <th>text</th>\n",
       "      <th>useful</th>\n",
       "      <th>user_id</th>\n",
       "    </tr>\n",
       "  </thead>\n",
       "  <tbody>\n",
       "    <tr>\n",
       "      <th>0</th>\n",
       "      <td>nDuEqIyRc8YKS1q1fX0CZg</td>\n",
       "      <td>1</td>\n",
       "      <td>2015-03-31 16:50:30</td>\n",
       "      <td>0</td>\n",
       "      <td>eZs2tpEJtXPwawvHnHZIgQ</td>\n",
       "      <td>1</td>\n",
       "      <td>BEWARE!!! FAKE, FAKE, FAKE....We also own a sm...</td>\n",
       "      <td>10</td>\n",
       "      <td>n1LM36qNg4rqGXIcvVXv8w</td>\n",
       "    </tr>\n",
       "    <tr>\n",
       "      <th>1</th>\n",
       "      <td>eMYeEapscbKNqUDCx705hg</td>\n",
       "      <td>0</td>\n",
       "      <td>2015-12-16 05:31:03</td>\n",
       "      <td>0</td>\n",
       "      <td>DoQDWJsNbU0KL1O29l_Xug</td>\n",
       "      <td>4</td>\n",
       "      <td>Came here for lunch Togo. Service was quick. S...</td>\n",
       "      <td>0</td>\n",
       "      <td>5CgjjDAic2-FAvCtiHpytA</td>\n",
       "    </tr>\n",
       "    <tr>\n",
       "      <th>2</th>\n",
       "      <td>6Q7-wkCPc1KF75jZLOTcMw</td>\n",
       "      <td>1</td>\n",
       "      <td>2010-06-20 19:14:48</td>\n",
       "      <td>1</td>\n",
       "      <td>DDOdGU7zh56yQHmUnL1idQ</td>\n",
       "      <td>3</td>\n",
       "      <td>I've been to Vegas dozens of times and had nev...</td>\n",
       "      <td>2</td>\n",
       "      <td>BdV-cf3LScmb8kZ7iiBcMA</td>\n",
       "    </tr>\n",
       "    <tr>\n",
       "      <th>3</th>\n",
       "      <td>k3zrItO4l9hwfLRwHBDc9w</td>\n",
       "      <td>3</td>\n",
       "      <td>2010-07-13 00:33:45</td>\n",
       "      <td>4</td>\n",
       "      <td>LfTMUWnfGFMOfOIyJcwLVA</td>\n",
       "      <td>1</td>\n",
       "      <td>We went here on a night where they closed off ...</td>\n",
       "      <td>5</td>\n",
       "      <td>cZZnBqh4gAEy4CdNvJailQ</td>\n",
       "    </tr>\n",
       "    <tr>\n",
       "      <th>4</th>\n",
       "      <td>6hpfRwGlOzbNv7k5eP9rsQ</td>\n",
       "      <td>1</td>\n",
       "      <td>2018-06-30 02:30:01</td>\n",
       "      <td>0</td>\n",
       "      <td>zJSUdI7bJ8PNJAg4lnl_Gg</td>\n",
       "      <td>4</td>\n",
       "      <td>3.5 to 4 stars\\n\\nNot bad for the price, $12.9...</td>\n",
       "      <td>5</td>\n",
       "      <td>n9QO4ClYAS7h9fpQwa5bhA</td>\n",
       "    </tr>\n",
       "  </tbody>\n",
       "</table>\n",
       "</div>"
      ],
      "text/plain": [
       "              business_id  cool                date  funny  \\\n",
       "0  nDuEqIyRc8YKS1q1fX0CZg     1 2015-03-31 16:50:30      0   \n",
       "1  eMYeEapscbKNqUDCx705hg     0 2015-12-16 05:31:03      0   \n",
       "2  6Q7-wkCPc1KF75jZLOTcMw     1 2010-06-20 19:14:48      1   \n",
       "3  k3zrItO4l9hwfLRwHBDc9w     3 2010-07-13 00:33:45      4   \n",
       "4  6hpfRwGlOzbNv7k5eP9rsQ     1 2018-06-30 02:30:01      0   \n",
       "\n",
       "                review_id  stars  \\\n",
       "0  eZs2tpEJtXPwawvHnHZIgQ      1   \n",
       "1  DoQDWJsNbU0KL1O29l_Xug      4   \n",
       "2  DDOdGU7zh56yQHmUnL1idQ      3   \n",
       "3  LfTMUWnfGFMOfOIyJcwLVA      1   \n",
       "4  zJSUdI7bJ8PNJAg4lnl_Gg      4   \n",
       "\n",
       "                                                text  useful  \\\n",
       "0  BEWARE!!! FAKE, FAKE, FAKE....We also own a sm...      10   \n",
       "1  Came here for lunch Togo. Service was quick. S...       0   \n",
       "2  I've been to Vegas dozens of times and had nev...       2   \n",
       "3  We went here on a night where they closed off ...       5   \n",
       "4  3.5 to 4 stars\\n\\nNot bad for the price, $12.9...       5   \n",
       "\n",
       "                  user_id  \n",
       "0  n1LM36qNg4rqGXIcvVXv8w  \n",
       "1  5CgjjDAic2-FAvCtiHpytA  \n",
       "2  BdV-cf3LScmb8kZ7iiBcMA  \n",
       "3  cZZnBqh4gAEy4CdNvJailQ  \n",
       "4  n9QO4ClYAS7h9fpQwa5bhA  "
      ]
     },
     "execution_count": 93,
     "metadata": {},
     "output_type": "execute_result"
    }
   ],
   "source": [
    "yelp.head()"
   ]
  },
  {
   "cell_type": "markdown",
   "metadata": {},
   "source": [
    "## Part 1: Tokenize Function\n",
    "<a id=\"#p1\"></a>\n",
    "\n",
    "Complete the function `tokenize`. Your function should\n",
    "- accept one document at a time\n",
    "- return a list of tokens\n",
    "\n",
    "You are free to use any method you have learned this week."
   ]
  },
  {
   "cell_type": "code",
   "execution_count": 94,
   "metadata": {},
   "outputs": [],
   "source": [
    "from spacy.tokenizer import Tokenizer\n",
    "\n",
    "STOPWORDS = set(STOPWORDS).union(set(['here', 'went', 'came', 'been', 'review']))\n",
    "\n",
    "def tokenize(doc):\n",
    "    return [token for token in simple_preprocess(doc) if token not in STOPWORDS]\n"
   ]
  },
  {
   "cell_type": "code",
   "execution_count": 95,
   "metadata": {},
   "outputs": [],
   "source": [
    "yelp['tokens'] = yelp['text'].apply(tokenize)"
   ]
  },
  {
   "cell_type": "code",
   "execution_count": 96,
   "metadata": {},
   "outputs": [
    {
     "data": {
      "text/plain": [
       "10000"
      ]
     },
     "execution_count": 96,
     "metadata": {},
     "output_type": "execute_result"
    }
   ],
   "source": [
    "len(yelp['tokens'])"
   ]
  },
  {
   "cell_type": "markdown",
   "metadata": {},
   "source": [
    "## Part 2: Vector Representation\n",
    "<a id=\"#p2\"></a>\n",
    "1. Create a vector representation of the reviews\n",
    "2. Write a fake review and query for the 10 most similiar reviews, print the text of the reviews. Do you notice any patterns?\n",
    "    - Given the size of the dataset, it will probably be best to use a `NearestNeighbors` model for this. "
   ]
  },
  {
   "cell_type": "code",
   "execution_count": 97,
   "metadata": {},
   "outputs": [
    {
     "data": {
      "text/plain": [
       "CountVectorizer(analyzer='word', binary=False, decode_error='strict',\n",
       "        dtype=<class 'numpy.int64'>, encoding='utf-8', input='content',\n",
       "        lowercase=True, max_df=1.0, max_features=None, min_df=1,\n",
       "        ngram_range=(1, 1), preprocessor=None, stop_words=None,\n",
       "        strip_accents=None, token_pattern='(?u)\\\\b\\\\w\\\\w+\\\\b',\n",
       "        tokenizer=None, vocabulary=None)"
      ]
     },
     "execution_count": 97,
     "metadata": {},
     "output_type": "execute_result"
    }
   ],
   "source": [
    "from sklearn.feature_extraction.text import CountVectorizer\n",
    "\n",
    "text = list(yelp.text)\n",
    "vect = CountVectorizer()\n",
    "vect.fit(text)"
   ]
  },
  {
   "cell_type": "code",
   "execution_count": 98,
   "metadata": {},
   "outputs": [
    {
     "data": {
      "text/html": [
       "<div>\n",
       "<style scoped>\n",
       "    .dataframe tbody tr th:only-of-type {\n",
       "        vertical-align: middle;\n",
       "    }\n",
       "\n",
       "    .dataframe tbody tr th {\n",
       "        vertical-align: top;\n",
       "    }\n",
       "\n",
       "    .dataframe thead th {\n",
       "        text-align: right;\n",
       "    }\n",
       "</style>\n",
       "<table border=\"1\" class=\"dataframe\">\n",
       "  <thead>\n",
       "    <tr style=\"text-align: right;\">\n",
       "      <th></th>\n",
       "      <th>00</th>\n",
       "      <th>000</th>\n",
       "      <th>001695</th>\n",
       "      <th>007</th>\n",
       "      <th>00a</th>\n",
       "      <th>00am</th>\n",
       "      <th>00ish</th>\n",
       "      <th>00pm</th>\n",
       "      <th>01</th>\n",
       "      <th>011802</th>\n",
       "      <th>...</th>\n",
       "      <th>誰も乗車しなくても</th>\n",
       "      <th>豆腐花</th>\n",
       "      <th>質問にも丁寧に答えてくれましたし</th>\n",
       "      <th>車好きさんには</th>\n",
       "      <th>這是一個不錯的選擇</th>\n",
       "      <th>運転しない</th>\n",
       "      <th>運転中も英語で指導があります</th>\n",
       "      <th>食べ物はうまい</th>\n",
       "      <th>餐後點了甜點</th>\n",
       "      <th>３時間後の便</th>\n",
       "    </tr>\n",
       "  </thead>\n",
       "  <tbody>\n",
       "    <tr>\n",
       "      <th>0</th>\n",
       "      <td>0</td>\n",
       "      <td>0</td>\n",
       "      <td>0</td>\n",
       "      <td>0</td>\n",
       "      <td>0</td>\n",
       "      <td>0</td>\n",
       "      <td>0</td>\n",
       "      <td>0</td>\n",
       "      <td>0</td>\n",
       "      <td>0</td>\n",
       "      <td>...</td>\n",
       "      <td>0</td>\n",
       "      <td>0</td>\n",
       "      <td>0</td>\n",
       "      <td>0</td>\n",
       "      <td>0</td>\n",
       "      <td>0</td>\n",
       "      <td>0</td>\n",
       "      <td>0</td>\n",
       "      <td>0</td>\n",
       "      <td>0</td>\n",
       "    </tr>\n",
       "    <tr>\n",
       "      <th>1</th>\n",
       "      <td>0</td>\n",
       "      <td>0</td>\n",
       "      <td>0</td>\n",
       "      <td>0</td>\n",
       "      <td>0</td>\n",
       "      <td>0</td>\n",
       "      <td>0</td>\n",
       "      <td>0</td>\n",
       "      <td>0</td>\n",
       "      <td>0</td>\n",
       "      <td>...</td>\n",
       "      <td>0</td>\n",
       "      <td>0</td>\n",
       "      <td>0</td>\n",
       "      <td>0</td>\n",
       "      <td>0</td>\n",
       "      <td>0</td>\n",
       "      <td>0</td>\n",
       "      <td>0</td>\n",
       "      <td>0</td>\n",
       "      <td>0</td>\n",
       "    </tr>\n",
       "    <tr>\n",
       "      <th>2</th>\n",
       "      <td>0</td>\n",
       "      <td>0</td>\n",
       "      <td>0</td>\n",
       "      <td>0</td>\n",
       "      <td>0</td>\n",
       "      <td>0</td>\n",
       "      <td>0</td>\n",
       "      <td>0</td>\n",
       "      <td>0</td>\n",
       "      <td>0</td>\n",
       "      <td>...</td>\n",
       "      <td>0</td>\n",
       "      <td>0</td>\n",
       "      <td>0</td>\n",
       "      <td>0</td>\n",
       "      <td>0</td>\n",
       "      <td>0</td>\n",
       "      <td>0</td>\n",
       "      <td>0</td>\n",
       "      <td>0</td>\n",
       "      <td>0</td>\n",
       "    </tr>\n",
       "    <tr>\n",
       "      <th>3</th>\n",
       "      <td>0</td>\n",
       "      <td>0</td>\n",
       "      <td>0</td>\n",
       "      <td>0</td>\n",
       "      <td>0</td>\n",
       "      <td>0</td>\n",
       "      <td>0</td>\n",
       "      <td>0</td>\n",
       "      <td>0</td>\n",
       "      <td>0</td>\n",
       "      <td>...</td>\n",
       "      <td>0</td>\n",
       "      <td>0</td>\n",
       "      <td>0</td>\n",
       "      <td>0</td>\n",
       "      <td>0</td>\n",
       "      <td>0</td>\n",
       "      <td>0</td>\n",
       "      <td>0</td>\n",
       "      <td>0</td>\n",
       "      <td>0</td>\n",
       "    </tr>\n",
       "    <tr>\n",
       "      <th>4</th>\n",
       "      <td>0</td>\n",
       "      <td>0</td>\n",
       "      <td>0</td>\n",
       "      <td>0</td>\n",
       "      <td>0</td>\n",
       "      <td>0</td>\n",
       "      <td>0</td>\n",
       "      <td>0</td>\n",
       "      <td>0</td>\n",
       "      <td>0</td>\n",
       "      <td>...</td>\n",
       "      <td>0</td>\n",
       "      <td>0</td>\n",
       "      <td>0</td>\n",
       "      <td>0</td>\n",
       "      <td>0</td>\n",
       "      <td>0</td>\n",
       "      <td>0</td>\n",
       "      <td>0</td>\n",
       "      <td>0</td>\n",
       "      <td>0</td>\n",
       "    </tr>\n",
       "  </tbody>\n",
       "</table>\n",
       "<p>5 rows × 27588 columns</p>\n",
       "</div>"
      ],
      "text/plain": [
       "   00  000  001695  007  00a  00am  00ish  00pm  01  011802  ...  誰も乗車しなくても  \\\n",
       "0   0    0       0    0    0     0      0     0   0       0  ...          0   \n",
       "1   0    0       0    0    0     0      0     0   0       0  ...          0   \n",
       "2   0    0       0    0    0     0      0     0   0       0  ...          0   \n",
       "3   0    0       0    0    0     0      0     0   0       0  ...          0   \n",
       "4   0    0       0    0    0     0      0     0   0       0  ...          0   \n",
       "\n",
       "   豆腐花  質問にも丁寧に答えてくれましたし  車好きさんには  這是一個不錯的選擇  運転しない  運転中も英語で指導があります  食べ物はうまい  \\\n",
       "0    0                 0        0          0      0               0        0   \n",
       "1    0                 0        0          0      0               0        0   \n",
       "2    0                 0        0          0      0               0        0   \n",
       "3    0                 0        0          0      0               0        0   \n",
       "4    0                 0        0          0      0               0        0   \n",
       "\n",
       "   餐後點了甜點  ３時間後の便  \n",
       "0       0       0  \n",
       "1       0       0  \n",
       "2       0       0  \n",
       "3       0       0  \n",
       "4       0       0  \n",
       "\n",
       "[5 rows x 27588 columns]"
      ]
     },
     "execution_count": 98,
     "metadata": {},
     "output_type": "execute_result"
    }
   ],
   "source": [
    "# Get Word Counts for each document\n",
    "dtm = pd.DataFrame(vect.transform(text).todense(), columns=vect.get_feature_names())\n",
    "dtm.head(5)"
   ]
  },
  {
   "cell_type": "code",
   "execution_count": 99,
   "metadata": {},
   "outputs": [
    {
     "name": "stderr",
     "output_type": "stream",
     "text": [
      "/Users/michelle/opt/anaconda3/envs/U4-S1-NLP/lib/python3.7/site-packages/scipy/stats/stats.py:1713: FutureWarning: Using a non-tuple sequence for multidimensional indexing is deprecated; use `arr[tuple(seq)]` instead of `arr[seq]`. In the future this will be interpreted as an array index, `arr[np.array(seq)]`, which will result either in an error or a different result.\n",
      "  return np.add.reduce(sorted[indexer] * weights, axis=axis) / sumval\n"
     ]
    },
    {
     "data": {
      "image/png": "[encoded data removed]",
      "text/plain": [
       "<Figure size 432x288 with 1 Axes>"
      ]
     },
     "metadata": {
      "needs_background": "light"
     },
     "output_type": "display_data"
    }
   ],
   "source": [
    "doc_len = [len(doc) for doc in yelp]\n",
    "\n",
    "#lets see a graph of this matrix\n",
    "#good that the word counts frequency peek around 6, its the right shape graph\n",
    "\n",
    "import seaborn as sns\n",
    "\n",
    "sns.distplot(doc_len);"
   ]
  },
  {
   "cell_type": "code",
   "execution_count": 100,
   "metadata": {},
   "outputs": [
    {
     "data": {
      "text/html": [
       "<div>\n",
       "<style scoped>\n",
       "    .dataframe tbody tr th:only-of-type {\n",
       "        vertical-align: middle;\n",
       "    }\n",
       "\n",
       "    .dataframe tbody tr th {\n",
       "        vertical-align: top;\n",
       "    }\n",
       "\n",
       "    .dataframe thead th {\n",
       "        text-align: right;\n",
       "    }\n",
       "</style>\n",
       "<table border=\"1\" class=\"dataframe\">\n",
       "  <thead>\n",
       "    <tr style=\"text-align: right;\">\n",
       "      <th></th>\n",
       "      <th>00</th>\n",
       "      <th>000</th>\n",
       "      <th>001695</th>\n",
       "      <th>007</th>\n",
       "      <th>00a</th>\n",
       "      <th>00am</th>\n",
       "      <th>00ish</th>\n",
       "      <th>00pm</th>\n",
       "      <th>01</th>\n",
       "      <th>011802</th>\n",
       "      <th>...</th>\n",
       "      <th>誰も乗車しなくても</th>\n",
       "      <th>豆腐花</th>\n",
       "      <th>質問にも丁寧に答えてくれましたし</th>\n",
       "      <th>車好きさんには</th>\n",
       "      <th>這是一個不錯的選擇</th>\n",
       "      <th>運転しない</th>\n",
       "      <th>運転中も英語で指導があります</th>\n",
       "      <th>食べ物はうまい</th>\n",
       "      <th>餐後點了甜點</th>\n",
       "      <th>３時間後の便</th>\n",
       "    </tr>\n",
       "  </thead>\n",
       "  <tbody>\n",
       "    <tr>\n",
       "      <th>0</th>\n",
       "      <td>0.0</td>\n",
       "      <td>0.0</td>\n",
       "      <td>0.0</td>\n",
       "      <td>0.0</td>\n",
       "      <td>0.0</td>\n",
       "      <td>0.0</td>\n",
       "      <td>0.0</td>\n",
       "      <td>0.0</td>\n",
       "      <td>0.0</td>\n",
       "      <td>0.0</td>\n",
       "      <td>...</td>\n",
       "      <td>0.0</td>\n",
       "      <td>0.0</td>\n",
       "      <td>0.0</td>\n",
       "      <td>0.0</td>\n",
       "      <td>0.0</td>\n",
       "      <td>0.0</td>\n",
       "      <td>0.0</td>\n",
       "      <td>0.0</td>\n",
       "      <td>0.0</td>\n",
       "      <td>0.0</td>\n",
       "    </tr>\n",
       "    <tr>\n",
       "      <th>1</th>\n",
       "      <td>0.0</td>\n",
       "      <td>0.0</td>\n",
       "      <td>0.0</td>\n",
       "      <td>0.0</td>\n",
       "      <td>0.0</td>\n",
       "      <td>0.0</td>\n",
       "      <td>0.0</td>\n",
       "      <td>0.0</td>\n",
       "      <td>0.0</td>\n",
       "      <td>0.0</td>\n",
       "      <td>...</td>\n",
       "      <td>0.0</td>\n",
       "      <td>0.0</td>\n",
       "      <td>0.0</td>\n",
       "      <td>0.0</td>\n",
       "      <td>0.0</td>\n",
       "      <td>0.0</td>\n",
       "      <td>0.0</td>\n",
       "      <td>0.0</td>\n",
       "      <td>0.0</td>\n",
       "      <td>0.0</td>\n",
       "    </tr>\n",
       "    <tr>\n",
       "      <th>2</th>\n",
       "      <td>0.0</td>\n",
       "      <td>0.0</td>\n",
       "      <td>0.0</td>\n",
       "      <td>0.0</td>\n",
       "      <td>0.0</td>\n",
       "      <td>0.0</td>\n",
       "      <td>0.0</td>\n",
       "      <td>0.0</td>\n",
       "      <td>0.0</td>\n",
       "      <td>0.0</td>\n",
       "      <td>...</td>\n",
       "      <td>0.0</td>\n",
       "      <td>0.0</td>\n",
       "      <td>0.0</td>\n",
       "      <td>0.0</td>\n",
       "      <td>0.0</td>\n",
       "      <td>0.0</td>\n",
       "      <td>0.0</td>\n",
       "      <td>0.0</td>\n",
       "      <td>0.0</td>\n",
       "      <td>0.0</td>\n",
       "    </tr>\n",
       "    <tr>\n",
       "      <th>3</th>\n",
       "      <td>0.0</td>\n",
       "      <td>0.0</td>\n",
       "      <td>0.0</td>\n",
       "      <td>0.0</td>\n",
       "      <td>0.0</td>\n",
       "      <td>0.0</td>\n",
       "      <td>0.0</td>\n",
       "      <td>0.0</td>\n",
       "      <td>0.0</td>\n",
       "      <td>0.0</td>\n",
       "      <td>...</td>\n",
       "      <td>0.0</td>\n",
       "      <td>0.0</td>\n",
       "      <td>0.0</td>\n",
       "      <td>0.0</td>\n",
       "      <td>0.0</td>\n",
       "      <td>0.0</td>\n",
       "      <td>0.0</td>\n",
       "      <td>0.0</td>\n",
       "      <td>0.0</td>\n",
       "      <td>0.0</td>\n",
       "    </tr>\n",
       "    <tr>\n",
       "      <th>4</th>\n",
       "      <td>0.0</td>\n",
       "      <td>0.0</td>\n",
       "      <td>0.0</td>\n",
       "      <td>0.0</td>\n",
       "      <td>0.0</td>\n",
       "      <td>0.0</td>\n",
       "      <td>0.0</td>\n",
       "      <td>0.0</td>\n",
       "      <td>0.0</td>\n",
       "      <td>0.0</td>\n",
       "      <td>...</td>\n",
       "      <td>0.0</td>\n",
       "      <td>0.0</td>\n",
       "      <td>0.0</td>\n",
       "      <td>0.0</td>\n",
       "      <td>0.0</td>\n",
       "      <td>0.0</td>\n",
       "      <td>0.0</td>\n",
       "      <td>0.0</td>\n",
       "      <td>0.0</td>\n",
       "      <td>0.0</td>\n",
       "    </tr>\n",
       "  </tbody>\n",
       "</table>\n",
       "<p>5 rows × 27289 columns</p>\n",
       "</div>"
      ],
      "text/plain": [
       "    00  000  001695  007  00a  00am  00ish  00pm   01  011802  ...  誰も乗車しなくても  \\\n",
       "0  0.0  0.0     0.0  0.0  0.0   0.0    0.0   0.0  0.0     0.0  ...        0.0   \n",
       "1  0.0  0.0     0.0  0.0  0.0   0.0    0.0   0.0  0.0     0.0  ...        0.0   \n",
       "2  0.0  0.0     0.0  0.0  0.0   0.0    0.0   0.0  0.0     0.0  ...        0.0   \n",
       "3  0.0  0.0     0.0  0.0  0.0   0.0    0.0   0.0  0.0     0.0  ...        0.0   \n",
       "4  0.0  0.0     0.0  0.0  0.0   0.0    0.0   0.0  0.0     0.0  ...        0.0   \n",
       "\n",
       "   豆腐花  質問にも丁寧に答えてくれましたし  車好きさんには  這是一個不錯的選擇  運転しない  運転中も英語で指導があります  食べ物はうまい  \\\n",
       "0  0.0               0.0      0.0        0.0    0.0             0.0      0.0   \n",
       "1  0.0               0.0      0.0        0.0    0.0             0.0      0.0   \n",
       "2  0.0               0.0      0.0        0.0    0.0             0.0      0.0   \n",
       "3  0.0               0.0      0.0        0.0    0.0             0.0      0.0   \n",
       "4  0.0               0.0      0.0        0.0    0.0             0.0      0.0   \n",
       "\n",
       "   餐後點了甜點  ３時間後の便  \n",
       "0     0.0     0.0  \n",
       "1     0.0     0.0  \n",
       "2     0.0     0.0  \n",
       "3     0.0     0.0  \n",
       "4     0.0     0.0  \n",
       "\n",
       "[5 rows x 27289 columns]"
      ]
     },
     "execution_count": 100,
     "metadata": {},
     "output_type": "execute_result"
    }
   ],
   "source": [
    "#get feature matrix using vectors\n",
    "text = list(yelp.text)\n",
    "\n",
    "# Instantiate vectorizer object\n",
    "tfidf = TfidfVectorizer(stop_words='english')\n",
    "\n",
    "# Create a vocabulary and get word counts per document\n",
    "# Similiar to fit_predict\n",
    "dtm = tfidf.fit_transform(text)\n",
    "\n",
    "# Print word counts\n",
    "\n",
    "# Get feature names to use as dataframe column headers\n",
    "dtm = pd.DataFrame(dtm.todense(), columns=tfidf.get_feature_names())\n",
    "\n",
    "# View Feature Matrix as DataFrame\n",
    "dtm.head()"
   ]
  },
  {
   "cell_type": "code",
   "execution_count": 101,
   "metadata": {},
   "outputs": [],
   "source": [
    "#long text\n",
    "#print(vect.get_feature_names())"
   ]
  },
  {
   "cell_type": "code",
   "execution_count": 102,
   "metadata": {},
   "outputs": [
    {
     "data": {
      "text/plain": [
       "NearestNeighbors(algorithm='kd_tree', leaf_size=30, metric='minkowski',\n",
       "         metric_params=None, n_jobs=None, n_neighbors=5, p=2, radius=1.0)"
      ]
     },
     "execution_count": 102,
     "metadata": {},
     "output_type": "execute_result"
    }
   ],
   "source": [
    "#use nn to fit on dtm\n",
    "from sklearn.neighbors import NearestNeighbors\n",
    "\n",
    "# Fit on DTM\n",
    "nn = NearestNeighbors(n_neighbors=5, algorithm='kd_tree')\n",
    "nn.fit(dtm)"
   ]
  },
  {
   "cell_type": "code",
   "execution_count": 103,
   "metadata": {},
   "outputs": [
    {
     "data": {
      "text/plain": [
       "(array([[0.        , 1.29553936, 1.29718442, 1.31183842, 1.31379732]]),\n",
       " array([[ 336,  793, 8151, 2337, 4151]]))"
      ]
     },
     "execution_count": 103,
     "metadata": {},
     "output_type": "execute_result"
    }
   ],
   "source": [
    " # Query Using kneighbors \n",
    "nn.kneighbors([dtm.iloc[336]])"
   ]
  },
  {
   "cell_type": "code",
   "execution_count": 104,
   "metadata": {},
   "outputs": [],
   "source": [
    "# Query for similarities of Random doc to jobs posting\n",
    "rndm_rev = [ \"\"\"\n",
    "I came here with a party of 3 on a regular weekday at 6:30PM. We were seated immediately, but the restaurant started to get packed shortly. APPEARANCE & SEATING: I love how the front of the restaurant is an open window/wall, so the restaurant doesn't get too stuffy\n",
    "\"\"\"]\n",
    "new = tfidf.transform(rndm_rev)"
   ]
  },
  {
   "cell_type": "code",
   "execution_count": 105,
   "metadata": {},
   "outputs": [
    {
     "data": {
      "text/plain": [
       "(array([[1.27461474, 1.28178704, 1.29819903, 1.30014686, 1.30368051]]),\n",
       " array([[8050, 1773, 5652, 1322, 8811]]))"
      ]
     },
     "execution_count": 105,
     "metadata": {},
     "output_type": "execute_result"
    }
   ],
   "source": [
    "nn.kneighbors(new.todense())"
   ]
  },
  {
   "cell_type": "code",
   "execution_count": 106,
   "metadata": {},
   "outputs": [
    {
     "data": {
      "text/plain": [
       "'I have been here twice before and service was terrible.  Waiting for a table for 30 mins or longer when tables were open, was unacceptable!  People who arrived after us were seated before us, same seating preference and number in party.  \\nYesterday, their service was awesome!  For a party of 7, we were seated immediately with no hassle.  Our server was Tony and he made the evening enjoyable.  He was very attentive and personable.  With the crew yesterday, I would gladly return to this location.'"
      ]
     },
     "execution_count": 106,
     "metadata": {},
     "output_type": "execute_result"
    }
   ],
   "source": [
    "yelp.text[8050]"
   ]
  },
  {
   "cell_type": "code",
   "execution_count": 107,
   "metadata": {},
   "outputs": [
    {
     "name": "stdout",
     "output_type": "stream",
     "text": [
      "We were passing by town. & this restaurant came across. We were looking for a good & local restaurant. We didn't get disappointed. Best nacho i've ever had.\n",
      "First time here. Cute little restaurant that smells really good when you walk in.   Clean in appearance. Tonight at 6pm there is only one waitress who is serving inside and outside.  She is also handling the take out orders.  She is attentive when you flag her down. The food was outstanding  and my portion was so big I  had to take some home.  I don't want  to say this restaurant was wonderful, because I'm afraid I won't be able to get a table next time we come back, but it was.  Only 4 stars because  they do need more wait staff.\n",
      "Great little Mexican place, best for take out.\n",
      "\n",
      "Can't wait until they open the larger restaurant downtown.\n",
      "Personally I think this is one of the best take out Chinese restaurant in city. I've been going to this restaurant since I was little late 90's since then the food tasted better and quality of food is excellent. The area is a little iffy for the nighttime but during the day a lot of employees from the hospital pick up lunch. The prices are great and the portion is plenty. Try going during the weekday for the lunch special.\n"
     ]
    }
   ],
   "source": [
    "print(yelp.text[1773])\n",
    "print(yelp.text[5652])\n",
    "print(yelp.text[1322])\n",
    "print(yelp.text[8811])"
   ]
  },
  {
   "cell_type": "code",
   "execution_count": 108,
   "metadata": {},
   "outputs": [],
   "source": [
    "# Calculate Distance of TF-IDF Vectors\n",
    "from sklearn.metrics.pairwise import cosine_similarity\n",
    "\n",
    "dist_matrix  = cosine_similarity(dtm)\n",
    "df = pd.DataFrame(dist_matrix)"
   ]
  },
  {
   "cell_type": "code",
   "execution_count": 109,
   "metadata": {},
   "outputs": [
    {
     "data": {
      "text/html": [
       "<div>\n",
       "<style scoped>\n",
       "    .dataframe tbody tr th:only-of-type {\n",
       "        vertical-align: middle;\n",
       "    }\n",
       "\n",
       "    .dataframe tbody tr th {\n",
       "        vertical-align: top;\n",
       "    }\n",
       "\n",
       "    .dataframe thead th {\n",
       "        text-align: right;\n",
       "    }\n",
       "</style>\n",
       "<table border=\"1\" class=\"dataframe\">\n",
       "  <thead>\n",
       "    <tr style=\"text-align: right;\">\n",
       "      <th></th>\n",
       "      <th>0</th>\n",
       "      <th>1</th>\n",
       "      <th>2</th>\n",
       "      <th>3</th>\n",
       "      <th>4</th>\n",
       "      <th>5</th>\n",
       "      <th>6</th>\n",
       "      <th>7</th>\n",
       "      <th>8</th>\n",
       "      <th>9</th>\n",
       "      <th>...</th>\n",
       "      <th>9990</th>\n",
       "      <th>9991</th>\n",
       "      <th>9992</th>\n",
       "      <th>9993</th>\n",
       "      <th>9994</th>\n",
       "      <th>9995</th>\n",
       "      <th>9996</th>\n",
       "      <th>9997</th>\n",
       "      <th>9998</th>\n",
       "      <th>9999</th>\n",
       "    </tr>\n",
       "  </thead>\n",
       "  <tbody>\n",
       "    <tr>\n",
       "      <th>0</th>\n",
       "      <td>1.000000</td>\n",
       "      <td>0.000000</td>\n",
       "      <td>0.011914</td>\n",
       "      <td>0.000000</td>\n",
       "      <td>0.000000</td>\n",
       "      <td>0.023318</td>\n",
       "      <td>0.002262</td>\n",
       "      <td>0.003975</td>\n",
       "      <td>0.001873</td>\n",
       "      <td>0.028459</td>\n",
       "      <td>...</td>\n",
       "      <td>0.000000</td>\n",
       "      <td>0.000000</td>\n",
       "      <td>0.000000</td>\n",
       "      <td>0.008884</td>\n",
       "      <td>0.014684</td>\n",
       "      <td>0.042875</td>\n",
       "      <td>0.000000</td>\n",
       "      <td>0.000000</td>\n",
       "      <td>0.000000</td>\n",
       "      <td>0.034125</td>\n",
       "    </tr>\n",
       "    <tr>\n",
       "      <th>1</th>\n",
       "      <td>0.000000</td>\n",
       "      <td>1.000000</td>\n",
       "      <td>0.015051</td>\n",
       "      <td>0.000000</td>\n",
       "      <td>0.055804</td>\n",
       "      <td>0.053295</td>\n",
       "      <td>0.000000</td>\n",
       "      <td>0.020167</td>\n",
       "      <td>0.004505</td>\n",
       "      <td>0.009144</td>\n",
       "      <td>...</td>\n",
       "      <td>0.032563</td>\n",
       "      <td>0.019836</td>\n",
       "      <td>0.000000</td>\n",
       "      <td>0.000000</td>\n",
       "      <td>0.011554</td>\n",
       "      <td>0.000000</td>\n",
       "      <td>0.023795</td>\n",
       "      <td>0.000000</td>\n",
       "      <td>0.000000</td>\n",
       "      <td>0.006531</td>\n",
       "    </tr>\n",
       "    <tr>\n",
       "      <th>2</th>\n",
       "      <td>0.011914</td>\n",
       "      <td>0.015051</td>\n",
       "      <td>1.000000</td>\n",
       "      <td>0.022372</td>\n",
       "      <td>0.000000</td>\n",
       "      <td>0.013487</td>\n",
       "      <td>0.022559</td>\n",
       "      <td>0.014843</td>\n",
       "      <td>0.023348</td>\n",
       "      <td>0.055829</td>\n",
       "      <td>...</td>\n",
       "      <td>0.010684</td>\n",
       "      <td>0.025304</td>\n",
       "      <td>0.000000</td>\n",
       "      <td>0.022487</td>\n",
       "      <td>0.017014</td>\n",
       "      <td>0.031043</td>\n",
       "      <td>0.000000</td>\n",
       "      <td>0.000000</td>\n",
       "      <td>0.011111</td>\n",
       "      <td>0.090149</td>\n",
       "    </tr>\n",
       "    <tr>\n",
       "      <th>3</th>\n",
       "      <td>0.000000</td>\n",
       "      <td>0.000000</td>\n",
       "      <td>0.022372</td>\n",
       "      <td>1.000000</td>\n",
       "      <td>0.000000</td>\n",
       "      <td>0.055302</td>\n",
       "      <td>0.018994</td>\n",
       "      <td>0.015863</td>\n",
       "      <td>0.006302</td>\n",
       "      <td>0.000000</td>\n",
       "      <td>...</td>\n",
       "      <td>0.015288</td>\n",
       "      <td>0.000000</td>\n",
       "      <td>0.005109</td>\n",
       "      <td>0.006793</td>\n",
       "      <td>0.000000</td>\n",
       "      <td>0.013940</td>\n",
       "      <td>0.000000</td>\n",
       "      <td>0.023541</td>\n",
       "      <td>0.000000</td>\n",
       "      <td>0.073619</td>\n",
       "    </tr>\n",
       "    <tr>\n",
       "      <th>4</th>\n",
       "      <td>0.000000</td>\n",
       "      <td>0.055804</td>\n",
       "      <td>0.000000</td>\n",
       "      <td>0.000000</td>\n",
       "      <td>1.000000</td>\n",
       "      <td>0.054491</td>\n",
       "      <td>0.000000</td>\n",
       "      <td>0.030375</td>\n",
       "      <td>0.002000</td>\n",
       "      <td>0.048990</td>\n",
       "      <td>...</td>\n",
       "      <td>0.019551</td>\n",
       "      <td>0.000000</td>\n",
       "      <td>0.023419</td>\n",
       "      <td>0.000000</td>\n",
       "      <td>0.087087</td>\n",
       "      <td>0.018783</td>\n",
       "      <td>0.016727</td>\n",
       "      <td>0.033698</td>\n",
       "      <td>0.028347</td>\n",
       "      <td>0.049373</td>\n",
       "    </tr>\n",
       "  </tbody>\n",
       "</table>\n",
       "<p>5 rows × 10000 columns</p>\n",
       "</div>"
      ],
      "text/plain": [
       "       0         1         2         3         4         5         6     \\\n",
       "0  1.000000  0.000000  0.011914  0.000000  0.000000  0.023318  0.002262   \n",
       "1  0.000000  1.000000  0.015051  0.000000  0.055804  0.053295  0.000000   \n",
       "2  0.011914  0.015051  1.000000  0.022372  0.000000  0.013487  0.022559   \n",
       "3  0.000000  0.000000  0.022372  1.000000  0.000000  0.055302  0.018994   \n",
       "4  0.000000  0.055804  0.000000  0.000000  1.000000  0.054491  0.000000   \n",
       "\n",
       "       7         8         9     ...      9990      9991      9992      9993  \\\n",
       "0  0.003975  0.001873  0.028459  ...  0.000000  0.000000  0.000000  0.008884   \n",
       "1  0.020167  0.004505  0.009144  ...  0.032563  0.019836  0.000000  0.000000   \n",
       "2  0.014843  0.023348  0.055829  ...  0.010684  0.025304  0.000000  0.022487   \n",
       "3  0.015863  0.006302  0.000000  ...  0.015288  0.000000  0.005109  0.006793   \n",
       "4  0.030375  0.002000  0.048990  ...  0.019551  0.000000  0.023419  0.000000   \n",
       "\n",
       "       9994      9995      9996      9997      9998      9999  \n",
       "0  0.014684  0.042875  0.000000  0.000000  0.000000  0.034125  \n",
       "1  0.011554  0.000000  0.023795  0.000000  0.000000  0.006531  \n",
       "2  0.017014  0.031043  0.000000  0.000000  0.011111  0.090149  \n",
       "3  0.000000  0.013940  0.000000  0.023541  0.000000  0.073619  \n",
       "4  0.087087  0.018783  0.016727  0.033698  0.028347  0.049373  \n",
       "\n",
       "[5 rows x 10000 columns]"
      ]
     },
     "execution_count": 109,
     "metadata": {},
     "output_type": "execute_result"
    }
   ],
   "source": [
    "df.head()"
   ]
  },
  {
   "cell_type": "code",
   "execution_count": 110,
   "metadata": {},
   "outputs": [
    {
     "data": {
      "text/plain": [
       "2131    0.177647\n",
       "6019    0.159861\n",
       "3276    0.154192\n",
       "8470    0.148282\n",
       "2943    0.140329\n",
       "9036    0.138304\n",
       "2621    0.130106\n",
       "3714    0.126975\n",
       "2207    0.115362\n",
       "2865    0.110957\n",
       "Name: 0, dtype: float64"
      ]
     },
     "execution_count": 110,
     "metadata": {},
     "output_type": "execute_result"
    }
   ],
   "source": [
    "# Grab the row\n",
    "df[df[0] < 1][0].sort_values(ascending=False)[:10]"
   ]
  },
  {
   "cell_type": "code",
   "execution_count": null,
   "metadata": {},
   "outputs": [],
   "source": []
  },
  {
   "cell_type": "markdown",
   "metadata": {},
   "source": [
    "## Part 3: Classification\n",
    "<a id=\"#p3\"></a>\n",
    "Your goal in this section will be to predict `stars` from the review dataset. \n",
    "\n",
    "1. Create a piepline object with a sklearn `CountVectorizer` or `TfidfVector` and any sklearn classifier. Use that pipeline to estimate a model to predict `stars`. Use the Pipeline to predict a star rating for your fake review from Part 2. \n",
    "2. Tune the entire pipeline with a GridSearch"
   ]
  },
  {
   "cell_type": "code",
   "execution_count": 111,
   "metadata": {},
   "outputs": [],
   "source": [
    "# Create Pipeline Components\n",
    "\n",
    "vect = TfidfVectorizer(stop_words='english', ngram_range=(1,2))\n",
    "rfc = RandomForestClassifier()\n",
    "\n",
    "\n",
    "# Define the Pipeline\n",
    "\n",
    "pipe = Pipeline([('vect', vect), ('clf', rfc)])"
   ]
  },
  {
   "cell_type": "code",
   "execution_count": 114,
   "metadata": {},
   "outputs": [
    {
     "name": "stdout",
     "output_type": "stream",
     "text": [
      "Fitting 5 folds for each of 32 candidates, totalling 160 fits\n"
     ]
    },
    {
     "name": "stderr",
     "output_type": "stream",
     "text": [
      "[Parallel(n_jobs=-1)]: Using backend LokyBackend with 4 concurrent workers.\n",
      "[Parallel(n_jobs=-1)]: Done  33 tasks      | elapsed:  1.1min\n",
      "[Parallel(n_jobs=-1)]: Done 160 out of 160 | elapsed:  5.6min finished\n"
     ]
    },
    {
     "data": {
      "text/plain": [
       "GridSearchCV(cv=5, error_score='raise-deprecating',\n",
       "       estimator=Pipeline(memory=None,\n",
       "     steps=[('vect', TfidfVectorizer(analyzer='word', binary=False, decode_error='strict',\n",
       "        dtype=<class 'numpy.float64'>, encoding='utf-8', input='content',\n",
       "        lowercase=True, max_df=1.0, max_features=None, min_df=1,\n",
       "        ngram_range=(1, 2), norm='l2', preprocessor=None, smooth_idf=True,\n",
       "...obs=None,\n",
       "            oob_score=False, random_state=None, verbose=0,\n",
       "            warm_start=False))]),\n",
       "       fit_params=None, iid='warn', n_jobs=-1,\n",
       "       param_grid={'vect__max_df': (0.75, 1.0), 'vect__min_df': (0.02, 0.05), 'vect__max_features': (500, 1000), 'clf__n_estimators': (25, 30), 'clf__max_depth': (15, 20)},\n",
       "       pre_dispatch='2*n_jobs', refit=True, return_train_score='warn',\n",
       "       scoring=None, verbose=2)"
      ]
     },
     "execution_count": 114,
     "metadata": {},
     "output_type": "execute_result"
    }
   ],
   "source": [
    "\n",
    "parameters = {\n",
    "    'vect__max_df': ( 0.75, 1.0),\n",
    "    'vect__min_df': (.02, .05),\n",
    "    'vect__max_features': (500,1000),\n",
    "    'clf__n_estimators':(25, 30),\n",
    "    'clf__max_depth':(15, 20)\n",
    "}\n",
    "\n",
    "grid_search = GridSearchCV(pipe, parameters, cv=5, n_jobs=-1, verbose=2)\n",
    "grid_search.fit(yelp.text, yelp.stars)"
   ]
  },
  {
   "cell_type": "code",
   "execution_count": 115,
   "metadata": {},
   "outputs": [
    {
     "data": {
      "text/plain": [
       "0.5509"
      ]
     },
     "execution_count": 115,
     "metadata": {},
     "output_type": "execute_result"
    }
   ],
   "source": [
    "grid_search.best_score_"
   ]
  },
  {
   "cell_type": "code",
   "execution_count": null,
   "metadata": {},
   "outputs": [],
   "source": [
    "#first run was: 0.5467 with the basic param, run time 7.6 mins\n",
    "#second run was:  0.5509 with tuning clf__n_estimators':(25, 30), clf__max_depth':(15, 20)"
   ]
  },
  {
   "cell_type": "markdown",
   "metadata": {},
   "source": [
    "## Part 4: Topic Modeling\n",
    "\n",
    "Let's find out what those yelp reviews are saying! :D\n",
    "\n",
    "1. Estimate a LDA topic model of the review text\n",
    "    - Keep the `iterations` parameter at or below 5 to reduce run time\n",
    "    - The `workers` parameter should match the number of physical cores on your machine.\n",
    "2. Create 1-2 visualizations of the results\n",
    "    - You can use the most important 3 words of a topic in relevant visualizations. Refer to yesterday's notebook to extract. \n",
    "3. In markdown, write 1-2 paragraphs of analysis on the results of your topic model\n",
    "\n",
    "__*Note*__: You can pass the DataFrame column of text reviews to gensim. You do not have to use a generator."
   ]
  },
  {
   "cell_type": "code",
   "execution_count": 81,
   "metadata": {
    "collapsed": false,
    "inputHidden": false,
    "jupyter": {
     "outputs_hidden": false
    },
    "outputHidden": false
   },
   "outputs": [],
   "source": [
    "from gensim.models import LdaMulticore\n",
    "from gensim.corpora import Dictionary"
   ]
  },
  {
   "cell_type": "markdown",
   "metadata": {},
   "source": [
    "Learn the vocubalary of the yelp data:"
   ]
  },
  {
   "cell_type": "code",
   "execution_count": 82,
   "metadata": {},
   "outputs": [],
   "source": [
    "#id2word = ...\n",
    "# A Dictionary Representation of all the words in our corpus\n",
    "id2word = corpora.Dictionary(yelp['text'].apply(tokenize))"
   ]
  },
  {
   "cell_type": "code",
   "execution_count": 83,
   "metadata": {},
   "outputs": [
    {
     "data": {
      "text/plain": [
       "56"
      ]
     },
     "execution_count": 83,
     "metadata": {},
     "output_type": "execute_result"
    }
   ],
   "source": [
    "import sys\n",
    "sys.getsizeof(id2word)"
   ]
  },
  {
   "cell_type": "markdown",
   "metadata": {},
   "source": [
    "Create a bag of words representation of the entire corpus"
   ]
  },
  {
   "cell_type": "code",
   "execution_count": 84,
   "metadata": {
    "collapsed": false,
    "inputHidden": false,
    "jupyter": {
     "outputs_hidden": false
    },
    "outputHidden": false
   },
   "outputs": [],
   "source": [
    "#corpus = ...\n",
    "# a bag of words(bow) representation of our corpus\n",
    "# Note: we haven't actually read any text into memory here\n",
    "corpus = [id2word.doc2bow(text) for text in yelp['text'].apply(tokenize)]"
   ]
  },
  {
   "cell_type": "markdown",
   "metadata": {},
   "source": [
    "Your LDA model should be ready for estimation: "
   ]
  },
  {
   "cell_type": "code",
   "execution_count": 85,
   "metadata": {
    "collapsed": false,
    "inputHidden": false,
    "jupyter": {
     "outputs_hidden": false
    },
    "outputHidden": false
   },
   "outputs": [],
   "source": [
    "lda = LdaMulticore(corpus=corpus,\n",
    "                   id2word=id2word,\n",
    "                   iterations=5,\n",
    "                   workers=4,\n",
    "                   num_topics = 5 # You can change this parameter\n",
    "                  )"
   ]
  },
  {
   "cell_type": "markdown",
   "metadata": {},
   "source": [
    "Create 1-2 visualizations of the results"
   ]
  },
  {
   "cell_type": "code",
   "execution_count": 86,
   "metadata": {
    "collapsed": false,
    "inputHidden": false,
    "jupyter": {
     "outputs_hidden": false
    },
    "outputHidden": false
   },
   "outputs": [],
   "source": [
    "words = [re.findall(r'\"([^\"]*)\"',t[1]) for t in lda.print_topics()]"
   ]
  },
  {
   "cell_type": "code",
   "execution_count": 87,
   "metadata": {},
   "outputs": [],
   "source": [
    "topics = [' '.join(t[0:5]) for t in words]"
   ]
  },
  {
   "cell_type": "code",
   "execution_count": 88,
   "metadata": {},
   "outputs": [
    {
     "name": "stdout",
     "output_type": "stream",
     "text": [
      "------ Topic 0 ------\n",
      "food good place great like\n",
      "\n",
      "------ Topic 1 ------\n",
      "good great food place time\n",
      "\n",
      "------ Topic 2 ------\n",
      "food good like place great\n",
      "\n",
      "------ Topic 3 ------\n",
      "place food great service good\n",
      "\n",
      "------ Topic 4 ------\n",
      "place great time food good\n",
      "\n"
     ]
    }
   ],
   "source": [
    "for id, t in enumerate(topics): \n",
    "    print(f\"------ Topic {id} ------\")\n",
    "    print(t, end=\"\\n\\n\")"
   ]
  },
  {
   "cell_type": "code",
   "execution_count": 89,
   "metadata": {},
   "outputs": [],
   "source": [
    "#Topic Distance Visualization\n",
    "\n",
    "import pyLDAvis.gensim\n",
    "\n",
    "pyLDAvis.enable_notebook()"
   ]
  },
  {
   "cell_type": "code",
   "execution_count": 90,
   "metadata": {},
   "outputs": [
    {
     "name": "stderr",
     "output_type": "stream",
     "text": [
      "/Users/michelle/opt/anaconda3/envs/U4-S1-NLP/lib/python3.7/site-packages/pyLDAvis/_prepare.py:257: FutureWarning: Sorting because non-concatenation axis is not aligned. A future version\n",
      "of pandas will change to not sort by default.\n",
      "\n",
      "To accept the future behavior, pass 'sort=False'.\n",
      "\n",
      "To retain the current behavior and silence the warning, pass 'sort=True'.\n",
      "\n",
      "  return pd.concat([default_term_info] + list(topic_dfs))\n"
     ]
    },
    {
     "data": {
      "text/html": [
       "\n",
       "<link rel=\"stylesheet\" type=\"text/css\" href=\"https://cdn.rawgit.com/bmabey/pyLDAvis/files/ldavis.v1.0.0.css\">\n",
       "\n",
       "\n",
       "<div id=\"ldavis_el89567139525238646177559165\"></div>\n",
       "<script type=\"text/javascript\">\n",
       "\n",
       "var ldavis_el89567139525238646177559165_data = {\"mdsDat\": {\"x\": [-0.0044025690401574185, 0.0027501942930896668, -0.000501998498481521, 0.0039548532256884865, -0.001800479980139208], \"y\": [6.132125000559475e-06, -0.003504486146277953, -0.0028688256294475334, 0.003420974517363985, 0.0029462051333609455], \"topics\": [1, 2, 3, 4, 5], \"cluster\": [1, 1, 1, 1, 1], \"Freq\": [20.391040802001953, 20.343584060668945, 20.08026885986328, 19.708221435546875, 19.476884841918945]}, \"tinfo\": {\"Category\": [\"Default\", \"Default\", \"Default\", \"Default\", \"Default\", \"Default\", \"Default\", \"Default\", \"Default\", \"Default\", \"Default\", \"Default\", \"Default\", \"Default\", \"Default\", \"Default\", \"Default\", \"Default\", \"Default\", \"Default\", \"Default\", \"Default\", \"Default\", \"Default\", \"Default\", \"Default\", \"Default\", \"Default\", \"Default\", \"Default\", \"Topic1\", \"Topic1\", \"Topic1\", \"Topic1\", \"Topic1\", \"Topic1\", \"Topic1\", \"Topic1\", \"Topic1\", \"Topic1\", \"Topic1\", \"Topic1\", \"Topic1\", \"Topic1\", \"Topic1\", \"Topic1\", \"Topic1\", \"Topic1\", \"Topic1\", \"Topic1\", \"Topic1\", \"Topic1\", \"Topic1\", \"Topic1\", \"Topic1\", \"Topic1\", \"Topic1\", \"Topic1\", \"Topic1\", \"Topic1\", \"Topic1\", \"Topic1\", \"Topic1\", \"Topic1\", \"Topic1\", \"Topic1\", \"Topic1\", \"Topic1\", \"Topic1\", \"Topic1\", \"Topic1\", \"Topic1\", \"Topic1\", \"Topic1\", \"Topic1\", \"Topic1\", \"Topic1\", \"Topic1\", \"Topic1\", \"Topic1\", \"Topic1\", \"Topic1\", \"Topic1\", \"Topic1\", \"Topic1\", \"Topic1\", \"Topic1\", \"Topic1\", \"Topic1\", \"Topic1\", \"Topic1\", \"Topic1\", \"Topic1\", \"Topic1\", \"Topic1\", \"Topic1\", \"Topic1\", \"Topic1\", \"Topic1\", \"Topic1\", \"Topic1\", \"Topic1\", \"Topic1\", \"Topic1\", \"Topic1\", \"Topic1\", \"Topic1\", \"Topic1\", \"Topic1\", \"Topic1\", \"Topic1\", \"Topic1\", \"Topic1\", \"Topic1\", \"Topic1\", \"Topic1\", \"Topic1\", \"Topic1\", \"Topic2\", \"Topic2\", \"Topic2\", \"Topic2\", \"Topic2\", \"Topic2\", \"Topic2\", \"Topic2\", \"Topic2\", \"Topic2\", \"Topic2\", \"Topic2\", \"Topic2\", \"Topic2\", \"Topic2\", \"Topic2\", \"Topic2\", \"Topic2\", \"Topic2\", \"Topic2\", \"Topic2\", \"Topic2\", \"Topic2\", \"Topic2\", \"Topic2\", \"Topic2\", \"Topic2\", \"Topic2\", \"Topic2\", \"Topic2\", \"Topic2\", \"Topic2\", \"Topic2\", \"Topic2\", \"Topic2\", \"Topic2\", \"Topic2\", \"Topic2\", \"Topic2\", \"Topic2\", \"Topic2\", \"Topic2\", \"Topic2\", \"Topic2\", \"Topic2\", \"Topic2\", \"Topic2\", \"Topic2\", \"Topic2\", \"Topic2\", \"Topic2\", \"Topic2\", \"Topic2\", \"Topic2\", \"Topic2\", \"Topic2\", \"Topic2\", \"Topic2\", \"Topic2\", \"Topic2\", \"Topic2\", \"Topic2\", \"Topic2\", \"Topic2\", \"Topic2\", \"Topic2\", \"Topic2\", \"Topic2\", \"Topic2\", \"Topic2\", \"Topic2\", \"Topic2\", \"Topic2\", \"Topic2\", \"Topic2\", \"Topic2\", \"Topic2\", \"Topic2\", \"Topic2\", \"Topic2\", \"Topic3\", \"Topic3\", \"Topic3\", \"Topic3\", \"Topic3\", \"Topic3\", \"Topic3\", \"Topic3\", \"Topic3\", \"Topic3\", \"Topic3\", \"Topic3\", \"Topic3\", \"Topic3\", \"Topic3\", \"Topic3\", \"Topic3\", \"Topic3\", \"Topic3\", \"Topic3\", \"Topic3\", \"Topic3\", \"Topic3\", \"Topic3\", \"Topic3\", \"Topic3\", \"Topic3\", \"Topic3\", \"Topic3\", \"Topic3\", \"Topic3\", \"Topic3\", \"Topic3\", \"Topic3\", \"Topic3\", \"Topic3\", \"Topic3\", \"Topic3\", \"Topic3\", \"Topic3\", \"Topic3\", \"Topic3\", \"Topic3\", \"Topic3\", \"Topic3\", \"Topic3\", \"Topic3\", \"Topic3\", \"Topic3\", \"Topic3\", \"Topic3\", \"Topic3\", \"Topic3\", \"Topic3\", \"Topic3\", \"Topic3\", \"Topic3\", \"Topic3\", \"Topic3\", \"Topic3\", \"Topic3\", \"Topic3\", \"Topic3\", \"Topic3\", \"Topic3\", \"Topic3\", \"Topic3\", \"Topic3\", \"Topic3\", \"Topic3\", \"Topic3\", \"Topic3\", \"Topic3\", \"Topic3\", \"Topic3\", \"Topic3\", \"Topic3\", \"Topic3\", \"Topic3\", \"Topic3\", \"Topic3\", \"Topic4\", \"Topic4\", \"Topic4\", \"Topic4\", \"Topic4\", \"Topic4\", \"Topic4\", \"Topic4\", \"Topic4\", \"Topic4\", \"Topic4\", \"Topic4\", \"Topic4\", \"Topic4\", \"Topic4\", \"Topic4\", \"Topic4\", \"Topic4\", \"Topic4\", \"Topic4\", \"Topic4\", \"Topic4\", \"Topic4\", \"Topic4\", \"Topic4\", \"Topic4\", \"Topic4\", \"Topic4\", \"Topic4\", \"Topic4\", \"Topic4\", \"Topic4\", \"Topic4\", \"Topic4\", \"Topic4\", \"Topic4\", \"Topic4\", \"Topic4\", \"Topic4\", \"Topic4\", \"Topic4\", \"Topic4\", \"Topic4\", \"Topic4\", \"Topic4\", \"Topic4\", \"Topic4\", \"Topic4\", \"Topic4\", \"Topic4\", \"Topic4\", \"Topic4\", \"Topic4\", \"Topic4\", \"Topic4\", \"Topic4\", \"Topic4\", \"Topic4\", \"Topic4\", \"Topic4\", \"Topic4\", \"Topic4\", \"Topic4\", \"Topic4\", \"Topic4\", \"Topic4\", \"Topic4\", \"Topic4\", \"Topic4\", \"Topic4\", \"Topic4\", \"Topic4\", \"Topic4\", \"Topic4\", \"Topic4\", \"Topic4\", \"Topic4\", \"Topic4\", \"Topic4\", \"Topic4\", \"Topic4\", \"Topic4\", \"Topic4\", \"Topic4\", \"Topic4\", \"Topic4\", \"Topic4\", \"Topic4\", \"Topic4\", \"Topic5\", \"Topic5\", \"Topic5\", \"Topic5\", \"Topic5\", \"Topic5\", \"Topic5\", \"Topic5\", \"Topic5\", \"Topic5\", \"Topic5\", \"Topic5\", \"Topic5\", \"Topic5\", \"Topic5\", \"Topic5\", \"Topic5\", \"Topic5\", \"Topic5\", \"Topic5\", \"Topic5\", \"Topic5\", \"Topic5\", \"Topic5\", \"Topic5\", \"Topic5\", \"Topic5\", \"Topic5\", \"Topic5\", \"Topic5\", \"Topic5\", \"Topic5\", \"Topic5\", \"Topic5\", \"Topic5\", \"Topic5\", \"Topic5\", \"Topic5\", \"Topic5\", \"Topic5\", \"Topic5\", \"Topic5\", \"Topic5\", \"Topic5\", \"Topic5\", \"Topic5\", \"Topic5\", \"Topic5\", \"Topic5\", \"Topic5\", \"Topic5\", \"Topic5\", \"Topic5\", \"Topic5\", \"Topic5\", \"Topic5\", \"Topic5\", \"Topic5\", \"Topic5\", \"Topic5\", \"Topic5\", \"Topic5\", \"Topic5\", \"Topic5\", \"Topic5\", \"Topic5\", \"Topic5\", \"Topic5\", \"Topic5\", \"Topic5\", \"Topic5\", \"Topic5\", \"Topic5\", \"Topic5\", \"Topic5\", \"Topic5\", \"Topic5\", \"Topic5\", \"Topic5\", \"Topic5\", \"Topic5\", \"Topic5\", \"Topic5\", \"Topic5\", \"Topic5\", \"Topic5\", \"Topic5\", \"Topic5\", \"Topic5\", \"Topic5\"], \"Freq\": [4454.0, 4558.0, 1587.0, 4750.0, 3328.0, 1161.0, 4123.0, 995.0, 1990.0, 1685.0, 1329.0, 1343.0, 1314.0, 1194.0, 1370.0, 1746.0, 675.0, 877.0, 1385.0, 455.0, 921.0, 925.0, 682.0, 353.0, 768.0, 881.0, 802.0, 1249.0, 389.0, 1400.0, 2.147252082824707, 1.125532865524292, 1.1073178052902222, 1.3413712978363037, 1.0830541849136353, 1.0263346433639526, 1.2913092374801636, 1.0545917749404907, 1.0553325414657593, 2.224701166152954, 1.471311330795288, 15.937230110168457, 1.188052773475647, 0.5342513918876648, 1.0216485261917114, 1.9312001466751099, 1.008887529373169, 1.2243585586547852, 0.7385832667350769, 0.5207066535949707, 33.95004653930664, 7.746833801269531, 0.9867276549339294, 0.985595166683197, 0.9841511845588684, 0.5134172439575195, 2.0781638622283936, 0.9817918539047241, 1.3490102291107178, 0.9784389138221741, 213.1446533203125, 12.055490493774414, 10.44455623626709, 57.13457489013672, 6.681206703186035, 15.167194366455078, 34.62641143798828, 95.4027328491211, 147.20326232910156, 15.2382230758667, 391.7928161621094, 379.30450439453125, 112.58619689941406, 151.1024169921875, 168.1923065185547, 111.27505493164062, 133.47474670410156, 169.7947540283203, 273.4578552246094, 191.8252716064453, 145.97314453125, 449.920654296875, 108.674072265625, 461.5119323730469, 340.1880798339844, 1072.3455810546875, 139.6426544189453, 412.4401550292969, 104.63141632080078, 196.37864685058594, 112.20140838623047, 94.0959243774414, 908.7530517578125, 775.0806274414062, 320.6930236816406, 995.842041015625, 299.2685852050781, 193.37413024902344, 213.4998779296875, 165.9578094482422, 313.20196533203125, 309.4322814941406, 609.9788208007812, 601.0730590820312, 751.2637939453125, 243.09849548339844, 391.4024658203125, 314.83441162109375, 247.24880981445312, 290.77203369140625, 272.7698059082031, 256.3477478027344, 242.1225128173828, 239.73683166503906, 231.62342834472656, 252.3267059326172, 241.37277221679688, 238.26808166503906, 1.450258731842041, 1.4420347213745117, 1.283746361732483, 1.7430107593536377, 0.6440903544425964, 0.8940364122390747, 2.03714919090271, 0.8387101888656616, 1.8800674676895142, 2.0875942707061768, 1.0897473096847534, 1.8427135944366455, 1.0819827318191528, 0.562635064125061, 1.811086893081665, 4.357018947601318, 0.5558409094810486, 121.16864776611328, 37.809871673583984, 2.0991134643554688, 2.6874473094940186, 0.9803073406219482, 1.9606155157089233, 1.1985892057418823, 1.01740300655365, 0.531864583492279, 2.800227642059326, 8.673831939697266, 3.7097132205963135, 0.5285636186599731, 7.105911731719971, 206.25738525390625, 27.09809684753418, 82.7845687866211, 347.8721618652344, 92.56514739990234, 452.535888671875, 72.72503662109375, 142.7744598388672, 71.9267807006836, 172.54273986816406, 30.08159828186035, 885.8167114257812, 212.76275634765625, 56.249874114990234, 396.6733093261719, 1167.060546875, 120.24778747558594, 306.696533203125, 245.58920288085938, 196.00357055664062, 128.41749572753906, 229.95309448242188, 172.66976928710938, 980.7681274414062, 184.712646484375, 890.7224731445312, 221.51182556152344, 408.927001953125, 757.4125366210938, 188.67611694335938, 205.04518127441406, 916.5192260742188, 661.9823608398438, 238.00497436523438, 309.7174072265625, 306.4942321777344, 196.2882843017578, 309.8370666503906, 359.9366760253906, 292.3433532714844, 289.7508850097656, 316.1558837890625, 261.7642822265625, 225.7279510498047, 236.20181274414062, 241.9627227783203, 238.9572296142578, 235.09600830078125, 228.56121826171875, 1.1447839736938477, 0.5798706412315369, 0.8108211755752563, 42.29427719116211, 1.0585503578186035, 57.26815414428711, 1.2305198907852173, 1.0585967302322388, 3.712064743041992, 1.9269427061080933, 1.976252794265747, 2.177013635635376, 4.5517473220825195, 1.7220489978790283, 1.3880867958068848, 1.0074326992034912, 2.108725070953369, 0.99165940284729, 13.911188125610352, 2.5173442363739014, 1.5700719356536865, 2.08590030670166, 0.984454870223999, 1.4036917686462402, 8.111201286315918, 10.78344440460205, 0.9303933382034302, 3.8252696990966797, 0.9711213111877441, 6.046465873718262, 22.393754959106445, 345.9556884765625, 25.884559631347656, 36.675880432128906, 148.3821258544922, 459.8059997558594, 35.1175422668457, 1163.8062744140625, 67.03467559814453, 85.0667495727539, 372.19427490234375, 50.01774978637695, 98.75213623046875, 128.13189697265625, 256.2479553222656, 978.449462890625, 227.77130126953125, 777.5914916992188, 56.088157653808594, 131.6115264892578, 60.79405975341797, 96.83305358886719, 187.28387451171875, 210.9173126220703, 72.56100463867188, 263.0511779785156, 374.89208984375, 760.3040771484375, 311.3880920410156, 109.42578125, 99.29471588134766, 85.24148559570312, 315.1811828613281, 913.7899780273438, 255.81985473632812, 311.7950744628906, 241.42999267578125, 844.9196166992188, 260.7962341308594, 285.503662109375, 285.8255615234375, 312.4612121582031, 352.2312316894531, 243.38186645507812, 279.6665954589844, 349.78692626953125, 534.9559326171875, 271.1728820800781, 334.840087890625, 282.7643737792969, 268.7518005371094, 0.66215980052948, 1.239868402481079, 3.076871633529663, 1.9795658588409424, 1.1636605262756348, 0.5941693186759949, 1.8410975933074951, 0.5623645186424255, 10.65353012084961, 1.0736732482910156, 4.668539047241211, 1.0717989206314087, 1.0716161727905273, 3.003340005874634, 1.2959234714508057, 2.5201423168182373, 1.2558977603912354, 3.9976329803466797, 1.737473726272583, 1.461018443107605, 2.1531424522399902, 1.7176331281661987, 2.363278388977051, 1.0092267990112305, 1.2243435382843018, 0.9537718892097473, 1.0037145614624023, 1.6987571716308594, 2.3968517780303955, 0.9956092834472656, 145.60520935058594, 124.31396484375, 26.742034912109375, 23.57501983642578, 82.52313232421875, 24.147615432739258, 4.637362957000732, 17.691972732543945, 48.842655181884766, 171.32249450683594, 98.83159637451172, 91.67598724365234, 522.1517944335938, 214.24009704589844, 221.12693786621094, 93.76911926269531, 83.8120346069336, 128.45379638671875, 38.840606689453125, 352.0309143066406, 65.51785278320312, 224.27032470703125, 43.345314025878906, 65.86565399169922, 159.5458984375, 270.8257141113281, 61.892417907714844, 330.74017333984375, 1006.7774658203125, 725.4175415039062, 267.9770812988281, 99.79077911376953, 923.3993530273438, 145.97979736328125, 150.606201171875, 220.30470275878906, 232.6337890625, 132.30711364746094, 173.4657745361328, 162.50448608398438, 249.6560516357422, 595.8334350585938, 302.9045104980469, 154.77853393554688, 586.9879760742188, 281.8955078125, 345.5355529785156, 665.0950317382812, 240.87681579589844, 597.7294311523438, 217.39047241210938, 283.9532470703125, 276.285888671875, 267.4564208984375, 236.8356475830078, 236.29685974121094, 260.8394775390625, 267.4972229003906, 255.1931915283203, 0.6867334246635437, 0.605487585067749, 1.3433409929275513, 1.0363737344741821, 1.2485352754592896, 1.5249234437942505, 0.7846386432647705, 2.227252960205078, 0.99344801902771, 1.4802803993225098, 2.416954755783081, 1.0368467569351196, 1.1957054138183594, 1.023948073387146, 1.8854681253433228, 1.4485433101654053, 1.6885305643081665, 0.732307493686676, 0.9939188361167908, 3.2028725147247314, 0.7259386777877808, 0.9826269149780273, 0.5115440487861633, 1.1870074272155762, 1.3467459678649902, 0.9777418971061707, 0.9716402292251587, 1.1303867101669312, 14.549970626831055, 0.9684514403343201, 12.010870933532715, 16.885940551757812, 47.66173553466797, 3.07612943649292, 7.023069858551025, 36.0789680480957, 170.39488220214844, 8.089903831481934, 76.99018096923828, 11.092365264892578, 346.9112854003906, 243.78961181640625, 29.880800247192383, 184.20082092285156, 80.43907928466797, 115.40010070800781, 199.42376708984375, 55.055625915527344, 16.53183364868164, 1059.3646240234375, 301.61712646484375, 322.55853271484375, 117.50428009033203, 146.55947875976562, 84.75302124023438, 227.68321228027344, 30.297826766967773, 26.024059295654297, 20.52382469177246, 319.900390625, 100.17617797851562, 156.7296142578125, 274.1971130371094, 189.53419494628906, 122.93273162841797, 426.369140625, 666.7423706054688, 113.92765045166016, 259.03021240234375, 222.70884704589844, 297.6588439941406, 243.80288696289062, 747.3578491210938, 311.0785827636719, 209.46363830566406, 278.6797790527344, 619.6511840820312, 572.3422241210938, 237.20584106445312, 226.3433837890625, 243.28314208984375, 339.5210266113281, 666.6856689453125, 634.78369140625, 297.5313415527344, 249.9138946533203, 268.3783264160156, 268.17449951171875, 238.79295349121094, 226.5150146484375], \"Term\": [\"good\", \"place\", \"love\", \"food\", \"like\", \"said\", \"great\", \"want\", \"got\", \"nice\", \"restaurant\", \"chicken\", \"amazing\", \"delicious\", \"little\", \"best\", \"store\", \"minutes\", \"people\", \"special\", \"sure\", \"room\", \"tried\", \"stop\", \"small\", \"took\", \"bad\", \"experience\", \"pm\", \"come\", \"squishies\", \"dinned\", \"dolci\", \"cranny\", \"sunglass\", \"ota\", \"authetic\", \"dollarama\", \"gasping\", \"flush\", \"hail\", \"express\", \"luci\", \"cages\", \"taiwaness\", \"dennys\", \"oho\", \"scrapes\", \"archie\", \"incred\", \"polite\", \"metro\", \"pervian\", \"interpret\", \"indianapolis\", \"bate\", \"luna\", \"tailgate\", \"amis\", \"\\u53f0\\u6e7e\\u9e21\\u6392\", \"tried\", \"spices\", \"minimum\", \"brunch\", \"degrees\", \"mark\", \"stuffed\", \"second\", \"decided\", \"les\", \"little\", \"restaurant\", \"won\", \"rice\", \"car\", \"disappointed\", \"flavor\", \"coffee\", \"pretty\", \"meal\", \"perfect\", \"best\", \"high\", \"ve\", \"chicken\", \"place\", \"overall\", \"nice\", \"maybe\", \"pizza\", \"week\", \"walked\", \"great\", \"service\", \"friendly\", \"food\", \"experience\", \"table\", \"minutes\", \"awesome\", \"come\", \"definitely\", \"like\", \"time\", \"good\", \"right\", \"got\", \"staff\", \"better\", \"order\", \"amazing\", \"menu\", \"recommend\", \"said\", \"know\", \"ordered\", \"try\", \"people\", \"intelligently\", \"imcomplete\", \"aryon\", \"rudy\", \"everrrrr\", \"woop\", \"arial\", \"melinda\", \"yasmin\", \"reef\", \"setups\", \"leann\", \"sitara\", \"shoooz\", \"labelled\", \"reviewing\", \"jamenson\", \"stop\", \"incredible\", \"hooters\", \"samantha\", \"grandkids\", \"donair\", \"paula\", \"menudazo\", \"solomon\", \"slip\", \"balloons\", \"rows\", \"heyyy\", \"amazon\", \"store\", \"continue\", \"stuff\", \"delicious\", \"strip\", \"love\", \"cheap\", \"ask\", \"pool\", \"check\", \"spa\", \"like\", \"small\", \"appetizer\", \"staff\", \"food\", \"fast\", \"day\", \"sure\", \"area\", \"tasty\", \"minutes\", \"super\", \"good\", \"drinks\", \"great\", \"took\", \"best\", \"service\", \"lunch\", \"times\", \"place\", \"time\", \"want\", \"come\", \"definitely\", \"bit\", \"ordered\", \"ve\", \"order\", \"nice\", \"got\", \"try\", \"way\", \"experience\", \"chicken\", \"friendly\", \"little\", \"people\", \"cos\", \"yc\", \"kiddo\", \"hostess\", \"froide\", \"serve\", \"morilee\", \"engages\", \"rooftop\", \"stranger\", \"linda\", \"travis\", \"bodyflo\", \"katrina\", \"bennett\", \"irritations\", \"troubleshooting\", \"brusselsprouts\", \"tan\", \"touring\", \"wells\", \"camping\", \"subjects\", \"pittsburg\", \"confirm\", \"tasteless\", \"dimmi\", \"physician\", \"ysuznf_lzq\", \"crack\", \"types\", \"said\", \"east\", \"outstanding\", \"favorite\", \"nice\", \"seasoned\", \"good\", \"life\", \"local\", \"order\", \"opened\", \"spicy\", \"old\", \"want\", \"great\", \"took\", \"time\", \"lady\", \"line\", \"seating\", \"kids\", \"ll\", \"location\", \"dog\", \"way\", \"love\", \"service\", \"restaurant\", \"quick\", \"wonderful\", \"wrong\", \"come\", \"food\", \"new\", \"try\", \"right\", \"place\", \"know\", \"amazing\", \"friendly\", \"ordered\", \"best\", \"going\", \"little\", \"ve\", \"like\", \"chicken\", \"got\", \"staff\", \"people\", \"\\u63a2\\u3057\\u305f\\u304a\\u5e97\\u3067\\u3057\\u305f\", \"chitchatting\", \"methods\", \"sixt\", \"krung\", \"whoopers\", \"predictions\", \"\\u3068\\u3066\\u3082\\u6c17\\u306b\\u5165\\u308a\\u307e\\u3057\\u305f\", \"yuk\", \"shittt\", \"hk\", \"collars\", \"beause\", \"tones\", \"dryed\", \"sarver\", \"blower\", \"mmmm\", \"chompies\", \"limits\", \"photographers\", \"dgfwco\", \"shawn\", \"sours\", \"glitches\", \"swift\", \"deptartment\", \"goldsmith\", \"hiram\", \"imperious\", \"special\", \"pm\", \"tuesday\", \"spring\", \"music\", \"art\", \"driven\", \"quote\", \"boyfriend\", \"away\", \"help\", \"tacos\", \"got\", \"bad\", \"eat\", \"professional\", \"drive\", \"thought\", \"toppings\", \"people\", \"slow\", \"price\", \"school\", \"buffet\", \"worth\", \"going\", \"warm\", \"definitely\", \"food\", \"like\", \"better\", \"star\", \"good\", \"hour\", \"stars\", \"sure\", \"bar\", \"highly\", \"long\", \"different\", \"new\", \"time\", \"ordered\", \"feel\", \"service\", \"come\", \"ve\", \"place\", \"day\", \"great\", \"pretty\", \"staff\", \"order\", \"try\", \"know\", \"menu\", \"love\", \"best\", \"nice\", \"unite\", \"swarma\", \"fences\", \"petrus\", \"cellphone\", \"alter\", \"dajuan\", \"sw\", \"organizing\", \"rents\", \"amex\", \"accounting\", \"pinks\", \"debut\", \"vents\", \"fingernail\", \"wag\", \"cassada\", \"fanny\", \"manageable\", \"phillips\", \"bedmate\", \"stagette\", \"axle\", \"rollers\", \"ernie\", \"allergens\", \"midst\", \"shake\", \"existant\", \"action\", \"sizes\", \"spend\", \"bull\", \"consisted\", \"dogs\", \"need\", \"hill\", \"waiter\", \"cats\", \"amazing\", \"room\", \"welcoming\", \"happy\", \"course\", \"inside\", \"lot\", \"run\", \"control\", \"place\", \"experience\", \"chicken\", \"business\", \"sweet\", \"wife\", \"night\", \"rock\", \"workers\", \"cozy\", \"try\", \"today\", \"quality\", \"menu\", \"customer\", \"family\", \"got\", \"time\", \"money\", \"know\", \"want\", \"people\", \"new\", \"great\", \"ordered\", \"wait\", \"friendly\", \"service\", \"like\", \"recommend\", \"way\", \"delicious\", \"ve\", \"food\", \"good\", \"love\", \"little\", \"nice\", \"best\", \"restaurant\", \"definitely\"], \"Total\": [4454.0, 4558.0, 1587.0, 4750.0, 3328.0, 1161.0, 4123.0, 995.0, 1990.0, 1685.0, 1329.0, 1343.0, 1314.0, 1194.0, 1370.0, 1746.0, 675.0, 877.0, 1385.0, 455.0, 921.0, 925.0, 682.0, 353.0, 768.0, 881.0, 802.0, 1249.0, 389.0, 1400.0, 5.2099289894104, 3.0801000595092773, 3.0761241912841797, 3.744630813598633, 3.07919979095459, 2.924877405166626, 3.742583751678467, 3.0804941654205322, 3.084576368331909, 6.5197649002075195, 4.399360179901123, 47.878116607666016, 3.579467296600342, 1.6100132465362549, 3.0864450931549072, 5.861615180969238, 3.0776500701904297, 3.739830255508423, 2.2668423652648926, 1.6113907098770142, 105.4126205444336, 24.072237014770508, 3.083928108215332, 3.0817925930023193, 3.0832979679107666, 1.609825611114502, 6.52539587020874, 3.082937002182007, 4.239949703216553, 3.0864768028259277, 682.71435546875, 38.05863571166992, 33.11727523803711, 184.72860717773438, 21.147289276123047, 48.41822052001953, 111.82701873779297, 316.61553955078125, 499.7214660644531, 49.39939880371094, 1370.675048828125, 1329.46533203125, 381.54931640625, 527.4302368164062, 594.7728881835938, 391.12261962890625, 477.1214904785156, 613.1187133789062, 1021.3853759765625, 708.419189453125, 532.01806640625, 1746.75048828125, 397.97503662109375, 1856.2921142578125, 1343.158935546875, 4558.244140625, 522.4956665039062, 1685.568603515625, 385.77777099609375, 761.808349609375, 421.4549255371094, 350.4260559082031, 4123.01220703125, 3499.4365234375, 1336.054931640625, 4750.15576171875, 1249.8740234375, 778.4116821289062, 877.0675048828125, 657.0267333984375, 1400.0577392578125, 1394.9886474609375, 3328.51123046875, 3303.222900390625, 4454.021484375, 1054.7027587890625, 1990.91943359375, 1504.51953125, 1116.2630615234375, 1447.7900390625, 1314.449462890625, 1194.0743408203125, 1122.6734619140625, 1161.301513671875, 1176.1129150390625, 1488.608154296875, 1402.2889404296875, 1385.270751953125, 3.075446128845215, 3.0783936977386475, 3.078000545501709, 4.244565963745117, 1.6093052625656128, 2.269824981689453, 5.2104010581970215, 2.2663824558258057, 5.211795330047607, 5.875206470489502, 3.080810070037842, 5.214555263519287, 3.0826430320739746, 1.6128270626068115, 5.223592758178711, 12.609505653381348, 1.6118457317352295, 353.29815673828125, 111.85382080078125, 6.222723484039307, 8.0121431350708, 2.9282639026641846, 5.859509468078613, 3.586911678314209, 3.0790231227874756, 1.6105525493621826, 8.512116432189941, 26.367389678955078, 11.28275203704834, 1.6130437850952148, 21.802038192749023, 675.3561401367188, 85.73705291748047, 269.698974609375, 1194.12109375, 308.3405456542969, 1587.8743896484375, 242.33592224121094, 488.1922302246094, 240.11508178710938, 601.0590209960938, 97.6148452758789, 3328.51123046875, 768.8733520507812, 192.0933837890625, 1504.51953125, 4750.15576171875, 429.3804626464844, 1166.4501953125, 921.9150390625, 728.0661010742188, 468.5220642089844, 877.0675048828125, 655.5184936523438, 4454.021484375, 715.5265502929688, 4123.01220703125, 881.5299072265625, 1746.75048828125, 3499.4365234375, 739.621337890625, 826.4696044921875, 4558.244140625, 3303.222900390625, 995.0095825195312, 1400.0577392578125, 1394.9886474609375, 803.58154296875, 1488.608154296875, 1856.2921142578125, 1447.7900390625, 1685.568603515625, 1990.91943359375, 1402.2889404296875, 1070.4400634765625, 1249.8740234375, 1343.158935546875, 1336.054931640625, 1370.675048828125, 1385.270751953125, 3.087939500808716, 1.612894058227539, 2.273324966430664, 121.19361877441406, 3.0795481204986572, 166.83401489257812, 3.586658239364624, 3.0889358520507812, 10.999382972717285, 5.719307899475098, 5.876463890075684, 6.546637058258057, 13.735580444335938, 5.231509208679199, 4.252767086029053, 3.087057590484619, 6.531773090362549, 3.085223913192749, 43.325523376464844, 7.849592685699463, 4.907826900482178, 6.537961959838867, 3.0859427452087402, 4.403493881225586, 25.45931625366211, 33.869476318359375, 2.9322736263275146, 12.118447303771973, 3.085646629333496, 19.216833114624023, 71.86101531982422, 1161.301513671875, 86.72474670410156, 123.83056640625, 524.5810546875, 1685.568603515625, 119.38133239746094, 4454.021484375, 235.43881225585938, 302.0941467285156, 1447.7900390625, 176.8055419921875, 362.7037353515625, 479.70843505859375, 995.0095825195312, 4123.01220703125, 881.5299072265625, 3303.222900390625, 202.28489685058594, 502.59906005859375, 221.3108367919922, 363.5538635253906, 739.5313720703125, 840.9716796875, 267.88739013671875, 1070.4400634765625, 1587.8743896484375, 3499.4365234375, 1329.46533203125, 422.023681640625, 379.6206970214844, 321.7154846191406, 1400.0577392578125, 4750.15576171875, 1119.8916015625, 1402.2889404296875, 1054.7027587890625, 4558.244140625, 1176.1129150390625, 1314.449462890625, 1336.054931640625, 1488.608154296875, 1746.75048828125, 1107.7547607421875, 1370.675048828125, 1856.2921142578125, 3328.51123046875, 1343.158935546875, 1990.91943359375, 1504.51953125, 1385.270751953125, 1.6180024147033691, 3.110128879547119, 8.041667938232422, 5.235365867614746, 3.0983216762542725, 1.6175413131713867, 5.2384724617004395, 1.6159777641296387, 30.67462921142578, 3.0962929725646973, 13.475899696350098, 3.0985000133514404, 3.0986669063568115, 8.68983268737793, 3.7546679973602295, 7.364505290985107, 3.7579550743103027, 12.007172584533691, 5.23335075378418, 4.416749000549316, 6.5534348487854, 5.231384754180908, 7.209754943847656, 3.091775417327881, 3.7560670375823975, 2.936527729034424, 3.091651201248169, 5.234334468841553, 7.386198997497559, 3.0893778800964355, 455.8171691894531, 389.87408447265625, 84.20812225341797, 74.14961242675781, 269.92877197265625, 77.79978942871094, 14.471524238586426, 56.832908630371094, 163.13357543945312, 611.6817016601562, 345.69805908203125, 322.61968994140625, 1990.91943359375, 802.1762084960938, 832.497802734375, 338.270263671875, 300.7281494140625, 472.8902893066406, 134.2974090576172, 1385.270751953125, 233.4969940185547, 873.8138427734375, 151.701416015625, 238.44082641601562, 622.2484130859375, 1107.7547607421875, 223.2853240966797, 1394.9886474609375, 4750.15576171875, 3328.51123046875, 1116.2630615234375, 378.33984375, 4454.021484375, 576.4266967773438, 599.1431884765625, 921.9150390625, 983.5179443359375, 529.4225463867188, 724.7670288085938, 674.27001953125, 1119.8916015625, 3303.222900390625, 1488.608154296875, 644.048583984375, 3499.4365234375, 1400.0577392578125, 1856.2921142578125, 4558.244140625, 1166.4501953125, 4123.01220703125, 1021.3853759765625, 1504.51953125, 1447.7900390625, 1402.2889404296875, 1176.1129150390625, 1194.0743408203125, 1587.8743896484375, 1746.75048828125, 1685.568603515625, 1.6213164329528809, 1.620350956916809, 3.7628278732299805, 2.94411563873291, 3.602602005004883, 4.420949935913086, 2.2783501148223877, 6.561139106750488, 2.9401936531066895, 4.419103622436523, 7.220538139343262, 3.0990610122680664, 3.603337287902832, 3.098287582397461, 5.739564418792725, 4.421236515045166, 5.239166259765625, 2.277954339981079, 3.0971508026123047, 10.027851104736328, 2.27993106842041, 3.0977039337158203, 1.6171355247497559, 3.753203868865967, 4.262535095214844, 3.096956491470337, 3.096315383911133, 3.6022400856018066, 46.47093200683594, 3.0941531658172607, 38.71274185180664, 54.72303009033203, 156.407958984375, 9.857484817504883, 22.878156661987305, 122.35963439941406, 617.7347412109375, 26.708908081054688, 272.6190185546875, 37.2086181640625, 1314.449462890625, 925.1914672851562, 104.14002990722656, 698.4765014648438, 295.1086730957031, 433.70849609375, 774.737548828125, 200.59130859375, 56.607547760009766, 4558.244140625, 1249.8740234375, 1343.158935546875, 458.8716735839844, 584.4515380859375, 325.2203369140625, 941.5005493164062, 109.0828857421875, 92.66055297851562, 71.88115692138672, 1402.2889404296875, 397.5474548339844, 646.831787109375, 1194.0743408203125, 799.6370239257812, 500.5223388671875, 1990.91943359375, 3303.222900390625, 470.0015563964844, 1176.1129150390625, 995.0095825195312, 1385.270751953125, 1119.8916015625, 4123.01220703125, 1488.608154296875, 941.981201171875, 1336.054931640625, 3499.4365234375, 3328.51123046875, 1122.6734619140625, 1070.4400634765625, 1194.12109375, 1856.2921142578125, 4750.15576171875, 4454.021484375, 1587.8743896484375, 1370.675048828125, 1685.568603515625, 1746.75048828125, 1329.46533203125, 1394.9886474609375], \"loglift\": [30.0, 29.0, 28.0, 27.0, 26.0, 25.0, 24.0, 23.0, 22.0, 21.0, 20.0, 19.0, 18.0, 17.0, 16.0, 15.0, 14.0, 13.0, 12.0, 11.0, 10.0, 9.0, 8.0, 7.0, 6.0, 5.0, 4.0, 3.0, 2.0, 1.0, 0.7037000060081482, 0.5834000110626221, 0.5683000087738037, 0.5633999705314636, 0.545199990272522, 0.5428000092506409, 0.5260000228881836, 0.5181000232696533, 0.5174999833106995, 0.5149000287055969, 0.49480000138282776, 0.4900999963283539, 0.487199991941452, 0.4869000017642975, 0.484499990940094, 0.4797999858856201, 0.4747999906539917, 0.47350001335144043, 0.46869999170303345, 0.4603999853134155, 0.4571000039577484, 0.4562999904155731, 0.4505000114440918, 0.45010000467300415, 0.4481000006198883, 0.447299987077713, 0.44589999318122864, 0.4458000063896179, 0.4449000060558319, 0.44119998812675476, 0.4259999990463257, 0.4404999911785126, 0.4361000061035156, 0.41659998893737793, 0.43790000677108765, 0.4293000102043152, 0.41769999265670776, 0.390500009059906, 0.3677999973297119, 0.4138999879360199, 0.3377000093460083, 0.3359000086784363, 0.36959999799728394, 0.3400000035762787, 0.3269999921321869, 0.33309999108314514, 0.31619998812675476, 0.3061000108718872, 0.27230000495910645, 0.28360000252723694, 0.29679998755455017, 0.23360000550746918, 0.2919999957084656, 0.19820000231266022, 0.2168000042438507, 0.14300000667572021, 0.2705000042915344, 0.18230000138282776, 0.28529998660087585, 0.23440000414848328, 0.26669999957084656, 0.2752000093460083, 0.07779999822378159, 0.08269999921321869, 0.163100004196167, 0.027699999511241913, 0.16060000658035278, 0.19740000367164612, 0.17710000276565552, 0.21410000324249268, 0.09269999712705612, 0.08420000225305557, -0.10679999738931656, -0.11389999836683273, -0.18970000743865967, 0.12250000238418579, -0.0364999994635582, 0.02590000070631504, 0.08269999921321869, -0.015200000256299973, 0.017500000074505806, 0.051500000059604645, 0.05609999969601631, 0.012299999594688416, -0.03480000048875809, -0.18479999899864197, -0.16940000653266907, -0.17020000517368317, 0.8406999707221985, 0.8341000080108643, 0.7178999781608582, 0.7024000287055969, 0.6766999959945679, 0.6607000231742859, 0.6532999873161316, 0.5982999801635742, 0.5727999806404114, 0.557699978351593, 0.5532000064849854, 0.5522000193595886, 0.5454000234603882, 0.5393000245094299, 0.5331000089645386, 0.529699981212616, 0.5278000235557556, 0.5223000049591064, 0.5077999830245972, 0.5056999921798706, 0.5, 0.49810001254081726, 0.4975999891757965, 0.49630001187324524, 0.48500001430511475, 0.484499990940094, 0.4805999994277954, 0.4805999994277954, 0.48010000586509705, 0.4767000079154968, 0.47130000591278076, 0.40630000829696655, 0.4406000077724457, 0.41130000352859497, 0.35910001397132874, 0.38909998536109924, 0.33709999918937683, 0.3887999951839447, 0.3630000054836273, 0.38690000772476196, 0.34439998865127563, 0.41530001163482666, 0.2685999870300293, 0.3077000081539154, 0.36419999599456787, 0.25929999351501465, 0.18870000541210175, 0.319599986076355, 0.2565000057220459, 0.2696000039577484, 0.2800999879837036, 0.29809999465942383, 0.25369998812675476, 0.25839999318122864, 0.07919999957084656, 0.23819999396800995, 0.060100000351667404, 0.21119999885559082, 0.1404000073671341, 0.06199999898672104, 0.22630000114440918, 0.19850000739097595, -0.011699999682605267, -0.014999999664723873, 0.16189999878406525, 0.08380000293254852, 0.07699999958276749, 0.18289999663829803, 0.02290000021457672, -0.04800000041723251, -0.007499999832361937, -0.16840000450611115, -0.24770000576972961, -0.0860000029206276, 0.03590000048279762, -0.07370000332593918, -0.12160000205039978, -0.12880000472068787, -0.17069999873638153, -0.2093999981880188, 0.613099992275238, 0.5824999809265137, 0.5745000243186951, 0.5526999831199646, 0.5375999808311462, 0.5361999869346619, 0.5356000065803528, 0.534600019454956, 0.5192000269889832, 0.5174999833106995, 0.5156999826431274, 0.5044000148773193, 0.5009999871253967, 0.4941999912261963, 0.48579999804496765, 0.48559999465942383, 0.4747999906539917, 0.47040000557899475, 0.46939998865127563, 0.4681999981403351, 0.4657000005245209, 0.46299999952316284, 0.4629000127315521, 0.46209999918937683, 0.46160000562667847, 0.4609000086784363, 0.45750001072883606, 0.4523000121116638, 0.44940000772476196, 0.44909998774528503, 0.43950000405311584, 0.3944000005722046, 0.39629998803138733, 0.3885999917984009, 0.3425999879837036, 0.30640000104904175, 0.38179999589920044, 0.26330000162124634, 0.3492000102996826, 0.33809998631477356, 0.24709999561309814, 0.34279999136924744, 0.304500013589859, 0.28529998660087585, 0.24879999458789825, 0.1670999974012375, 0.25209999084472656, 0.1589999943971634, 0.32269999384880066, 0.265500009059906, 0.313400000333786, 0.2824999988079071, 0.23199999332427979, 0.2222999930381775, 0.2992999851703644, 0.20200000703334808, 0.16189999878406525, 0.07880000025033951, 0.15389999747276306, 0.2556000053882599, 0.26440000534057617, 0.27730000019073486, 0.11429999768733978, -0.042899999767541885, 0.12890000641345978, 0.10189999639987946, 0.13099999725818634, -0.07999999821186066, 0.09920000284910202, 0.07850000262260437, 0.0632999986410141, 0.04430000111460686, 0.00419999985024333, 0.09000000357627869, 0.01600000075995922, -0.06360000371932983, -0.22269999980926514, 0.005400000140070915, -0.17730000615119934, -0.06620000302791595, -0.03440000116825104, 0.7307000160217285, 0.7045000195503235, 0.6633999943733215, 0.6516000032424927, 0.6448000073432922, 0.6226000189781189, 0.578499972820282, 0.5685999989509583, 0.5666000247001648, 0.5649999976158142, 0.5641000270843506, 0.5626000165939331, 0.5623000264167786, 0.5616999864578247, 0.5604000091552734, 0.551800012588501, 0.5281000137329102, 0.5242999792098999, 0.5214999914169312, 0.5178999900817871, 0.5110999941825867, 0.5103999972343445, 0.5087000131607056, 0.5045999884605408, 0.5031999945640564, 0.49959999322891235, 0.499099999666214, 0.49880000948905945, 0.49869999289512634, 0.4918000102043152, 0.4828999936580658, 0.4810999929904938, 0.4771000146865845, 0.4781999886035919, 0.4390999972820282, 0.45419999957084656, 0.4860999882221222, 0.4571000039577484, 0.41819998621940613, 0.351500004529953, 0.3720000088214874, 0.3659000098705292, 0.2856999933719635, 0.30390000343322754, 0.29840001463890076, 0.3411000072956085, 0.3465000092983246, 0.3208000063896179, 0.38350000977516174, 0.2542000114917755, 0.353300005197525, 0.26409998536109924, 0.37139999866485596, 0.3375999927520752, 0.2630999982357025, 0.21549999713897705, 0.3411000072956085, 0.18479999899864197, 0.07270000129938126, 0.1005999967455864, 0.1973000019788742, 0.2913999855518341, 0.050599999725818634, 0.2508000135421753, 0.24330000579357147, 0.19269999861717224, 0.18250000476837158, 0.23749999701976776, 0.19429999589920044, 0.2011999934911728, 0.12319999933242798, -0.08860000222921371, 0.03200000151991844, 0.19840000569820404, -0.16120000183582306, 0.021400000900030136, -0.057100001722574234, -0.30059999227523804, 0.04670000076293945, -0.30709999799728394, 0.07689999788999557, -0.043299999088048935, -0.03220000118017197, -0.03280000016093254, 0.0215000007301569, 0.004100000020116568, -0.18209999799728394, -0.2522999942302704, -0.263700008392334, 0.7768999934196472, 0.6516000032424927, 0.60589998960495, 0.5918999910354614, 0.5763000249862671, 0.5715000033378601, 0.5699999928474426, 0.5554999709129333, 0.5508999824523926, 0.5422000288963318, 0.5414999723434448, 0.5410000085830688, 0.532800018787384, 0.5288000106811523, 0.5227000117301941, 0.5200999975204468, 0.503600001335144, 0.5011000037193298, 0.49939998984336853, 0.49459999799728394, 0.49149999022483826, 0.4878000020980835, 0.48500001430511475, 0.4848000109195709, 0.4837999939918518, 0.4830000102519989, 0.47699999809265137, 0.47690001130104065, 0.474700003862381, 0.47440001368522644, 0.46560001373291016, 0.460099995136261, 0.44760000705718994, 0.4713999927043915, 0.45500001311302185, 0.4147000014781952, 0.3479999899864197, 0.4415999948978424, 0.3714999854564667, 0.42570000886917114, 0.30379998683929443, 0.30219998955726624, 0.3874000012874603, 0.30309998989105225, 0.3361000120639801, 0.31200000643730164, 0.27880001068115234, 0.34299999475479126, 0.4050999879837036, 0.17669999599456787, 0.2143000066280365, 0.2093999981880188, 0.2736000120639801, 0.25270000100135803, 0.29120001196861267, 0.21639999747276306, 0.3549000024795532, 0.3659999966621399, 0.3824999928474426, 0.15809999406337738, 0.25760000944137573, 0.2184000015258789, 0.1647000014781952, 0.1964000016450882, 0.23190000653266907, 0.09489999711513519, 0.0357000008225441, 0.21879999339580536, 0.12290000170469284, 0.13910000026226044, 0.0982000008225441, 0.11129999905824661, -0.07190000265836716, 0.07039999961853027, 0.13249999284744263, 0.06849999725818634, -0.09529999643564224, -0.12460000067949295, 0.08139999955892563, 0.08219999819993973, 0.04500000178813934, -0.06289999932050705, -0.3276999890804291, -0.3122999966144562, -0.03869999945163727, -0.06599999964237213, -0.20149999856948853, -0.2379000037908554, -0.08100000023841858, -0.1818999946117401], \"logprob\": [30.0, 29.0, 28.0, 27.0, 26.0, 25.0, 24.0, 23.0, 22.0, 21.0, 20.0, 19.0, 18.0, 17.0, 16.0, 15.0, 14.0, 13.0, 12.0, 11.0, 10.0, 9.0, 8.0, 7.0, 6.0, 5.0, 4.0, 3.0, 2.0, 1.0, -10.720999717712402, -11.366900444030762, -11.383199691772461, -11.191499710083008, -11.405400276184082, -11.459199905395508, -11.229499816894531, -11.432000160217285, -11.431300163269043, -10.685600280761719, -11.098999977111816, -8.716500282287598, -11.312899589538574, -12.112099647521973, -11.463800430297852, -10.82699966430664, -11.476300239562988, -11.28279972076416, -11.788200378417969, -12.137700080871582, -7.960299968719482, -9.437899589538574, -11.498499870300293, -11.499699592590332, -11.501199722290039, -12.151800155639648, -10.753700256347656, -11.503600120544434, -11.185799598693848, -11.506999969482422, -6.123199939727783, -8.995699882507324, -9.139100074768066, -7.439799785614014, -9.58590030670166, -8.765999794006348, -7.9405999183654785, -6.92710018157959, -6.4934000968933105, -8.76140022277832, -5.514400005340576, -5.546800136566162, -6.761499881744385, -6.467199802398682, -6.360099792480469, -6.773200035095215, -6.591300010681152, -6.350599765777588, -5.874000072479248, -6.228600025177002, -6.501800060272217, -5.376100063323975, -6.796800136566162, -5.3506999015808105, -5.655700206756592, -4.507599830627441, -6.54610013961792, -5.463099956512451, -6.834700107574463, -6.205100059509277, -6.764900207519531, -6.940899848937988, -4.673099994659424, -4.832200050354004, -5.714700222015381, -4.581600189208984, -5.78380012512207, -6.220600128173828, -6.121500015258789, -6.3734002113342285, -5.73829984664917, -5.750400066375732, -5.071800231933594, -5.08650016784668, -4.863399982452393, -5.991700172424316, -5.515399932861328, -5.733099937438965, -5.974800109863281, -5.812600135803223, -5.876500129699707, -5.938600063323975, -5.995699882507324, -6.0055999755859375, -6.04010009765625, -5.954500198364258, -5.998799800872803, -6.0117998123168945, -11.111100196838379, -11.116800308227539, -11.233099937438965, -10.927200317382812, -11.922800064086914, -11.594900131225586, -10.771300315856934, -11.658699989318848, -10.851499557495117, -10.746800422668457, -11.396900177001953, -10.871600151062012, -11.40410041809082, -12.057999610900879, -10.888899803161621, -10.011099815368652, -12.070099830627441, -6.685699939727783, -7.850299835205078, -10.741299629211426, -10.49429988861084, -11.502699851989746, -10.809599876403809, -11.3016996383667, -11.46560001373291, -12.1141996383667, -10.453100204467773, -9.322500228881836, -10.171899795532227, -12.120400428771973, -9.521900177001953, -6.15369987487793, -8.18340015411377, -7.0665998458862305, -5.63100004196167, -6.954899787902832, -5.368000030517578, -7.196199893951416, -6.521599769592285, -7.207200050354004, -6.332200050354004, -8.078900337219238, -4.696300029754639, -6.122700214385986, -7.453000068664551, -5.49970006942749, -4.420599937438965, -6.693299770355225, -5.756999969482422, -5.9791998863220215, -6.204699993133545, -6.627600193023682, -6.045000076293945, -6.331500053405762, -4.5945000648498535, -6.263999938964844, -4.690800189971924, -6.082399845123291, -5.469299793243408, -4.85290002822876, -6.242800235748291, -6.159599781036377, -4.662300109863281, -4.987599849700928, -6.0106000900268555, -5.747200012207031, -5.757599830627441, -6.2032999992370605, -5.746799945831299, -5.59689998626709, -5.804900169372559, -5.813799858093262, -5.726600170135498, -5.91540002822876, -6.063499927520752, -6.018199920654297, -5.994100093841553, -6.0065999031066895, -6.022900104522705, -6.051000118255615, -11.334600448608398, -12.014800071716309, -11.679499626159668, -7.725200176239014, -11.4128999710083, -7.422100067138672, -11.262399673461914, -11.4128999710083, -10.15820026397705, -10.813899993896484, -10.788599967956543, -10.691900253295898, -9.954299926757812, -10.926300048828125, -11.141900062561035, -11.462400436401367, -10.723699569702148, -11.47819995880127, -8.8371000289917, -10.546600341796875, -11.018699645996094, -10.734600067138672, -11.48550033569336, -11.13070011138916, -9.37660026550293, -9.09179973602295, -11.541999816894531, -10.128199577331543, -11.499099731445312, -9.670299530029297, -8.361000061035156, -5.623499870300293, -8.21619987487793, -7.867700099945068, -6.46999979019165, -5.339000225067139, -7.911099910736084, -4.410399913787842, -7.264599800109863, -7.026400089263916, -5.5503997802734375, -7.557400226593018, -6.877200126647949, -6.616799831390381, -5.923699855804443, -4.583899974822998, -6.041500091552734, -4.813600063323975, -7.44290018081665, -6.590000152587891, -7.362299919128418, -6.8968000411987305, -6.237199783325195, -6.1184000968933105, -7.185400009155273, -5.897500038146973, -5.5432000160217285, -4.836100101470947, -5.728799819946289, -6.774600028991699, -6.871699810028076, -7.0243000984191895, -5.716700077056885, -4.652200222015381, -5.925300121307373, -5.727499961853027, -5.9832000732421875, -4.730599880218506, -5.906099796295166, -5.8155999183654785, -5.8144001960754395, -5.725299835205078, -5.605500221252441, -5.975200176239014, -5.83620023727417, -5.612500190734863, -5.187600135803223, -5.867099761962891, -5.656199932098389, -5.825200080871582, -5.875999927520752, -11.86340045928955, -11.236100196838379, -10.327199935913086, -10.768199920654297, -11.299500465393066, -11.971699714660645, -10.840800285339355, -12.026700019836426, -9.085200309753418, -11.380000114440918, -9.910300254821777, -11.381799697875977, -11.381999969482422, -10.351400375366211, -11.191900253295898, -10.526800155639648, -11.223299980163574, -10.065400123596191, -10.898699760437012, -11.071999549865723, -10.684200286865234, -10.910200119018555, -10.591099739074707, -11.441900253295898, -11.248700141906738, -11.49839973449707, -11.447400093078613, -10.921199798583984, -10.57699966430664, -11.455499649047852, -6.470200061798096, -6.628300189971924, -8.164899826049805, -8.290900230407715, -7.038000106811523, -8.266900062561035, -9.916999816894531, -8.57800006866455, -7.5625, -6.307600021362305, -6.857699871063232, -6.9328999519348145, -5.19320011138916, -6.084000110626221, -6.0524001121521, -6.910299777984619, -7.022500038146973, -6.5954999923706055, -7.7916998863220215, -5.587399959564209, -7.268799781799316, -6.038300037384033, -7.6819000244140625, -7.263500213623047, -6.378799915313721, -5.849599838256836, -7.325699806213379, -5.649799823760986, -4.536600112915039, -4.8643999099731445, -5.860199928283691, -6.8480000495910645, -4.6230998039245605, -6.467599868774414, -6.436399936676025, -6.056099891662598, -6.001699924468994, -6.565999984741211, -6.295100212097168, -6.360400199890137, -5.931000232696533, -5.061200141906738, -5.73769998550415, -6.40910005569458, -5.076099872589111, -5.809599876403809, -5.605999946594238, -4.951200008392334, -5.966800212860107, -5.058000087738037, -6.069399833679199, -5.802299976348877, -5.829699993133545, -5.862199783325195, -5.983799934387207, -5.986000061035156, -5.887199878692627, -5.861999988555908, -5.90910005569458, -11.815099716186523, -11.940999984741211, -11.144200325012207, -11.403599739074707, -11.217300415039062, -11.017399787902832, -11.68179988861084, -10.638500213623047, -11.445899963378906, -11.047100067138672, -10.55679988861084, -11.40310001373291, -11.260600090026855, -11.415599822998047, -10.805100440979004, -11.06879997253418, -10.915499687194824, -11.750900268554688, -11.44540023803711, -10.275300025939941, -11.759599685668945, -11.45680046081543, -12.109600067138672, -11.267900466918945, -11.141599655151367, -11.461799621582031, -11.468099594116211, -11.316800117492676, -8.761699676513672, -11.471400260925293, -8.953499794006348, -8.612799644470215, -7.575200080871582, -10.315600395202637, -9.490099906921387, -7.853600025177002, -6.301199913024902, -9.348699569702148, -7.095600128173828, -9.033100128173828, -5.590199947357178, -5.942999839782715, -8.042099952697754, -6.223299980163574, -7.051799774169922, -6.690899848937988, -6.143899917602539, -7.431000232696533, -8.633999824523926, -4.473899841308594, -5.730199813842773, -5.663000106811523, -6.672800064086914, -6.451900005340576, -6.999599933624268, -6.01140022277832, -8.028200149536133, -8.180299758911133, -8.417699813842773, -5.671299934387207, -6.832399845123291, -6.384799957275391, -5.825500011444092, -6.194699764251709, -6.627699851989746, -5.383999824523926, -4.9369001388549805, -6.703700065612793, -5.882400035858154, -6.033400058746338, -5.7434000968933105, -5.942999839782715, -4.822800159454346, -5.6992998123168945, -6.094799995422363, -5.809199810028076, -5.010200023651123, -5.089600086212158, -5.970399856567383, -6.017300128936768, -5.945099830627441, -5.611800193786621, -4.936999797821045, -4.986000061035156, -5.743800163269043, -5.9182000160217285, -5.84689998626709, -5.847700119018555, -5.963699817657471, -6.016499996185303]}, \"token.table\": {\"Topic\": [2, 4, 5, 1, 2, 3, 4, 5, 1, 3, 4, 5, 1, 2, 3, 4, 5, 1, 2, 3, 4, 5, 1, 2, 3, 4, 5, 1, 2, 3, 4, 5, 1, 2, 3, 4, 5, 1, 2, 3, 4, 5, 1, 1, 2, 3, 4, 5, 1, 2, 3, 4, 5, 1, 2, 3, 4, 5, 1, 2, 3, 1, 2, 3, 4, 5, 1, 2, 4, 5, 1, 2, 3, 4, 5, 1, 2, 3, 4, 5, 1, 2, 3, 4, 5, 1, 2, 3, 4, 5, 1, 2, 3, 4, 5, 1, 2, 3, 4, 5, 1, 1, 4, 5, 2, 3, 4, 5, 1, 2, 3, 4, 5, 1, 2, 3, 4, 5, 1, 2, 3, 4, 5, 1, 2, 3, 4, 5, 1, 2, 3, 4, 5, 1, 2, 3, 4, 5, 1, 2, 3, 4, 5, 1, 2, 3, 4, 5, 1, 2, 3, 5, 1, 2, 3, 4, 5, 1, 2, 3, 4, 5, 1, 2, 3, 4, 5, 1, 1, 2, 3, 4, 5, 1, 2, 3, 4, 5, 5, 1, 2, 3, 4, 5, 1, 2, 3, 4, 5, 1, 2, 3, 4, 5, 1, 2, 3, 4, 5, 1, 2, 3, 4, 5, 4, 5, 1, 2, 3, 4, 5, 1, 2, 3, 4, 5, 1, 3, 4, 5, 1, 2, 3, 4, 5, 1, 2, 3, 4, 5, 1, 2, 3, 4, 5, 1, 2, 3, 4, 5, 1, 2, 3, 4, 5, 2, 3, 4, 1, 2, 3, 4, 5, 1, 2, 3, 4, 5, 1, 2, 3, 4, 5, 1, 4, 5, 1, 2, 3, 4, 5, 2, 5, 1, 2, 3, 4, 5, 1, 2, 4, 5, 1, 2, 3, 4, 5, 1, 2, 3, 4, 5, 1, 2, 3, 4, 5, 1, 2, 3, 4, 5, 1, 2, 3, 4, 5, 2, 3, 4, 1, 2, 3, 4, 5, 1, 2, 3, 4, 5, 2, 3, 4, 1, 4, 5, 1, 2, 3, 4, 5, 1, 2, 3, 4, 5, 1, 2, 3, 4, 5, 1, 2, 3, 1, 2, 4, 5, 1, 2, 3, 4, 5, 1, 2, 3, 4, 5, 1, 2, 3, 4, 5, 1, 2, 3, 4, 5, 1, 2, 4, 5, 1, 2, 3, 4, 5, 1, 2, 3, 4, 5, 3, 4, 1, 3, 4, 5, 2, 1, 2, 5, 1, 2, 3, 4, 5, 1, 2, 3, 4, 5, 1, 2, 3, 4, 5, 1, 3, 4, 5, 1, 2, 3, 4, 5, 1, 2, 3, 4, 5, 1, 2, 3, 4, 5, 2, 3, 4, 5, 1, 3, 4, 5, 1, 2, 3, 4, 5, 1, 2, 3, 4, 5, 1, 2, 3, 4, 5, 1, 2, 3, 4, 5, 1, 2, 3, 1, 4, 5, 1, 2, 3, 4, 5, 1, 2, 3, 4, 5, 1, 2, 3, 4, 5, 1, 2, 3, 4, 5, 1, 2, 3, 4, 5, 2, 4, 1, 2, 3, 4, 5, 1, 2, 3, 4, 5, 1, 2, 3, 4, 5, 1, 2, 3, 4, 5, 2, 1, 2, 3, 4, 5, 1, 2, 3, 4, 5, 1, 2, 3, 4, 5, 1, 2, 3, 4, 5, 1, 2, 3, 4, 5, 1, 2, 3, 4, 5, 1, 2, 3, 4, 5, 1, 2, 3, 4, 5, 2, 3, 1, 4, 1, 1, 2, 3, 4, 5, 1, 2, 4, 5, 1, 2, 3, 4, 5, 2, 3, 1, 2, 3, 5, 2, 3, 4, 2, 1, 2, 3, 4, 5, 3, 1, 2, 3, 4, 5, 1, 2, 3, 4, 5, 2, 4, 1, 2, 3, 4, 5, 1, 2, 3, 4, 5, 1, 2, 3, 4, 5, 1, 2, 3, 4, 5, 1, 2, 3, 4, 5, 1, 2, 3, 4, 5, 2, 3, 4, 5, 1, 2, 3, 4, 5, 1, 2, 3, 4, 5, 1, 2, 3, 4, 5, 1, 2, 3, 4, 5, 1, 2, 3, 4, 5, 1, 2, 3, 4, 5, 1, 2, 3, 4, 5, 1, 2, 3, 4, 5, 1, 2, 3, 4, 5, 1, 2, 3, 4, 5, 1, 2, 3, 4, 5, 1, 2, 3, 4, 5, 1, 2, 3, 4, 5, 1, 2, 3, 4, 5, 1, 2, 3, 4, 5, 1, 2, 3, 4, 5, 2, 1, 2, 3, 4, 5, 1, 2, 3, 5, 1, 2, 3, 4, 5, 1, 2, 3, 4, 5, 1, 2, 3, 4, 5, 1, 2, 3, 4, 5, 1, 2, 3, 4, 5, 1, 2, 3, 4, 5, 1, 2, 3, 4, 5, 1, 2, 3, 4, 1, 2, 3, 4, 5, 1, 2, 3, 4, 5, 1, 2, 3, 4, 5, 1, 2, 3, 4, 5, 1, 2, 3, 4, 5, 1, 2, 3, 1, 2, 3, 4, 5, 1, 2, 3, 4, 5, 1, 2, 3, 4, 5, 1, 2, 3, 4, 5, 3, 5, 1, 2, 4, 1, 2, 3, 4, 5, 1, 2, 3, 4, 5, 1, 2, 3, 4, 5, 1, 2, 3, 4, 5, 1, 2, 3, 4, 5, 1, 4, 5, 1, 4, 5, 5, 1, 2, 3, 4, 5, 1, 2, 3, 4, 5, 2, 3, 4, 5, 1, 2, 3, 4, 5, 1, 2, 3, 4, 5, 1, 2, 3, 4, 5, 1, 2, 3, 4, 5, 1, 2, 3, 4, 5, 1, 2, 3, 4, 5, 1, 2, 3, 4, 5, 1, 2, 3, 4, 5, 1, 2, 3, 4, 5, 1, 2, 3, 4, 5, 1, 2, 3, 4, 5, 1, 2, 3, 4, 5, 1, 2, 3, 4, 5, 1, 2, 3, 4, 5, 1, 2, 3, 4, 5, 1, 2, 3, 4, 5, 1, 2, 3, 4, 5, 1, 2, 3, 4, 5, 1, 2, 3, 4, 5, 1, 2, 3, 4, 5, 1, 2, 3, 4, 5, 1, 2, 3, 4, 5, 1, 2, 3, 4, 5, 1, 2, 3, 4, 5, 1, 2, 3, 4, 5, 1, 2, 4, 5, 1, 2, 3, 4, 5, 1, 2, 3, 4, 5, 1, 2, 3, 4, 5, 1, 2, 3, 4, 5, 1, 2, 3, 4, 5, 1, 2, 3, 4, 5, 1, 2, 3, 4, 5, 1, 2, 3, 4, 5, 1, 2, 3, 4, 5, 1, 2, 3, 4, 5, 1, 2, 3, 4, 5, 2, 3, 1, 2, 3, 4, 5, 1, 2, 3, 4, 5, 3, 4, 5, 2, 2, 3, 4, 1, 2, 3, 4, 5, 1, 2, 3, 4, 5, 1, 2, 3, 4, 5, 1, 2, 3, 4, 5, 1, 2, 3, 4, 5, 2, 1, 2, 4, 1, 2, 3, 4, 5, 1, 2, 3, 4, 5, 1, 2, 3, 4, 5, 1, 2, 3, 4, 5, 1, 2, 3, 4, 5, 1, 2, 3, 4, 5, 1, 3, 4, 5, 1, 2, 3, 4, 5, 5, 1, 2, 3, 4, 5, 1, 2, 3, 4, 5, 1, 2, 3, 4, 5, 1, 2, 3, 4, 5, 1, 2, 3, 4, 5, 1, 2, 3, 4, 5, 1, 2, 3, 4, 5, 1, 2, 3, 4, 5, 1, 3, 5, 1, 3, 4, 1, 2, 3, 4, 5, 1, 2, 3, 4, 5, 1, 2, 3, 4, 5, 5, 1, 2, 3, 4, 5, 1, 2, 4, 1, 2, 3, 4, 5, 1, 2, 3, 4, 5, 1, 2, 3, 4, 5, 1, 4, 1, 2, 3, 4, 5, 1, 2, 3, 4, 5, 1, 2, 3, 4, 5, 1, 2, 3, 4, 5, 1, 2, 3, 4, 5, 1, 2, 3, 4, 5, 1, 2, 3, 4, 5, 1, 2, 3, 4, 5, 1, 2, 3, 4, 5, 1, 2, 3, 4, 5, 1, 2, 3, 4, 5, 1, 2, 3, 4, 5, 1, 2, 3, 4, 5, 1, 2, 3, 4, 5, 1, 2, 3, 4, 5, 1, 2, 3, 4, 5, 1, 2, 3, 4, 5, 5, 1, 2, 3, 4, 5, 1, 2, 3, 4, 5, 1, 2, 3, 4, 5, 1, 2, 3, 4, 5, 1, 2, 3, 4, 5, 1, 2, 3, 4, 5, 1, 2, 3, 4, 5, 1, 2, 3, 4, 5, 1, 2, 3, 4, 5, 1, 2, 3, 4, 5, 1, 2, 3, 4, 5, 1, 2, 3, 4, 5, 4, 1, 2, 3, 4, 5, 1, 2, 3, 4, 5, 1, 2, 3, 4, 5, 2, 1, 2, 3, 4, 5, 1, 2, 3, 4, 5, 1, 2, 3, 4, 5, 1, 2, 3, 4, 5, 3, 1, 2, 3, 4, 1, 2, 3, 4, 5, 4, 1, 4, 5, 4], \"Freq\": [0.3226783871650696, 0.3226783871650696, 0.3226783871650696, 0.15498773753643036, 0.20665030181407928, 0.18081901967525482, 0.15498773753643036, 0.3099754750728607, 0.32296451926231384, 0.32296451926231384, 0.32296451926231384, 0.32296451926231384, 0.22619573771953583, 0.22619573771953583, 0.22619573771953583, 0.22619573771953583, 0.45239147543907166, 0.2076915204524994, 0.16052347421646118, 0.2175815850496292, 0.15139418840408325, 0.2639888525009155, 0.09173454344272614, 0.32107090950012207, 0.2752036154270172, 0.1376018077135086, 0.18346908688545227, 0.1384938359260559, 0.1384938359260559, 0.1384938359260559, 0.1384938359260559, 0.2769876718521118, 0.23585185408592224, 0.23585185408592224, 0.23585185408592224, 0.23585185408592224, 0.23585185408592224, 0.15096823871135712, 0.29152488708496094, 0.2082320600748062, 0.13535083830356598, 0.2082320600748062, 0.4411422610282898, 0.15520568192005157, 0.26920631527900696, 0.20190474390983582, 0.20465174317359924, 0.1689407080411911, 0.1919238120317459, 0.3838476240634918, 0.1919238120317459, 0.1919238120317459, 0.1919238120317459, 0.1928025782108307, 0.1928025782108307, 0.16709557175636292, 0.30848413705825806, 0.14138855040073395, 0.3248862326145172, 0.3248862326145172, 0.3248862326145172, 0.1823052316904068, 0.292917400598526, 0.15157963335514069, 0.16796661913394928, 0.20688572525978088, 0.26719507575035095, 0.26719507575035095, 0.26719507575035095, 0.26719507575035095, 0.20762433111667633, 0.18473660945892334, 0.16021405160427094, 0.27955716848373413, 0.1667533963918686, 0.2526533305644989, 0.20394907891750336, 0.19025100767612457, 0.158288836479187, 0.19329503178596497, 0.2664390206336975, 0.2664390206336975, 0.2664390206336975, 0.2664390206336975, 0.2664390206336975, 0.1508396714925766, 0.16829219460487366, 0.23186925053596497, 0.2667742967605591, 0.1820048987865448, 0.15170253813266754, 0.34133070707321167, 0.18962816894054413, 0.18962816894054413, 0.15170253813266754, 0.197251096367836, 0.20436841249465942, 0.16064780950546265, 0.23690468072891235, 0.20233489573001862, 0.621185302734375, 0.32271942496299744, 0.32271942496299744, 0.32271942496299744, 0.3228197395801544, 0.3228197395801544, 0.3228197395801544, 0.3228197395801544, 0.23514102399349213, 0.23514102399349213, 0.23514102399349213, 0.23514102399349213, 0.23514102399349213, 0.25762122869491577, 0.23414906859397888, 0.2015170454978943, 0.1528552621603012, 0.15342774987220764, 0.2212740033864975, 0.17558585107326508, 0.19887785613536835, 0.24008677899837494, 0.16393984854221344, 0.18293103575706482, 0.24390804767608643, 0.21030846238136292, 0.18790873885154724, 0.1742200255393982, 0.2661021649837494, 0.2661021649837494, 0.2661021649837494, 0.2661021649837494, 0.2661021649837494, 0.21841086447238922, 0.14560724794864655, 0.36401811242103577, 0.14560724794864655, 0.14560724794864655, 0.15937858819961548, 0.2390678972005844, 0.17163848876953125, 0.3003673553466797, 0.12872886657714844, 0.3085607588291168, 0.1678137481212616, 0.16240039467811584, 0.20570717751979828, 0.14616036415100098, 0.32412558794021606, 0.32412558794021606, 0.32412558794021606, 0.32412558794021606, 0.18033824861049652, 0.25163474678993225, 0.15936867892742157, 0.2767982482910156, 0.13001129031181335, 0.2028915137052536, 0.1014457568526268, 0.1014457568526268, 0.2028915137052536, 0.3043372631072998, 0.1503688395023346, 0.20485030114650726, 0.1939540058374405, 0.1939540058374405, 0.2571524977684021, 0.6211128830909729, 0.1529528647661209, 0.1529528647661209, 0.3059057295322418, 0.1529528647661209, 0.1529528647661209, 0.2824607491493225, 0.20343899726867676, 0.18326322734355927, 0.12273592501878738, 0.2068016231060028, 0.43899035453796387, 0.21500395238399506, 0.13437746465206146, 0.13437746465206146, 0.21500395238399506, 0.29563042521476746, 0.27757716178894043, 0.27757716178894043, 0.27757716178894043, 0.27757716178894043, 0.27757716178894043, 0.13617460429668427, 0.30123475193977356, 0.2187046855688095, 0.14855411648750305, 0.1980721652507782, 0.1597180962562561, 0.2878253161907196, 0.1813465803861618, 0.18633776903152466, 0.18633776903152466, 0.2531346082687378, 0.18017227947711945, 0.20176316797733307, 0.12433376163244247, 0.24047787487506866, 0.3215300738811493, 0.3215300738811493, 0.191082164645195, 0.191082164645195, 0.191082164645195, 0.38216432929039, 0.191082164645195, 0.27727094292640686, 0.2283407747745514, 0.12721842527389526, 0.21203072369098663, 0.1549455225467682, 0.32273679971694946, 0.32273679971694946, 0.32273679971694946, 0.32273679971694946, 0.22356221079826355, 0.22141943871974945, 0.22499072551727295, 0.20142026245594025, 0.12856613099575043, 0.15711340308189392, 0.15711340308189392, 0.31422680616378784, 0.196391761302948, 0.15711340308189392, 0.21854907274246216, 0.1311294436454773, 0.17483925819396973, 0.17483925819396973, 0.305968701839447, 0.16328996419906616, 0.31491634249687195, 0.18661709129810333, 0.12829925119876862, 0.19828066229820251, 0.15898939967155457, 0.15898939967155457, 0.1766548901796341, 0.21198587119579315, 0.3003133237361908, 0.32384052872657776, 0.32384052872657776, 0.32384052872657776, 0.18298344314098358, 0.19314917922019958, 0.15248620510101318, 0.19992634654045105, 0.27108657360076904, 0.16694222390651703, 0.20867778360843658, 0.18085406720638275, 0.16694222390651703, 0.2921488881111145, 0.1561131328344345, 0.1561131328344345, 0.312226265668869, 0.1561131328344345, 0.20815084874629974, 0.26704901456832886, 0.26704901456832886, 0.26704901456832886, 0.18008171021938324, 0.20509305596351624, 0.21134589612483978, 0.1650748997926712, 0.23760780692100525, 0.43891409039497375, 0.43891409039497375, 0.16888847947120667, 0.26319169998168945, 0.175746887922287, 0.20660977065563202, 0.18603451550006866, 0.3227589428424835, 0.3227589428424835, 0.3227589428424835, 0.3227589428424835, 0.29416388273239136, 0.1740969866514206, 0.2021125853061676, 0.17809921503067017, 0.15208472311496735, 0.22150717675685883, 0.21935662627220154, 0.15914107859134674, 0.23727791011333466, 0.16272534430027008, 0.33101168274879456, 0.18914954364299774, 0.18914954364299774, 0.141862154006958, 0.141862154006958, 0.1850733608007431, 0.29142773151397705, 0.1532507836818695, 0.16664975881576538, 0.20349694788455963, 0.34120288491249084, 0.17060144245624542, 0.17060144245624542, 0.17060144245624542, 0.17060144245624542, 0.3234517574310303, 0.3234517574310303, 0.3234517574310303, 0.19115397334098816, 0.19115397334098816, 0.19115397334098816, 0.3823079466819763, 0.19115397334098816, 0.2165304571390152, 0.20614886283874512, 0.13792693614959717, 0.24174290895462036, 0.1972503513097763, 0.3410322964191437, 0.3410322964191437, 0.3410322964191437, 0.32466477155685425, 0.32466477155685425, 0.32466477155685425, 0.2837984561920166, 0.15084783732891083, 0.22243663668632507, 0.1534045785665512, 0.18664222955703735, 0.17917977273464203, 0.15678229928016663, 0.2725025713443756, 0.2165088802576065, 0.17544685304164886, 0.11441681534051895, 0.19614312052726746, 0.20431575179100037, 0.18797048926353455, 0.29421466588974, 0.3250844180583954, 0.3250844180583954, 0.3250844180583954, 0.3246232271194458, 0.3246232271194458, 0.3246232271194458, 0.3246232271194458, 0.1706627458333969, 0.3413254916667938, 0.1706627458333969, 0.1706627458333969, 0.1706627458333969, 0.1607207953929901, 0.25855085253715515, 0.1774916648864746, 0.21382854878902435, 0.19006980955600739, 0.16626311838626862, 0.18953995406627655, 0.20284099876880646, 0.2793220281600952, 0.16293784976005554, 0.20730365812778473, 0.13820244371891022, 0.13820244371891022, 0.34550610184669495, 0.13820244371891022, 0.266335129737854, 0.266335129737854, 0.266335129737854, 0.266335129737854, 0.1729610115289688, 0.13836881518363953, 0.2997990846633911, 0.1729610115289688, 0.2075532078742981, 0.18618667125701904, 0.15615656971931458, 0.20060113072395325, 0.2654661536216736, 0.1921927034854889, 0.3237360715866089, 0.3237360715866089, 0.32289767265319824, 0.32289767265319824, 0.32289767265319824, 0.32289767265319824, 0.6213861703872681, 0.32319021224975586, 0.32319021224975586, 0.32319021224975586, 0.23922410607337952, 0.1888190358877182, 0.18241839110851288, 0.14801491796970367, 0.2416243553161621, 0.33418190479278564, 0.16709095239639282, 0.16709095239639282, 0.16709095239639282, 0.14620457589626312, 0.19179962575435638, 0.11587894707918167, 0.2517370283603668, 0.1957954615354538, 0.2457432746887207, 0.3228774070739746, 0.3228774070739746, 0.3228774070739746, 0.3228774070739746, 0.2259068787097931, 0.2794724404811859, 0.17001239955425262, 0.13973622024059296, 0.18631495535373688, 0.1810968965291977, 0.16012777388095856, 0.2821299135684967, 0.2001597285270691, 0.17537803947925568, 0.1894267052412033, 0.18321599066257477, 0.18632134795188904, 0.24066507816314697, 0.20029544830322266, 0.26575756072998047, 0.26575756072998047, 0.26575756072998047, 0.26575756072998047, 0.22618107497692108, 0.22618107497692108, 0.22618107497692108, 0.22618107497692108, 0.2787550091743469, 0.1697680801153183, 0.1865352988243103, 0.15928857028484344, 0.20539842545986176, 0.3067595362663269, 0.15337976813316345, 0.15337976813316345, 0.15337976813316345, 0.15337976813316345, 0.2096773386001587, 0.2456761598587036, 0.19241474568843842, 0.2119930535554886, 0.1404164433479309, 0.24025958776474, 0.1788848638534546, 0.21406304836273193, 0.1586761176586151, 0.20882375538349152, 0.3247229754924774, 0.3247229754924774, 0.3247229754924774, 0.3241936266422272, 0.3241936266422272, 0.3241936266422272, 0.26623591780662537, 0.26623591780662537, 0.26623591780662537, 0.26623591780662537, 0.26623591780662537, 0.17964264750480652, 0.19408628344535828, 0.21936263144016266, 0.24463897943496704, 0.1624908447265625, 0.19104625284671783, 0.19104625284671783, 0.19104625284671783, 0.38209250569343567, 0.19104625284671783, 0.16861167550086975, 0.22025039792060852, 0.2613368630409241, 0.20722845196723938, 0.14256778359413147, 0.19639167189598083, 0.15872064232826233, 0.1682639718055725, 0.26219043135643005, 0.21397149562835693, 0.3414992690086365, 0.3414992690086365, 0.2204698771238327, 0.21610413491725922, 0.23720522224903107, 0.14503958821296692, 0.18117821216583252, 0.22730578482151031, 0.22730578482151031, 0.22730578482151031, 0.22730578482151031, 0.22730578482151031, 0.18755105137825012, 0.1646440476179123, 0.19470947980880737, 0.1889827400445938, 0.26343047618865967, 0.21405963599681854, 0.1677764654159546, 0.18223996460437775, 0.28637707233428955, 0.15042027831077576, 0.6199460029602051, 0.2738865315914154, 0.19096675515174866, 0.17589043080806732, 0.17840315401554108, 0.18091587722301483, 0.20399583876132965, 0.19266274571418762, 0.20021814107894897, 0.24932825565338135, 0.15299688279628754, 0.18720346689224243, 0.14976276457309723, 0.14976276457309723, 0.18720346689224243, 0.29952552914619446, 0.1353876292705536, 0.1353876292705536, 0.1353876292705536, 0.2707752585411072, 0.2707752585411072, 0.14841309189796448, 0.22261963784694672, 0.14841309189796448, 0.3710327446460724, 0.14841309189796448, 0.16070133447647095, 0.3214026689529419, 0.16070133447647095, 0.16070133447647095, 0.16070133447647095, 0.15677392482757568, 0.13202014565467834, 0.34655290842056274, 0.1980302333831787, 0.17327645421028137, 0.1821567267179489, 0.16827811300754547, 0.17695224285125732, 0.25328460335731506, 0.21858806908130646, 0.32484474778175354, 0.32484474778175354, 0.3236897587776184, 0.3236897587776184, 0.6205819845199585, 0.1519840806722641, 0.3397291302680969, 0.18774503469467163, 0.16986456513404846, 0.1519840806722641, 0.3243280351161957, 0.3243280351161957, 0.3243280351161957, 0.3243280351161957, 0.15909303724765778, 0.20290125906467438, 0.1383417695760727, 0.23518100380897522, 0.26515504717826843, 0.3251560628414154, 0.3251560628414154, 0.32448646426200867, 0.32448646426200867, 0.32448646426200867, 0.32448646426200867, 0.32393306493759155, 0.32393306493759155, 0.32393306493759155, 0.6204067468643188, 0.19114942848682404, 0.19114942848682404, 0.38229885697364807, 0.19114942848682404, 0.19114942848682404, 0.4398843050003052, 0.18979306519031525, 0.20904742181301117, 0.2668105363845825, 0.1402818262577057, 0.19804492592811584, 0.19725997745990753, 0.15984860062599182, 0.22191746532917023, 0.20151126384735107, 0.22021694481372833, 0.3227553963661194, 0.3227553963661194, 0.19143912196159363, 0.38287824392318726, 0.19143912196159363, 0.19143912196159363, 0.19143912196159363, 0.2175150066614151, 0.13841864466667175, 0.2768372893333435, 0.20762795209884644, 0.1581927239894867, 0.19177091121673584, 0.3835418224334717, 0.19177091121673584, 0.19177091121673584, 0.19177091121673584, 0.3036474287509918, 0.22267477214336395, 0.14170213043689728, 0.16194528341293335, 0.16194528341293335, 0.23360633850097656, 0.19113245606422424, 0.2845749855041504, 0.1061846986413002, 0.18263769149780273, 0.18326511979103088, 0.26618507504463196, 0.16073252260684967, 0.217815101146698, 0.1718485951423645, 0.2264108806848526, 0.2264108806848526, 0.2264108806848526, 0.2264108806848526, 0.1701703667640686, 0.1701703667640686, 0.3403407335281372, 0.1701703667640686, 0.1701703667640686, 0.15320363640785217, 0.1910071223974228, 0.2626347839832306, 0.20095540583133698, 0.1929967850446701, 0.28599047660827637, 0.17144836485385895, 0.20427890121936798, 0.1561274528503418, 0.18239188194274902, 0.18660466372966766, 0.18119582533836365, 0.2528628408908844, 0.20688778162002563, 0.17173036932945251, 0.14233973622322083, 0.21516470611095428, 0.28136923909187317, 0.21516470611095428, 0.1489601880311966, 0.19025610387325287, 0.1938234120607376, 0.2509002387523651, 0.19025610387325287, 0.17479780316352844, 0.15453241765499115, 0.21386182308197021, 0.2345581352710724, 0.23869739472866058, 0.15867167711257935, 0.22717370092868805, 0.19232319295406342, 0.16392648220062256, 0.15876343846321106, 0.2568611800670624, 0.12721408903598785, 0.2852870523929596, 0.23616477847099304, 0.16437068581581116, 0.18767227232456207, 0.2793711721897125, 0.2793711721897125, 0.2793711721897125, 0.2793711721897125, 0.2793711721897125, 0.306494802236557, 0.1532474011182785, 0.1532474011182785, 0.1532474011182785, 0.1532474011182785, 0.19063809514045715, 0.25553616881370544, 0.18928605318069458, 0.19199013710021973, 0.1730615347623825, 0.19944453239440918, 0.19944453239440918, 0.19944453239440918, 0.19944453239440918, 0.29916679859161377, 0.3098007142543793, 0.18588043749332428, 0.16522705554962158, 0.14457367360591888, 0.20653381943702698, 0.27217742800712585, 0.2514401078224182, 0.17626728117465973, 0.13997696340084076, 0.1607142835855484, 0.27102598547935486, 0.1580984890460968, 0.20609267055988312, 0.1877419501543045, 0.1778607964515686, 0.44123178720474243, 0.21439200639724731, 0.17084363102912903, 0.187593013048172, 0.19764263927936554, 0.22946645319461823, 0.32477834820747375, 0.32477834820747375, 0.32477834820747375, 0.32477834820747375, 0.12435231357812881, 0.12435231357812881, 0.24870462715625763, 0.37305694818496704, 0.12435231357812881, 0.3323330581188202, 0.20770816504955292, 0.20770816504955292, 0.12462489306926727, 0.12462489306926727, 0.2776050269603729, 0.2776050269603729, 0.2776050269603729, 0.2776050269603729, 0.2776050269603729, 0.30195721983909607, 0.211370050907135, 0.18117432296276093, 0.12078288197517395, 0.15097860991954803, 0.2428547441959381, 0.2622375190258026, 0.1653236448764801, 0.20864984393119812, 0.12085729092359543, 0.1665671020746231, 0.1665671020746231, 0.1665671020746231, 0.3331342041492462, 0.1665671020746231, 0.19574403762817383, 0.18297812342643738, 0.19999933242797852, 0.18085046112537384, 0.24255238473415375, 0.2788110673427582, 0.2788110673427582, 0.2788110673427582, 0.2788110673427582, 0.18152937293052673, 0.13336852192878723, 0.1741200089454651, 0.3074885308742523, 0.20375744998455048, 0.14407478272914886, 0.1926393210887909, 0.19749577343463898, 0.19102050364017487, 0.2751990258693695, 0.15358629822731018, 0.17769576609134674, 0.22859355807304382, 0.22323589026927948, 0.21787823736667633, 0.2444279044866562, 0.17204876244068146, 0.2729049324989319, 0.15128426253795624, 0.1589967906475067, 0.22092393040657043, 0.1667550802230835, 0.16781722009181976, 0.20180551707744598, 0.24216660857200623, 0.32492321729660034, 0.32492321729660034, 0.32492321729660034, 0.23555974662303925, 0.18969856202602386, 0.2668287456035614, 0.12716057896614075, 0.17927555739879608, 0.2205813229084015, 0.1923016607761383, 0.28279656171798706, 0.15836606919765472, 0.14139828085899353, 0.20099599659442902, 0.20168671011924744, 0.25694334506988525, 0.19063538312911987, 0.1491928994655609, 0.16928565502166748, 0.20824822783470154, 0.20959176123142242, 0.20354583859443665, 0.20891998708248138, 0.34011363983154297, 0.34011363983154297, 0.3418946862220764, 0.3418946862220764, 0.3418946862220764, 0.09690660983324051, 0.16958656907081604, 0.2987953722476959, 0.209964320063591, 0.218039870262146, 0.2679448127746582, 0.19138914346694946, 0.18564747273921967, 0.16842244565486908, 0.18564747273921967, 0.2787913680076599, 0.2787913680076599, 0.2787913680076599, 0.2787913680076599, 0.2787913680076599, 0.17180757224559784, 0.16531065106391907, 0.19418586790561676, 0.25410196185112, 0.21512040495872498, 0.27442675828933716, 0.14849120378494263, 0.18420426547527313, 0.21615807712078094, 0.17668573558330536, 0.32426178455352783, 0.32426178455352783, 0.32426178455352783, 0.3396605849266052, 0.3396605849266052, 0.3396605849266052, 0.4386097490787506, 0.152591735124588, 0.152591735124588, 0.152591735124588, 0.305183470249176, 0.152591735124588, 0.16503764688968658, 0.16503764688968658, 0.33007529377937317, 0.16503764688968658, 0.16503764688968658, 0.2775205075740814, 0.2775205075740814, 0.2775205075740814, 0.2775205075740814, 0.22709240019321442, 0.22709240019321442, 0.22709240019321442, 0.22709240019321442, 0.22709240019321442, 0.257282555103302, 0.1719592660665512, 0.2100265771150589, 0.1837732493877411, 0.17720992863178253, 0.23517827689647675, 0.20117396116256714, 0.18537840247154236, 0.1458895057439804, 0.23232629895210266, 0.18980486690998077, 0.21032431721687317, 0.15133090317249298, 0.31805139780044556, 0.12824653089046478, 0.3225420117378235, 0.19921712577342987, 0.1802440732717514, 0.16127100586891174, 0.14229795336723328, 0.11661075055599213, 0.2998562157154083, 0.23322150111198425, 0.1874101310968399, 0.16242212057113647, 0.19089534878730774, 0.19089534878730774, 0.19089534878730774, 0.3817906975746155, 0.19089534878730774, 0.2672840356826782, 0.16546154022216797, 0.1586081087589264, 0.21245653927326202, 0.19581247866153717, 0.20599353313446045, 0.16708363592624664, 0.20027148723602295, 0.25634750723838806, 0.17051686346530914, 0.16554810106754303, 0.1951102614402771, 0.2335410714149475, 0.277884304523468, 0.12711729109287262, 0.1716056615114212, 0.20716360211372375, 0.1932496279478073, 0.18551963567733765, 0.2427215278148651, 0.14217211306095123, 0.18008467555046082, 0.25827935338020325, 0.2179972380399704, 0.20141050219535828, 0.1759544014930725, 0.15835896134376526, 0.19354982674121857, 0.3167179226875305, 0.15835896134376526, 0.21555688977241516, 0.17725546658039093, 0.21021249890327454, 0.18527203798294067, 0.21110323071479797, 0.17020678520202637, 0.34041357040405273, 0.17020678520202637, 0.17020678520202637, 0.17020678520202637, 0.2262902408838272, 0.2262902408838272, 0.2262902408838272, 0.2262902408838272, 0.2262902408838272, 0.2850770056247711, 0.14742769300937653, 0.2339286208152771, 0.15344513952732086, 0.1797715127468109, 0.1586104929447174, 0.3172209858894348, 0.2379157543182373, 0.1586104929447174, 0.1586104929447174, 0.28629377484321594, 0.16495072841644287, 0.20855838060379028, 0.15357480943202972, 0.18770255148410797, 0.23039667308330536, 0.1934194266796112, 0.2285003960132599, 0.1829899400472641, 0.16402725875377655, 0.16501213610172272, 0.19251416623592377, 0.17417947947978973, 0.19251416623592377, 0.2750202417373657, 0.2346021682024002, 0.2346021682024002, 0.2346021682024002, 0.2346021682024002, 0.2346021682024002, 0.18182837963104248, 0.18182837963104248, 0.36365675926208496, 0.18182837963104248, 0.18182837963104248, 0.18698832392692566, 0.18915003538131714, 0.1437540352344513, 0.2161714732646942, 0.26372918486595154, 0.17726171016693115, 0.3545234203338623, 0.17726171016693115, 0.08863085508346558, 0.17726171016693115, 0.23559534549713135, 0.4711906909942627, 0.23559534549713135, 0.23559534549713135, 0.19941043853759766, 0.18943990767002106, 0.13958729803562164, 0.19941043853759766, 0.2741893529891968, 0.20666468143463135, 0.12744320929050446, 0.29794156551361084, 0.17997048795223236, 0.18858151137828827, 0.12481055408716202, 0.37443163990974426, 0.12481055408716202, 0.12481055408716202, 0.24962110817432404, 0.13578644394874573, 0.13578644394874573, 0.13578644394874573, 0.4073593318462372, 0.13578644394874573, 0.23730826377868652, 0.15161360800266266, 0.224124476313591, 0.28345152735710144, 0.09887844324111938, 0.26739180088043213, 0.26739180088043213, 0.26739180088043213, 0.26739180088043213, 0.26739180088043213, 0.19265994429588318, 0.20941297709941864, 0.29317817091941833, 0.15915386378765106, 0.15077733993530273, 0.1445930153131485, 0.2620748281478882, 0.2756304144859314, 0.19429685175418854, 0.12200035154819489, 0.30004844069480896, 0.11686097085475922, 0.18950428068637848, 0.15160343050956726, 0.24003875255584717, 0.26373517513275146, 0.13186758756637573, 0.34165695309638977, 0.11987963318824768, 0.14385555684566498, 0.22146423161029816, 0.21632054448127747, 0.21717782318592072, 0.16774128377437592, 0.17717137932777405, 0.32458996772766113, 0.32458996772766113, 0.19366945326328278, 0.12911297380924225, 0.15063180029392242, 0.19366945326328278, 0.322782427072525, 0.1387009620666504, 0.1387009620666504, 0.1387009620666504, 0.2774019241333008, 0.1387009620666504, 0.3229668438434601, 0.3229668438434601, 0.3229668438434601, 0.6200292706489563, 0.32439693808555603, 0.32439693808555603, 0.32439693808555603, 0.19100861251354218, 0.19100861251354218, 0.19100861251354218, 0.38201722502708435, 0.19100861251354218, 0.2010122537612915, 0.14619073271751404, 0.18273842334747314, 0.1644645780324936, 0.3106553256511688, 0.2349591851234436, 0.3524387776851654, 0.1174795925617218, 0.2349591851234436, 0.2349591851234436, 0.13704673945903778, 0.20557010173797607, 0.1627429872751236, 0.2826588749885559, 0.21413551270961761, 0.23410877585411072, 0.2770287096500397, 0.20159366726875305, 0.16517674922943115, 0.12355741113424301, 0.6209049224853516, 0.32343876361846924, 0.32343876361846924, 0.32343876361846924, 0.18439818918704987, 0.30733031034469604, 0.14342081546783447, 0.18439818918704987, 0.17415383458137512, 0.14698876440525055, 0.21938620507717133, 0.17550896108150482, 0.32030385732650757, 0.13821330666542053, 0.18541255593299866, 0.15344487130641937, 0.14705133438110352, 0.21098670363426208, 0.30688974261283875, 0.31530293822288513, 0.18392671644687653, 0.15765146911144257, 0.15765146911144257, 0.15765146911144257, 0.1433676928281784, 0.21229447424411774, 0.27295005321502686, 0.14061063528060913, 0.22883690893650055, 0.18880745768547058, 0.12137622386217117, 0.20229370892047882, 0.3236699402332306, 0.17532120645046234, 0.38388240337371826, 0.19194120168685913, 0.19194120168685913, 0.19194120168685913, 0.20936916768550873, 0.26387161016464233, 0.1880999207496643, 0.18876458704471588, 0.1502140611410141, 0.6183773875236511, 0.22730886936187744, 0.17180320620536804, 0.1823757141828537, 0.26431262493133545, 0.15594445168972015, 0.16857406497001648, 0.14353831112384796, 0.22532176971435547, 0.2520265579223633, 0.21196936070919037, 0.13020163774490356, 0.3424869179725647, 0.14152352511882782, 0.18398058414459229, 0.20379386842250824, 0.12734022736549377, 0.30502423644065857, 0.18212613463401794, 0.19841383397579193, 0.18508753180503845, 0.1748463362455368, 0.1748463362455368, 0.3496926724910736, 0.1748463362455368, 0.1748463362455368, 0.17513103783130646, 0.30161455273628235, 0.18486054241657257, 0.17513103783130646, 0.16540153324604034, 0.148313507437706, 0.30775052309036255, 0.17797620594501495, 0.19651539623737335, 0.17426836490631104, 0.3129833936691284, 0.18779003620147705, 0.20567479729652405, 0.14307811856269836, 0.14307811856269836, 0.32405006885528564, 0.32405006885528564, 0.32405006885528564, 0.32475969195365906, 0.32475969195365906, 0.32475969195365906, 0.18001016974449158, 0.26391321420669556, 0.1861122101545334, 0.21052037179470062, 0.15865303575992584, 0.15619660913944244, 0.26683586835861206, 0.15402720868587494, 0.23863370716571808, 0.18439877033233643, 0.1524125635623932, 0.1524125635623932, 0.1524125635623932, 0.1524125635623932, 0.3048251271247864, 0.6171502470970154, 0.21900874376296997, 0.17110058665275574, 0.17110058665275574, 0.1882106363773346, 0.2515178620815277, 0.34053823351860046, 0.34053823351860046, 0.34053823351860046, 0.2479407787322998, 0.2081160992383957, 0.13617472350597382, 0.2068314254283905, 0.20040808618068695, 0.17357899248600006, 0.16428011655807495, 0.1673797369003296, 0.2851654887199402, 0.20767486095428467, 0.32436603307724, 0.32436603307724, 0.32436603307724, 0.32436603307724, 0.32436603307724, 0.3239973485469818, 0.3239973485469818, 0.13848650455474854, 0.2077297419309616, 0.3231351673603058, 0.18464866280555725, 0.13848650455474854, 0.20667576789855957, 0.11810044199228287, 0.32477620244026184, 0.20667576789855957, 0.14762555062770844, 0.21343712508678436, 0.27319949865341187, 0.1984965205192566, 0.14727161824703217, 0.16648095846176147, 0.2135801911354065, 0.16494311392307281, 0.16705778241157532, 0.2706758975982666, 0.18186035752296448, 0.18194352090358734, 0.20041033625602722, 0.23552754521369934, 0.1804298460483551, 0.20192401111125946, 0.19964437186717987, 0.2480430006980896, 0.17423507571220398, 0.18391481041908264, 0.19480450451374054, 0.1936875730752945, 0.17356418073177338, 0.18614129722118378, 0.19620299339294434, 0.2515422999858856, 0.11507701128721237, 0.23015402257442474, 0.11507701128721237, 0.3452310562133789, 0.11507701128721237, 0.19965289533138275, 0.251834899187088, 0.25864124298095703, 0.14406771957874298, 0.1474708914756775, 0.21593864262104034, 0.15636935830116272, 0.14892320334911346, 0.2904002368450165, 0.19360016286373138, 0.2547902762889862, 0.1273951381444931, 0.3821854293346405, 0.1273951381444931, 0.1273951381444931, 0.1527501791715622, 0.1527501791715622, 0.3055003583431244, 0.1527501791715622, 0.1527501791715622, 0.3119899332523346, 0.1772337108850479, 0.1699099987745285, 0.14793887734413147, 0.19481061398983002, 0.15309779345989227, 0.15309779345989227, 0.30619558691978455, 0.15309779345989227, 0.15309779345989227, 0.17186187207698822, 0.18683739006519318, 0.22249338030815125, 0.19040298461914062, 0.2281983345746994, 0.14250406622886658, 0.19000542163848877, 0.17813009023666382, 0.3206341564655304, 0.17813009023666382, 0.1669890135526657, 0.1669890135526657, 0.3061465322971344, 0.1391575038433075, 0.22265201807022095, 0.6167827248573303, 0.24888324737548828, 0.19393499195575714, 0.18854790925979614, 0.18639308214187622, 0.18316082656383514, 0.17422924935817719, 0.17422924935817719, 0.17422924935817719, 0.17422924935817719, 0.34845849871635437, 0.19087006151676178, 0.19087006151676178, 0.19087006151676178, 0.19087006151676178, 0.38174012303352356, 0.1868402510881424, 0.1868402510881424, 0.20913368463516235, 0.19427138566970825, 0.22187279164791107, 0.17973801493644714, 0.16139739751815796, 0.15406115353107452, 0.22375547885894775, 0.28244543075561523, 0.2682448923587799, 0.2254398614168167, 0.19119583070278168, 0.16265913844108582, 0.15124446153640747, 0.18090277910232544, 0.23919367790222168, 0.2572839558124542, 0.09849151223897934, 0.2241184413433075, 0.19705729186534882, 0.16570726037025452, 0.23736445605754852, 0.2776716351509094, 0.12092151492834091, 0.1980493813753128, 0.2111281156539917, 0.24569334089756012, 0.13452410697937012, 0.2111281156539917, 0.2657460868358612, 0.1898186355829239, 0.22066417336463928, 0.1589731127023697, 0.163718581199646, 0.19204911589622498, 0.1536392867565155, 0.1824466586112976, 0.1824466586112976, 0.28807365894317627, 0.2037561684846878, 0.2037561684846878, 0.4075123369693756, 0.2037561684846878, 0.2037561684846878, 0.6182222366333008, 0.20293933153152466, 0.24598707258701324, 0.1352928876876831, 0.15374192595481873, 0.2613612711429596, 0.2961609363555908, 0.1703580617904663, 0.1755998432636261, 0.15201179683208466, 0.20705056190490723, 0.2291761189699173, 0.1527840793132782, 0.26078662276268005, 0.17649196088314056, 0.18176037073135376, 0.4405626058578491, 0.16188117861747742, 0.16188117861747742, 0.19425742328166962, 0.19425742328166962, 0.2805940508842468, 0.2410612851381302, 0.18802779912948608, 0.1671358197927475, 0.25713202357292175, 0.1478509157896042, 0.1709585040807724, 0.21447522938251495, 0.2642086148262024, 0.16474184393882751, 0.1865001916885376, 0.1918724626302719, 0.3837449252605438, 0.1918724626302719, 0.1918724626302719, 0.1918724626302719, 0.6200035214424133, 0.3240811824798584, 0.3240811824798584, 0.3240811824798584, 0.3240811824798584, 0.26080185174942017, 0.13040092587471008, 0.13040092587471008, 0.3586025536060333, 0.163001149892807, 0.6188203692436218, 0.3239940106868744, 0.3239940106868744, 0.3239940106868744, 0.6180460453033447], \"Term\": [\"accounting\", \"accounting\", \"accounting\", \"action\", \"action\", \"action\", \"action\", \"action\", \"allergens\", \"allergens\", \"allergens\", \"allergens\", \"alter\", \"alter\", \"alter\", \"alter\", \"alter\", \"amazing\", \"amazing\", \"amazing\", \"amazing\", \"amazing\", \"amazon\", \"amazon\", \"amazon\", \"amazon\", \"amazon\", \"amex\", \"amex\", \"amex\", \"amex\", \"amex\", \"amis\", \"amis\", \"amis\", \"amis\", \"amis\", \"appetizer\", \"appetizer\", \"appetizer\", \"appetizer\", \"appetizer\", \"archie\", \"area\", \"area\", \"area\", \"area\", \"area\", \"arial\", \"arial\", \"arial\", \"arial\", \"arial\", \"art\", \"art\", \"art\", \"art\", \"art\", \"aryon\", \"aryon\", \"aryon\", \"ask\", \"ask\", \"ask\", \"ask\", \"ask\", \"authetic\", \"authetic\", \"authetic\", \"authetic\", \"away\", \"away\", \"away\", \"away\", \"away\", \"awesome\", \"awesome\", \"awesome\", \"awesome\", \"awesome\", \"axle\", \"axle\", \"axle\", \"axle\", \"axle\", \"bad\", \"bad\", \"bad\", \"bad\", \"bad\", \"balloons\", \"balloons\", \"balloons\", \"balloons\", \"balloons\", \"bar\", \"bar\", \"bar\", \"bar\", \"bar\", \"bate\", \"beause\", \"beause\", \"beause\", \"bedmate\", \"bedmate\", \"bedmate\", \"bedmate\", \"bennett\", \"bennett\", \"bennett\", \"bennett\", \"bennett\", \"best\", \"best\", \"best\", \"best\", \"best\", \"better\", \"better\", \"better\", \"better\", \"better\", \"bit\", \"bit\", \"bit\", \"bit\", \"bit\", \"blower\", \"blower\", \"blower\", \"blower\", \"blower\", \"bodyflo\", \"bodyflo\", \"bodyflo\", \"bodyflo\", \"bodyflo\", \"boyfriend\", \"boyfriend\", \"boyfriend\", \"boyfriend\", \"boyfriend\", \"brunch\", \"brunch\", \"brunch\", \"brunch\", \"brunch\", \"brusselsprouts\", \"brusselsprouts\", \"brusselsprouts\", \"brusselsprouts\", \"buffet\", \"buffet\", \"buffet\", \"buffet\", \"buffet\", \"bull\", \"bull\", \"bull\", \"bull\", \"bull\", \"business\", \"business\", \"business\", \"business\", \"business\", \"cages\", \"camping\", \"camping\", \"camping\", \"camping\", \"camping\", \"car\", \"car\", \"car\", \"car\", \"car\", \"cassada\", \"cats\", \"cats\", \"cats\", \"cats\", \"cats\", \"cellphone\", \"cellphone\", \"cellphone\", \"cellphone\", \"cellphone\", \"cheap\", \"cheap\", \"cheap\", \"cheap\", \"cheap\", \"check\", \"check\", \"check\", \"check\", \"check\", \"chicken\", \"chicken\", \"chicken\", \"chicken\", \"chicken\", \"chitchatting\", \"chitchatting\", \"chompies\", \"chompies\", \"chompies\", \"chompies\", \"chompies\", \"coffee\", \"coffee\", \"coffee\", \"coffee\", \"coffee\", \"collars\", \"collars\", \"collars\", \"collars\", \"come\", \"come\", \"come\", \"come\", \"come\", \"confirm\", \"confirm\", \"confirm\", \"confirm\", \"confirm\", \"consisted\", \"consisted\", \"consisted\", \"consisted\", \"consisted\", \"continue\", \"continue\", \"continue\", \"continue\", \"continue\", \"control\", \"control\", \"control\", \"control\", \"control\", \"cos\", \"cos\", \"cos\", \"course\", \"course\", \"course\", \"course\", \"course\", \"cozy\", \"cozy\", \"cozy\", \"cozy\", \"cozy\", \"crack\", \"crack\", \"crack\", \"crack\", \"crack\", \"cranny\", \"cranny\", \"cranny\", \"customer\", \"customer\", \"customer\", \"customer\", \"customer\", \"dajuan\", \"dajuan\", \"day\", \"day\", \"day\", \"day\", \"day\", \"debut\", \"debut\", \"debut\", \"debut\", \"decided\", \"decided\", \"decided\", \"decided\", \"decided\", \"definitely\", \"definitely\", \"definitely\", \"definitely\", \"definitely\", \"degrees\", \"degrees\", \"degrees\", \"degrees\", \"degrees\", \"delicious\", \"delicious\", \"delicious\", \"delicious\", \"delicious\", \"dennys\", \"dennys\", \"dennys\", \"dennys\", \"dennys\", \"deptartment\", \"deptartment\", \"deptartment\", \"dgfwco\", \"dgfwco\", \"dgfwco\", \"dgfwco\", \"dgfwco\", \"different\", \"different\", \"different\", \"different\", \"different\", \"dimmi\", \"dimmi\", \"dimmi\", \"dinned\", \"dinned\", \"dinned\", \"disappointed\", \"disappointed\", \"disappointed\", \"disappointed\", \"disappointed\", \"dog\", \"dog\", \"dog\", \"dog\", \"dog\", \"dogs\", \"dogs\", \"dogs\", \"dogs\", \"dogs\", \"dolci\", \"dolci\", \"dolci\", \"dollarama\", \"dollarama\", \"dollarama\", \"dollarama\", \"donair\", \"donair\", \"donair\", \"donair\", \"donair\", \"drinks\", \"drinks\", \"drinks\", \"drinks\", \"drinks\", \"drive\", \"drive\", \"drive\", \"drive\", \"drive\", \"driven\", \"driven\", \"driven\", \"driven\", \"driven\", \"dryed\", \"dryed\", \"dryed\", \"dryed\", \"east\", \"east\", \"east\", \"east\", \"east\", \"eat\", \"eat\", \"eat\", \"eat\", \"eat\", \"engages\", \"engages\", \"ernie\", \"ernie\", \"ernie\", \"ernie\", \"everrrrr\", \"existant\", \"existant\", \"existant\", \"experience\", \"experience\", \"experience\", \"experience\", \"experience\", \"express\", \"express\", \"express\", \"express\", \"express\", \"family\", \"family\", \"family\", \"family\", \"family\", \"fanny\", \"fanny\", \"fanny\", \"fanny\", \"fast\", \"fast\", \"fast\", \"fast\", \"fast\", \"favorite\", \"favorite\", \"favorite\", \"favorite\", \"favorite\", \"feel\", \"feel\", \"feel\", \"feel\", \"feel\", \"fences\", \"fences\", \"fences\", \"fences\", \"fingernail\", \"fingernail\", \"fingernail\", \"fingernail\", \"flavor\", \"flavor\", \"flavor\", \"flavor\", \"flavor\", \"flush\", \"flush\", \"flush\", \"flush\", \"flush\", \"food\", \"food\", \"food\", \"food\", \"food\", \"friendly\", \"friendly\", \"friendly\", \"friendly\", \"friendly\", \"froide\", \"froide\", \"froide\", \"gasping\", \"gasping\", \"gasping\", \"glitches\", \"glitches\", \"glitches\", \"glitches\", \"glitches\", \"going\", \"going\", \"going\", \"going\", \"going\", \"goldsmith\", \"goldsmith\", \"goldsmith\", \"goldsmith\", \"goldsmith\", \"good\", \"good\", \"good\", \"good\", \"good\", \"got\", \"got\", \"got\", \"got\", \"got\", \"grandkids\", \"grandkids\", \"great\", \"great\", \"great\", \"great\", \"great\", \"hail\", \"hail\", \"hail\", \"hail\", \"hail\", \"happy\", \"happy\", \"happy\", \"happy\", \"happy\", \"help\", \"help\", \"help\", \"help\", \"help\", \"heyyy\", \"high\", \"high\", \"high\", \"high\", \"high\", \"highly\", \"highly\", \"highly\", \"highly\", \"highly\", \"hill\", \"hill\", \"hill\", \"hill\", \"hill\", \"hiram\", \"hiram\", \"hiram\", \"hiram\", \"hiram\", \"hk\", \"hk\", \"hk\", \"hk\", \"hk\", \"hooters\", \"hooters\", \"hooters\", \"hooters\", \"hooters\", \"hostess\", \"hostess\", \"hostess\", \"hostess\", \"hostess\", \"hour\", \"hour\", \"hour\", \"hour\", \"hour\", \"imcomplete\", \"imcomplete\", \"imperious\", \"imperious\", \"incred\", \"incredible\", \"incredible\", \"incredible\", \"incredible\", \"incredible\", \"indianapolis\", \"indianapolis\", \"indianapolis\", \"indianapolis\", \"inside\", \"inside\", \"inside\", \"inside\", \"inside\", \"intelligently\", \"intelligently\", \"interpret\", \"interpret\", \"interpret\", \"interpret\", \"irritations\", \"irritations\", \"irritations\", \"jamenson\", \"katrina\", \"katrina\", \"katrina\", \"katrina\", \"katrina\", \"kiddo\", \"kids\", \"kids\", \"kids\", \"kids\", \"kids\", \"know\", \"know\", \"know\", \"know\", \"know\", \"krung\", \"krung\", \"labelled\", \"labelled\", \"labelled\", \"labelled\", \"labelled\", \"lady\", \"lady\", \"lady\", \"lady\", \"lady\", \"leann\", \"leann\", \"leann\", \"leann\", \"leann\", \"les\", \"les\", \"les\", \"les\", \"les\", \"life\", \"life\", \"life\", \"life\", \"life\", \"like\", \"like\", \"like\", \"like\", \"like\", \"limits\", \"limits\", \"limits\", \"limits\", \"linda\", \"linda\", \"linda\", \"linda\", \"linda\", \"line\", \"line\", \"line\", \"line\", \"line\", \"little\", \"little\", \"little\", \"little\", \"little\", \"ll\", \"ll\", \"ll\", \"ll\", \"ll\", \"local\", \"local\", \"local\", \"local\", \"local\", \"location\", \"location\", \"location\", \"location\", \"location\", \"long\", \"long\", \"long\", \"long\", \"long\", \"lot\", \"lot\", \"lot\", \"lot\", \"lot\", \"love\", \"love\", \"love\", \"love\", \"love\", \"luci\", \"luci\", \"luci\", \"luci\", \"luci\", \"luna\", \"luna\", \"luna\", \"luna\", \"luna\", \"lunch\", \"lunch\", \"lunch\", \"lunch\", \"lunch\", \"manageable\", \"manageable\", \"manageable\", \"manageable\", \"manageable\", \"mark\", \"mark\", \"mark\", \"mark\", \"mark\", \"maybe\", \"maybe\", \"maybe\", \"maybe\", \"maybe\", \"meal\", \"meal\", \"meal\", \"meal\", \"meal\", \"melinda\", \"menu\", \"menu\", \"menu\", \"menu\", \"menu\", \"menudazo\", \"menudazo\", \"menudazo\", \"menudazo\", \"methods\", \"methods\", \"methods\", \"methods\", \"methods\", \"metro\", \"metro\", \"metro\", \"metro\", \"metro\", \"midst\", \"midst\", \"midst\", \"midst\", \"midst\", \"minimum\", \"minimum\", \"minimum\", \"minimum\", \"minimum\", \"minutes\", \"minutes\", \"minutes\", \"minutes\", \"minutes\", \"mmmm\", \"mmmm\", \"mmmm\", \"mmmm\", \"mmmm\", \"money\", \"money\", \"money\", \"money\", \"money\", \"morilee\", \"morilee\", \"morilee\", \"morilee\", \"music\", \"music\", \"music\", \"music\", \"music\", \"need\", \"need\", \"need\", \"need\", \"need\", \"new\", \"new\", \"new\", \"new\", \"new\", \"nice\", \"nice\", \"nice\", \"nice\", \"nice\", \"night\", \"night\", \"night\", \"night\", \"night\", \"oho\", \"oho\", \"oho\", \"old\", \"old\", \"old\", \"old\", \"old\", \"opened\", \"opened\", \"opened\", \"opened\", \"opened\", \"order\", \"order\", \"order\", \"order\", \"order\", \"ordered\", \"ordered\", \"ordered\", \"ordered\", \"ordered\", \"organizing\", \"organizing\", \"ota\", \"ota\", \"ota\", \"outstanding\", \"outstanding\", \"outstanding\", \"outstanding\", \"outstanding\", \"overall\", \"overall\", \"overall\", \"overall\", \"overall\", \"paula\", \"paula\", \"paula\", \"paula\", \"paula\", \"people\", \"people\", \"people\", \"people\", \"people\", \"perfect\", \"perfect\", \"perfect\", \"perfect\", \"perfect\", \"pervian\", \"pervian\", \"pervian\", \"petrus\", \"petrus\", \"petrus\", \"phillips\", \"photographers\", \"photographers\", \"photographers\", \"photographers\", \"photographers\", \"physician\", \"physician\", \"physician\", \"physician\", \"physician\", \"pinks\", \"pinks\", \"pinks\", \"pinks\", \"pittsburg\", \"pittsburg\", \"pittsburg\", \"pittsburg\", \"pittsburg\", \"pizza\", \"pizza\", \"pizza\", \"pizza\", \"pizza\", \"place\", \"place\", \"place\", \"place\", \"place\", \"pm\", \"pm\", \"pm\", \"pm\", \"pm\", \"polite\", \"polite\", \"polite\", \"polite\", \"polite\", \"pool\", \"pool\", \"pool\", \"pool\", \"pool\", \"predictions\", \"predictions\", \"predictions\", \"predictions\", \"predictions\", \"pretty\", \"pretty\", \"pretty\", \"pretty\", \"pretty\", \"price\", \"price\", \"price\", \"price\", \"price\", \"professional\", \"professional\", \"professional\", \"professional\", \"professional\", \"quality\", \"quality\", \"quality\", \"quality\", \"quality\", \"quick\", \"quick\", \"quick\", \"quick\", \"quick\", \"quote\", \"quote\", \"quote\", \"quote\", \"quote\", \"recommend\", \"recommend\", \"recommend\", \"recommend\", \"recommend\", \"reef\", \"reef\", \"reef\", \"reef\", \"reef\", \"rents\", \"rents\", \"rents\", \"rents\", \"rents\", \"restaurant\", \"restaurant\", \"restaurant\", \"restaurant\", \"restaurant\", \"reviewing\", \"reviewing\", \"reviewing\", \"reviewing\", \"reviewing\", \"rice\", \"rice\", \"rice\", \"rice\", \"rice\", \"right\", \"right\", \"right\", \"right\", \"right\", \"rock\", \"rock\", \"rock\", \"rock\", \"rock\", \"rollers\", \"rollers\", \"rollers\", \"rollers\", \"rollers\", \"rooftop\", \"rooftop\", \"rooftop\", \"rooftop\", \"rooftop\", \"room\", \"room\", \"room\", \"room\", \"room\", \"rows\", \"rows\", \"rows\", \"rows\", \"rows\", \"rudy\", \"rudy\", \"rudy\", \"rudy\", \"run\", \"run\", \"run\", \"run\", \"run\", \"said\", \"said\", \"said\", \"said\", \"said\", \"samantha\", \"samantha\", \"samantha\", \"samantha\", \"samantha\", \"sarver\", \"sarver\", \"sarver\", \"sarver\", \"sarver\", \"school\", \"school\", \"school\", \"school\", \"school\", \"scrapes\", \"scrapes\", \"scrapes\", \"scrapes\", \"scrapes\", \"seasoned\", \"seasoned\", \"seasoned\", \"seasoned\", \"seasoned\", \"seating\", \"seating\", \"seating\", \"seating\", \"seating\", \"second\", \"second\", \"second\", \"second\", \"second\", \"serve\", \"serve\", \"serve\", \"serve\", \"serve\", \"service\", \"service\", \"service\", \"service\", \"service\", \"setups\", \"setups\", \"shake\", \"shake\", \"shake\", \"shake\", \"shake\", \"shawn\", \"shawn\", \"shawn\", \"shawn\", \"shawn\", \"shittt\", \"shittt\", \"shittt\", \"shoooz\", \"sitara\", \"sitara\", \"sitara\", \"sixt\", \"sixt\", \"sixt\", \"sixt\", \"sixt\", \"sizes\", \"sizes\", \"sizes\", \"sizes\", \"sizes\", \"slip\", \"slip\", \"slip\", \"slip\", \"slip\", \"slow\", \"slow\", \"slow\", \"slow\", \"slow\", \"small\", \"small\", \"small\", \"small\", \"small\", \"solomon\", \"sours\", \"sours\", \"sours\", \"spa\", \"spa\", \"spa\", \"spa\", \"spa\", \"special\", \"special\", \"special\", \"special\", \"special\", \"spend\", \"spend\", \"spend\", \"spend\", \"spend\", \"spices\", \"spices\", \"spices\", \"spices\", \"spices\", \"spicy\", \"spicy\", \"spicy\", \"spicy\", \"spicy\", \"spring\", \"spring\", \"spring\", \"spring\", \"spring\", \"squishies\", \"squishies\", \"squishies\", \"squishies\", \"staff\", \"staff\", \"staff\", \"staff\", \"staff\", \"stagette\", \"star\", \"star\", \"star\", \"star\", \"star\", \"stars\", \"stars\", \"stars\", \"stars\", \"stars\", \"stop\", \"stop\", \"stop\", \"stop\", \"stop\", \"store\", \"store\", \"store\", \"store\", \"store\", \"stranger\", \"stranger\", \"stranger\", \"stranger\", \"stranger\", \"strip\", \"strip\", \"strip\", \"strip\", \"strip\", \"stuff\", \"stuff\", \"stuff\", \"stuff\", \"stuff\", \"stuffed\", \"stuffed\", \"stuffed\", \"stuffed\", \"stuffed\", \"subjects\", \"subjects\", \"subjects\", \"sunglass\", \"sunglass\", \"sunglass\", \"super\", \"super\", \"super\", \"super\", \"super\", \"sure\", \"sure\", \"sure\", \"sure\", \"sure\", \"sw\", \"sw\", \"sw\", \"sw\", \"sw\", \"swarma\", \"sweet\", \"sweet\", \"sweet\", \"sweet\", \"sweet\", \"swift\", \"swift\", \"swift\", \"table\", \"table\", \"table\", \"table\", \"table\", \"tacos\", \"tacos\", \"tacos\", \"tacos\", \"tacos\", \"tailgate\", \"tailgate\", \"tailgate\", \"tailgate\", \"tailgate\", \"taiwaness\", \"taiwaness\", \"tan\", \"tan\", \"tan\", \"tan\", \"tan\", \"tasteless\", \"tasteless\", \"tasteless\", \"tasteless\", \"tasteless\", \"tasty\", \"tasty\", \"tasty\", \"tasty\", \"tasty\", \"thought\", \"thought\", \"thought\", \"thought\", \"thought\", \"time\", \"time\", \"time\", \"time\", \"time\", \"times\", \"times\", \"times\", \"times\", \"times\", \"today\", \"today\", \"today\", \"today\", \"today\", \"tones\", \"tones\", \"tones\", \"tones\", \"tones\", \"took\", \"took\", \"took\", \"took\", \"took\", \"toppings\", \"toppings\", \"toppings\", \"toppings\", \"toppings\", \"touring\", \"touring\", \"touring\", \"touring\", \"touring\", \"travis\", \"travis\", \"travis\", \"travis\", \"travis\", \"tried\", \"tried\", \"tried\", \"tried\", \"tried\", \"troubleshooting\", \"troubleshooting\", \"troubleshooting\", \"troubleshooting\", \"troubleshooting\", \"try\", \"try\", \"try\", \"try\", \"try\", \"tuesday\", \"tuesday\", \"tuesday\", \"tuesday\", \"tuesday\", \"types\", \"types\", \"types\", \"types\", \"types\", \"unite\", \"ve\", \"ve\", \"ve\", \"ve\", \"ve\", \"vents\", \"vents\", \"vents\", \"vents\", \"vents\", \"wag\", \"wag\", \"wag\", \"wag\", \"wag\", \"wait\", \"wait\", \"wait\", \"wait\", \"wait\", \"waiter\", \"waiter\", \"waiter\", \"waiter\", \"waiter\", \"walked\", \"walked\", \"walked\", \"walked\", \"walked\", \"want\", \"want\", \"want\", \"want\", \"want\", \"warm\", \"warm\", \"warm\", \"warm\", \"warm\", \"way\", \"way\", \"way\", \"way\", \"way\", \"week\", \"week\", \"week\", \"week\", \"week\", \"welcoming\", \"welcoming\", \"welcoming\", \"welcoming\", \"welcoming\", \"wells\", \"wells\", \"wells\", \"wells\", \"wells\", \"whoopers\", \"wife\", \"wife\", \"wife\", \"wife\", \"wife\", \"won\", \"won\", \"won\", \"won\", \"won\", \"wonderful\", \"wonderful\", \"wonderful\", \"wonderful\", \"wonderful\", \"woop\", \"workers\", \"workers\", \"workers\", \"workers\", \"workers\", \"worth\", \"worth\", \"worth\", \"worth\", \"worth\", \"wrong\", \"wrong\", \"wrong\", \"wrong\", \"wrong\", \"yasmin\", \"yasmin\", \"yasmin\", \"yasmin\", \"yasmin\", \"yc\", \"ysuznf_lzq\", \"ysuznf_lzq\", \"ysuznf_lzq\", \"ysuznf_lzq\", \"yuk\", \"yuk\", \"yuk\", \"yuk\", \"yuk\", \"\\u3068\\u3066\\u3082\\u6c17\\u306b\\u5165\\u308a\\u307e\\u3057\\u305f\", \"\\u53f0\\u6e7e\\u9e21\\u6392\", \"\\u53f0\\u6e7e\\u9e21\\u6392\", \"\\u53f0\\u6e7e\\u9e21\\u6392\", \"\\u63a2\\u3057\\u305f\\u304a\\u5e97\\u3067\\u3057\\u305f\"]}, \"R\": 30, \"lambda.step\": 0.01, \"plot.opts\": {\"xlab\": \"PC1\", \"ylab\": \"PC2\"}, \"topic.order\": [4, 1, 2, 3, 5]};\n",
       "\n",
       "function LDAvis_load_lib(url, callback){\n",
       "  var s = document.createElement('script');\n",
       "  s.src = url;\n",
       "  s.async = true;\n",
       "  s.onreadystatechange = s.onload = callback;\n",
       "  s.onerror = function(){console.warn(\"failed to load library \" + url);};\n",
       "  document.getElementsByTagName(\"head\")[0].appendChild(s);\n",
       "}\n",
       "\n",
       "if(typeof(LDAvis) !== \"undefined\"){\n",
       "   // already loaded: just create the visualization\n",
       "   !function(LDAvis){\n",
       "       new LDAvis(\"#\" + \"ldavis_el89567139525238646177559165\", ldavis_el89567139525238646177559165_data);\n",
       "   }(LDAvis);\n",
       "}else if(typeof define === \"function\" && define.amd){\n",
       "   // require.js is available: use it to load d3/LDAvis\n",
       "   require.config({paths: {d3: \"https://cdnjs.cloudflare.com/ajax/libs/d3/3.5.5/d3.min\"}});\n",
       "   require([\"d3\"], function(d3){\n",
       "      window.d3 = d3;\n",
       "      LDAvis_load_lib(\"https://cdn.rawgit.com/bmabey/pyLDAvis/files/ldavis.v1.0.0.js\", function(){\n",
       "        new LDAvis(\"#\" + \"ldavis_el89567139525238646177559165\", ldavis_el89567139525238646177559165_data);\n",
       "      });\n",
       "    });\n",
       "}else{\n",
       "    // require.js not available: dynamically load d3 & LDAvis\n",
       "    LDAvis_load_lib(\"https://cdnjs.cloudflare.com/ajax/libs/d3/3.5.5/d3.min.js\", function(){\n",
       "         LDAvis_load_lib(\"https://cdn.rawgit.com/bmabey/pyLDAvis/files/ldavis.v1.0.0.js\", function(){\n",
       "                 new LDAvis(\"#\" + \"ldavis_el89567139525238646177559165\", ldavis_el89567139525238646177559165_data);\n",
       "            })\n",
       "         });\n",
       "}\n",
       "</script>"
      ],
      "text/plain": [
       "PreparedData(topic_coordinates=              x         y  topics  cluster       Freq\n",
       "topic                                                \n",
       "3     -0.004403  0.000006       1        1  20.391041\n",
       "0      0.002750 -0.003504       2        1  20.343584\n",
       "1     -0.000502 -0.002869       3        1  20.080269\n",
       "2      0.003955  0.003421       4        1  19.708221\n",
       "4     -0.001800  0.002946       5        1  19.476885, topic_info=     Category         Freq        Term        Total  loglift  logprob\n",
       "39    Default  4454.000000        good  4454.000000  30.0000  30.0000\n",
       "131   Default  4558.000000       place  4558.000000  29.0000  29.0000\n",
       "732   Default  1587.000000        love  1587.000000  28.0000  28.0000\n",
       "142   Default  4750.000000        food  4750.000000  27.0000  27.0000\n",
       "18    Default  3328.000000        like  3328.000000  26.0000  26.0000\n",
       "30    Default  1161.000000        said  1161.000000  25.0000  25.0000\n",
       "206   Default  4123.000000       great  4123.000000  24.0000  24.0000\n",
       "311   Default   995.000000        want   995.000000  23.0000  23.0000\n",
       "74    Default  1990.000000         got  1990.000000  22.0000  22.0000\n",
       "91    Default  1685.000000        nice  1685.000000  21.0000  21.0000\n",
       "648   Default  1329.000000  restaurant  1329.000000  20.0000  20.0000\n",
       "1274  Default  1343.000000     chicken  1343.000000  19.0000  19.0000\n",
       "190   Default  1314.000000     amazing  1314.000000  18.0000  18.0000\n",
       "357   Default  1194.000000   delicious  1194.000000  17.0000  17.0000\n",
       "379   Default  1370.000000      little  1370.000000  16.0000  16.0000\n",
       "120   Default  1746.000000        best  1746.000000  15.0000  15.0000\n",
       "809   Default   675.000000       store   675.000000  14.0000  14.0000\n",
       "25    Default   877.000000     minutes   877.000000  13.0000  13.0000\n",
       "129   Default  1385.000000      people  1385.000000  12.0000  12.0000\n",
       "748   Default   455.000000     special   455.000000  11.0000  11.0000\n",
       "107   Default   921.000000        sure   921.000000  10.0000  10.0000\n",
       "102   Default   925.000000        room   925.000000   9.0000   9.0000\n",
       "186   Default   682.000000       tried   682.000000   8.0000   8.0000\n",
       "1239  Default   353.000000        stop   353.000000   7.0000   7.0000\n",
       "33    Default   768.000000       small   768.000000   6.0000   6.0000\n",
       "410   Default   881.000000        took   881.000000   5.0000   5.0000\n",
       "134   Default   802.000000         bad   802.000000   4.0000   4.0000\n",
       "262   Default  1249.000000  experience  1249.000000   3.0000   3.0000\n",
       "243   Default   389.000000          pm   389.000000   2.0000   2.0000\n",
       "349   Default  1400.000000        come  1400.000000   1.0000   1.0000\n",
       "...       ...          ...         ...          ...      ...      ...\n",
       "1320   Topic5   100.176178       today   397.547455   0.2576  -6.8324\n",
       "544    Topic5   156.729614     quality   646.831787   0.2184  -6.3848\n",
       "178    Topic5   274.197113        menu  1194.074341   0.1647  -5.8255\n",
       "437    Topic5   189.534195    customer   799.637024   0.1964  -6.1947\n",
       "577    Topic5   122.932732      family   500.522339   0.2319  -6.6277\n",
       "74     Topic5   426.369141         got  1990.919434   0.0949  -5.3840\n",
       "34     Topic5   666.742371        time  3303.222900   0.0357  -4.9369\n",
       "700    Topic5   113.927650       money   470.001556   0.2188  -6.7037\n",
       "476    Topic5   259.030212        know  1176.112915   0.1229  -5.8824\n",
       "311    Topic5   222.708847        want   995.009583   0.1391  -6.0334\n",
       "129    Topic5   297.658844      people  1385.270752   0.0982  -5.7434\n",
       "1063   Topic5   243.802887         new  1119.891602   0.1113  -5.9430\n",
       "206    Topic5   747.357849       great  4123.012207  -0.0719  -4.8228\n",
       "1263   Topic5   311.078583     ordered  1488.608154   0.0704  -5.6993\n",
       "36     Topic5   209.463638        wait   941.981201   0.1325  -6.0948\n",
       "38     Topic5   278.679779    friendly  1336.054932   0.0685  -5.8092\n",
       "44     Topic5   619.651184     service  3499.436523  -0.0953  -5.0102\n",
       "18     Topic5   572.342224        like  3328.511230  -0.1246  -5.0896\n",
       "182    Topic5   237.205841   recommend  1122.673462   0.0814  -5.9704\n",
       "233    Topic5   226.343384         way  1070.440063   0.0822  -6.0173\n",
       "357    Topic5   243.283142   delicious  1194.121094   0.0450  -5.9451\n",
       "114    Topic5   339.521027          ve  1856.292114  -0.0629  -5.6118\n",
       "142    Topic5   666.685669        food  4750.155762  -0.3277  -4.9370\n",
       "39     Topic5   634.783691        good  4454.021484  -0.3123  -4.9860\n",
       "732    Topic5   297.531342        love  1587.874390  -0.0387  -5.7438\n",
       "379    Topic5   249.913895      little  1370.675049  -0.0660  -5.9182\n",
       "91     Topic5   268.378326        nice  1685.568604  -0.2015  -5.8469\n",
       "120    Topic5   268.174500        best  1746.750488  -0.2379  -5.8477\n",
       "648    Topic5   238.792953  restaurant  1329.465332  -0.0810  -5.9637\n",
       "356    Topic5   226.515015  definitely  1394.988647  -0.1819  -6.0165\n",
       "\n",
       "[458 rows x 6 columns], token_table=       Topic      Freq        Term\n",
       "term                              \n",
       "25832      2  0.322678  accounting\n",
       "25832      4  0.322678  accounting\n",
       "25832      5  0.322678  accounting\n",
       "786        1  0.154988      action\n",
       "786        2  0.206650      action\n",
       "786        3  0.180819      action\n",
       "786        4  0.154988      action\n",
       "786        5  0.309975      action\n",
       "24697      1  0.322965   allergens\n",
       "24697      3  0.322965   allergens\n",
       "24697      4  0.322965   allergens\n",
       "24697      5  0.322965   allergens\n",
       "22029      1  0.226196       alter\n",
       "22029      2  0.226196       alter\n",
       "22029      3  0.226196       alter\n",
       "22029      4  0.226196       alter\n",
       "22029      5  0.452391       alter\n",
       "190        1  0.207692     amazing\n",
       "190        2  0.160523     amazing\n",
       "190        3  0.217582     amazing\n",
       "190        4  0.151394     amazing\n",
       "190        5  0.263989     amazing\n",
       "13257      1  0.091735      amazon\n",
       "13257      2  0.321071      amazon\n",
       "13257      3  0.275204      amazon\n",
       "13257      4  0.137602      amazon\n",
       "13257      5  0.183469      amazon\n",
       "4615       1  0.138494        amex\n",
       "4615       2  0.138494        amex\n",
       "4615       3  0.138494        amex\n",
       "...      ...       ...         ...\n",
       "761        1  0.241061       worth\n",
       "761        2  0.188028       worth\n",
       "761        3  0.167136       worth\n",
       "761        4  0.257132       worth\n",
       "761        5  0.147851       worth\n",
       "815        1  0.170959       wrong\n",
       "815        2  0.214475       wrong\n",
       "815        3  0.264209       wrong\n",
       "815        4  0.164742       wrong\n",
       "815        5  0.186500       wrong\n",
       "25106      1  0.191872      yasmin\n",
       "25106      2  0.383745      yasmin\n",
       "25106      3  0.191872      yasmin\n",
       "25106      4  0.191872      yasmin\n",
       "25106      5  0.191872      yasmin\n",
       "16862      3  0.620004          yc\n",
       "24676      1  0.324081  ysuznf_lzq\n",
       "24676      2  0.324081  ysuznf_lzq\n",
       "24676      3  0.324081  ysuznf_lzq\n",
       "24676      4  0.324081  ysuznf_lzq\n",
       "13095      1  0.260802         yuk\n",
       "13095      2  0.130401         yuk\n",
       "13095      3  0.130401         yuk\n",
       "13095      4  0.358603         yuk\n",
       "13095      5  0.163001         yuk\n",
       "21301      4  0.618820  とても気に入りました\n",
       "25703      1  0.323994        台湾鸡排\n",
       "25703      4  0.323994        台湾鸡排\n",
       "25703      5  0.323994        台湾鸡排\n",
       "21302      4  0.618046    探したお店でした\n",
       "\n",
       "[1414 rows x 3 columns], R=30, lambda_step=0.01, plot_opts={'xlab': 'PC1', 'ylab': 'PC2'}, topic_order=[4, 1, 2, 3, 5])"
      ]
     },
     "execution_count": 90,
     "metadata": {},
     "output_type": "execute_result"
    }
   ],
   "source": [
    "#this may take a while--note to self\n",
    "pyLDAvis.gensim.prepare(lda, corpus, id2word)"
   ]
  },
  {
   "cell_type": "markdown",
   "metadata": {},
   "source": [
    "## A few words about the above visual\n",
    "Above you can see that there are descrete topics\n",
    "The slider allows us to rank them according to relevance with .6 being optimal.\n",
    "Each circle is a topic and the distance between the topics is computed using Jensen-Shannon Divergence\n",
    "This is a glabal view of topics and how they are different from one another.\n",
    "Place, food, and good come up the most as well as great and like"
   ]
  },
  {
   "cell_type": "markdown",
   "metadata": {},
   "source": [
    "## Stretch Goals\n",
    "\n",
    "Complete one of more of these to push your score towards a three: \n",
    "* Incorporate named entity recognition into your analysis\n",
    "* Compare vectorization methods in the classification section\n",
    "* Analyze more (or all) of the yelp dataset - this one is v. hard. \n",
    "* Use a generator object on the reviews file - this would help you with the analyzing the whole dataset.\n",
    "* Incorporate any of the other yelp dataset entities in your analysis (business, users, etc.)"
   ]
  },
  {
   "cell_type": "code",
   "execution_count": 116,
   "metadata": {},
   "outputs": [],
   "source": [
    "distro = [lda[d] for d in corpus]"
   ]
  },
  {
   "cell_type": "code",
   "execution_count": 117,
   "metadata": {},
   "outputs": [],
   "source": [
    "distro = [lda[d] for d in corpus]\n",
    "\n",
    "def update(doc):\n",
    "        d_dist = {k:0 for k in range(0,15)}\n",
    "        for t in doc:\n",
    "            d_dist[t[0]] = t[1]\n",
    "        return d_dist\n",
    "    \n",
    "new_distro = [update(d) for d in distro]"
   ]
  },
  {
   "cell_type": "code",
   "execution_count": null,
   "metadata": {},
   "outputs": [],
   "source": []
  }
 ],
 "metadata": {
  "kernel_info": {
   "name": "u4-s1-nlp"
  },
  "kernelspec": {
   "display_name": "U4-S1-NLP (numpy updates)",
   "language": "python",
   "name": "u4-s1-nlp"
  },
  "language_info": {
   "codemirror_mode": {
    "name": "ipython",
    "version": 3
   },
   "file_extension": ".py",
   "mimetype": "text/x-python",
   "name": "python",
   "nbconvert_exporter": "python",
   "pygments_lexer": "ipython3",
   "version": "3.7.0"
  },
  "nteract": {
   "version": "0.14.5"
  },
  "toc-autonumbering": false
 },
 "nbformat": 4,
 "nbformat_minor": 4
}
