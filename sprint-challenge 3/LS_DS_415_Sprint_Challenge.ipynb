{
 "cells": [
  {
   "cell_type": "markdown",
   "metadata": {},
   "source": [
    "<img align=\"left\" src=\"https://lever-client-logos.s3.amazonaws.com/864372b1-534c-480e-acd5-9711f850815c-1524247202159.png\" width=200>\n",
    "<br></br>\n",
    "<br></br>\n",
    "\n",
    "# Sprint Challenge\n",
    "## *Data Science Unit 4 Sprint 1*\n",
    "\n",
    "After a week of Natural Language Processing, you've learned some cool new stuff: how to process text, how turn text into vectors, and how to model topics from documents. Apply your newly acquired skills to one of the most famous NLP datasets out there: [Yelp](https://www.yelp.com/dataset/challenge). As part of the job selection process, some of my friends have been asked to create analysis of this dataset, so I want to empower you to have a head start.  \n",
    "\n",
    "The real dataset is massive (almost 8 gigs uncompressed). I've sampled the data for you to something more managable for the Sprint Challenge. You can analyze the full dataset as a stretch goal or after the sprint challenge. As you work on the challenge, I suggest adding notes about your findings and things you want to analyze in the future.\n",
    "\n",
    "## Challenge Objectives\n",
    "*Successfully complete these all these objectives to earn a 2. There are more details on each objective further down in the notebook.*\n",
    "* <a href=\"#p1\">Part 1</a>: Write a function to tokenize the yelp reviews\n",
    "* <a href=\"#p2\">Part 2</a>: Create a vector representation of those tokens\n",
    "* <a href=\"#p3\">Part 3</a>: Use your tokens in a classification model on yelp rating\n",
    "* <a href=\"#p4\">Part 4</a>: Estimate & Interpret a topic model of the Yelp reviews"
   ]
  },
  {
   "cell_type": "code",
   "execution_count": 12,
   "metadata": {},
   "outputs": [],
   "source": [
    "import pandas as pd\n",
    "import numpy as np\n",
    "import gensim\n",
    "import os\n",
    "import re\n",
    "\n",
    "from spacy.tokenizer import Tokenizer\n",
    "from gensim.utils import simple_preprocess\n",
    "from gensim.parsing.preprocessing import STOPWORDS\n",
    "from gensim import corpora\n",
    "\n",
    "from sklearn.pipeline import Pipeline\n",
    "from sklearn.ensemble import RandomForestClassifier\n",
    "from sklearn.model_selection import GridSearchCV\n",
    "from sklearn.feature_extraction.text import TfidfVectorizer\n",
    "\n",
    "from gensim.models.ldamulticore import LdaMulticore\n",
    "\n",
    "import pandas as pd\n",
    "yelp = pd.read_json('./data/review_sample.json', lines=True)"
   ]
  },
  {
   "cell_type": "code",
   "execution_count": 13,
   "metadata": {},
   "outputs": [
    {
     "data": {
      "text/html": [
       "<div>\n",
       "<style scoped>\n",
       "    .dataframe tbody tr th:only-of-type {\n",
       "        vertical-align: middle;\n",
       "    }\n",
       "\n",
       "    .dataframe tbody tr th {\n",
       "        vertical-align: top;\n",
       "    }\n",
       "\n",
       "    .dataframe thead th {\n",
       "        text-align: right;\n",
       "    }\n",
       "</style>\n",
       "<table border=\"1\" class=\"dataframe\">\n",
       "  <thead>\n",
       "    <tr style=\"text-align: right;\">\n",
       "      <th></th>\n",
       "      <th>business_id</th>\n",
       "      <th>cool</th>\n",
       "      <th>date</th>\n",
       "      <th>funny</th>\n",
       "      <th>review_id</th>\n",
       "      <th>stars</th>\n",
       "      <th>text</th>\n",
       "      <th>useful</th>\n",
       "      <th>user_id</th>\n",
       "    </tr>\n",
       "  </thead>\n",
       "  <tbody>\n",
       "    <tr>\n",
       "      <th>0</th>\n",
       "      <td>nDuEqIyRc8YKS1q1fX0CZg</td>\n",
       "      <td>1</td>\n",
       "      <td>2015-03-31 16:50:30</td>\n",
       "      <td>0</td>\n",
       "      <td>eZs2tpEJtXPwawvHnHZIgQ</td>\n",
       "      <td>1</td>\n",
       "      <td>BEWARE!!! FAKE, FAKE, FAKE....We also own a sm...</td>\n",
       "      <td>10</td>\n",
       "      <td>n1LM36qNg4rqGXIcvVXv8w</td>\n",
       "    </tr>\n",
       "    <tr>\n",
       "      <th>1</th>\n",
       "      <td>eMYeEapscbKNqUDCx705hg</td>\n",
       "      <td>0</td>\n",
       "      <td>2015-12-16 05:31:03</td>\n",
       "      <td>0</td>\n",
       "      <td>DoQDWJsNbU0KL1O29l_Xug</td>\n",
       "      <td>4</td>\n",
       "      <td>Came here for lunch Togo. Service was quick. S...</td>\n",
       "      <td>0</td>\n",
       "      <td>5CgjjDAic2-FAvCtiHpytA</td>\n",
       "    </tr>\n",
       "    <tr>\n",
       "      <th>2</th>\n",
       "      <td>6Q7-wkCPc1KF75jZLOTcMw</td>\n",
       "      <td>1</td>\n",
       "      <td>2010-06-20 19:14:48</td>\n",
       "      <td>1</td>\n",
       "      <td>DDOdGU7zh56yQHmUnL1idQ</td>\n",
       "      <td>3</td>\n",
       "      <td>I've been to Vegas dozens of times and had nev...</td>\n",
       "      <td>2</td>\n",
       "      <td>BdV-cf3LScmb8kZ7iiBcMA</td>\n",
       "    </tr>\n",
       "    <tr>\n",
       "      <th>3</th>\n",
       "      <td>k3zrItO4l9hwfLRwHBDc9w</td>\n",
       "      <td>3</td>\n",
       "      <td>2010-07-13 00:33:45</td>\n",
       "      <td>4</td>\n",
       "      <td>LfTMUWnfGFMOfOIyJcwLVA</td>\n",
       "      <td>1</td>\n",
       "      <td>We went here on a night where they closed off ...</td>\n",
       "      <td>5</td>\n",
       "      <td>cZZnBqh4gAEy4CdNvJailQ</td>\n",
       "    </tr>\n",
       "    <tr>\n",
       "      <th>4</th>\n",
       "      <td>6hpfRwGlOzbNv7k5eP9rsQ</td>\n",
       "      <td>1</td>\n",
       "      <td>2018-06-30 02:30:01</td>\n",
       "      <td>0</td>\n",
       "      <td>zJSUdI7bJ8PNJAg4lnl_Gg</td>\n",
       "      <td>4</td>\n",
       "      <td>3.5 to 4 stars\\n\\nNot bad for the price, $12.9...</td>\n",
       "      <td>5</td>\n",
       "      <td>n9QO4ClYAS7h9fpQwa5bhA</td>\n",
       "    </tr>\n",
       "  </tbody>\n",
       "</table>\n",
       "</div>"
      ],
      "text/plain": [
       "              business_id  cool                date  funny  \\\n",
       "0  nDuEqIyRc8YKS1q1fX0CZg     1 2015-03-31 16:50:30      0   \n",
       "1  eMYeEapscbKNqUDCx705hg     0 2015-12-16 05:31:03      0   \n",
       "2  6Q7-wkCPc1KF75jZLOTcMw     1 2010-06-20 19:14:48      1   \n",
       "3  k3zrItO4l9hwfLRwHBDc9w     3 2010-07-13 00:33:45      4   \n",
       "4  6hpfRwGlOzbNv7k5eP9rsQ     1 2018-06-30 02:30:01      0   \n",
       "\n",
       "                review_id  stars  \\\n",
       "0  eZs2tpEJtXPwawvHnHZIgQ      1   \n",
       "1  DoQDWJsNbU0KL1O29l_Xug      4   \n",
       "2  DDOdGU7zh56yQHmUnL1idQ      3   \n",
       "3  LfTMUWnfGFMOfOIyJcwLVA      1   \n",
       "4  zJSUdI7bJ8PNJAg4lnl_Gg      4   \n",
       "\n",
       "                                                text  useful  \\\n",
       "0  BEWARE!!! FAKE, FAKE, FAKE....We also own a sm...      10   \n",
       "1  Came here for lunch Togo. Service was quick. S...       0   \n",
       "2  I've been to Vegas dozens of times and had nev...       2   \n",
       "3  We went here on a night where they closed off ...       5   \n",
       "4  3.5 to 4 stars\\n\\nNot bad for the price, $12.9...       5   \n",
       "\n",
       "                  user_id  \n",
       "0  n1LM36qNg4rqGXIcvVXv8w  \n",
       "1  5CgjjDAic2-FAvCtiHpytA  \n",
       "2  BdV-cf3LScmb8kZ7iiBcMA  \n",
       "3  cZZnBqh4gAEy4CdNvJailQ  \n",
       "4  n9QO4ClYAS7h9fpQwa5bhA  "
      ]
     },
     "execution_count": 13,
     "metadata": {},
     "output_type": "execute_result"
    }
   ],
   "source": [
    "yelp.head()"
   ]
  },
  {
   "cell_type": "markdown",
   "metadata": {},
   "source": [
    "## Part 1: Tokenize Function\n",
    "<a id=\"#p1\"></a>\n",
    "\n",
    "Complete the function `tokenize`. Your function should\n",
    "- accept one document at a time\n",
    "- return a list of tokens\n",
    "\n",
    "You are free to use any method you have learned this week."
   ]
  },
  {
   "cell_type": "code",
   "execution_count": 14,
   "metadata": {},
   "outputs": [],
   "source": [
    "from spacy.tokenizer import Tokenizer\n",
    "\n",
    "STOPWORDS = set(STOPWORDS).union(set(['here', 'went', 'came', 'been', 'review']))\n",
    "\n",
    "def tokenize(doc):\n",
    "    return [token for token in simple_preprocess(doc) if token not in STOPWORDS]\n"
   ]
  },
  {
   "cell_type": "code",
   "execution_count": 15,
   "metadata": {},
   "outputs": [],
   "source": [
    "yelp['tokens'] = yelp['text'].apply(tokenize)"
   ]
  },
  {
   "cell_type": "code",
   "execution_count": 16,
   "metadata": {},
   "outputs": [
    {
     "data": {
      "text/plain": [
       "10000"
      ]
     },
     "execution_count": 16,
     "metadata": {},
     "output_type": "execute_result"
    }
   ],
   "source": [
    "len(yelp['tokens'])"
   ]
  },
  {
   "cell_type": "markdown",
   "metadata": {},
   "source": [
    "## Part 2: Vector Representation\n",
    "<a id=\"#p2\"></a>\n",
    "1. Create a vector representation of the reviews\n",
    "2. Write a fake review and query for the 10 most similiar reviews, print the text of the reviews. Do you notice any patterns?\n",
    "    - Given the size of the dataset, it will probably be best to use a `NearestNeighbors` model for this. "
   ]
  },
  {
   "cell_type": "code",
   "execution_count": 17,
   "metadata": {},
   "outputs": [
    {
     "data": {
      "text/plain": [
       "CountVectorizer(analyzer='word', binary=False, decode_error='strict',\n",
       "        dtype=<class 'numpy.int64'>, encoding='utf-8', input='content',\n",
       "        lowercase=True, max_df=1.0, max_features=None, min_df=1,\n",
       "        ngram_range=(1, 1), preprocessor=None, stop_words=None,\n",
       "        strip_accents=None, token_pattern='(?u)\\\\b\\\\w\\\\w+\\\\b',\n",
       "        tokenizer=None, vocabulary=None)"
      ]
     },
     "execution_count": 17,
     "metadata": {},
     "output_type": "execute_result"
    }
   ],
   "source": [
    "from sklearn.feature_extraction.text import CountVectorizer\n",
    "\n",
    "text = list(yelp.text)\n",
    "vect = CountVectorizer()\n",
    "vect.fit(text)"
   ]
  },
  {
   "cell_type": "code",
   "execution_count": 18,
   "metadata": {},
   "outputs": [
    {
     "data": {
      "text/html": [
       "<div>\n",
       "<style scoped>\n",
       "    .dataframe tbody tr th:only-of-type {\n",
       "        vertical-align: middle;\n",
       "    }\n",
       "\n",
       "    .dataframe tbody tr th {\n",
       "        vertical-align: top;\n",
       "    }\n",
       "\n",
       "    .dataframe thead th {\n",
       "        text-align: right;\n",
       "    }\n",
       "</style>\n",
       "<table border=\"1\" class=\"dataframe\">\n",
       "  <thead>\n",
       "    <tr style=\"text-align: right;\">\n",
       "      <th></th>\n",
       "      <th>00</th>\n",
       "      <th>000</th>\n",
       "      <th>001695</th>\n",
       "      <th>007</th>\n",
       "      <th>00a</th>\n",
       "      <th>00am</th>\n",
       "      <th>00ish</th>\n",
       "      <th>00pm</th>\n",
       "      <th>01</th>\n",
       "      <th>011802</th>\n",
       "      <th>...</th>\n",
       "      <th>誰も乗車しなくても</th>\n",
       "      <th>豆腐花</th>\n",
       "      <th>質問にも丁寧に答えてくれましたし</th>\n",
       "      <th>車好きさんには</th>\n",
       "      <th>這是一個不錯的選擇</th>\n",
       "      <th>運転しない</th>\n",
       "      <th>運転中も英語で指導があります</th>\n",
       "      <th>食べ物はうまい</th>\n",
       "      <th>餐後點了甜點</th>\n",
       "      <th>３時間後の便</th>\n",
       "    </tr>\n",
       "  </thead>\n",
       "  <tbody>\n",
       "    <tr>\n",
       "      <th>0</th>\n",
       "      <td>0</td>\n",
       "      <td>0</td>\n",
       "      <td>0</td>\n",
       "      <td>0</td>\n",
       "      <td>0</td>\n",
       "      <td>0</td>\n",
       "      <td>0</td>\n",
       "      <td>0</td>\n",
       "      <td>0</td>\n",
       "      <td>0</td>\n",
       "      <td>...</td>\n",
       "      <td>0</td>\n",
       "      <td>0</td>\n",
       "      <td>0</td>\n",
       "      <td>0</td>\n",
       "      <td>0</td>\n",
       "      <td>0</td>\n",
       "      <td>0</td>\n",
       "      <td>0</td>\n",
       "      <td>0</td>\n",
       "      <td>0</td>\n",
       "    </tr>\n",
       "    <tr>\n",
       "      <th>1</th>\n",
       "      <td>0</td>\n",
       "      <td>0</td>\n",
       "      <td>0</td>\n",
       "      <td>0</td>\n",
       "      <td>0</td>\n",
       "      <td>0</td>\n",
       "      <td>0</td>\n",
       "      <td>0</td>\n",
       "      <td>0</td>\n",
       "      <td>0</td>\n",
       "      <td>...</td>\n",
       "      <td>0</td>\n",
       "      <td>0</td>\n",
       "      <td>0</td>\n",
       "      <td>0</td>\n",
       "      <td>0</td>\n",
       "      <td>0</td>\n",
       "      <td>0</td>\n",
       "      <td>0</td>\n",
       "      <td>0</td>\n",
       "      <td>0</td>\n",
       "    </tr>\n",
       "    <tr>\n",
       "      <th>2</th>\n",
       "      <td>0</td>\n",
       "      <td>0</td>\n",
       "      <td>0</td>\n",
       "      <td>0</td>\n",
       "      <td>0</td>\n",
       "      <td>0</td>\n",
       "      <td>0</td>\n",
       "      <td>0</td>\n",
       "      <td>0</td>\n",
       "      <td>0</td>\n",
       "      <td>...</td>\n",
       "      <td>0</td>\n",
       "      <td>0</td>\n",
       "      <td>0</td>\n",
       "      <td>0</td>\n",
       "      <td>0</td>\n",
       "      <td>0</td>\n",
       "      <td>0</td>\n",
       "      <td>0</td>\n",
       "      <td>0</td>\n",
       "      <td>0</td>\n",
       "    </tr>\n",
       "    <tr>\n",
       "      <th>3</th>\n",
       "      <td>0</td>\n",
       "      <td>0</td>\n",
       "      <td>0</td>\n",
       "      <td>0</td>\n",
       "      <td>0</td>\n",
       "      <td>0</td>\n",
       "      <td>0</td>\n",
       "      <td>0</td>\n",
       "      <td>0</td>\n",
       "      <td>0</td>\n",
       "      <td>...</td>\n",
       "      <td>0</td>\n",
       "      <td>0</td>\n",
       "      <td>0</td>\n",
       "      <td>0</td>\n",
       "      <td>0</td>\n",
       "      <td>0</td>\n",
       "      <td>0</td>\n",
       "      <td>0</td>\n",
       "      <td>0</td>\n",
       "      <td>0</td>\n",
       "    </tr>\n",
       "    <tr>\n",
       "      <th>4</th>\n",
       "      <td>0</td>\n",
       "      <td>0</td>\n",
       "      <td>0</td>\n",
       "      <td>0</td>\n",
       "      <td>0</td>\n",
       "      <td>0</td>\n",
       "      <td>0</td>\n",
       "      <td>0</td>\n",
       "      <td>0</td>\n",
       "      <td>0</td>\n",
       "      <td>...</td>\n",
       "      <td>0</td>\n",
       "      <td>0</td>\n",
       "      <td>0</td>\n",
       "      <td>0</td>\n",
       "      <td>0</td>\n",
       "      <td>0</td>\n",
       "      <td>0</td>\n",
       "      <td>0</td>\n",
       "      <td>0</td>\n",
       "      <td>0</td>\n",
       "    </tr>\n",
       "  </tbody>\n",
       "</table>\n",
       "<p>5 rows × 27588 columns</p>\n",
       "</div>"
      ],
      "text/plain": [
       "   00  000  001695  007  00a  00am  00ish  00pm  01  011802  ...  誰も乗車しなくても  \\\n",
       "0   0    0       0    0    0     0      0     0   0       0  ...          0   \n",
       "1   0    0       0    0    0     0      0     0   0       0  ...          0   \n",
       "2   0    0       0    0    0     0      0     0   0       0  ...          0   \n",
       "3   0    0       0    0    0     0      0     0   0       0  ...          0   \n",
       "4   0    0       0    0    0     0      0     0   0       0  ...          0   \n",
       "\n",
       "   豆腐花  質問にも丁寧に答えてくれましたし  車好きさんには  這是一個不錯的選擇  運転しない  運転中も英語で指導があります  食べ物はうまい  \\\n",
       "0    0                 0        0          0      0               0        0   \n",
       "1    0                 0        0          0      0               0        0   \n",
       "2    0                 0        0          0      0               0        0   \n",
       "3    0                 0        0          0      0               0        0   \n",
       "4    0                 0        0          0      0               0        0   \n",
       "\n",
       "   餐後點了甜點  ３時間後の便  \n",
       "0       0       0  \n",
       "1       0       0  \n",
       "2       0       0  \n",
       "3       0       0  \n",
       "4       0       0  \n",
       "\n",
       "[5 rows x 27588 columns]"
      ]
     },
     "execution_count": 18,
     "metadata": {},
     "output_type": "execute_result"
    }
   ],
   "source": [
    "# Get Word Counts for each document\n",
    "dtm = pd.DataFrame(vect.transform(text).todense(), columns=vect.get_feature_names())\n",
    "dtm.head(5)"
   ]
  },
  {
   "cell_type": "code",
   "execution_count": 19,
   "metadata": {},
   "outputs": [
    {
     "name": "stderr",
     "output_type": "stream",
     "text": [
      "/Users/michelle/opt/anaconda3/envs/U4-S1-NLP/lib/python3.7/site-packages/scipy/stats/stats.py:1713: FutureWarning: Using a non-tuple sequence for multidimensional indexing is deprecated; use `arr[tuple(seq)]` instead of `arr[seq]`. In the future this will be interpreted as an array index, `arr[np.array(seq)]`, which will result either in an error or a different result.\n",
      "  return np.add.reduce(sorted[indexer] * weights, axis=axis) / sumval\n"
     ]
    },
    {
     "data": {
      "image/png": "[encoded data removed]",
      "text/plain": [
       "<Figure size 432x288 with 1 Axes>"
      ]
     },
     "metadata": {
      "needs_background": "light"
     },
     "output_type": "display_data"
    }
   ],
   "source": [
    "doc_len = [len(doc) for doc in yelp]\n",
    "\n",
    "#lets see a graph of this matrix\n",
    "#good that the word counts frequency peek around 6, its the right shape graph\n",
    "\n",
    "import seaborn as sns\n",
    "\n",
    "sns.distplot(doc_len);"
   ]
  },
  {
   "cell_type": "code",
   "execution_count": 20,
   "metadata": {},
   "outputs": [
    {
     "data": {
      "text/html": [
       "<div>\n",
       "<style scoped>\n",
       "    .dataframe tbody tr th:only-of-type {\n",
       "        vertical-align: middle;\n",
       "    }\n",
       "\n",
       "    .dataframe tbody tr th {\n",
       "        vertical-align: top;\n",
       "    }\n",
       "\n",
       "    .dataframe thead th {\n",
       "        text-align: right;\n",
       "    }\n",
       "</style>\n",
       "<table border=\"1\" class=\"dataframe\">\n",
       "  <thead>\n",
       "    <tr style=\"text-align: right;\">\n",
       "      <th></th>\n",
       "      <th>00</th>\n",
       "      <th>000</th>\n",
       "      <th>001695</th>\n",
       "      <th>007</th>\n",
       "      <th>00a</th>\n",
       "      <th>00am</th>\n",
       "      <th>00ish</th>\n",
       "      <th>00pm</th>\n",
       "      <th>01</th>\n",
       "      <th>011802</th>\n",
       "      <th>...</th>\n",
       "      <th>誰も乗車しなくても</th>\n",
       "      <th>豆腐花</th>\n",
       "      <th>質問にも丁寧に答えてくれましたし</th>\n",
       "      <th>車好きさんには</th>\n",
       "      <th>這是一個不錯的選擇</th>\n",
       "      <th>運転しない</th>\n",
       "      <th>運転中も英語で指導があります</th>\n",
       "      <th>食べ物はうまい</th>\n",
       "      <th>餐後點了甜點</th>\n",
       "      <th>３時間後の便</th>\n",
       "    </tr>\n",
       "  </thead>\n",
       "  <tbody>\n",
       "    <tr>\n",
       "      <th>0</th>\n",
       "      <td>0.0</td>\n",
       "      <td>0.0</td>\n",
       "      <td>0.0</td>\n",
       "      <td>0.0</td>\n",
       "      <td>0.0</td>\n",
       "      <td>0.0</td>\n",
       "      <td>0.0</td>\n",
       "      <td>0.0</td>\n",
       "      <td>0.0</td>\n",
       "      <td>0.0</td>\n",
       "      <td>...</td>\n",
       "      <td>0.0</td>\n",
       "      <td>0.0</td>\n",
       "      <td>0.0</td>\n",
       "      <td>0.0</td>\n",
       "      <td>0.0</td>\n",
       "      <td>0.0</td>\n",
       "      <td>0.0</td>\n",
       "      <td>0.0</td>\n",
       "      <td>0.0</td>\n",
       "      <td>0.0</td>\n",
       "    </tr>\n",
       "    <tr>\n",
       "      <th>1</th>\n",
       "      <td>0.0</td>\n",
       "      <td>0.0</td>\n",
       "      <td>0.0</td>\n",
       "      <td>0.0</td>\n",
       "      <td>0.0</td>\n",
       "      <td>0.0</td>\n",
       "      <td>0.0</td>\n",
       "      <td>0.0</td>\n",
       "      <td>0.0</td>\n",
       "      <td>0.0</td>\n",
       "      <td>...</td>\n",
       "      <td>0.0</td>\n",
       "      <td>0.0</td>\n",
       "      <td>0.0</td>\n",
       "      <td>0.0</td>\n",
       "      <td>0.0</td>\n",
       "      <td>0.0</td>\n",
       "      <td>0.0</td>\n",
       "      <td>0.0</td>\n",
       "      <td>0.0</td>\n",
       "      <td>0.0</td>\n",
       "    </tr>\n",
       "    <tr>\n",
       "      <th>2</th>\n",
       "      <td>0.0</td>\n",
       "      <td>0.0</td>\n",
       "      <td>0.0</td>\n",
       "      <td>0.0</td>\n",
       "      <td>0.0</td>\n",
       "      <td>0.0</td>\n",
       "      <td>0.0</td>\n",
       "      <td>0.0</td>\n",
       "      <td>0.0</td>\n",
       "      <td>0.0</td>\n",
       "      <td>...</td>\n",
       "      <td>0.0</td>\n",
       "      <td>0.0</td>\n",
       "      <td>0.0</td>\n",
       "      <td>0.0</td>\n",
       "      <td>0.0</td>\n",
       "      <td>0.0</td>\n",
       "      <td>0.0</td>\n",
       "      <td>0.0</td>\n",
       "      <td>0.0</td>\n",
       "      <td>0.0</td>\n",
       "    </tr>\n",
       "    <tr>\n",
       "      <th>3</th>\n",
       "      <td>0.0</td>\n",
       "      <td>0.0</td>\n",
       "      <td>0.0</td>\n",
       "      <td>0.0</td>\n",
       "      <td>0.0</td>\n",
       "      <td>0.0</td>\n",
       "      <td>0.0</td>\n",
       "      <td>0.0</td>\n",
       "      <td>0.0</td>\n",
       "      <td>0.0</td>\n",
       "      <td>...</td>\n",
       "      <td>0.0</td>\n",
       "      <td>0.0</td>\n",
       "      <td>0.0</td>\n",
       "      <td>0.0</td>\n",
       "      <td>0.0</td>\n",
       "      <td>0.0</td>\n",
       "      <td>0.0</td>\n",
       "      <td>0.0</td>\n",
       "      <td>0.0</td>\n",
       "      <td>0.0</td>\n",
       "    </tr>\n",
       "    <tr>\n",
       "      <th>4</th>\n",
       "      <td>0.0</td>\n",
       "      <td>0.0</td>\n",
       "      <td>0.0</td>\n",
       "      <td>0.0</td>\n",
       "      <td>0.0</td>\n",
       "      <td>0.0</td>\n",
       "      <td>0.0</td>\n",
       "      <td>0.0</td>\n",
       "      <td>0.0</td>\n",
       "      <td>0.0</td>\n",
       "      <td>...</td>\n",
       "      <td>0.0</td>\n",
       "      <td>0.0</td>\n",
       "      <td>0.0</td>\n",
       "      <td>0.0</td>\n",
       "      <td>0.0</td>\n",
       "      <td>0.0</td>\n",
       "      <td>0.0</td>\n",
       "      <td>0.0</td>\n",
       "      <td>0.0</td>\n",
       "      <td>0.0</td>\n",
       "    </tr>\n",
       "  </tbody>\n",
       "</table>\n",
       "<p>5 rows × 27289 columns</p>\n",
       "</div>"
      ],
      "text/plain": [
       "    00  000  001695  007  00a  00am  00ish  00pm   01  011802  ...  誰も乗車しなくても  \\\n",
       "0  0.0  0.0     0.0  0.0  0.0   0.0    0.0   0.0  0.0     0.0  ...        0.0   \n",
       "1  0.0  0.0     0.0  0.0  0.0   0.0    0.0   0.0  0.0     0.0  ...        0.0   \n",
       "2  0.0  0.0     0.0  0.0  0.0   0.0    0.0   0.0  0.0     0.0  ...        0.0   \n",
       "3  0.0  0.0     0.0  0.0  0.0   0.0    0.0   0.0  0.0     0.0  ...        0.0   \n",
       "4  0.0  0.0     0.0  0.0  0.0   0.0    0.0   0.0  0.0     0.0  ...        0.0   \n",
       "\n",
       "   豆腐花  質問にも丁寧に答えてくれましたし  車好きさんには  這是一個不錯的選擇  運転しない  運転中も英語で指導があります  食べ物はうまい  \\\n",
       "0  0.0               0.0      0.0        0.0    0.0             0.0      0.0   \n",
       "1  0.0               0.0      0.0        0.0    0.0             0.0      0.0   \n",
       "2  0.0               0.0      0.0        0.0    0.0             0.0      0.0   \n",
       "3  0.0               0.0      0.0        0.0    0.0             0.0      0.0   \n",
       "4  0.0               0.0      0.0        0.0    0.0             0.0      0.0   \n",
       "\n",
       "   餐後點了甜點  ３時間後の便  \n",
       "0     0.0     0.0  \n",
       "1     0.0     0.0  \n",
       "2     0.0     0.0  \n",
       "3     0.0     0.0  \n",
       "4     0.0     0.0  \n",
       "\n",
       "[5 rows x 27289 columns]"
      ]
     },
     "execution_count": 20,
     "metadata": {},
     "output_type": "execute_result"
    }
   ],
   "source": [
    "#get feature matrix using vectors\n",
    "text = list(yelp.text)\n",
    "\n",
    "# Instantiate vectorizer object\n",
    "tfidf = TfidfVectorizer(stop_words='english')\n",
    "\n",
    "# Create a vocabulary and get word counts per document\n",
    "# Similiar to fit_predict\n",
    "dtm = tfidf.fit_transform(text)\n",
    "\n",
    "# Print word counts\n",
    "\n",
    "# Get feature names to use as dataframe column headers\n",
    "dtm = pd.DataFrame(dtm.todense(), columns=tfidf.get_feature_names())\n",
    "\n",
    "# View Feature Matrix as DataFrame\n",
    "dtm.head()"
   ]
  },
  {
   "cell_type": "code",
   "execution_count": 21,
   "metadata": {},
   "outputs": [],
   "source": [
    "#long text\n",
    "#print(vect.get_feature_names())"
   ]
  },
  {
   "cell_type": "code",
   "execution_count": 22,
   "metadata": {},
   "outputs": [
    {
     "data": {
      "text/plain": [
       "NearestNeighbors(algorithm='kd_tree', leaf_size=30, metric='minkowski',\n",
       "         metric_params=None, n_jobs=None, n_neighbors=5, p=2, radius=1.0)"
      ]
     },
     "execution_count": 22,
     "metadata": {},
     "output_type": "execute_result"
    }
   ],
   "source": [
    "#use nn to fit on dtm\n",
    "from sklearn.neighbors import NearestNeighbors\n",
    "\n",
    "# Fit on DTM\n",
    "nn = NearestNeighbors(n_neighbors=5, algorithm='kd_tree')\n",
    "nn.fit(dtm)"
   ]
  },
  {
   "cell_type": "code",
   "execution_count": 23,
   "metadata": {},
   "outputs": [
    {
     "data": {
      "text/plain": [
       "(array([[0.        , 1.29553936, 1.29718442, 1.31183842, 1.31379732]]),\n",
       " array([[ 336,  793, 8151, 2337, 4151]]))"
      ]
     },
     "execution_count": 23,
     "metadata": {},
     "output_type": "execute_result"
    }
   ],
   "source": [
    " # Query Using kneighbors \n",
    "nn.kneighbors([dtm.iloc[336]])"
   ]
  },
  {
   "cell_type": "code",
   "execution_count": 24,
   "metadata": {},
   "outputs": [],
   "source": [
    "# Query for similarities of Random rev to Yelp\n",
    "rndm_rev = [ \"\"\"\n",
    "I came here with a party of 3 on a regular weekday at 6:30PM. We were seated immediately, but the restaurant started to get packed shortly. APPEARANCE & SEATING: I love how the front of the restaurant is an open window/wall, so the restaurant doesn't get too stuffy\n",
    "\"\"\"]\n",
    "new = tfidf.transform(rndm_rev)"
   ]
  },
  {
   "cell_type": "code",
   "execution_count": 25,
   "metadata": {},
   "outputs": [
    {
     "data": {
      "text/plain": [
       "(array([[1.27461474, 1.28178704, 1.29819903, 1.30014686, 1.30368051]]),\n",
       " array([[8050, 1773, 5652, 1322, 8811]]))"
      ]
     },
     "execution_count": 25,
     "metadata": {},
     "output_type": "execute_result"
    }
   ],
   "source": [
    "nn.kneighbors(new.todense())"
   ]
  },
  {
   "cell_type": "code",
   "execution_count": 26,
   "metadata": {},
   "outputs": [
    {
     "data": {
      "text/plain": [
       "'I have been here twice before and service was terrible.  Waiting for a table for 30 mins or longer when tables were open, was unacceptable!  People who arrived after us were seated before us, same seating preference and number in party.  \\nYesterday, their service was awesome!  For a party of 7, we were seated immediately with no hassle.  Our server was Tony and he made the evening enjoyable.  He was very attentive and personable.  With the crew yesterday, I would gladly return to this location.'"
      ]
     },
     "execution_count": 26,
     "metadata": {},
     "output_type": "execute_result"
    }
   ],
   "source": [
    "yelp.text[8050]"
   ]
  },
  {
   "cell_type": "code",
   "execution_count": 27,
   "metadata": {},
   "outputs": [
    {
     "name": "stdout",
     "output_type": "stream",
     "text": [
      "We were passing by town. & this restaurant came across. We were looking for a good & local restaurant. We didn't get disappointed. Best nacho i've ever had.\n",
      "First time here. Cute little restaurant that smells really good when you walk in.   Clean in appearance. Tonight at 6pm there is only one waitress who is serving inside and outside.  She is also handling the take out orders.  She is attentive when you flag her down. The food was outstanding  and my portion was so big I  had to take some home.  I don't want  to say this restaurant was wonderful, because I'm afraid I won't be able to get a table next time we come back, but it was.  Only 4 stars because  they do need more wait staff.\n",
      "Great little Mexican place, best for take out.\n",
      "\n",
      "Can't wait until they open the larger restaurant downtown.\n",
      "Personally I think this is one of the best take out Chinese restaurant in city. I've been going to this restaurant since I was little late 90's since then the food tasted better and quality of food is excellent. The area is a little iffy for the nighttime but during the day a lot of employees from the hospital pick up lunch. The prices are great and the portion is plenty. Try going during the weekday for the lunch special.\n"
     ]
    }
   ],
   "source": [
    "print(yelp.text[1773])\n",
    "print(yelp.text[5652])\n",
    "print(yelp.text[1322])\n",
    "print(yelp.text[8811])"
   ]
  },
  {
   "cell_type": "code",
   "execution_count": 28,
   "metadata": {},
   "outputs": [],
   "source": [
    "# Calculate Distance of TF-IDF Vectors\n",
    "from sklearn.metrics.pairwise import cosine_similarity\n",
    "\n",
    "dist_matrix  = cosine_similarity(dtm)\n",
    "df = pd.DataFrame(dist_matrix)"
   ]
  },
  {
   "cell_type": "code",
   "execution_count": 29,
   "metadata": {},
   "outputs": [
    {
     "data": {
      "text/html": [
       "<div>\n",
       "<style scoped>\n",
       "    .dataframe tbody tr th:only-of-type {\n",
       "        vertical-align: middle;\n",
       "    }\n",
       "\n",
       "    .dataframe tbody tr th {\n",
       "        vertical-align: top;\n",
       "    }\n",
       "\n",
       "    .dataframe thead th {\n",
       "        text-align: right;\n",
       "    }\n",
       "</style>\n",
       "<table border=\"1\" class=\"dataframe\">\n",
       "  <thead>\n",
       "    <tr style=\"text-align: right;\">\n",
       "      <th></th>\n",
       "      <th>0</th>\n",
       "      <th>1</th>\n",
       "      <th>2</th>\n",
       "      <th>3</th>\n",
       "      <th>4</th>\n",
       "      <th>5</th>\n",
       "      <th>6</th>\n",
       "      <th>7</th>\n",
       "      <th>8</th>\n",
       "      <th>9</th>\n",
       "      <th>...</th>\n",
       "      <th>9990</th>\n",
       "      <th>9991</th>\n",
       "      <th>9992</th>\n",
       "      <th>9993</th>\n",
       "      <th>9994</th>\n",
       "      <th>9995</th>\n",
       "      <th>9996</th>\n",
       "      <th>9997</th>\n",
       "      <th>9998</th>\n",
       "      <th>9999</th>\n",
       "    </tr>\n",
       "  </thead>\n",
       "  <tbody>\n",
       "    <tr>\n",
       "      <th>0</th>\n",
       "      <td>1.000000</td>\n",
       "      <td>0.000000</td>\n",
       "      <td>0.011914</td>\n",
       "      <td>0.000000</td>\n",
       "      <td>0.000000</td>\n",
       "      <td>0.023318</td>\n",
       "      <td>0.002262</td>\n",
       "      <td>0.003975</td>\n",
       "      <td>0.001873</td>\n",
       "      <td>0.028459</td>\n",
       "      <td>...</td>\n",
       "      <td>0.000000</td>\n",
       "      <td>0.000000</td>\n",
       "      <td>0.000000</td>\n",
       "      <td>0.008884</td>\n",
       "      <td>0.014684</td>\n",
       "      <td>0.042875</td>\n",
       "      <td>0.000000</td>\n",
       "      <td>0.000000</td>\n",
       "      <td>0.000000</td>\n",
       "      <td>0.034125</td>\n",
       "    </tr>\n",
       "    <tr>\n",
       "      <th>1</th>\n",
       "      <td>0.000000</td>\n",
       "      <td>1.000000</td>\n",
       "      <td>0.015051</td>\n",
       "      <td>0.000000</td>\n",
       "      <td>0.055804</td>\n",
       "      <td>0.053295</td>\n",
       "      <td>0.000000</td>\n",
       "      <td>0.020167</td>\n",
       "      <td>0.004505</td>\n",
       "      <td>0.009144</td>\n",
       "      <td>...</td>\n",
       "      <td>0.032563</td>\n",
       "      <td>0.019836</td>\n",
       "      <td>0.000000</td>\n",
       "      <td>0.000000</td>\n",
       "      <td>0.011554</td>\n",
       "      <td>0.000000</td>\n",
       "      <td>0.023795</td>\n",
       "      <td>0.000000</td>\n",
       "      <td>0.000000</td>\n",
       "      <td>0.006531</td>\n",
       "    </tr>\n",
       "    <tr>\n",
       "      <th>2</th>\n",
       "      <td>0.011914</td>\n",
       "      <td>0.015051</td>\n",
       "      <td>1.000000</td>\n",
       "      <td>0.022372</td>\n",
       "      <td>0.000000</td>\n",
       "      <td>0.013487</td>\n",
       "      <td>0.022559</td>\n",
       "      <td>0.014843</td>\n",
       "      <td>0.023348</td>\n",
       "      <td>0.055829</td>\n",
       "      <td>...</td>\n",
       "      <td>0.010684</td>\n",
       "      <td>0.025304</td>\n",
       "      <td>0.000000</td>\n",
       "      <td>0.022487</td>\n",
       "      <td>0.017014</td>\n",
       "      <td>0.031043</td>\n",
       "      <td>0.000000</td>\n",
       "      <td>0.000000</td>\n",
       "      <td>0.011111</td>\n",
       "      <td>0.090149</td>\n",
       "    </tr>\n",
       "    <tr>\n",
       "      <th>3</th>\n",
       "      <td>0.000000</td>\n",
       "      <td>0.000000</td>\n",
       "      <td>0.022372</td>\n",
       "      <td>1.000000</td>\n",
       "      <td>0.000000</td>\n",
       "      <td>0.055302</td>\n",
       "      <td>0.018994</td>\n",
       "      <td>0.015863</td>\n",
       "      <td>0.006302</td>\n",
       "      <td>0.000000</td>\n",
       "      <td>...</td>\n",
       "      <td>0.015288</td>\n",
       "      <td>0.000000</td>\n",
       "      <td>0.005109</td>\n",
       "      <td>0.006793</td>\n",
       "      <td>0.000000</td>\n",
       "      <td>0.013940</td>\n",
       "      <td>0.000000</td>\n",
       "      <td>0.023541</td>\n",
       "      <td>0.000000</td>\n",
       "      <td>0.073619</td>\n",
       "    </tr>\n",
       "    <tr>\n",
       "      <th>4</th>\n",
       "      <td>0.000000</td>\n",
       "      <td>0.055804</td>\n",
       "      <td>0.000000</td>\n",
       "      <td>0.000000</td>\n",
       "      <td>1.000000</td>\n",
       "      <td>0.054491</td>\n",
       "      <td>0.000000</td>\n",
       "      <td>0.030375</td>\n",
       "      <td>0.002000</td>\n",
       "      <td>0.048990</td>\n",
       "      <td>...</td>\n",
       "      <td>0.019551</td>\n",
       "      <td>0.000000</td>\n",
       "      <td>0.023419</td>\n",
       "      <td>0.000000</td>\n",
       "      <td>0.087087</td>\n",
       "      <td>0.018783</td>\n",
       "      <td>0.016727</td>\n",
       "      <td>0.033698</td>\n",
       "      <td>0.028347</td>\n",
       "      <td>0.049373</td>\n",
       "    </tr>\n",
       "  </tbody>\n",
       "</table>\n",
       "<p>5 rows × 10000 columns</p>\n",
       "</div>"
      ],
      "text/plain": [
       "       0         1         2         3         4         5         6     \\\n",
       "0  1.000000  0.000000  0.011914  0.000000  0.000000  0.023318  0.002262   \n",
       "1  0.000000  1.000000  0.015051  0.000000  0.055804  0.053295  0.000000   \n",
       "2  0.011914  0.015051  1.000000  0.022372  0.000000  0.013487  0.022559   \n",
       "3  0.000000  0.000000  0.022372  1.000000  0.000000  0.055302  0.018994   \n",
       "4  0.000000  0.055804  0.000000  0.000000  1.000000  0.054491  0.000000   \n",
       "\n",
       "       7         8         9     ...      9990      9991      9992      9993  \\\n",
       "0  0.003975  0.001873  0.028459  ...  0.000000  0.000000  0.000000  0.008884   \n",
       "1  0.020167  0.004505  0.009144  ...  0.032563  0.019836  0.000000  0.000000   \n",
       "2  0.014843  0.023348  0.055829  ...  0.010684  0.025304  0.000000  0.022487   \n",
       "3  0.015863  0.006302  0.000000  ...  0.015288  0.000000  0.005109  0.006793   \n",
       "4  0.030375  0.002000  0.048990  ...  0.019551  0.000000  0.023419  0.000000   \n",
       "\n",
       "       9994      9995      9996      9997      9998      9999  \n",
       "0  0.014684  0.042875  0.000000  0.000000  0.000000  0.034125  \n",
       "1  0.011554  0.000000  0.023795  0.000000  0.000000  0.006531  \n",
       "2  0.017014  0.031043  0.000000  0.000000  0.011111  0.090149  \n",
       "3  0.000000  0.013940  0.000000  0.023541  0.000000  0.073619  \n",
       "4  0.087087  0.018783  0.016727  0.033698  0.028347  0.049373  \n",
       "\n",
       "[5 rows x 10000 columns]"
      ]
     },
     "execution_count": 29,
     "metadata": {},
     "output_type": "execute_result"
    }
   ],
   "source": [
    "df.head()"
   ]
  },
  {
   "cell_type": "code",
   "execution_count": 30,
   "metadata": {},
   "outputs": [
    {
     "data": {
      "text/plain": [
       "2131    0.177647\n",
       "6019    0.159861\n",
       "3276    0.154192\n",
       "8470    0.148282\n",
       "2943    0.140329\n",
       "9036    0.138304\n",
       "2621    0.130106\n",
       "3714    0.126975\n",
       "2207    0.115362\n",
       "2865    0.110957\n",
       "Name: 0, dtype: float64"
      ]
     },
     "execution_count": 30,
     "metadata": {},
     "output_type": "execute_result"
    }
   ],
   "source": [
    "# Grab the row\n",
    "df[df[0] < 1][0].sort_values(ascending=False)[:10]"
   ]
  },
  {
   "cell_type": "code",
   "execution_count": null,
   "metadata": {},
   "outputs": [],
   "source": []
  },
  {
   "cell_type": "markdown",
   "metadata": {},
   "source": [
    "## Part 3: Classification\n",
    "<a id=\"#p3\"></a>\n",
    "Your goal in this section will be to predict `stars` from the review dataset. \n",
    "\n",
    "1. Create a piepline object with a sklearn `CountVectorizer` or `TfidfVector` and any sklearn classifier. Use that pipeline to estimate a model to predict `stars`. Use the Pipeline to predict a star rating for your fake review from Part 2. \n",
    "2. Tune the entire pipeline with a GridSearch"
   ]
  },
  {
   "cell_type": "code",
   "execution_count": 31,
   "metadata": {},
   "outputs": [],
   "source": [
    "# Create Pipeline Components\n",
    "\n",
    "vect = TfidfVectorizer(stop_words='english', ngram_range=(1,2))\n",
    "rfc = RandomForestClassifier()\n",
    "\n",
    "\n",
    "# Define the Pipeline\n",
    "\n",
    "pipe = Pipeline([('vect', vect), ('clf', rfc)])"
   ]
  },
  {
   "cell_type": "code",
   "execution_count": 32,
   "metadata": {},
   "outputs": [
    {
     "name": "stdout",
     "output_type": "stream",
     "text": [
      "Fitting 5 folds for each of 32 candidates, totalling 160 fits\n"
     ]
    },
    {
     "name": "stderr",
     "output_type": "stream",
     "text": [
      "[Parallel(n_jobs=-1)]: Using backend LokyBackend with 4 concurrent workers.\n",
      "[Parallel(n_jobs=-1)]: Done  33 tasks      | elapsed:  1.4min\n",
      "[Parallel(n_jobs=-1)]: Done 160 out of 160 | elapsed:  6.4min finished\n"
     ]
    },
    {
     "data": {
      "text/plain": [
       "GridSearchCV(cv=5, error_score='raise-deprecating',\n",
       "       estimator=Pipeline(memory=None,\n",
       "     steps=[('vect', TfidfVectorizer(analyzer='word', binary=False, decode_error='strict',\n",
       "        dtype=<class 'numpy.float64'>, encoding='utf-8', input='content',\n",
       "        lowercase=True, max_df=1.0, max_features=None, min_df=1,\n",
       "        ngram_range=(1, 2), norm='l2', preprocessor=None, smooth_idf=True,\n",
       "...obs=None,\n",
       "            oob_score=False, random_state=None, verbose=0,\n",
       "            warm_start=False))]),\n",
       "       fit_params=None, iid='warn', n_jobs=-1,\n",
       "       param_grid={'vect__max_df': (0.75, 1.0), 'vect__min_df': (0.02, 0.05), 'vect__max_features': (500, 1000), 'clf__n_estimators': (25, 30), 'clf__max_depth': (15, 20)},\n",
       "       pre_dispatch='2*n_jobs', refit=True, return_train_score='warn',\n",
       "       scoring=None, verbose=2)"
      ]
     },
     "execution_count": 32,
     "metadata": {},
     "output_type": "execute_result"
    }
   ],
   "source": [
    "\n",
    "parameters = {\n",
    "    'vect__max_df': ( 0.75, 1.0),\n",
    "    'vect__min_df': (.02, .05),\n",
    "    'vect__max_features': (500,1000),\n",
    "    'clf__n_estimators':(25, 30),\n",
    "    'clf__max_depth':(15, 20)\n",
    "}\n",
    "\n",
    "grid_search = GridSearchCV(pipe, parameters, cv=5, n_jobs=-1, verbose=2)\n",
    "grid_search.fit(yelp.text, yelp.stars)"
   ]
  },
  {
   "cell_type": "code",
   "execution_count": 33,
   "metadata": {},
   "outputs": [
    {
     "data": {
      "text/plain": [
       "0.5512"
      ]
     },
     "execution_count": 33,
     "metadata": {},
     "output_type": "execute_result"
    }
   ],
   "source": [
    "grid_search.best_score_"
   ]
  },
  {
   "cell_type": "code",
   "execution_count": 47,
   "metadata": {},
   "outputs": [],
   "source": [
    "#first run was: 0.5467 with the basic param, run time 7.6 mins\n",
    "#second run was:  0.5509 with tuning clf__n_estimators':(25, 30), clf__max_depth':(15, 20), run time 6.4 mis"
   ]
  },
  {
   "cell_type": "markdown",
   "metadata": {},
   "source": [
    "## Part 4: Topic Modeling\n",
    "\n",
    "Let's find out what those yelp reviews are saying! :D\n",
    "\n",
    "1. Estimate a LDA topic model of the review text\n",
    "    - Keep the `iterations` parameter at or below 5 to reduce run time\n",
    "    - The `workers` parameter should match the number of physical cores on your machine.\n",
    "2. Create 1-2 visualizations of the results\n",
    "    - You can use the most important 3 words of a topic in relevant visualizations. Refer to yesterday's notebook to extract. \n",
    "3. In markdown, write 1-2 paragraphs of analysis on the results of your topic model\n",
    "\n",
    "__*Note*__: You can pass the DataFrame column of text reviews to gensim. You do not have to use a generator."
   ]
  },
  {
   "cell_type": "code",
   "execution_count": 35,
   "metadata": {
    "collapsed": false,
    "inputHidden": false,
    "jupyter": {
     "outputs_hidden": false
    },
    "outputHidden": false
   },
   "outputs": [],
   "source": [
    "from gensim.models import LdaMulticore\n",
    "from gensim.corpora import Dictionary"
   ]
  },
  {
   "cell_type": "markdown",
   "metadata": {},
   "source": [
    "Learn the vocubalary of the yelp data:"
   ]
  },
  {
   "cell_type": "code",
   "execution_count": 36,
   "metadata": {},
   "outputs": [],
   "source": [
    "#id2word = ...\n",
    "# A Dictionary Representation of all the words in our corpus\n",
    "id2word = corpora.Dictionary(yelp['text'].apply(tokenize))"
   ]
  },
  {
   "cell_type": "code",
   "execution_count": 37,
   "metadata": {},
   "outputs": [
    {
     "data": {
      "text/plain": [
       "56"
      ]
     },
     "execution_count": 37,
     "metadata": {},
     "output_type": "execute_result"
    }
   ],
   "source": [
    "import sys\n",
    "sys.getsizeof(id2word)"
   ]
  },
  {
   "cell_type": "markdown",
   "metadata": {},
   "source": [
    "Create a bag of words representation of the entire corpus"
   ]
  },
  {
   "cell_type": "code",
   "execution_count": 38,
   "metadata": {
    "collapsed": false,
    "inputHidden": false,
    "jupyter": {
     "outputs_hidden": false
    },
    "outputHidden": false
   },
   "outputs": [],
   "source": [
    "#corpus = ...\n",
    "# a bag of words(bow) representation of our corpus\n",
    "# Note: we haven't actually read any text into memory here\n",
    "corpus = [id2word.doc2bow(text) for text in yelp['text'].apply(tokenize)]"
   ]
  },
  {
   "cell_type": "markdown",
   "metadata": {},
   "source": [
    "Your LDA model should be ready for estimation: "
   ]
  },
  {
   "cell_type": "code",
   "execution_count": 39,
   "metadata": {
    "collapsed": false,
    "inputHidden": false,
    "jupyter": {
     "outputs_hidden": false
    },
    "outputHidden": false
   },
   "outputs": [],
   "source": [
    "lda = LdaMulticore(corpus=corpus,\n",
    "                   id2word=id2word,\n",
    "                   iterations=5,\n",
    "                   workers=4,\n",
    "                   num_topics = 5 # You can change this parameter\n",
    "                  )"
   ]
  },
  {
   "cell_type": "markdown",
   "metadata": {},
   "source": [
    "Create 1-2 visualizations of the results"
   ]
  },
  {
   "cell_type": "code",
   "execution_count": 40,
   "metadata": {
    "collapsed": false,
    "inputHidden": false,
    "jupyter": {
     "outputs_hidden": false
    },
    "outputHidden": false
   },
   "outputs": [],
   "source": [
    "words = [re.findall(r'\"([^\"]*)\"',t[1]) for t in lda.print_topics()]"
   ]
  },
  {
   "cell_type": "code",
   "execution_count": 41,
   "metadata": {},
   "outputs": [],
   "source": [
    "topics = [' '.join(t[0:5]) for t in words]"
   ]
  },
  {
   "cell_type": "code",
   "execution_count": 42,
   "metadata": {},
   "outputs": [
    {
     "name": "stdout",
     "output_type": "stream",
     "text": [
      "------ Topic 0 ------\n",
      "place food time good like\n",
      "\n",
      "------ Topic 1 ------\n",
      "great food time service place\n",
      "\n",
      "------ Topic 2 ------\n",
      "food good great service place\n",
      "\n",
      "------ Topic 3 ------\n",
      "good place great food time\n",
      "\n",
      "------ Topic 4 ------\n",
      "place food good like service\n",
      "\n"
     ]
    }
   ],
   "source": [
    "for id, t in enumerate(topics): \n",
    "    print(f\"------ Topic {id} ------\")\n",
    "    print(t, end=\"\\n\\n\")"
   ]
  },
  {
   "cell_type": "code",
   "execution_count": 43,
   "metadata": {},
   "outputs": [],
   "source": [
    "#Topic Distance Visualization\n",
    "\n",
    "import pyLDAvis.gensim\n",
    "\n",
    "pyLDAvis.enable_notebook()"
   ]
  },
  {
   "cell_type": "code",
   "execution_count": 44,
   "metadata": {},
   "outputs": [
    {
     "name": "stderr",
     "output_type": "stream",
     "text": [
      "/Users/michelle/opt/anaconda3/envs/U4-S1-NLP/lib/python3.7/site-packages/pyLDAvis/_prepare.py:257: FutureWarning: Sorting because non-concatenation axis is not aligned. A future version\n",
      "of pandas will change to not sort by default.\n",
      "\n",
      "To accept the future behavior, pass 'sort=False'.\n",
      "\n",
      "To retain the current behavior and silence the warning, pass 'sort=True'.\n",
      "\n",
      "  return pd.concat([default_term_info] + list(topic_dfs))\n"
     ]
    },
    {
     "data": {
      "text/html": [
       "\n",
       "<link rel=\"stylesheet\" type=\"text/css\" href=\"https://cdn.rawgit.com/bmabey/pyLDAvis/files/ldavis.v1.0.0.css\">\n",
       "\n",
       "\n",
       "<div id=\"ldavis_el9133294192021361825565404\"></div>\n",
       "<script type=\"text/javascript\">\n",
       "\n",
       "var ldavis_el9133294192021361825565404_data = {\"mdsDat\": {\"x\": [0.005723497480764522, -0.0007752551204553244, -0.0034972047438803344, 0.0008456166372015029, -0.0022966542536303662], \"y\": [-0.00033371380411233403, 0.004947871014217141, -0.0030433265712314903, -0.002706615320514265, 0.0011357846816409444], \"topics\": [1, 2, 3, 4, 5], \"cluster\": [1, 1, 1, 1, 1], \"Freq\": [20.823474884033203, 19.850107192993164, 19.82561683654785, 19.809280395507812, 19.6915225982666]}, \"tinfo\": {\"Category\": [\"Default\", \"Default\", \"Default\", \"Default\", \"Default\", \"Default\", \"Default\", \"Default\", \"Default\", \"Default\", \"Default\", \"Default\", \"Default\", \"Default\", \"Default\", \"Default\", \"Default\", \"Default\", \"Default\", \"Default\", \"Default\", \"Default\", \"Default\", \"Default\", \"Default\", \"Default\", \"Default\", \"Default\", \"Default\", \"Default\", \"Topic1\", \"Topic1\", \"Topic1\", \"Topic1\", \"Topic1\", \"Topic1\", \"Topic1\", \"Topic1\", \"Topic1\", \"Topic1\", \"Topic1\", \"Topic1\", \"Topic1\", \"Topic1\", \"Topic1\", \"Topic1\", \"Topic1\", \"Topic1\", \"Topic1\", \"Topic1\", \"Topic1\", \"Topic1\", \"Topic1\", \"Topic1\", \"Topic1\", \"Topic1\", \"Topic1\", \"Topic1\", \"Topic1\", \"Topic1\", \"Topic1\", \"Topic1\", \"Topic1\", \"Topic1\", \"Topic1\", \"Topic1\", \"Topic1\", \"Topic1\", \"Topic1\", \"Topic1\", \"Topic1\", \"Topic1\", \"Topic1\", \"Topic1\", \"Topic1\", \"Topic1\", \"Topic1\", \"Topic1\", \"Topic1\", \"Topic1\", \"Topic1\", \"Topic1\", \"Topic1\", \"Topic1\", \"Topic1\", \"Topic1\", \"Topic1\", \"Topic1\", \"Topic1\", \"Topic1\", \"Topic1\", \"Topic1\", \"Topic1\", \"Topic1\", \"Topic1\", \"Topic1\", \"Topic1\", \"Topic1\", \"Topic1\", \"Topic1\", \"Topic1\", \"Topic1\", \"Topic1\", \"Topic1\", \"Topic1\", \"Topic1\", \"Topic1\", \"Topic1\", \"Topic1\", \"Topic1\", \"Topic1\", \"Topic2\", \"Topic2\", \"Topic2\", \"Topic2\", \"Topic2\", \"Topic2\", \"Topic2\", \"Topic2\", \"Topic2\", \"Topic2\", \"Topic2\", \"Topic2\", \"Topic2\", \"Topic2\", \"Topic2\", \"Topic2\", \"Topic2\", \"Topic2\", \"Topic2\", \"Topic2\", \"Topic2\", \"Topic2\", \"Topic2\", \"Topic2\", \"Topic2\", \"Topic2\", \"Topic2\", \"Topic2\", \"Topic2\", \"Topic2\", \"Topic2\", \"Topic2\", \"Topic2\", \"Topic2\", \"Topic2\", \"Topic2\", \"Topic2\", \"Topic2\", \"Topic2\", \"Topic2\", \"Topic2\", \"Topic2\", \"Topic2\", \"Topic2\", \"Topic2\", \"Topic2\", \"Topic2\", \"Topic2\", \"Topic2\", \"Topic2\", \"Topic2\", \"Topic2\", \"Topic2\", \"Topic2\", \"Topic2\", \"Topic2\", \"Topic2\", \"Topic2\", \"Topic2\", \"Topic2\", \"Topic2\", \"Topic2\", \"Topic2\", \"Topic2\", \"Topic2\", \"Topic2\", \"Topic2\", \"Topic2\", \"Topic2\", \"Topic2\", \"Topic2\", \"Topic2\", \"Topic2\", \"Topic2\", \"Topic2\", \"Topic2\", \"Topic2\", \"Topic2\", \"Topic2\", \"Topic2\", \"Topic2\", \"Topic2\", \"Topic2\", \"Topic2\", \"Topic2\", \"Topic2\", \"Topic2\", \"Topic3\", \"Topic3\", \"Topic3\", \"Topic3\", \"Topic3\", \"Topic3\", \"Topic3\", \"Topic3\", \"Topic3\", \"Topic3\", \"Topic3\", \"Topic3\", \"Topic3\", \"Topic3\", \"Topic3\", \"Topic3\", \"Topic3\", \"Topic3\", \"Topic3\", \"Topic3\", \"Topic3\", \"Topic3\", \"Topic3\", \"Topic3\", \"Topic3\", \"Topic3\", \"Topic3\", \"Topic3\", \"Topic3\", \"Topic3\", \"Topic3\", \"Topic3\", \"Topic3\", \"Topic3\", \"Topic3\", \"Topic3\", \"Topic3\", \"Topic3\", \"Topic3\", \"Topic3\", \"Topic3\", \"Topic3\", \"Topic3\", \"Topic3\", \"Topic3\", \"Topic3\", \"Topic3\", \"Topic3\", \"Topic3\", \"Topic3\", \"Topic3\", \"Topic3\", \"Topic3\", \"Topic3\", \"Topic3\", \"Topic3\", \"Topic3\", \"Topic3\", \"Topic3\", \"Topic3\", \"Topic3\", \"Topic3\", \"Topic3\", \"Topic3\", \"Topic3\", \"Topic3\", \"Topic3\", \"Topic3\", \"Topic3\", \"Topic3\", \"Topic3\", \"Topic3\", \"Topic3\", \"Topic3\", \"Topic3\", \"Topic3\", \"Topic3\", \"Topic3\", \"Topic3\", \"Topic3\", \"Topic3\", \"Topic3\", \"Topic3\", \"Topic3\", \"Topic3\", \"Topic3\", \"Topic3\", \"Topic3\", \"Topic3\", \"Topic3\", \"Topic3\", \"Topic3\", \"Topic3\", \"Topic3\", \"Topic3\", \"Topic3\", \"Topic3\", \"Topic4\", \"Topic4\", \"Topic4\", \"Topic4\", \"Topic4\", \"Topic4\", \"Topic4\", \"Topic4\", \"Topic4\", \"Topic4\", \"Topic4\", \"Topic4\", \"Topic4\", \"Topic4\", \"Topic4\", \"Topic4\", \"Topic4\", \"Topic4\", \"Topic4\", \"Topic4\", \"Topic4\", \"Topic4\", \"Topic4\", \"Topic4\", \"Topic4\", \"Topic4\", \"Topic4\", \"Topic4\", \"Topic4\", \"Topic4\", \"Topic4\", \"Topic4\", \"Topic4\", \"Topic4\", \"Topic4\", \"Topic4\", \"Topic4\", \"Topic4\", \"Topic4\", \"Topic4\", \"Topic4\", \"Topic4\", \"Topic4\", \"Topic4\", \"Topic4\", \"Topic4\", \"Topic4\", \"Topic4\", \"Topic4\", \"Topic4\", \"Topic4\", \"Topic4\", \"Topic4\", \"Topic4\", \"Topic4\", \"Topic4\", \"Topic4\", \"Topic4\", \"Topic4\", \"Topic4\", \"Topic4\", \"Topic4\", \"Topic4\", \"Topic4\", \"Topic4\", \"Topic4\", \"Topic4\", \"Topic4\", \"Topic4\", \"Topic4\", \"Topic4\", \"Topic4\", \"Topic4\", \"Topic4\", \"Topic4\", \"Topic4\", \"Topic4\", \"Topic4\", \"Topic4\", \"Topic4\", \"Topic4\", \"Topic4\", \"Topic4\", \"Topic4\", \"Topic4\", \"Topic4\", \"Topic4\", \"Topic4\", \"Topic5\", \"Topic5\", \"Topic5\", \"Topic5\", \"Topic5\", \"Topic5\", \"Topic5\", \"Topic5\", \"Topic5\", \"Topic5\", \"Topic5\", \"Topic5\", \"Topic5\", \"Topic5\", \"Topic5\", \"Topic5\", \"Topic5\", \"Topic5\", \"Topic5\", \"Topic5\", \"Topic5\", \"Topic5\", \"Topic5\", \"Topic5\", \"Topic5\", \"Topic5\", \"Topic5\", \"Topic5\", \"Topic5\", \"Topic5\", \"Topic5\", \"Topic5\", \"Topic5\", \"Topic5\", \"Topic5\", \"Topic5\", \"Topic5\", \"Topic5\", \"Topic5\", \"Topic5\", \"Topic5\", \"Topic5\", \"Topic5\", \"Topic5\", \"Topic5\", \"Topic5\", \"Topic5\", \"Topic5\", \"Topic5\", \"Topic5\", \"Topic5\", \"Topic5\", \"Topic5\", \"Topic5\", \"Topic5\", \"Topic5\", \"Topic5\", \"Topic5\", \"Topic5\", \"Topic5\", \"Topic5\", \"Topic5\", \"Topic5\", \"Topic5\", \"Topic5\", \"Topic5\", \"Topic5\", \"Topic5\", \"Topic5\", \"Topic5\", \"Topic5\", \"Topic5\", \"Topic5\", \"Topic5\", \"Topic5\", \"Topic5\", \"Topic5\", \"Topic5\", \"Topic5\", \"Topic5\", \"Topic5\", \"Topic5\", \"Topic5\", \"Topic5\", \"Topic5\", \"Topic5\", \"Topic5\", \"Topic5\", \"Topic5\", \"Topic5\", \"Topic5\"], \"Freq\": [3487.0, 4447.0, 3312.0, 4549.0, 4123.0, 1857.0, 4743.0, 1994.0, 1347.0, 870.0, 1744.0, 1507.0, 944.0, 1162.0, 1587.0, 1111.0, 780.0, 800.0, 1331.0, 642.0, 598.0, 761.0, 546.0, 906.0, 364.0, 675.0, 610.0, 470.0, 1381.0, 657.0, 4.32450008392334, 1.3260908126831055, 1.2556971311569214, 1.1678087711334229, 0.6213228106498718, 3.8273115158081055, 1.1774967908859253, 1.1692572832107544, 1.166704773902893, 1.4045411348342896, 1.1569277048110962, 1.1129244565963745, 1.1101094484329224, 0.7999042868614197, 1.312332034111023, 1.2526061534881592, 0.7876031398773193, 5.524963855743408, 1.0596116781234741, 1.058328628540039, 0.9963864684104919, 2.118973970413208, 18.357873916625977, 5.190919399261475, 13.931078910827637, 1.740036964416504, 1.0280218124389648, 1.023510456085205, 1.4593956470489502, 1.1888725757598877, 1086.0650634765625, 24.03688621520996, 10.572894096374512, 17.46868324279785, 1056.0438232421875, 112.16028594970703, 20.398391723632812, 1258.803466796875, 495.7846374511719, 211.6834716796875, 189.85525512695312, 110.54170227050781, 1245.298583984375, 47.20399475097656, 24.167299270629883, 1102.43359375, 348.9563903808594, 311.4014892578125, 182.367431640625, 114.66291046142578, 159.84690856933594, 210.4136505126953, 370.1951904296875, 186.78150939941406, 294.8436584472656, 232.67205810546875, 192.57369995117188, 180.86602783203125, 184.8230743408203, 245.7421417236328, 242.5905303955078, 260.8151550292969, 861.4588012695312, 269.1548767089844, 216.3234405517578, 678.776123046875, 200.55642700195312, 336.39404296875, 298.8966064453125, 308.2383728027344, 324.9590148925781, 286.486572265625, 350.3382873535156, 285.13916015625, 317.69696044921875, 251.37442016601562, 273.1752624511719, 270.0420227050781, 255.35150146484375, 255.70106506347656, 257.6863708496094, 1.3386374711990356, 1.3094221353530884, 2.890610933303833, 1.2270839214324951, 1.9579923152923584, 1.1958270072937012, 1.1579499244689941, 1.1393777132034302, 0.8175989985466003, 0.8023924827575684, 1.3206570148468018, 1.3123153448104858, 1.070521593093872, 1.2950960397720337, 0.9998582601547241, 3.242797613143921, 53.578269958496094, 1.7156331539154053, 1.0407084226608276, 10.367926597595215, 0.5430426001548767, 1.03951096534729, 1.407660961151123, 1.4479198455810547, 11.018571853637695, 1.4430065155029297, 1.0069761276245117, 8.601778030395508, 2.7171123027801514, 3.2409040927886963, 188.42909240722656, 11.049856185913086, 145.07960510253906, 36.11155700683594, 53.777488708496094, 4.5606303215026855, 4.601371765136719, 1152.548828125, 72.8951416015625, 46.49790954589844, 138.4265594482422, 41.918636322021484, 83.00906372070312, 35.444053649902344, 239.66421508789062, 252.78880310058594, 47.900150299072266, 96.52770233154297, 18.78390884399414, 338.72613525390625, 306.660400390625, 120.5350341796875, 324.38800048828125, 379.4054260253906, 125.76053619384766, 233.277099609375, 104.255615234375, 456.0672302246094, 203.73390197753906, 139.87295532226562, 306.2265319824219, 108.34009552001953, 167.71717834472656, 850.27490234375, 220.95660400390625, 319.41558837890625, 673.975830078125, 192.88885498046875, 884.1018676757812, 173.27992248535156, 318.423095703125, 303.5133972167969, 356.2523193359375, 217.18650817871094, 316.82965087890625, 357.4338073730469, 768.0631713867188, 533.1068725585938, 225.21499633789062, 227.66607666015625, 260.12744140625, 443.50128173828125, 270.7591857910156, 250.1812286376953, 240.4081573486328, 226.6286163330078, 251.66563415527344, 1.3629101514816284, 3.284759998321533, 0.6126560568809509, 0.596523106098175, 1.1375384330749512, 1.1091617345809937, 1.8607970476150513, 0.8098376989364624, 1.8463433980941772, 1.8452073335647583, 2.0765633583068848, 0.8021537065505981, 1.3129494190216064, 1.078639268875122, 2.8675787448883057, 1.055295705795288, 1.0022494792938232, 0.5495576858520508, 1.04732346534729, 3.8448264598846436, 1.758484125137329, 2.906830310821533, 0.5385192036628723, 1.0196716785430908, 2.3191328048706055, 3.3376047611236572, 1.7160050868988037, 1.9392145872116089, 1.0134305953979492, 2.394064426422119, 34.40178680419922, 105.6741943359375, 20.240076065063477, 118.97637176513672, 18.109830856323242, 43.79418182373047, 184.0410614013672, 56.41497802734375, 33.52775192260742, 116.06410217285156, 491.7548522949219, 102.08966827392578, 1021.9825439453125, 112.1004867553711, 162.66551208496094, 140.19970703125, 162.9088897705078, 204.57598876953125, 130.16424560546875, 395.9713134765625, 157.0663299560547, 82.18974304199219, 140.31915283203125, 24.26715087890625, 70.25235748291016, 80.43392181396484, 140.46400451660156, 109.61878967285156, 90.84703063964844, 203.44976806640625, 93.88541412353516, 317.27276611328125, 167.88404846191406, 117.4766845703125, 667.398681640625, 116.99348449707031, 153.747314453125, 424.7401428222656, 331.69049072265625, 309.3515930175781, 253.8793182373047, 366.26708984375, 204.40655517578125, 827.893798828125, 182.634521484375, 210.67449951171875, 343.3936462402344, 257.79571533203125, 213.5508575439453, 582.6980590820312, 302.55169677734375, 255.11679077148438, 285.9085388183594, 274.6126708984375, 524.472412109375, 224.5117950439453, 283.7645263671875, 265.310791015625, 569.7839965820312, 560.0457763671875, 265.474853515625, 258.15704345703125, 237.90065002441406, 242.30670166015625, 226.73390197753906, 219.93043518066406, 222.41160583496094, 2.335526704788208, 1.9189794063568115, 2.149920701980591, 1.1212983131408691, 0.5844467282295227, 2.839279890060425, 1.1118515729904175, 1.0498051643371582, 1.044770359992981, 1.2106928825378418, 2.4172279834747314, 1.0320383310317993, 1.0308772325515747, 27.97376251220703, 1.0170037746429443, 0.5323541760444641, 1.9315894842147827, 3.396421194076538, 1.2292020320892334, 1.0094815492630005, 0.5260260701179504, 0.5201447010040283, 1.3738042116165161, 0.9941622614860535, 1.2084438800811768, 6.917974948883057, 5.315028667449951, 2.522928476333618, 14.339311599731445, 1.4011926651000977, 3.542609930038452, 20.342296600341797, 261.35321044921875, 140.9913330078125, 21.08004379272461, 7.545506954193115, 23.220077514648438, 132.976806640625, 46.42831802368164, 178.9521942138672, 47.70967102050781, 51.19468688964844, 85.02136993408203, 130.80313110351562, 872.9338989257812, 473.68939208984375, 303.6189270019531, 34.27073287963867, 126.37549591064453, 293.8386535644531, 199.43663024902344, 102.56752014160156, 213.32272338867188, 159.40208435058594, 191.52560424804688, 1046.3338623046875, 901.3523559570312, 268.3975524902344, 930.7275390625, 56.63229751586914, 314.25946044921875, 131.4991455078125, 252.64125061035156, 91.38542938232422, 94.17007446289062, 128.46926879882812, 852.7200317382812, 413.58087158203125, 236.146484375, 251.09783935546875, 138.7666015625, 594.8102416992188, 291.45281982421875, 290.07464599609375, 562.6619873046875, 251.01507568359375, 274.69976806640625, 318.5957946777344, 253.284912109375, 201.92588806152344, 242.8393096923828, 229.4534912109375, 248.3646697998047, 240.335205078125, 243.41018676757812, 254.8979949951172, 238.1320343017578, 232.7836151123047, 1.4319977760314941, 3.0964627265930176, 1.2951738834381104, 1.2634388208389282, 1.1691417694091797, 1.6643704175949097, 1.4057153463363647, 1.092594861984253, 23.54624366760254, 1.0867936611175537, 0.5659381151199341, 1.8264977931976318, 0.5622255802154541, 2.545029401779175, 1.7869633436203003, 1.2822612524032593, 1.0387636423110962, 1.259690761566162, 13.513192176818848, 1.2040202617645264, 3.165172815322876, 1.0273139476776123, 5.2346510887146, 1.238869309425354, 3.233107328414917, 26.264862060546875, 1.712699055671692, 2.303745746612549, 2.776890754699707, 10.66250991821289, 115.97666931152344, 15.246809005737305, 282.5645751953125, 11.622381210327148, 397.619873046875, 25.27307891845703, 10.19009017944336, 7.838253974914551, 91.34064483642578, 41.70112609863281, 15.175727844238281, 77.78262329101562, 132.8423309326172, 31.812633514404297, 8.010335922241211, 211.13038635253906, 36.54495620727539, 44.0212287902832, 377.8063659667969, 92.41422271728516, 152.1074981689453, 278.836181640625, 276.2284240722656, 46.99147033691406, 91.56177520751953, 37.13163757324219, 983.78076171875, 721.895263671875, 150.98342895507812, 221.40492248535156, 246.1348419189453, 274.1873779296875, 158.10617065429688, 442.2696533203125, 171.9775848388672, 135.85533142089844, 99.10298156738281, 139.25099182128906, 80.59090423583984, 295.1692810058594, 227.0242462158203, 302.8863220214844, 856.4017944335938, 354.631591796875, 286.3166809082031, 249.01004028320312, 306.42919921875, 199.78578186035156, 573.72021484375, 701.4066162109375, 273.51812744140625, 532.0894165039062, 263.9002685546875, 265.92657470703125, 487.9542541503906, 232.07252502441406, 254.23269653320312, 290.34423828125, 270.21392822265625, 251.484130859375, 249.1261444091797], \"Term\": [\"service\", \"good\", \"like\", \"place\", \"great\", \"ve\", \"food\", \"got\", \"chicken\", \"price\", \"best\", \"staff\", \"wait\", \"said\", \"love\", \"going\", \"table\", \"bad\", \"restaurant\", \"excellent\", \"stars\", \"pizza\", \"friends\", \"fresh\", \"trying\", \"looking\", \"away\", \"money\", \"people\", \"server\", \"cheesetart\", \"dolci\", \"cwru\", \"janet\", \"everrrrr\", \"sole\", \"roomtastic\", \"hog\", \"suxs\", \"squished\", \"bb\", \"inconvience\", \"cos\", \"thi\", \"forgetful\", \"jodi\", \"pizio\", \"defiantly\", \"spicery\", \"drizzly\", \"parsanko\", \"sonoran\", \"inviting\", \"ihop\", \"espresso\", \"fungus\", \"urbana\", \"suitemates\", \"butcher\", \"parc\", \"like\", \"bartenders\", \"score\", \"goodness\", \"service\", \"decent\", \"weather\", \"place\", \"best\", \"area\", \"awesome\", \"fish\", \"food\", \"seat\", \"tons\", \"good\", \"friendly\", \"menu\", \"looking\", \"end\", \"car\", \"bad\", \"ordered\", \"meal\", \"day\", \"work\", \"ll\", \"happy\", \"drinks\", \"want\", \"bar\", \"way\", \"great\", \"better\", \"price\", \"time\", \"asked\", \"staff\", \"restaurant\", \"order\", \"love\", \"little\", \"ve\", \"people\", \"nice\", \"delicious\", \"come\", \"try\", \"chicken\", \"definitely\", \"got\", \"kendel\", \"erika\", \"woot\", \"picante\", \"hudson\", \"ricketts\", \"plop\", \"menudazo\", \"elaine\", \"lochiel\", \"prima\", \"mcqueen\", \"vadai\", \"lumpy\", \"hunan\", \"pelmeni\", \"game\", \"diy\", \"gustav\", \"yuk\", \"jacobite\", \"spineless\", \"marathon\", \"waxes\", \"dresses\", \"underrated\", \"protector\", \"code\", \"woods\", \"reflexology\", \"stars\", \"impeccable\", \"money\", \"pancakes\", \"burgers\", \"mirror\", \"material\", \"good\", \"comfortable\", \"heard\", \"let\", \"low\", \"guys\", \"delivered\", \"fresh\", \"bar\", \"prepared\", \"year\", \"terms\", \"people\", \"experience\", \"business\", \"restaurant\", \"love\", \"old\", \"night\", \"cooked\", \"got\", \"times\", \"friends\", \"amazing\", \"dishes\", \"looking\", \"great\", \"room\", \"try\", \"time\", \"cheese\", \"place\", \"meal\", \"order\", \"little\", \"nice\", \"told\", \"ordered\", \"best\", \"food\", \"like\", \"right\", \"going\", \"definitely\", \"service\", \"staff\", \"come\", \"chicken\", \"better\", \"ve\", \"calabash\", \"gwen\", \"neil\", \"shoooz\", \"coffe\", \"angelica\", \"sewage\", \"paints\", \"yasmin\", \"caliente\", \"adobo\", \"keychain\", \"bathing\", \"shuffling\", \"jersey\", \"intelligently\", \"turnt\", \"ghirardelli\", \"cathedral\", \"cola\", \"vinh\", \"masks\", \"greatful\", \"romper\", \"tattoos\", \"mazes\", \"gale\", \"tso\", \"livraison\", \"chimichurri\", \"dark\", \"comes\", \"pineapple\", \"steak\", \"buffalo\", \"mention\", \"server\", \"cost\", \"center\", \"husband\", \"ve\", \"cool\", \"great\", \"items\", \"check\", \"care\", \"away\", \"table\", \"fried\", \"love\", \"taste\", \"worst\", \"visit\", \"cuisine\", \"fact\", \"drive\", \"friends\", \"water\", \"company\", \"eat\", \"thank\", \"definitely\", \"tried\", \"kind\", \"time\", \"selection\", \"years\", \"got\", \"staff\", \"try\", \"new\", \"best\", \"minutes\", \"food\", \"lot\", \"sure\", \"nice\", \"menu\", \"night\", \"service\", \"ordered\", \"delicious\", \"come\", \"restaurant\", \"like\", \"pretty\", \"order\", \"amazing\", \"place\", \"good\", \"chicken\", \"friendly\", \"experience\", \"little\", \"know\", \"day\", \"people\", \"yoghurt\", \"squishies\", \"donair\", \"luddite\", \"lgbtq\", \"tar\", \"kafta\", \"dojo\", \"kibbi\", \"mizuki\", \"taffy\", \"discoloration\", \"lieras\", \"gives\", \"hmmmm\", \"nipples\", \"nielsen\", \"flamingo\", \"rocco\", \"toad\", \"icons\", \"unauthentic\", \"menchies\", \"mcknight\", \"matthew\", \"removal\", \"parlor\", \"instruments\", \"keeps\", \"aw\", \"taxi\", \"chair\", \"price\", \"ok\", \"smell\", \"savings\", \"areas\", \"beef\", \"downtown\", \"excellent\", \"wow\", \"evening\", \"local\", \"job\", \"service\", \"ve\", \"know\", \"air\", \"tasty\", \"said\", \"small\", \"wine\", \"location\", \"years\", \"pizza\", \"food\", \"great\", \"recommend\", \"good\", \"saying\", \"people\", \"highly\", \"going\", \"pork\", \"extremely\", \"favorite\", \"place\", \"got\", \"right\", \"day\", \"hour\", \"like\", \"come\", \"definitely\", \"time\", \"delicious\", \"little\", \"nice\", \"experience\", \"sure\", \"amazing\", \"menu\", \"try\", \"friendly\", \"ordered\", \"best\", \"love\", \"order\", \"delivary\", \"singapore\", \"butterflies\", \"imcomplete\", \"walkthrough\", \"greenhouse\", \"megaphone\", \"malai\", \"stylist\", \"aptive\", \"alam\", \"magnolia\", \"blitzer\", \"wilkes\", \"pregnancies\", \"straighten\", \"shimp\", \"c\\u00f4te\", \"blow\", \"shenker\", \"keratin\", \"factoid\", \"palms\", \"sensitivity\", \"visual\", \"dollar\", \"slymans\", \"upsetting\", \"examples\", \"hello\", \"trying\", \"naan\", \"wait\", \"dried\", \"chicken\", \"brown\", \"answers\", \"massive\", \"appointment\", \"color\", \"hospital\", \"dog\", \"getting\", \"gel\", \"lightly\", \"bad\", \"noodle\", \"beans\", \"staff\", \"phone\", \"look\", \"going\", \"new\", \"weren\", \"shrimp\", \"visiting\", \"place\", \"time\", \"left\", \"work\", \"pretty\", \"said\", \"big\", \"got\", \"clean\", \"things\", \"hair\", \"meat\", \"makes\", \"friendly\", \"want\", \"come\", \"food\", \"nice\", \"amazing\", \"recommend\", \"order\", \"vegas\", \"like\", \"good\", \"definitely\", \"service\", \"restaurant\", \"little\", \"great\", \"delicious\", \"try\", \"ve\", \"best\", \"ordered\", \"love\"], \"Total\": [3487.0, 4447.0, 3312.0, 4549.0, 4123.0, 1857.0, 4743.0, 1994.0, 1347.0, 870.0, 1744.0, 1507.0, 944.0, 1162.0, 1587.0, 1111.0, 780.0, 800.0, 1331.0, 642.0, 598.0, 761.0, 546.0, 906.0, 364.0, 675.0, 610.0, 470.0, 1381.0, 657.0, 9.378616333007812, 3.056441307067871, 3.0582282543182373, 2.9064130783081055, 1.602401614189148, 9.929790496826172, 3.069042205810547, 3.065642833709717, 3.0649149417877197, 3.720473289489746, 3.068089485168457, 3.066800594329834, 3.064276695251465, 2.260707378387451, 3.7205286026000977, 3.5709571838378906, 2.2603952884674072, 15.988243103027344, 3.06715989112854, 3.069599151611328, 2.914262056350708, 6.201244354248047, 54.17755889892578, 15.3319730758667, 41.40662384033203, 5.191105365753174, 3.069571018218994, 3.068032741546631, 4.382519245147705, 3.5713071823120117, 3312.1748046875, 72.29447174072266, 31.849782943725586, 53.18877410888672, 3487.266357421875, 368.787841796875, 64.63182067871094, 4549.18994140625, 1744.597412109375, 725.4728393554688, 655.2664794921875, 377.8973388671875, 4743.9912109375, 155.78878784179688, 78.0945053100586, 4447.16259765625, 1334.7088623046875, 1190.4625244140625, 675.1752319335938, 414.6715087890625, 594.244140625, 800.1823120117188, 1484.4708251953125, 707.4976196289062, 1163.627685546875, 906.4107055664062, 737.965576171875, 695.4631958007812, 713.9746704101562, 994.9989013671875, 980.8554077148438, 1069.802978515625, 4123.02294921875, 1114.7603759765625, 870.8043823242188, 3304.707763671875, 807.1408081054688, 1507.4166259765625, 1331.1834716796875, 1449.6387939453125, 1587.5938720703125, 1372.93310546875, 1857.79248046875, 1381.7548828125, 1690.5703125, 1194.458984375, 1403.6041259765625, 1401.406494140625, 1347.506103515625, 1396.694091796875, 1994.3443603515625, 3.1024489402770996, 3.100886583328247, 7.2309889793396, 3.103271722793579, 5.055384159088135, 3.102048397064209, 3.094562292098999, 3.0885009765625, 2.2787415981292725, 2.2745554447174072, 3.757148265838623, 3.755563974380493, 3.0948755741119385, 3.748664617538452, 2.9307963848114014, 9.509998321533203, 158.22645568847656, 5.0694193840026855, 3.0883374214172363, 30.769689559936523, 1.615020513534546, 3.0917727947235107, 4.255817890167236, 4.419225215911865, 33.65400695800781, 4.420689105987549, 3.097029209136963, 26.491670608520508, 8.376161575317383, 10.00912094116211, 598.8604125976562, 34.26709747314453, 470.2874755859375, 115.43280029296875, 173.5460205078125, 14.138864517211914, 14.314358711242676, 4447.16259765625, 250.88552856445312, 158.7836456298828, 502.7371520996094, 143.61204528808594, 295.786376953125, 121.19110107421875, 906.245849609375, 980.8554077148438, 170.06370544433594, 359.49078369140625, 63.06545639038086, 1381.7548828125, 1250.65673828125, 458.5419006347656, 1331.1834716796875, 1587.5938720703125, 481.08782958984375, 942.1655883789062, 392.8768310546875, 1994.3443603515625, 826.3561401367188, 546.9182739257812, 1316.127685546875, 415.0562438964844, 675.1752319335938, 4123.02294921875, 922.2728271484375, 1401.406494140625, 3304.707763671875, 797.466552734375, 4549.18994140625, 707.4976196289062, 1449.6387939453125, 1372.93310546875, 1690.5703125, 932.0578002929688, 1484.4708251953125, 1744.597412109375, 4743.9912109375, 3312.1748046875, 1056.573486328125, 1111.0933837890625, 1396.694091796875, 3487.266357421875, 1507.4166259765625, 1403.6041259765625, 1347.506103515625, 1114.7603759765625, 1857.79248046875, 3.1016018390655518, 8.546467781066895, 1.6154181957244873, 1.617241621017456, 3.0973615646362305, 3.0988945960998535, 5.228096008300781, 2.2776124477386475, 5.204512596130371, 5.208006381988525, 5.883755207061768, 2.2794549465179443, 3.7490346431732178, 3.09102201461792, 8.350278854370117, 3.081324815750122, 2.936258554458618, 1.6170425415039062, 3.0977137088775635, 11.412002563476562, 5.232049942016602, 8.702764511108398, 1.6177160739898682, 3.090876579284668, 7.037768840789795, 10.153800010681152, 5.224983215332031, 5.912182807922363, 3.094391345977783, 7.358439922332764, 105.82433319091797, 344.7715148925781, 63.8858757019043, 405.0744934082031, 58.245887756347656, 145.84852600097656, 657.1652221679688, 192.223388671875, 112.36500549316406, 409.88214111328125, 1857.79248046875, 363.72467041015625, 4123.02294921875, 405.2598876953125, 600.7241821289062, 520.0147705078125, 610.5962524414062, 780.8178100585938, 485.1355285644531, 1587.5938720703125, 595.5142822265625, 299.0980529785156, 540.0643310546875, 82.22557067871094, 257.88702392578125, 300.1060485839844, 546.9182739257812, 418.9821472167969, 343.37738037109375, 830.229248046875, 356.3075866699219, 1396.694091796875, 683.4351806640625, 458.8972473144531, 3304.707763671875, 457.577880859375, 624.2672119140625, 1994.3443603515625, 1507.4166259765625, 1401.406494140625, 1120.6485595703125, 1744.597412109375, 879.6605224609375, 4743.9912109375, 774.0260620117188, 922.1407470703125, 1690.5703125, 1190.4625244140625, 942.1655883789062, 3487.266357421875, 1484.4708251953125, 1194.458984375, 1403.6041259765625, 1331.1834716796875, 3312.1748046875, 1024.2572021484375, 1449.6387939453125, 1316.127685546875, 4549.18994140625, 4447.16259765625, 1347.506103515625, 1334.7088623046875, 1250.65673828125, 1372.93310546875, 1176.6917724609375, 1163.627685546875, 1381.7548828125, 6.242791175842285, 5.222080230712891, 5.897109031677246, 3.0914011001586914, 1.6165223121643066, 7.878100395202637, 3.0887250900268555, 3.0885581970214844, 3.0904617309570312, 3.5954127311706543, 7.196664810180664, 3.0909383296966553, 3.090327501296997, 84.51606750488281, 3.087571382522583, 1.6165664196014404, 5.8779144287109375, 10.355223655700684, 3.7487008571624756, 3.0918688774108887, 1.6155304908752441, 1.612725019454956, 4.265263080596924, 3.0899415016174316, 3.7562153339385986, 21.552398681640625, 16.5855712890625, 7.876616954803467, 44.854373931884766, 4.394067287445068, 11.151341438293457, 65.36753845214844, 870.8043823242188, 475.8712463378906, 69.1151123046875, 24.231298446655273, 76.5387191772461, 465.19256591796875, 158.25762939453125, 642.134521484375, 164.21185302734375, 177.6359100341797, 302.4820861816406, 475.0929260253906, 3487.266357421875, 1857.79248046875, 1176.6917724609375, 118.94986724853516, 470.64984130859375, 1162.3194580078125, 771.2294921875, 381.24517822265625, 840.2637329101562, 624.2672119140625, 761.468505859375, 4743.9912109375, 4123.02294921875, 1123.0672607421875, 4447.16259765625, 206.86685180664062, 1381.7548828125, 529.1199340820312, 1111.0933837890625, 355.8945007324219, 368.28326416015625, 524.4273681640625, 4549.18994140625, 1994.3443603515625, 1056.573486328125, 1163.627685546875, 575.212646484375, 3312.1748046875, 1403.6041259765625, 1396.694091796875, 3304.707763671875, 1194.458984375, 1372.93310546875, 1690.5703125, 1250.65673828125, 922.1407470703125, 1316.127685546875, 1190.4625244140625, 1401.406494140625, 1334.7088623046875, 1484.4708251953125, 1744.597412109375, 1587.5938720703125, 1449.6387939453125, 3.11427903175354, 7.41622257232666, 3.107712507247925, 3.102860450744629, 3.1038310527801514, 4.429049491882324, 3.769327163696289, 2.946181535720825, 65.89935302734375, 3.105851650238037, 1.6216572523117065, 5.245950698852539, 1.6205899715423584, 7.38858699798584, 5.233102321624756, 3.7583632469177246, 3.102659225463867, 3.763796806335449, 40.418785095214844, 3.6037893295288086, 9.527156829833984, 3.0982255935668945, 15.843931198120117, 3.7620902061462402, 9.868559837341309, 80.33538818359375, 5.248367786407471, 7.066140651702881, 8.542325019836426, 32.82447052001953, 364.08837890625, 47.49078369140625, 944.68115234375, 36.41181182861328, 1347.506103515625, 81.38675689697266, 32.1552848815918, 24.55074691772461, 314.0303649902344, 139.3213348388672, 48.74292755126953, 268.4631042480469, 477.26177978515625, 107.34490966796875, 25.220914840698242, 800.1823120117188, 125.34559631347656, 152.9479217529297, 1507.4166259765625, 337.602294921875, 577.9100341796875, 1111.0933837890625, 1120.6485595703125, 165.57510375976562, 341.8878479003906, 128.34347534179688, 4549.18994140625, 3304.707763671875, 595.107421875, 906.4107055664062, 1024.2572021484375, 1162.3194580078125, 630.64111328125, 1994.3443603515625, 698.6499633789062, 538.4391479492188, 383.30999755859375, 564.6139526367188, 303.4853515625, 1334.7088623046875, 994.9989013671875, 1403.6041259765625, 4743.9912109375, 1690.5703125, 1316.127685546875, 1123.0672607421875, 1449.6387939453125, 879.7462158203125, 3312.1748046875, 4447.16259765625, 1396.694091796875, 3487.266357421875, 1331.1834716796875, 1372.93310546875, 4123.02294921875, 1194.458984375, 1401.406494140625, 1857.79248046875, 1744.597412109375, 1484.4708251953125, 1587.5938720703125], \"loglift\": [30.0, 29.0, 28.0, 27.0, 26.0, 25.0, 24.0, 23.0, 22.0, 21.0, 20.0, 19.0, 18.0, 17.0, 16.0, 15.0, 14.0, 13.0, 12.0, 11.0, 10.0, 9.0, 8.0, 7.0, 6.0, 5.0, 4.0, 3.0, 2.0, 1.0, 0.7950000166893005, 0.7340999841690063, 0.6789000034332275, 0.6572999954223633, 0.6216999888420105, 0.6157000064849854, 0.6111000180244446, 0.6051999926567078, 0.6032999753952026, 0.5949000120162964, 0.5938000082969666, 0.555400013923645, 0.5536999702453613, 0.5300999879837036, 0.5270000100135803, 0.5214999914169312, 0.5148000121116638, 0.5065000057220459, 0.5062000155448914, 0.5041999816894531, 0.4959000051021576, 0.4952999949455261, 0.4869000017642975, 0.4860999882221222, 0.4797999858856201, 0.47600001096725464, 0.47519999742507935, 0.47130000591278076, 0.46950000524520874, 0.4691999852657318, 0.45399999618530273, 0.46790000796318054, 0.46639999747276306, 0.45570001006126404, 0.37450000643730164, 0.37880000472068787, 0.415800005197525, 0.2842999994754791, 0.3109999895095825, 0.33739998936653137, 0.3303000032901764, 0.3398999869823456, 0.23160000145435333, 0.3750999867916107, 0.3962000012397766, 0.17430000007152557, 0.22759999334812164, 0.2281000018119812, 0.26010000705718994, 0.28360000252723694, 0.25600001215934753, 0.23330000042915344, 0.18029999732971191, 0.23729999363422394, 0.19619999825954437, 0.20919999480247498, 0.2257000058889389, 0.2222999930381775, 0.2176000028848648, 0.17059999704360962, 0.1720000058412552, 0.15770000219345093, 0.0034000000450760126, 0.14800000190734863, 0.17640000581741333, -0.013700000010430813, 0.17669999599456787, 0.06920000165700912, 0.07540000230073929, 0.020899999886751175, -0.01720000058412552, 0.002099999925121665, -0.09920000284910202, -0.008999999612569809, -0.10260000079870224, 0.010599999688565731, -0.06759999692440033, -0.07760000228881836, -0.09430000185966492, -0.12880000472068787, -0.4772000014781952, 0.7764000296592712, 0.7548999786376953, 0.7001000046730042, 0.6891000270843506, 0.66839998960495, 0.6636999845504761, 0.6340000033378601, 0.6197999715805054, 0.5920000076293945, 0.574999988079071, 0.571399986743927, 0.565500020980835, 0.555400013923645, 0.554099977016449, 0.5414999723434448, 0.541100025177002, 0.5340999960899353, 0.5335000157356262, 0.52920001745224, 0.5291000008583069, 0.5270000100135803, 0.5270000100135803, 0.5105999708175659, 0.5011000037193298, 0.5004000067710876, 0.4973999857902527, 0.4934999942779541, 0.4921000003814697, 0.491100013256073, 0.489300012588501, 0.46070000529289246, 0.4851999878883362, 0.4408999979496002, 0.45489999651908875, 0.4453999996185303, 0.4855000078678131, 0.4821000099182129, 0.26669999957084656, 0.38100001215934753, 0.3887999951839447, 0.3271999955177307, 0.3856000006198883, 0.34630000591278076, 0.38749998807907104, 0.28690001368522644, 0.26109999418258667, 0.3499000072479248, 0.3021000027656555, 0.4058000147342682, 0.210999995470047, 0.21130000054836273, 0.2808000147342682, 0.20509999990463257, 0.18559999763965607, 0.275299996137619, 0.22100000083446503, 0.29030001163482666, 0.14149999618530273, 0.2167000025510788, 0.2533999979496002, 0.15880000591278076, 0.27379998564720154, 0.22429999709129333, 0.03819999843835831, 0.18809999525547028, 0.13819999992847443, 0.02710000053048134, 0.19760000705718994, -0.021199999377131462, 0.210099995136261, 0.10130000114440918, 0.10769999772310257, 0.05979999899864197, 0.16030000150203705, 0.07249999791383743, 0.031599998474121094, -0.2037999927997589, -0.20970000326633453, 0.07119999825954437, 0.031700000166893005, -0.06369999796152115, -0.44519999623298645, -0.10000000149011612, -0.10769999772310257, -0.10670000314712524, 0.023900000378489494, -0.382099986076355, 0.7958999872207642, 0.6620000004768372, 0.6485999822616577, 0.6208000183105469, 0.6165000200271606, 0.5907999873161316, 0.5852000117301941, 0.5841000080108643, 0.5819000005722046, 0.5806000232696533, 0.57669997215271, 0.5738000273704529, 0.5690000057220459, 0.5654000043869019, 0.5493999719619751, 0.5467000007629395, 0.5432999730110168, 0.5389999747276306, 0.5338000059127808, 0.5303000211715698, 0.5278000235557556, 0.5216000080108643, 0.5181999802589417, 0.5091999769210815, 0.5080999732017517, 0.5055999755859375, 0.5047000050544739, 0.5034999847412109, 0.5019000172615051, 0.4952999949455261, 0.4945000112056732, 0.435699999332428, 0.46880000829696655, 0.3930000066757202, 0.44999998807907104, 0.41510000824928284, 0.34540000557899475, 0.392300009727478, 0.40880000591278076, 0.3564999997615814, 0.289000004529953, 0.3476000130176544, 0.22339999675750732, 0.33309999108314514, 0.3118000030517578, 0.3073999881744385, 0.296999990940094, 0.27880001068115234, 0.3025999963283539, 0.2295999974012375, 0.28540000319480896, 0.3264999985694885, 0.2703999876976013, 0.3978999853134155, 0.31779998540878296, 0.30149999260902405, 0.2587999999523163, 0.2773999869823456, 0.28850001096725464, 0.211899995803833, 0.28450000286102295, 0.13609999418258667, 0.2143000066280365, 0.2556000053882599, 0.01850000023841858, 0.25440001487731934, 0.21690000593662262, 0.07159999758005142, 0.10419999808073044, 0.10740000009536743, 0.13339999318122864, 0.05730000138282776, 0.15880000591278076, -0.12759999930858612, 0.17409999668598175, 0.14180000126361847, 0.024299999698996544, 0.08829999715089798, 0.1339000016450882, -0.17100000381469727, 0.02759999968111515, 0.07450000196695328, 0.02710000053048134, 0.03970000147819519, -0.2248000055551529, 0.10040000081062317, -0.01269999984651804, 0.016599999740719795, -0.4593000113964081, -0.4537999927997589, -0.006300000008195639, -0.024700000882148743, -0.0414000004529953, -0.11630000174045563, -0.02850000001490116, -0.04780000075697899, -0.20839999616146088, 0.6358000040054321, 0.617900013923645, 0.6100000143051147, 0.6049000024795532, 0.6017000079154968, 0.5985000133514404, 0.5972999930381775, 0.539900004863739, 0.534500002861023, 0.5306000113487244, 0.527999997138977, 0.5220999717712402, 0.5212000012397766, 0.5133000016212463, 0.5084999799728394, 0.5083000063896179, 0.5062000155448914, 0.5042999982833862, 0.5040000081062317, 0.49970000982284546, 0.4970000088214874, 0.48739999532699585, 0.4860999882221222, 0.48500001430511475, 0.48489999771118164, 0.482699990272522, 0.48100000619888306, 0.4805000126361847, 0.47859999537467957, 0.47609999775886536, 0.4722999930381775, 0.45170000195503235, 0.4154999852180481, 0.4025999903678894, 0.43160000443458557, 0.4523000121116638, 0.4262000024318695, 0.3666999936103821, 0.3926999866962433, 0.34130001068115234, 0.382999986410141, 0.3749000132083893, 0.3499000072479248, 0.32919999957084656, 0.23399999737739563, 0.2524000108242035, 0.26429998874664307, 0.37459999322891235, 0.3041999936103821, 0.24390000104904175, 0.26649999618530273, 0.3061000108718872, 0.24809999763965607, 0.2538999915122986, 0.23880000412464142, 0.10740000009536743, 0.09860000014305115, 0.18770000338554382, 0.054999999701976776, 0.32350000739097595, 0.13809999823570251, 0.22679999470710754, 0.1378999948501587, 0.25949999690055847, 0.25529998540878296, 0.21240000426769257, -0.05530000105500221, 0.04580000042915344, 0.12070000171661377, 0.08560000360012054, 0.19709999859333038, -0.09809999912977219, 0.0471000000834465, 0.04729999974370003, -0.15139999985694885, 0.05909999832510948, 0.009999999776482582, -0.04989999905228615, 0.022099999710917473, 0.10019999742507935, -0.07100000232458115, -0.027400000020861626, -0.11129999905824661, -0.09539999812841415, -0.1889999955892563, -0.3043999969959259, -0.27810001373291016, -0.20990000665187836, 0.8481000065803528, 0.7516000270843506, 0.7497000098228455, 0.7264999747276306, 0.6485999822616577, 0.6462000012397766, 0.6385999917984009, 0.6330000162124634, 0.59579998254776, 0.5748999714851379, 0.5723000168800354, 0.5698999762535095, 0.5662999749183655, 0.5591999888420105, 0.5504999756813049, 0.5496000051498413, 0.5307999849319458, 0.5303999781608582, 0.5293999910354614, 0.5286999940872192, 0.5230000019073486, 0.5210999846458435, 0.5174999833106995, 0.51419997215271, 0.5091000199317932, 0.5070000290870667, 0.5051000118255615, 0.5041999816894531, 0.5012999773025513, 0.5005000233650208, 0.48100000619888306, 0.4887999892234802, 0.4180000126361847, 0.4830000102519989, 0.40450000762939453, 0.4555000066757202, 0.4758000075817108, 0.48330000042915344, 0.39010000228881836, 0.4187000095844269, 0.45809999108314514, 0.3862000107765198, 0.34610000252723694, 0.40880000591278076, 0.4779999852180481, 0.29260000586509705, 0.39250001311302185, 0.37959998846054077, 0.24120000004768372, 0.3294000029563904, 0.29019999504089355, 0.24250000715255737, 0.22450000047683716, 0.36550000309944153, 0.3075000047683716, 0.3847000002861023, 0.09369999915361404, 0.10379999876022339, 0.2533999979496002, 0.21549999713897705, 0.19910000264644623, 0.18060000240802765, 0.24150000512599945, 0.11879999935626984, 0.2231999933719635, 0.24789999425411224, 0.27230000495910645, 0.22509999573230743, 0.29899999499320984, 0.1160999983549118, 0.14730000495910645, 0.09149999916553497, -0.0869000032544136, 0.06319999694824219, 0.09960000216960907, 0.11869999766349792, 0.07090000063180923, 0.14259999990463257, -0.1281999945640564, -0.22200000286102295, -0.005499999970197678, -0.2551000118255615, 0.0066999997943639755, -0.016499999910593033, -0.5091000199317932, -0.013399999588727951, -0.0820000022649765, -0.23109999299049377, -0.24009999632835388, -0.15049999952316284, -0.22699999809265137], \"logprob\": [30.0, 29.0, 28.0, 27.0, 26.0, 25.0, 24.0, 23.0, 22.0, 21.0, 20.0, 19.0, 18.0, 17.0, 16.0, 15.0, 14.0, 13.0, 12.0, 11.0, 10.0, 9.0, 8.0, 7.0, 6.0, 5.0, 4.0, 3.0, 2.0, 1.0, -10.041899681091309, -11.223899841308594, -11.278499603271484, -11.35099983215332, -11.982099533081055, -10.163999557495117, -11.34280014038086, -11.349800109863281, -11.35200023651123, -11.166500091552734, -11.360400199890137, -11.399200439453125, -11.401700019836426, -11.729399681091309, -11.234399795532227, -11.280900001525879, -11.74489974975586, -9.796899795532227, -11.4483003616333, -11.44950008392334, -11.50979995727539, -10.755200386047363, -8.596099853515625, -9.859299659729004, -8.871999740600586, -10.952300071716309, -11.478500366210938, -11.48289966583252, -11.128100395202637, -11.333200454711914, -4.5157999992370605, -8.326600074768066, -9.147899627685547, -8.64579963684082, -4.543900012969971, -6.786200046539307, -8.490699768066406, -4.368199825286865, -5.300000190734863, -6.151100158691406, -6.259900093078613, -6.80079984664917, -4.379000186920166, -7.651700019836426, -8.321200370788574, -4.500899791717529, -5.651199817657471, -5.765100002288818, -6.300099849700928, -6.764200210571289, -6.4319000244140625, -6.157100200653076, -5.592100143432617, -6.276199817657471, -5.819699764251709, -6.05649995803833, -6.245699882507324, -6.3084001541137695, -6.286799907684326, -6.0019001960754395, -6.014800071716309, -5.942399978637695, -4.747499942779541, -5.910900115966797, -6.12939977645874, -4.985899925231934, -6.205100059509277, -5.687900066375732, -5.806099891662598, -5.775300025939941, -5.722499847412109, -5.848499774932861, -5.647299766540527, -5.8531999588012695, -5.745100021362305, -5.9791998863220215, -5.895999908447266, -5.907599925994873, -5.963500022888184, -5.962200164794922, -5.954400062561035, -11.166600227355957, -11.188699722290039, -10.39680004119873, -11.253700256347656, -10.786399841308594, -11.279500007629395, -11.311599731445312, -11.327799797058105, -11.659700393676758, -11.678400039672852, -11.18019962310791, -11.18649959564209, -11.39009952545166, -11.199700355529785, -11.458399772644043, -10.281900405883789, -7.477099895477295, -10.918499946594238, -11.418399810791016, -9.119600296020508, -12.068900108337402, -11.419500350952148, -11.116399765014648, -11.088199615478516, -9.058699607849121, -11.09160041809082, -11.451299667358398, -9.306300163269043, -10.458700180053711, -10.282400131225586, -6.219600200653076, -9.055899620056152, -6.480999946594238, -7.871699810028076, -7.473400115966797, -9.940799713134766, -9.931900024414062, -4.408599853515625, -7.169300079345703, -7.618899822235107, -6.5279998779296875, -7.722599983215332, -7.039299964904785, -7.8902997970581055, -5.979100227355957, -5.9257001876831055, -7.589200019836426, -6.888500213623047, -8.525300025939941, -5.6331000328063965, -5.732600212097168, -6.666399955749512, -5.676400184631348, -5.519700050354004, -6.623899936676025, -6.006100177764893, -6.811399936676025, -5.335700035095215, -6.141499996185303, -6.517600059509277, -5.734000205993652, -6.7729997634887695, -6.335999965667725, -4.712699890136719, -6.060299873352051, -5.691800117492676, -4.945099830627441, -6.196199893951416, -4.673699855804443, -6.303400039672852, -5.694900035858154, -5.7428998947143555, -5.582699775695801, -6.077499866485596, -5.699900150299072, -5.5792999267578125, -4.8144001960754395, -5.179599761962891, -6.041200160980225, -6.030399799346924, -5.89709997177124, -5.36359977722168, -5.857100009918213, -5.936100006103516, -5.97599983215332, -6.034999847412109, -5.930200099945068, -11.14739990234375, -10.267800331115723, -11.946999549865723, -11.973699569702148, -11.328200340270996, -11.353500366210938, -10.836099624633789, -11.668000221252441, -10.843799591064453, -10.844499588012695, -10.726300239562988, -11.677499771118164, -11.184800148010254, -11.381400108337402, -10.403599739074707, -11.403200149536133, -11.45479965209961, -12.055700302124023, -11.410799980163574, -10.110300064086914, -10.892600059509277, -10.390000343322754, -12.076000213623047, -11.437600135803223, -10.615900039672852, -10.251799583435059, -10.917099952697754, -10.7947998046875, -11.443699836730957, -10.584099769592285, -7.918900012969971, -6.7967000007629395, -8.449399948120117, -6.678100109100342, -8.560600280761719, -7.677599906921387, -6.2418999671936035, -7.424300193786621, -7.944699764251709, -6.702899932861328, -5.259099960327148, -6.831200122833252, -4.527599811553955, -6.73769998550415, -6.3653998374938965, -6.513999938964844, -6.363900184631348, -6.136099815368652, -6.5883002281188965, -5.4756999015808105, -6.400400161743164, -7.047999858856201, -6.5131001472473145, -8.267900466918945, -7.204999923706055, -7.0696001052856445, -6.5121002197265625, -6.760000228881836, -6.94789981842041, -6.141600131988525, -6.914999961853027, -5.697299957275391, -6.333799839019775, -6.690800189971924, -4.953700065612793, -6.694900035858154, -6.4217000007629395, -5.405600070953369, -5.652900218963623, -5.722599983215332, -5.920199871063232, -5.553699970245361, -6.136899948120117, -4.7382001876831055, -6.249599933624268, -6.1066999435424805, -5.618199825286865, -5.904900074005127, -6.093200206756592, -5.089399814605713, -5.744800090789795, -5.915299892425537, -5.801400184631348, -5.841700077056885, -5.194699764251709, -6.043099880218506, -5.808899879455566, -5.876200199127197, -5.111800193786621, -5.129000186920166, -5.875500202178955, -5.903500080108643, -5.985199928283691, -5.966899871826172, -6.033299922943115, -6.063700199127197, -6.052499771118164, -10.607999801635742, -10.804400444030762, -10.690799713134766, -11.341699600219727, -11.993300437927246, -10.412699699401855, -11.350199699401855, -11.407600402832031, -11.412400245666504, -11.265000343322754, -10.573599815368652, -11.424699783325195, -11.425800323486328, -8.125, -11.439399719238281, -12.086700439453125, -10.797900199890137, -10.233499526977539, -11.249899864196777, -11.446800231933594, -12.098600387573242, -12.10990047454834, -11.13860034942627, -11.4621000289917, -11.266900062561035, -9.522100448608398, -9.785699844360352, -10.530799865722656, -8.79319953918457, -11.118900299072266, -10.191399574279785, -8.443499565124512, -5.890399932861328, -6.507500171661377, -8.407899856567383, -9.43529987335205, -8.311200141906738, -6.566100120544434, -7.618299961090088, -6.269100189208984, -7.591100215911865, -7.520599842071533, -7.013299942016602, -6.582499980926514, -4.6844000816345215, -5.2957000732421875, -5.740499973297119, -7.921899795532227, -6.617000102996826, -5.773200035095215, -6.160699844360352, -6.825699806213379, -6.093400001525879, -6.384799957275391, -6.201200008392334, -4.503200054168701, -4.652299880981445, -5.863800048828125, -4.620299816131592, -7.4197001457214355, -5.705999851226807, -6.577199935913086, -5.924300193786621, -6.941100120544434, -6.911099910736084, -6.600500106811523, -4.707799911499023, -5.431399822235107, -5.991799831390381, -5.9303998947143555, -6.523399829864502, -5.067999839782715, -5.781400203704834, -5.786099910736084, -5.123600006103516, -5.930699825286865, -5.84060001373291, -5.692299842834473, -5.9217000007629395, -6.1483001708984375, -5.963799953460693, -6.020500183105469, -5.941299915313721, -5.9741997718811035, -5.96150016784668, -5.91540002822876, -5.983399868011475, -6.006100177764893, -11.09119987487793, -10.319999694824219, -11.19159984588623, -11.216400146484375, -11.293999671936035, -10.940799713134766, -11.109700202941895, -11.361700057983398, -8.291299819946289, -11.366999626159668, -12.019499778747559, -10.847900390625, -12.026100158691406, -10.51609992980957, -10.869799613952637, -11.201600074768066, -11.412199974060059, -11.219400405883789, -8.846599578857422, -11.264599800109863, -10.298100471496582, -11.423299789428711, -9.795000076293945, -11.236100196838379, -10.276800155639648, -8.182000160217285, -10.912199974060059, -10.615699768066406, -10.428899765014648, -9.083499908447266, -6.696899890899658, -8.725899696350098, -5.806399822235107, -8.997300148010254, -5.464799880981445, -8.220499992370605, -9.128899574279785, -9.391300201416016, -6.935699939727783, -7.719699859619141, -8.730600357055664, -7.096399784088135, -6.561100006103516, -7.9903998374938965, -9.369500160217285, -6.097799777984619, -7.8516998291015625, -7.665599822998047, -5.515900135040283, -6.923999786376953, -6.4257001876831055, -5.8196001052856445, -5.828999996185303, -7.600299835205078, -6.933300018310547, -7.8358001708984375, -4.558899879455566, -4.8684000968933105, -6.43310022354126, -6.050300121307373, -5.944399833679199, -5.83650016784668, -6.38700008392334, -5.358399868011475, -6.3028998374938965, -6.538700103759766, -6.854100227355957, -6.513999938964844, -7.0609002113342285, -5.762700080871582, -6.025199890136719, -5.7368998527526855, -4.697500228881836, -5.57919979095459, -5.7932000160217285, -5.932799816131592, -5.725299835205078, -6.1529998779296875, -5.098100185394287, -4.897200107574463, -5.838900089263916, -5.173500061035156, -5.87470006942749, -5.867000102996826, -5.260000228881836, -6.003200054168701, -5.9120001792907715, -5.779200077056885, -5.851099967956543, -5.922900199890137, -5.932300090789795]}, \"token.table\": {\"Topic\": [1, 2, 3, 4, 5, 1, 2, 3, 4, 5, 5, 1, 2, 3, 4, 5, 2, 3, 5, 1, 2, 3, 4, 5, 1, 2, 3, 4, 5, 2, 5, 1, 2, 3, 4, 5, 1, 2, 3, 4, 5, 1, 2, 3, 4, 5, 1, 2, 3, 4, 5, 1, 2, 3, 4, 5, 1, 2, 3, 4, 5, 1, 2, 3, 4, 5, 1, 2, 3, 4, 5, 1, 2, 3, 4, 5, 1, 3, 4, 5, 1, 3, 5, 1, 2, 3, 4, 5, 1, 2, 3, 4, 5, 1, 2, 3, 4, 5, 1, 2, 3, 4, 5, 1, 2, 3, 4, 5, 5, 1, 2, 3, 4, 5, 1, 2, 3, 4, 5, 1, 2, 3, 4, 5, 1, 2, 3, 4, 5, 1, 2, 3, 4, 5, 1, 2, 3, 4, 5, 4, 5, 3, 5, 1, 2, 3, 4, 5, 1, 2, 3, 4, 5, 1, 2, 3, 4, 5, 2, 3, 4, 5, 1, 2, 3, 4, 5, 1, 2, 3, 4, 5, 1, 2, 3, 4, 5, 1, 2, 3, 4, 5, 1, 2, 3, 4, 5, 1, 2, 3, 4, 5, 1, 2, 3, 4, 5, 1, 2, 3, 4, 5, 1, 2, 3, 4, 5, 2, 3, 5, 1, 2, 3, 4, 5, 1, 2, 3, 4, 5, 1, 2, 3, 4, 5, 1, 2, 3, 4, 5, 1, 2, 3, 4, 5, 1, 2, 3, 4, 5, 1, 2, 3, 4, 5, 1, 2, 3, 4, 5, 1, 2, 4, 1, 2, 3, 4, 5, 1, 2, 3, 4, 5, 1, 3, 1, 2, 3, 4, 5, 1, 2, 3, 4, 5, 1, 2, 3, 4, 5, 1, 2, 3, 4, 5, 1, 2, 3, 4, 5, 1, 2, 3, 4, 5, 1, 2, 3, 4, 5, 3, 5, 1, 2, 3, 4, 5, 1, 4, 5, 1, 2, 3, 4, 5, 1, 2, 3, 4, 5, 1, 2, 3, 4, 5, 1, 3, 4, 1, 2, 1, 2, 3, 4, 5, 1, 2, 3, 4, 5, 1, 2, 3, 4, 5, 1, 2, 3, 4, 5, 1, 2, 3, 4, 5, 1, 2, 3, 4, 5, 1, 2, 3, 4, 5, 1, 2, 3, 1, 2, 3, 4, 5, 2, 1, 2, 3, 4, 5, 2, 5, 1, 2, 3, 4, 5, 1, 2, 3, 4, 5, 1, 1, 2, 3, 4, 5, 1, 2, 3, 4, 5, 1, 2, 3, 4, 5, 1, 2, 3, 4, 5, 1, 2, 3, 4, 5, 1, 2, 5, 1, 2, 3, 4, 5, 1, 2, 3, 4, 5, 1, 2, 3, 4, 5, 1, 2, 3, 4, 5, 1, 2, 3, 4, 1, 2, 3, 4, 5, 1, 2, 3, 4, 5, 1, 2, 3, 4, 5, 1, 2, 3, 4, 5, 1, 2, 3, 4, 5, 1, 2, 3, 4, 5, 1, 2, 3, 4, 5, 1, 2, 3, 4, 5, 1, 2, 3, 4, 5, 3, 1, 2, 3, 4, 5, 1, 2, 3, 4, 5, 1, 2, 3, 4, 5, 1, 2, 3, 4, 5, 1, 2, 3, 4, 5, 1, 2, 3, 4, 5, 3, 1, 2, 3, 4, 5, 1, 2, 4, 1, 2, 3, 4, 5, 1, 2, 3, 4, 5, 1, 2, 3, 4, 5, 1, 2, 3, 4, 5, 1, 2, 3, 4, 5, 1, 2, 3, 4, 5, 1, 2, 3, 4, 5, 1, 2, 4, 1, 2, 1, 2, 3, 4, 5, 1, 2, 3, 4, 5, 1, 2, 4, 5, 1, 2, 3, 4, 1, 2, 3, 4, 5, 4, 1, 2, 3, 4, 5, 1, 4, 5, 1, 2, 3, 4, 5, 1, 2, 1, 2, 3, 4, 5, 1, 3, 4, 1, 2, 3, 4, 5, 1, 2, 3, 4, 5, 2, 1, 3, 1, 2, 3, 4, 5, 1, 2, 3, 4, 5, 1, 2, 4, 5, 1, 4, 5, 1, 2, 3, 4, 5, 2, 5, 1, 2, 3, 4, 5, 3, 1, 4, 5, 1, 2, 3, 4, 5, 1, 2, 3, 4, 5, 1, 2, 3, 4, 5, 1, 2, 3, 4, 5, 4, 1, 3, 4, 5, 1, 2, 3, 4, 5, 1, 2, 3, 4, 5, 1, 2, 3, 4, 5, 2, 3, 4, 1, 2, 3, 4, 5, 1, 2, 3, 4, 5, 1, 2, 3, 4, 5, 2, 1, 2, 3, 4, 5, 1, 2, 3, 4, 5, 1, 2, 3, 4, 5, 1, 2, 3, 4, 5, 1, 2, 3, 4, 5, 2, 3, 4, 1, 2, 4, 5, 1, 2, 3, 4, 5, 1, 2, 3, 4, 5, 5, 1, 2, 3, 4, 5, 1, 2, 3, 4, 5, 1, 2, 3, 4, 5, 1, 2, 3, 4, 5, 1, 3, 4, 5, 1, 2, 3, 4, 5, 1, 4, 5, 2, 3, 4, 1, 2, 3, 4, 5, 1, 2, 3, 4, 5, 1, 3, 4, 5, 1, 2, 3, 4, 5, 1, 2, 3, 4, 5, 1, 2, 3, 4, 5, 1, 2, 3, 1, 2, 3, 4, 5, 1, 2, 3, 4, 5, 1, 2, 3, 4, 5, 1, 2, 3, 4, 5, 1, 2, 3, 4, 5, 3, 1, 2, 3, 4, 5, 1, 2, 3, 4, 5, 1, 2, 3, 4, 5, 1, 2, 3, 4, 5, 4, 1, 2, 3, 4, 5, 1, 2, 3, 4, 5, 1, 2, 3, 4, 5, 1, 2, 3, 4, 5, 1, 2, 3, 4, 5, 3, 1, 2, 3, 4, 5, 1, 2, 3, 4, 5, 1, 2, 3, 4, 5, 1, 2, 3, 4, 5, 1, 3, 4, 1, 2, 3, 4, 5, 1, 2, 3, 4, 5, 1, 2, 3, 4, 5, 2, 5, 1, 2, 3, 4, 5, 1, 1, 2, 3, 4, 5, 1, 2, 3, 4, 5, 1, 2, 5, 1, 2, 3, 4, 5, 1, 2, 3, 4, 5, 1, 2, 3, 4, 5, 1, 2, 3, 4, 5, 1, 2, 3, 4, 5, 2, 3, 4, 2, 4, 5, 1, 2, 3, 4, 5, 1, 2, 3, 4, 5, 1, 2, 3, 4, 5, 1, 2, 3, 4, 5, 2, 5, 1, 2, 3, 4, 5, 1, 2, 3, 4, 5, 1, 3, 4, 5, 1, 2, 3, 4, 5, 1, 3, 5, 1, 2, 3, 4, 5, 1, 2, 3, 4, 5, 1, 2, 3, 4, 5, 1, 2, 3, 4, 5, 1, 2, 3, 4, 5, 1, 2, 3, 4, 5, 1, 2, 4, 5, 1, 2, 3, 4, 5, 1, 2, 3, 4, 5, 1, 2, 3, 4, 5, 1, 2, 3, 5, 2, 3, 5, 3, 1, 2, 3, 4, 5, 1, 3, 4, 1, 2, 3, 4, 5, 1, 2, 3, 4, 5, 1, 2, 3, 4, 5, 1, 2, 3, 4, 5, 1, 2, 3, 4, 5, 1, 2, 3, 4, 5, 1, 2, 4, 2, 4, 1, 3, 4, 5, 1, 2, 4, 5, 1, 2, 3, 4, 5, 1, 2, 3, 4, 5, 1, 2, 3, 4, 5, 1, 2, 3, 4, 5, 1, 2, 3, 4, 5, 1, 3, 4, 1, 2, 3, 4, 5, 1, 1, 2, 3, 4, 5, 1, 2, 3, 4, 5, 1, 2, 3, 4, 5, 1, 2, 3, 4, 5, 1, 2, 3, 4, 5, 1, 2, 3, 4, 5, 1, 2, 3, 4, 5, 1, 2, 3, 4, 5, 1, 2, 3, 4, 5, 1, 1, 2, 3, 4, 5, 1, 2, 3, 4, 5, 1, 2, 3, 4, 5, 2, 3, 4, 1, 2, 3, 4, 5, 1, 2, 3, 4, 5, 1, 2, 3, 4, 5, 1, 2, 3, 4, 5, 1, 2, 3, 4, 5, 1, 2, 3, 4, 5, 2, 3, 4, 1, 2, 3, 4, 5, 1, 2, 3, 4, 5, 1, 3, 4, 2, 3, 4, 1, 2, 3, 4, 5, 1, 2, 3, 4, 5, 1, 2, 3, 4, 5, 1, 2, 3, 4, 5, 1, 2, 3, 4, 5, 1, 2, 3, 4, 5, 1, 2, 3, 4, 5, 4, 5, 1, 2, 3, 4, 5, 1, 2, 3, 4, 5, 1, 2, 3, 4, 5, 1, 2, 3, 4, 5, 1, 2, 3, 4, 5, 1, 2, 3, 4, 5, 1, 2, 3, 4, 5, 1, 2, 3, 4, 5, 1, 2, 3, 4, 5, 1, 2, 3, 4, 5, 1, 2, 3, 4, 5, 1, 2, 3, 4, 5, 1, 2, 3, 4, 5, 1, 2, 3, 4, 1, 2, 3, 4, 5, 1, 2, 3, 4, 5, 1, 2, 3, 4, 5, 1, 2, 3, 4, 5], \"Freq\": [0.16995948553085327, 0.16995948553085327, 0.33991897106170654, 0.16995948553085327, 0.16995948553085327, 0.20176567137241364, 0.20176567137241364, 0.18495187163352966, 0.2858346998691559, 0.11769664287567139, 0.6166531443595886, 0.16335800290107727, 0.23250024020671844, 0.20134824514389038, 0.1846325397491455, 0.21730414032936096, 0.32269570231437683, 0.32269570231437683, 0.32269570231437683, 0.15549543499946594, 0.15549543499946594, 0.15549543499946594, 0.18659451603889465, 0.3109908699989319, 0.14011384546756744, 0.16877348721027374, 0.19106432795524597, 0.21017076075077057, 0.2897808849811554, 0.32197287678718567, 0.32197287678718567, 0.2922232151031494, 0.15024684369564056, 0.20814011991024017, 0.18332870304584503, 0.1667877733707428, 0.15678338706493378, 0.2221098095178604, 0.16984868049621582, 0.3005014955997467, 0.15678338706493378, 0.24902717769145966, 0.17840753495693207, 0.18831905722618103, 0.1808854192495346, 0.20442530512809753, 0.22757957875728607, 0.22757957875728607, 0.22757957875728607, 0.22757957875728607, 0.22757957875728607, 0.21945762634277344, 0.11627978086471558, 0.26695218682289124, 0.22109536826610565, 0.17523854970932007, 0.2899583578109741, 0.20602305233478546, 0.17244891822338104, 0.17702721059322357, 0.15566186606884003, 0.26244020462036133, 0.19245614111423492, 0.13621895015239716, 0.14371724426746368, 0.26368990540504456, 0.2477429360151291, 0.25793811678886414, 0.17025955021381378, 0.14884966611862183, 0.1753571480512619, 0.3319755792617798, 0.13832315802574158, 0.1659877896308899, 0.1936524212360382, 0.1659877896308899, 0.26673534512519836, 0.26673534512519836, 0.26673534512519836, 0.26673534512519836, 0.3259357213973999, 0.3259357213973999, 0.3259357213973999, 0.11768711358308792, 0.18306884169578552, 0.20922154188156128, 0.20268337428569794, 0.28767961263656616, 0.14832566678524017, 0.18701931834220886, 0.16982214152812958, 0.28590309619903564, 0.20851579308509827, 0.28430628776550293, 0.2046317309141159, 0.20979052782058716, 0.14616551995277405, 0.15476350486278534, 0.24130746722221375, 0.2036312073469162, 0.19286656379699707, 0.17313137650489807, 0.18927834928035736, 0.18393979966640472, 0.226753368973732, 0.16649723052978516, 0.17125429213047028, 0.25053870677948, 0.6170592308044434, 0.173186793923378, 0.14844582974910736, 0.14844582974910736, 0.19792777299880981, 0.346373587846756, 0.2211662083864212, 0.1720181554555893, 0.12287010997533798, 0.18430517613887787, 0.30717527866363525, 0.20602312684059143, 0.18885453045368195, 0.30903470516204834, 0.10301156342029572, 0.20602312684059143, 0.14405401051044464, 0.31115666031837463, 0.19015128910541534, 0.14981617033481598, 0.20167560875415802, 0.17228524386882782, 0.2638799250125885, 0.20281679928302765, 0.18318936228752136, 0.17882771790027618, 0.22817926108837128, 0.22817926108837128, 0.22817926108837128, 0.22817926108837128, 0.22817926108837128, 0.32178008556365967, 0.32178008556365967, 0.3224140405654907, 0.3224140405654907, 0.19201205670833588, 0.19201205670833588, 0.38402411341667175, 0.19201205670833588, 0.19201205670833588, 0.2692496180534363, 0.19184035062789917, 0.1716466248035431, 0.19184035062789917, 0.1766950488090515, 0.1807640939950943, 0.18461014330387115, 0.2692231237888336, 0.16537991166114807, 0.19999432563781738, 0.32281872630119324, 0.32281872630119324, 0.32281872630119324, 0.32281872630119324, 0.16909179091453552, 0.2135896235704422, 0.30258530378341675, 0.20469006896018982, 0.11569438129663467, 0.1682792454957962, 0.15298113226890564, 0.19887547194957733, 0.3059622645378113, 0.18357735872268677, 0.2180701345205307, 0.15148383378982544, 0.27133917808532715, 0.18810629844665527, 0.17145971953868866, 0.16301624476909637, 0.24201641976833344, 0.17931786179542542, 0.22069890797138214, 0.19561949372291565, 0.42650213837623596, 0.10662553459405899, 0.10662553459405899, 0.21325106918811798, 0.10662553459405899, 0.18923847377300262, 0.17810679972171783, 0.19665959477424622, 0.14025910198688507, 0.2953604459762573, 0.13589836657047272, 0.13589836657047272, 0.27179673314094543, 0.13589836657047272, 0.13589836657047272, 0.23760110139846802, 0.18750448524951935, 0.16460317373275757, 0.16317184269428253, 0.24618908762931824, 0.18873856961727142, 0.3397294282913208, 0.15099085867404938, 0.15099085867404938, 0.18873856961727142, 0.3228554427623749, 0.3228554427623749, 0.3228554427623749, 0.2628811299800873, 0.08762703835964203, 0.3505081534385681, 0.17525407671928406, 0.08762703835964203, 0.16508598625659943, 0.18661893904209137, 0.17944128811359406, 0.16508598625659943, 0.3014613687992096, 0.19449928402900696, 0.17811289429664612, 0.20376116037368774, 0.20732341706752777, 0.2158728390932083, 0.14502358436584473, 0.22623679041862488, 0.30744999647140503, 0.16822735965251923, 0.15372499823570251, 0.15943525731563568, 0.2909693419933319, 0.18733642995357513, 0.18733642995357513, 0.17537878453731537, 0.17473486065864563, 0.19512060284614563, 0.26501455903053284, 0.19220834970474243, 0.16891036927700043, 0.18580886721611023, 0.26471400260925293, 0.13744765520095825, 0.18071821331977844, 0.2316247522830963, 0.15946127474308014, 0.1319679468870163, 0.2804318964481354, 0.17595726251602173, 0.25293856859207153, 0.32634130120277405, 0.32634130120277405, 0.32634130120277405, 0.15606841444969177, 0.16127069294452667, 0.29132771492004395, 0.19768665730953217, 0.19768665730953217, 0.17026333510875702, 0.1581016629934311, 0.2918800115585327, 0.21891000866889954, 0.1581016629934311, 0.326986700296402, 0.326986700296402, 0.2656891644001007, 0.2656891644001007, 0.2656891644001007, 0.2656891644001007, 0.2656891644001007, 0.19844207167625427, 0.14174433052539825, 0.3212871551513672, 0.13229471445083618, 0.19844207167625427, 0.2535175085067749, 0.17187628149986267, 0.1890639066696167, 0.21570473909378052, 0.16929814219474792, 0.3036976456642151, 0.21421530842781067, 0.15727199614048004, 0.19794578850269318, 0.12473296374082565, 0.37527576088905334, 0.12509192526340485, 0.18763788044452667, 0.18763788044452667, 0.18763788044452667, 0.18328996002674103, 0.1861538589000702, 0.22696451842784882, 0.2076331526041031, 0.19617752730846405, 0.21013697981834412, 0.17162582278251648, 0.21348577737808228, 0.21013697981834412, 0.19423019886016846, 0.3211016058921814, 0.3211016058921814, 0.1732800453901291, 0.28880009055137634, 0.1650286167860031, 0.18978291749954224, 0.18153147399425507, 0.3235263526439667, 0.3235263526439667, 0.3235263526439667, 0.20479151606559753, 0.2602056860923767, 0.19515427947044373, 0.14937734603881836, 0.19033564627170563, 0.197261244058609, 0.394522488117218, 0.197261244058609, 0.197261244058609, 0.197261244058609, 0.18624533712863922, 0.18252041935920715, 0.15644608438014984, 0.18252041935920715, 0.29054272174835205, 0.32377567887306213, 0.32377567887306213, 0.32377567887306213, 0.32717788219451904, 0.32717788219451904, 0.14937376976013184, 0.13692596554756165, 0.19916503131389618, 0.1867172122001648, 0.32364317774772644, 0.16957461833953857, 0.16957461833953857, 0.16957461833953857, 0.33914923667907715, 0.16957461833953857, 0.18324550986289978, 0.18324550986289978, 0.15797026455402374, 0.29066529870033264, 0.18324550986289978, 0.148570716381073, 0.3268555700778961, 0.148570716381073, 0.20799900591373444, 0.17828486859798431, 0.10985445976257324, 0.19224530458450317, 0.16478168964385986, 0.19224530458450317, 0.3295633792877197, 0.2591128349304199, 0.15966953337192535, 0.17227502167224884, 0.1974859982728958, 0.21149209141731262, 0.23325088620185852, 0.1332862228155136, 0.2665724456310272, 0.16993992030620575, 0.1965971738100052, 0.3257754445075989, 0.3257754445075989, 0.3257754445075989, 0.23487488925457, 0.17224158346652985, 0.24451078474521637, 0.16621914505958557, 0.1818774789571762, 0.4388386905193329, 0.2773279547691345, 0.19533534348011017, 0.20256997644901276, 0.19533534348011017, 0.13022355735301971, 0.3224884271621704, 0.3224884271621704, 0.33811014890670776, 0.16905507445335388, 0.1932058036327362, 0.14490434527397156, 0.14490434527397156, 0.18014375865459442, 0.15762577950954437, 0.20266172289848328, 0.2871040999889374, 0.1745142638683319, 0.62406325340271, 0.23412829637527466, 0.11706414818763733, 0.11706414818763733, 0.11706414818763733, 0.351192444562912, 0.23359590768814087, 0.14171485602855682, 0.22113746404647827, 0.278757780790329, 0.12614178657531738, 0.18630212545394897, 0.2454710304737091, 0.19030001759529114, 0.20229372382164001, 0.17590758204460144, 0.22265470027923584, 0.13848036527633667, 0.14934156835079193, 0.2552383244037628, 0.2335159033536911, 0.14735133945941925, 0.16673968732357025, 0.2714366912841797, 0.18612802028656006, 0.22878235578536987, 0.32276538014411926, 0.32276538014411926, 0.32276538014411926, 0.21356627345085144, 0.17733627557754517, 0.1658952385187149, 0.244075745344162, 0.19831153750419617, 0.29373055696487427, 0.21169771254062653, 0.21169771254062653, 0.15612706542015076, 0.1296648383140564, 0.1931392401456833, 0.1931392401456833, 0.09656962007284164, 0.28970885276794434, 0.1931392401456833, 0.26243725419044495, 0.1618890017271042, 0.1745365858078003, 0.22048944234848022, 0.1804387867450714, 0.2687790095806122, 0.2687790095806122, 0.2687790095806122, 0.2687790095806122, 0.1809663474559784, 0.26482880115509033, 0.13793165981769562, 0.21738030016422272, 0.19972504675388336, 0.17108620703220367, 0.16696365177631378, 0.2679663598537445, 0.21437308192253113, 0.17933133244514465, 0.2614802420139313, 0.14385159313678741, 0.19330057501792908, 0.17981448769569397, 0.22102198004722595, 0.21758277714252472, 0.2559797465801239, 0.2559797465801239, 0.10239189863204956, 0.16821525990962982, 0.38527441024780273, 0.19263720512390137, 0.19263720512390137, 0.19263720512390137, 0.19263720512390137, 0.19138817489147186, 0.19138817489147186, 0.3827763497829437, 0.19138817489147186, 0.19138817489147186, 0.17064149677753448, 0.34128299355506897, 0.18960167467594147, 0.1327211707830429, 0.16432145237922668, 0.2049468457698822, 0.18631531298160553, 0.16768378019332886, 0.14905224740505219, 0.29810449481010437, 0.15924175083637238, 0.22629091143608093, 0.18438518047332764, 0.15086060762405396, 0.27867305278778076, 0.6184129118919373, 0.1893131136894226, 0.1774810403585434, 0.14198483526706696, 0.33129796385765076, 0.16564898192882538, 0.1449023187160492, 0.20520327985286713, 0.17190274596214294, 0.22770363092422485, 0.2511039972305298, 0.24779845774173737, 0.2592664361000061, 0.12592299282550812, 0.2093469649553299, 0.15762859582901, 0.31961631774902344, 0.16920863091945648, 0.15040767192840576, 0.1880095899105072, 0.15040767192840576, 0.12936581671237946, 0.22864657640457153, 0.21310260891914368, 0.20758701860904694, 0.22162671387195587, 0.20882736146450043, 0.20615941286087036, 0.24787637591362, 0.21852898597717285, 0.1183597594499588, 0.6181554198265076, 0.22578208148479462, 0.22578208148479462, 0.22578208148479462, 0.22578208148479462, 0.45156416296958923, 0.323798805475235, 0.323798805475235, 0.323798805475235, 0.18932582437992096, 0.2806079089641571, 0.18932582437992096, 0.20622991025447845, 0.13861355185508728, 0.11700740456581116, 0.23401480913162231, 0.35102221369743347, 0.11700740456581116, 0.11700740456581116, 0.1539224088191986, 0.21914377808570862, 0.2060995101928711, 0.1617489755153656, 0.2582765817642212, 0.26025819778442383, 0.18692578375339508, 0.18692578375339508, 0.19986680150032043, 0.16535742580890656, 0.157446950674057, 0.2897023856639862, 0.17634057998657227, 0.19523420929908752, 0.18263845145702362, 0.18279045820236206, 0.18279045820236206, 0.12186030298471451, 0.18279045820236206, 0.33511584997177124, 0.21167223155498505, 0.18710313737392426, 0.17198368906974792, 0.24758091568946838, 0.18143334984779358, 0.3238791525363922, 0.3238791525363922, 0.3238791525363922, 0.3261958658695221, 0.3261958658695221, 0.14361058175563812, 0.14361058175563812, 0.18464216589927673, 0.22567376494407654, 0.30773696303367615, 0.203403040766716, 0.1947105973958969, 0.18080270290374756, 0.24164976179599762, 0.17906421422958374, 0.1978089064359665, 0.395617812871933, 0.1978089064359665, 0.1978089064359665, 0.3412041962146759, 0.3412041962146759, 0.3412041962146759, 0.3412041962146759, 0.16590134799480438, 0.22933422029018402, 0.2830081880092621, 0.17078079283237457, 0.15126299858093262, 0.6189917325973511, 0.3261158764362335, 0.13044635951519012, 0.13044635951519012, 0.26089271903038025, 0.13044635951519012, 0.3222832679748535, 0.3222832679748535, 0.3222832679748535, 0.1459125578403473, 0.321007639169693, 0.1750950813293457, 0.20427758991718292, 0.1459125578403473, 0.32607272267341614, 0.32607272267341614, 0.12695805728435516, 0.12695805728435516, 0.12695805728435516, 0.3808741867542267, 0.2539161145687103, 0.3245357275009155, 0.3245357275009155, 0.3245357275009155, 0.33224087953567505, 0.2214939147233963, 0.12920479476451874, 0.11074695736169815, 0.2030360996723175, 0.19246909022331238, 0.2072744071483612, 0.27636587619781494, 0.13324782252311707, 0.18753397464752197, 0.6191871762275696, 0.34406670928001404, 0.34406670928001404, 0.23951296508312225, 0.11975648254156113, 0.3592694401741028, 0.23951296508312225, 0.11975648254156113, 0.17680752277374268, 0.17470265924930573, 0.17470265924930573, 0.2757355272769928, 0.19785602390766144, 0.28003695607185364, 0.28003695607185364, 0.28003695607185364, 0.28003695607185364, 0.32375818490982056, 0.32375818490982056, 0.32375818490982056, 0.17835496366024017, 0.156060591340065, 0.20064932107925415, 0.31212118268013, 0.13376621901988983, 0.32232600450515747, 0.32232600450515747, 0.20992621779441833, 0.20992621779441833, 0.20992621779441833, 0.20992621779441833, 0.3148893415927887, 0.4387013614177704, 0.3235762417316437, 0.3235762417316437, 0.3235762417316437, 0.19176405668258667, 0.17868924140930176, 0.2549590468406677, 0.14600218832492828, 0.2288093864917755, 0.16741852462291718, 0.19121405482292175, 0.1929137259721756, 0.2583514153957367, 0.19121405482292175, 0.21340684592723846, 0.19660316407680511, 0.16635651886463165, 0.16971725225448608, 0.2537356913089752, 0.2028893232345581, 0.2744973301887512, 0.1790199875831604, 0.21880221366882324, 0.12332487851381302, 0.6186119318008423, 0.32359030842781067, 0.32359030842781067, 0.32359030842781067, 0.32359030842781067, 0.19824816286563873, 0.15859852731227875, 0.15859852731227875, 0.19824816286563873, 0.3171970546245575, 0.32788124680519104, 0.16092145442962646, 0.15820421278476715, 0.1796402782201767, 0.17330002784729004, 0.20831313729286194, 0.22142374515533447, 0.1762649565935135, 0.20030109584331512, 0.19374577701091766, 0.32316532731056213, 0.32316532731056213, 0.32316532731056213, 0.261529803276062, 0.22629782557487488, 0.15718890726566315, 0.16938459873199463, 0.18564552068710327, 0.17191100120544434, 0.11901531368494034, 0.24133659899234772, 0.28100836277008057, 0.18844090402126312, 0.21421845257282257, 0.21302835643291473, 0.1737549751996994, 0.2534918487071991, 0.14519250392913818, 0.4396463632583618, 0.1730373203754425, 0.20245365798473358, 0.18688030540943146, 0.1730373203754425, 0.2630167305469513, 0.2695596516132355, 0.24882429838180542, 0.1407042145729065, 0.139223113656044, 0.20142918825149536, 0.20541943609714508, 0.21833890676498413, 0.23642614483833313, 0.17570467293262482, 0.16407716274261475, 0.20471230149269104, 0.23872603476047516, 0.24943406879901886, 0.14991240203380585, 0.15684111416339874, 0.1392640918493271, 0.2924545705318451, 0.2437121421098709, 0.17408010363578796, 0.14622728526592255, 0.32347792387008667, 0.32347792387008667, 0.32347792387008667, 0.2667616605758667, 0.2667616605758667, 0.2667616605758667, 0.2667616605758667, 0.1906232237815857, 0.1906232237815857, 0.1906232237815857, 0.1906232237815857, 0.3812464475631714, 0.21088331937789917, 0.12521196901798248, 0.16145753860473633, 0.23724374175071716, 0.2668991982936859, 0.33942240476608276, 0.23497246205806732, 0.23497246205806732, 0.23497246205806732, 0.23497246205806732, 0.23497246205806732, 0.11490601301193237, 0.11490601301193237, 0.3447180390357971, 0.11490601301193237, 0.22981202602386475, 0.203659787774086, 0.203659787774086, 0.12219587713479996, 0.12219587713479996, 0.32585567235946655, 0.13971984386444092, 0.3492996096611023, 0.13971984386444092, 0.13971984386444092, 0.20957976579666138, 0.2662254273891449, 0.2662254273891449, 0.2662254273891449, 0.2662254273891449, 0.196970596909523, 0.196970596909523, 0.2954559028148651, 0.196970596909523, 0.196970596909523, 0.3236307203769684, 0.3236307203769684, 0.3236307203769684, 0.26627159118652344, 0.26627159118652344, 0.26627159118652344, 0.26431185007095337, 0.2445237934589386, 0.1809193342924118, 0.1328626424074173, 0.17667904496192932, 0.15054534375667572, 0.17179879546165466, 0.21784795820713043, 0.21430571377277374, 0.24618591368198395, 0.26529935002326965, 0.26529935002326965, 0.26529935002326965, 0.26529935002326965, 0.23445212841033936, 0.23445212841033936, 0.23445212841033936, 0.23445212841033936, 0.23445212841033936, 0.16455428302288055, 0.17826713621616364, 0.30168285965919495, 0.19883643090724945, 0.15084142982959747, 0.26124298572540283, 0.13860158622264862, 0.2167224884033203, 0.1923622041940689, 0.19068218767642975, 0.32378166913986206, 0.32378166913986206, 0.32378166913986206, 0.18188834190368652, 0.1864355504512787, 0.2319076508283615, 0.21144521236419678, 0.18757236003875732, 0.1414540708065033, 0.35363519191741943, 0.1414540708065033, 0.21218110620975494, 0.21218110620975494, 0.2781321704387665, 0.2781321704387665, 0.2781321704387665, 0.2781321704387665, 0.2781321704387665, 0.1658560037612915, 0.3083220422267914, 0.13608697056770325, 0.19987773895263672, 0.18711958825588226, 0.18951044976711273, 0.16845373809337616, 0.12634029984474182, 0.16845373809337616, 0.31585076451301575, 0.6190347671508789, 0.17489871382713318, 0.19006851315498352, 0.22665446996688843, 0.16240595281124115, 0.24628596007823944, 0.18810220062732697, 0.21057982742786407, 0.20289011299610138, 0.18869371712207794, 0.2099883109331131, 0.17012837529182434, 0.17012837529182434, 0.17012837529182434, 0.3402567505836487, 0.17012837529182434, 0.15920768678188324, 0.2473026067018509, 0.2271362990140915, 0.1814967542886734, 0.1857423037290573, 0.6185950636863708, 0.16753679513931274, 0.23136034607887268, 0.13562503457069397, 0.17551474273204803, 0.2951838970184326, 0.15340283513069153, 0.15130142867565155, 0.2017352432012558, 0.296298623085022, 0.19963383674621582, 0.19123327732086182, 0.2619064450263977, 0.1662898063659668, 0.1662898063659668, 0.21409812569618225, 0.21246671676635742, 0.2193649858236313, 0.19591087102890015, 0.16072969138622284, 0.21108706295490265, 0.24924707412719727, 0.2135441154241562, 0.20411314070224762, 0.16369469463825226, 0.16908381879329681, 0.43905624747276306, 0.12623129785060883, 0.12623129785060883, 0.25246259570121765, 0.12623129785060883, 0.31557825207710266, 0.2512284219264984, 0.3118697702884674, 0.16459792852401733, 0.1559348851442337, 0.1212826818227768, 0.28000950813293457, 0.28000950813293457, 0.28000950813293457, 0.28000950813293457, 0.28000950813293457, 0.1808801144361496, 0.1808801144361496, 0.1808801144361496, 0.30146685242652893, 0.1808801144361496, 0.34314003586769104, 0.34314003586769104, 0.34314003586769104, 0.10515248775482178, 0.31545746326446533, 0.21030497550964355, 0.10515248775482178, 0.21030497550964355, 0.20625944435596466, 0.24534018337726593, 0.16066525876522064, 0.22724725306034088, 0.15994153916835785, 0.14514119923114777, 0.16291359066963196, 0.20142042636871338, 0.2132686972618103, 0.27250999212265015, 0.32224056124687195, 0.32224056124687195, 0.21914076805114746, 0.14087620377540588, 0.3130582571029663, 0.17218203842639923, 0.15652912855148315, 0.4424004852771759, 0.20486730337142944, 0.2337588518857956, 0.20224079489707947, 0.25214436650276184, 0.10768666118383408, 0.2767525613307953, 0.19432030618190765, 0.12529703974723816, 0.18750591576099396, 0.21630224585533142, 0.3231474757194519, 0.3231474757194519, 0.3231474757194519, 0.2219758927822113, 0.17420892417430878, 0.2219758927822113, 0.2556937634944916, 0.12644197046756744, 0.19109123945236206, 0.19109123945236206, 0.19109123945236206, 0.19109123945236206, 0.3821824789047241, 0.17640447616577148, 0.2822471857070923, 0.22344568371772766, 0.17052432894706726, 0.14700374007225037, 0.1610923558473587, 0.17573711276054382, 0.21967138350009918, 0.20405031740665436, 0.2401740550994873, 0.24804651737213135, 0.1722545325756073, 0.14124871790409088, 0.2997228801250458, 0.13665525615215302, 0.266159325838089, 0.266159325838089, 0.266159325838089, 0.3228900730609894, 0.3228900730609894, 0.3228900730609894, 0.2039058655500412, 0.14157655835151672, 0.19411125779151917, 0.2386321872472763, 0.22171424329280853, 0.09990887343883514, 0.2997266352176666, 0.2997266352176666, 0.09990887343883514, 0.09990887343883514, 0.13919563591480255, 0.18559418618679047, 0.18559418618679047, 0.324789822101593, 0.13919563591480255, 0.22461216151714325, 0.2433924376964569, 0.20658309757709503, 0.12695470452308655, 0.19831976294517517, 0.3223676383495331, 0.3223676383495331, 0.19118405878543854, 0.21295253932476044, 0.17604075372219086, 0.22336354851722717, 0.1959163248538971, 0.26675906777381897, 0.26675906777381897, 0.26675906777381897, 0.26675906777381897, 0.26675906777381897, 0.3235328197479248, 0.3235328197479248, 0.3235328197479248, 0.3235328197479248, 0.23311974108219147, 0.23962540924549103, 0.17240017652511597, 0.1658945083618164, 0.18866434693336487, 0.3258345425128937, 0.3258345425128937, 0.3258345425128937, 0.20476298034191132, 0.12302985787391663, 0.18325427174568176, 0.2529425024986267, 0.23573553562164307, 0.24761363863945007, 0.16507576406002045, 0.16507576406002045, 0.3301515281200409, 0.12380681931972504, 0.22236526012420654, 0.14018678665161133, 0.1836930364370346, 0.2755395472049713, 0.17402498424053192, 0.345371276140213, 0.15698693692684174, 0.1255895495414734, 0.21978171169757843, 0.15698693692684174, 0.3016905188560486, 0.19898736476898193, 0.1283789426088333, 0.1476357877254486, 0.2246631532907486, 0.2098003476858139, 0.2098003476858139, 0.255694180727005, 0.15735025703907013, 0.17046278715133667, 0.26580968499183655, 0.26580968499183655, 0.26580968499183655, 0.26580968499183655, 0.16586391627788544, 0.22064466774463654, 0.27999046444892883, 0.19021092355251312, 0.14303861558437347, 0.3028159737586975, 0.12732036411762238, 0.1671796590089798, 0.2503393590450287, 0.15255501866340637, 0.1912742257118225, 0.1912742257118225, 0.382548451423645, 0.1912742257118225, 0.1912742257118225, 0.2774856984615326, 0.2774856984615326, 0.2774856984615326, 0.2774856984615326, 0.3223041594028473, 0.3223041594028473, 0.3223041594028473, 0.6183367967605591, 0.1842709481716156, 0.14039692282676697, 0.21352031826972961, 0.19304576516151428, 0.2690940797328949, 0.3235175907611847, 0.3235175907611847, 0.3235175907611847, 0.13483953475952148, 0.13483953475952148, 0.13483953475952148, 0.13483953475952148, 0.40451860427856445, 0.19053542613983154, 0.19053542613983154, 0.19053542613983154, 0.19053542613983154, 0.3810708522796631, 0.18930810689926147, 0.20357105135917664, 0.1698586493730545, 0.2580295503139496, 0.17893506586551666, 0.14468616247177124, 0.17362338304519653, 0.14468616247177124, 0.3038409352302551, 0.2314978539943695, 0.40282824635505676, 0.10070706158876419, 0.10070706158876419, 0.20141412317752838, 0.20141412317752838, 0.32251590490341187, 0.16125795245170593, 0.16125795245170593, 0.16125795245170593, 0.16125795245170593, 0.3260345160961151, 0.3260345160961151, 0.3260345160961151, 0.3234390318393707, 0.3234390318393707, 0.26878300309181213, 0.26878300309181213, 0.26878300309181213, 0.26878300309181213, 0.19149456918239594, 0.19149456918239594, 0.38298913836479187, 0.19149456918239594, 0.22289790213108063, 0.17977777123451233, 0.22024434804916382, 0.12670683860778809, 0.25076013803482056, 0.15696479380130768, 0.31392958760261536, 0.17199333012104034, 0.19370123744010925, 0.16197431087493896, 0.2369934469461441, 0.16540168225765228, 0.2937731146812439, 0.1604643166065216, 0.14318354427814484, 0.2660732567310333, 0.2660732567310333, 0.2660732567310333, 0.2660732567310333, 0.2660732567310333, 0.1669212132692337, 0.19727052748203278, 0.10622259229421616, 0.15174655616283417, 0.3641917407512665, 0.3259417712688446, 0.3259417712688446, 0.3259417712688446, 0.16917157173156738, 0.21363332867622375, 0.22881539165973663, 0.21905550360679626, 0.16917157173156738, 0.3262733221054077, 0.15112359821796417, 0.2241239845752716, 0.26254522800445557, 0.13575510680675507, 0.22668540477752686, 0.13895325362682343, 0.13895325362682343, 0.13895325362682343, 0.27790650725364685, 0.13895325362682343, 0.12693415582180023, 0.12693415582180023, 0.12693415582180023, 0.3808024525642395, 0.25386831164360046, 0.2518831193447113, 0.1763181835412979, 0.2636376619338989, 0.15448832511901855, 0.15280909836292267, 0.12960803508758545, 0.2507171630859375, 0.16785302758216858, 0.2677149474620819, 0.18272608518600464, 0.28418096899986267, 0.14209048449993134, 0.28418096899986267, 0.14209048449993134, 0.14209048449993134, 0.1793506145477295, 0.1793506145477295, 0.1793506145477295, 0.358701229095459, 0.1793506145477295, 0.22199156880378723, 0.30127426981925964, 0.19027850031852722, 0.15856541693210602, 0.14270886778831482, 0.25259074568748474, 0.1936529129743576, 0.2638170123100281, 0.14313475787639618, 0.14594131708145142, 0.4423394203186035, 0.22658084332942963, 0.13371984660625458, 0.20800864696502686, 0.1801503449678421, 0.252581924200058, 0.2054644674062729, 0.20395146310329437, 0.20183327794075012, 0.17036302387714386, 0.21847620606422424, 0.21661362051963806, 0.24686692655086517, 0.23113520443439484, 0.12827399373054504, 0.1778894066810608, 0.3234289884567261, 0.3234289884567261, 0.3234289884567261, 0.1534239649772644, 0.23281818628311157, 0.19848553836345673, 0.20706869661808014, 0.20706869661808014, 0.3073199689388275, 0.1920749694108963, 0.1792699694633484, 0.16646496951580048, 0.15365998446941376, 0.21070030331611633, 0.23703783750534058, 0.24581702053546906, 0.15802523493766785, 0.1477828472852707, 0.19266358017921448, 0.2276284545660019, 0.22049276530742645, 0.17696507275104523, 0.18124648928642273, 0.14282245934009552, 0.20599393546581268, 0.13732929527759552, 0.1950075924396515, 0.3186039626598358, 0.16914226114749908, 0.16914226114749908, 0.33828452229499817, 0.16914226114749908, 0.33828452229499817, 0.34056946635246277, 0.34056946635246277, 0.6200684905052185, 0.22620907425880432, 0.22620907425880432, 0.22620907425880432, 0.22620907425880432, 0.22620907425880432, 0.1415199637413025, 0.1415199637413025, 0.1415199637413025, 0.1415199637413025, 0.283039927482605, 0.32577842473983765, 0.32577842473983765, 0.32577842473983765, 0.3231147527694702, 0.3231147527694702, 0.3231147527694702, 0.1883956342935562, 0.1356448531150818, 0.26483044028282166, 0.2551415264606476, 0.15609924495220184, 0.2102879136800766, 0.19096416234970093, 0.17164041101932526, 0.2011943906545639, 0.2273382842540741, 0.191129669547081, 0.191129669547081, 0.382259339094162, 0.191129669547081, 0.191129669547081, 0.17775660753250122, 0.17775660753250122, 0.259228378534317, 0.23515717685222626, 0.14813050627708435, 0.17920660972595215, 0.14804024994373322, 0.18699820339679718, 0.1947897970676422, 0.2882888913154602, 0.20266380906105042, 0.20266380906105042, 0.20266380906105042, 0.20266380906105042, 0.3039957284927368, 0.15984229743480682, 0.17572066187858582, 0.16513508558273315, 0.19900894165039062, 0.2995719909667969, 0.32218247652053833, 0.32218247652053833, 0.2472364604473114, 0.18894493579864502, 0.1467338353395462, 0.18894493579864502, 0.2281409502029419, 0.20764607191085815, 0.17184503376483917, 0.2625410258769989, 0.1622980833053589, 0.19809913635253906, 0.22628401219844818, 0.22628401219844818, 0.22628401219844818, 0.22628401219844818, 0.22628401219844818, 0.24397015571594238, 0.1860155612230301, 0.20284108817577362, 0.16732053458690643, 0.20003683865070343, 0.3094450831413269, 0.15472254157066345, 0.15472254157066345, 0.18566705286502838, 0.18566705286502838, 0.18118666112422943, 0.13890977203845978, 0.21138443052768707, 0.18722622096538544, 0.28385910391807556, 0.13534387946128845, 0.13534387946128845, 0.13534387946128845, 0.13534387946128845, 0.40603163838386536, 0.21508468687534332, 0.17311693727970123, 0.1442641168832779, 0.27016735076904297, 0.19934678077697754, 0.11938642710447311, 0.35815927386283875, 0.11938642710447311, 0.11938642710447311, 0.23877285420894623, 0.13829366862773895, 0.41488102078437805, 0.13829366862773895, 0.13829366862773895, 0.13829366862773895, 0.25705787539482117, 0.18203668296337128, 0.13680332899093628, 0.1798301786184311, 0.24381883442401886, 0.20728987455368042, 0.15379571914672852, 0.2741575837135315, 0.19391633570194244, 0.17051264643669128, 0.20704960823059082, 0.16442175209522247, 0.16442175209522247, 0.2923053205013275, 0.17051143944263458, 0.19214095175266266, 0.19214095175266266, 0.3842819035053253, 0.19214095175266266, 0.1891564428806305, 0.26982611417770386, 0.19471988081932068, 0.15021246671676636, 0.20028330385684967, 0.1762065887451172, 0.15057654678821564, 0.24668923020362854, 0.25469863414764404, 0.17140096426010132, 0.16018475592136383, 0.16018475592136383, 0.16018475592136383, 0.32036951184272766, 0.16018475592136383, 0.06499902904033661, 0.32499516010284424, 0.22749660909175873, 0.19499708712100983, 0.16249758005142212], \"Term\": [\"adobo\", \"adobo\", \"adobo\", \"adobo\", \"adobo\", \"air\", \"air\", \"air\", \"air\", \"air\", \"alam\", \"amazing\", \"amazing\", \"amazing\", \"amazing\", \"amazing\", \"angelica\", \"angelica\", \"angelica\", \"answers\", \"answers\", \"answers\", \"answers\", \"answers\", \"appointment\", \"appointment\", \"appointment\", \"appointment\", \"appointment\", \"aptive\", \"aptive\", \"area\", \"area\", \"area\", \"area\", \"area\", \"areas\", \"areas\", \"areas\", \"areas\", \"areas\", \"asked\", \"asked\", \"asked\", \"asked\", \"asked\", \"aw\", \"aw\", \"aw\", \"aw\", \"aw\", \"away\", \"away\", \"away\", \"away\", \"away\", \"awesome\", \"awesome\", \"awesome\", \"awesome\", \"awesome\", \"bad\", \"bad\", \"bad\", \"bad\", \"bad\", \"bar\", \"bar\", \"bar\", \"bar\", \"bar\", \"bartenders\", \"bartenders\", \"bartenders\", \"bartenders\", \"bartenders\", \"bathing\", \"bathing\", \"bathing\", \"bathing\", \"bb\", \"bb\", \"bb\", \"beans\", \"beans\", \"beans\", \"beans\", \"beans\", \"beef\", \"beef\", \"beef\", \"beef\", \"beef\", \"best\", \"best\", \"best\", \"best\", \"best\", \"better\", \"better\", \"better\", \"better\", \"better\", \"big\", \"big\", \"big\", \"big\", \"big\", \"blitzer\", \"blow\", \"blow\", \"blow\", \"blow\", \"blow\", \"brown\", \"brown\", \"brown\", \"brown\", \"brown\", \"buffalo\", \"buffalo\", \"buffalo\", \"buffalo\", \"buffalo\", \"burgers\", \"burgers\", \"burgers\", \"burgers\", \"burgers\", \"business\", \"business\", \"business\", \"business\", \"business\", \"butcher\", \"butcher\", \"butcher\", \"butcher\", \"butcher\", \"butterflies\", \"butterflies\", \"calabash\", \"calabash\", \"caliente\", \"caliente\", \"caliente\", \"caliente\", \"caliente\", \"car\", \"car\", \"car\", \"car\", \"car\", \"care\", \"care\", \"care\", \"care\", \"care\", \"cathedral\", \"cathedral\", \"cathedral\", \"cathedral\", \"center\", \"center\", \"center\", \"center\", \"center\", \"chair\", \"chair\", \"chair\", \"chair\", \"chair\", \"check\", \"check\", \"check\", \"check\", \"check\", \"cheese\", \"cheese\", \"cheese\", \"cheese\", \"cheese\", \"cheesetart\", \"cheesetart\", \"cheesetart\", \"cheesetart\", \"cheesetart\", \"chicken\", \"chicken\", \"chicken\", \"chicken\", \"chicken\", \"chimichurri\", \"chimichurri\", \"chimichurri\", \"chimichurri\", \"chimichurri\", \"clean\", \"clean\", \"clean\", \"clean\", \"clean\", \"code\", \"code\", \"code\", \"code\", \"code\", \"coffe\", \"coffe\", \"coffe\", \"cola\", \"cola\", \"cola\", \"cola\", \"cola\", \"color\", \"color\", \"color\", \"color\", \"color\", \"come\", \"come\", \"come\", \"come\", \"come\", \"comes\", \"comes\", \"comes\", \"comes\", \"comes\", \"comfortable\", \"comfortable\", \"comfortable\", \"comfortable\", \"comfortable\", \"company\", \"company\", \"company\", \"company\", \"company\", \"cooked\", \"cooked\", \"cooked\", \"cooked\", \"cooked\", \"cool\", \"cool\", \"cool\", \"cool\", \"cool\", \"cos\", \"cos\", \"cos\", \"cost\", \"cost\", \"cost\", \"cost\", \"cost\", \"cuisine\", \"cuisine\", \"cuisine\", \"cuisine\", \"cuisine\", \"cwru\", \"cwru\", \"c\\u00f4te\", \"c\\u00f4te\", \"c\\u00f4te\", \"c\\u00f4te\", \"c\\u00f4te\", \"dark\", \"dark\", \"dark\", \"dark\", \"dark\", \"day\", \"day\", \"day\", \"day\", \"day\", \"decent\", \"decent\", \"decent\", \"decent\", \"decent\", \"defiantly\", \"defiantly\", \"defiantly\", \"defiantly\", \"defiantly\", \"definitely\", \"definitely\", \"definitely\", \"definitely\", \"definitely\", \"delicious\", \"delicious\", \"delicious\", \"delicious\", \"delicious\", \"delivary\", \"delivary\", \"delivered\", \"delivered\", \"delivered\", \"delivered\", \"delivered\", \"discoloration\", \"discoloration\", \"discoloration\", \"dishes\", \"dishes\", \"dishes\", \"dishes\", \"dishes\", \"diy\", \"diy\", \"diy\", \"diy\", \"diy\", \"dog\", \"dog\", \"dog\", \"dog\", \"dog\", \"dojo\", \"dojo\", \"dojo\", \"dolci\", \"dolci\", \"dollar\", \"dollar\", \"dollar\", \"dollar\", \"dollar\", \"donair\", \"donair\", \"donair\", \"donair\", \"donair\", \"downtown\", \"downtown\", \"downtown\", \"downtown\", \"downtown\", \"dresses\", \"dresses\", \"dresses\", \"dresses\", \"dresses\", \"dried\", \"dried\", \"dried\", \"dried\", \"dried\", \"drinks\", \"drinks\", \"drinks\", \"drinks\", \"drinks\", \"drive\", \"drive\", \"drive\", \"drive\", \"drive\", \"drizzly\", \"drizzly\", \"drizzly\", \"eat\", \"eat\", \"eat\", \"eat\", \"eat\", \"elaine\", \"end\", \"end\", \"end\", \"end\", \"end\", \"erika\", \"erika\", \"espresso\", \"espresso\", \"espresso\", \"espresso\", \"espresso\", \"evening\", \"evening\", \"evening\", \"evening\", \"evening\", \"everrrrr\", \"examples\", \"examples\", \"examples\", \"examples\", \"examples\", \"excellent\", \"excellent\", \"excellent\", \"excellent\", \"excellent\", \"experience\", \"experience\", \"experience\", \"experience\", \"experience\", \"extremely\", \"extremely\", \"extremely\", \"extremely\", \"extremely\", \"fact\", \"fact\", \"fact\", \"fact\", \"fact\", \"factoid\", \"factoid\", \"factoid\", \"favorite\", \"favorite\", \"favorite\", \"favorite\", \"favorite\", \"fish\", \"fish\", \"fish\", \"fish\", \"fish\", \"flamingo\", \"flamingo\", \"flamingo\", \"flamingo\", \"flamingo\", \"food\", \"food\", \"food\", \"food\", \"food\", \"forgetful\", \"forgetful\", \"forgetful\", \"forgetful\", \"fresh\", \"fresh\", \"fresh\", \"fresh\", \"fresh\", \"fried\", \"fried\", \"fried\", \"fried\", \"fried\", \"friendly\", \"friendly\", \"friendly\", \"friendly\", \"friendly\", \"friends\", \"friends\", \"friends\", \"friends\", \"friends\", \"fungus\", \"fungus\", \"fungus\", \"fungus\", \"fungus\", \"gale\", \"gale\", \"gale\", \"gale\", \"gale\", \"game\", \"game\", \"game\", \"game\", \"game\", \"gel\", \"gel\", \"gel\", \"gel\", \"gel\", \"getting\", \"getting\", \"getting\", \"getting\", \"getting\", \"ghirardelli\", \"gives\", \"gives\", \"gives\", \"gives\", \"gives\", \"going\", \"going\", \"going\", \"going\", \"going\", \"good\", \"good\", \"good\", \"good\", \"good\", \"goodness\", \"goodness\", \"goodness\", \"goodness\", \"goodness\", \"got\", \"got\", \"got\", \"got\", \"got\", \"great\", \"great\", \"great\", \"great\", \"great\", \"greatful\", \"greenhouse\", \"greenhouse\", \"greenhouse\", \"greenhouse\", \"greenhouse\", \"gustav\", \"gustav\", \"gustav\", \"guys\", \"guys\", \"guys\", \"guys\", \"guys\", \"gwen\", \"gwen\", \"gwen\", \"gwen\", \"gwen\", \"hair\", \"hair\", \"hair\", \"hair\", \"hair\", \"happy\", \"happy\", \"happy\", \"happy\", \"happy\", \"heard\", \"heard\", \"heard\", \"heard\", \"heard\", \"hello\", \"hello\", \"hello\", \"hello\", \"hello\", \"highly\", \"highly\", \"highly\", \"highly\", \"highly\", \"hmmmm\", \"hmmmm\", \"hmmmm\", \"hog\", \"hog\", \"hospital\", \"hospital\", \"hospital\", \"hospital\", \"hospital\", \"hour\", \"hour\", \"hour\", \"hour\", \"hour\", \"hudson\", \"hudson\", \"hudson\", \"hudson\", \"hunan\", \"hunan\", \"hunan\", \"hunan\", \"husband\", \"husband\", \"husband\", \"husband\", \"husband\", \"icons\", \"ihop\", \"ihop\", \"ihop\", \"ihop\", \"ihop\", \"imcomplete\", \"imcomplete\", \"imcomplete\", \"impeccable\", \"impeccable\", \"impeccable\", \"impeccable\", \"impeccable\", \"inconvience\", \"inconvience\", \"instruments\", \"instruments\", \"instruments\", \"instruments\", \"instruments\", \"intelligently\", \"intelligently\", \"intelligently\", \"inviting\", \"inviting\", \"inviting\", \"inviting\", \"inviting\", \"items\", \"items\", \"items\", \"items\", \"items\", \"jacobite\", \"janet\", \"janet\", \"jersey\", \"jersey\", \"jersey\", \"jersey\", \"jersey\", \"job\", \"job\", \"job\", \"job\", \"job\", \"jodi\", \"jodi\", \"jodi\", \"jodi\", \"kafta\", \"kafta\", \"kafta\", \"keeps\", \"keeps\", \"keeps\", \"keeps\", \"keeps\", \"kendel\", \"kendel\", \"keratin\", \"keratin\", \"keratin\", \"keratin\", \"keratin\", \"keychain\", \"kibbi\", \"kibbi\", \"kibbi\", \"kind\", \"kind\", \"kind\", \"kind\", \"kind\", \"know\", \"know\", \"know\", \"know\", \"know\", \"left\", \"left\", \"left\", \"left\", \"left\", \"let\", \"let\", \"let\", \"let\", \"let\", \"lgbtq\", \"lieras\", \"lieras\", \"lieras\", \"lieras\", \"lightly\", \"lightly\", \"lightly\", \"lightly\", \"lightly\", \"like\", \"like\", \"like\", \"like\", \"like\", \"little\", \"little\", \"little\", \"little\", \"little\", \"livraison\", \"livraison\", \"livraison\", \"ll\", \"ll\", \"ll\", \"ll\", \"ll\", \"local\", \"local\", \"local\", \"local\", \"local\", \"location\", \"location\", \"location\", \"location\", \"location\", \"lochiel\", \"look\", \"look\", \"look\", \"look\", \"look\", \"looking\", \"looking\", \"looking\", \"looking\", \"looking\", \"lot\", \"lot\", \"lot\", \"lot\", \"lot\", \"love\", \"love\", \"love\", \"love\", \"love\", \"low\", \"low\", \"low\", \"low\", \"low\", \"luddite\", \"luddite\", \"luddite\", \"lumpy\", \"lumpy\", \"lumpy\", \"lumpy\", \"magnolia\", \"magnolia\", \"magnolia\", \"magnolia\", \"magnolia\", \"makes\", \"makes\", \"makes\", \"makes\", \"makes\", \"malai\", \"marathon\", \"marathon\", \"marathon\", \"marathon\", \"marathon\", \"masks\", \"masks\", \"masks\", \"masks\", \"masks\", \"massive\", \"massive\", \"massive\", \"massive\", \"massive\", \"material\", \"material\", \"material\", \"material\", \"material\", \"matthew\", \"matthew\", \"matthew\", \"matthew\", \"mazes\", \"mazes\", \"mazes\", \"mazes\", \"mazes\", \"mcknight\", \"mcknight\", \"mcknight\", \"mcqueen\", \"mcqueen\", \"mcqueen\", \"meal\", \"meal\", \"meal\", \"meal\", \"meal\", \"meat\", \"meat\", \"meat\", \"meat\", \"meat\", \"megaphone\", \"megaphone\", \"megaphone\", \"megaphone\", \"menchies\", \"menchies\", \"menchies\", \"menchies\", \"menchies\", \"mention\", \"mention\", \"mention\", \"mention\", \"mention\", \"menu\", \"menu\", \"menu\", \"menu\", \"menu\", \"menudazo\", \"menudazo\", \"menudazo\", \"minutes\", \"minutes\", \"minutes\", \"minutes\", \"minutes\", \"mirror\", \"mirror\", \"mirror\", \"mirror\", \"mirror\", \"mizuki\", \"mizuki\", \"mizuki\", \"mizuki\", \"mizuki\", \"money\", \"money\", \"money\", \"money\", \"money\", \"naan\", \"naan\", \"naan\", \"naan\", \"naan\", \"neil\", \"new\", \"new\", \"new\", \"new\", \"new\", \"nice\", \"nice\", \"nice\", \"nice\", \"nice\", \"nielsen\", \"nielsen\", \"nielsen\", \"nielsen\", \"nielsen\", \"night\", \"night\", \"night\", \"night\", \"night\", \"nipples\", \"noodle\", \"noodle\", \"noodle\", \"noodle\", \"noodle\", \"ok\", \"ok\", \"ok\", \"ok\", \"ok\", \"old\", \"old\", \"old\", \"old\", \"old\", \"order\", \"order\", \"order\", \"order\", \"order\", \"ordered\", \"ordered\", \"ordered\", \"ordered\", \"ordered\", \"paints\", \"palms\", \"palms\", \"palms\", \"palms\", \"palms\", \"pancakes\", \"pancakes\", \"pancakes\", \"pancakes\", \"pancakes\", \"parc\", \"parc\", \"parc\", \"parc\", \"parc\", \"parlor\", \"parlor\", \"parlor\", \"parlor\", \"parlor\", \"parsanko\", \"parsanko\", \"parsanko\", \"pelmeni\", \"pelmeni\", \"pelmeni\", \"pelmeni\", \"pelmeni\", \"people\", \"people\", \"people\", \"people\", \"people\", \"phone\", \"phone\", \"phone\", \"phone\", \"phone\", \"picante\", \"picante\", \"pineapple\", \"pineapple\", \"pineapple\", \"pineapple\", \"pineapple\", \"pizio\", \"pizza\", \"pizza\", \"pizza\", \"pizza\", \"pizza\", \"place\", \"place\", \"place\", \"place\", \"place\", \"plop\", \"plop\", \"plop\", \"pork\", \"pork\", \"pork\", \"pork\", \"pork\", \"pregnancies\", \"pregnancies\", \"pregnancies\", \"pregnancies\", \"pregnancies\", \"prepared\", \"prepared\", \"prepared\", \"prepared\", \"prepared\", \"pretty\", \"pretty\", \"pretty\", \"pretty\", \"pretty\", \"price\", \"price\", \"price\", \"price\", \"price\", \"prima\", \"prima\", \"prima\", \"protector\", \"protector\", \"protector\", \"recommend\", \"recommend\", \"recommend\", \"recommend\", \"recommend\", \"reflexology\", \"reflexology\", \"reflexology\", \"reflexology\", \"reflexology\", \"removal\", \"removal\", \"removal\", \"removal\", \"removal\", \"restaurant\", \"restaurant\", \"restaurant\", \"restaurant\", \"restaurant\", \"ricketts\", \"ricketts\", \"right\", \"right\", \"right\", \"right\", \"right\", \"rocco\", \"rocco\", \"rocco\", \"rocco\", \"rocco\", \"romper\", \"romper\", \"romper\", \"romper\", \"room\", \"room\", \"room\", \"room\", \"room\", \"roomtastic\", \"roomtastic\", \"roomtastic\", \"said\", \"said\", \"said\", \"said\", \"said\", \"savings\", \"savings\", \"savings\", \"savings\", \"savings\", \"saying\", \"saying\", \"saying\", \"saying\", \"saying\", \"score\", \"score\", \"score\", \"score\", \"score\", \"seat\", \"seat\", \"seat\", \"seat\", \"seat\", \"selection\", \"selection\", \"selection\", \"selection\", \"selection\", \"sensitivity\", \"sensitivity\", \"sensitivity\", \"sensitivity\", \"server\", \"server\", \"server\", \"server\", \"server\", \"service\", \"service\", \"service\", \"service\", \"service\", \"sewage\", \"sewage\", \"sewage\", \"sewage\", \"sewage\", \"shenker\", \"shenker\", \"shenker\", \"shenker\", \"shimp\", \"shimp\", \"shimp\", \"shoooz\", \"shrimp\", \"shrimp\", \"shrimp\", \"shrimp\", \"shrimp\", \"shuffling\", \"shuffling\", \"shuffling\", \"singapore\", \"singapore\", \"singapore\", \"singapore\", \"singapore\", \"slymans\", \"slymans\", \"slymans\", \"slymans\", \"slymans\", \"small\", \"small\", \"small\", \"small\", \"small\", \"smell\", \"smell\", \"smell\", \"smell\", \"smell\", \"sole\", \"sole\", \"sole\", \"sole\", \"sole\", \"sonoran\", \"sonoran\", \"sonoran\", \"sonoran\", \"sonoran\", \"spicery\", \"spicery\", \"spicery\", \"spineless\", \"spineless\", \"squished\", \"squished\", \"squished\", \"squished\", \"squishies\", \"squishies\", \"squishies\", \"squishies\", \"staff\", \"staff\", \"staff\", \"staff\", \"staff\", \"stars\", \"stars\", \"stars\", \"stars\", \"stars\", \"steak\", \"steak\", \"steak\", \"steak\", \"steak\", \"straighten\", \"straighten\", \"straighten\", \"straighten\", \"straighten\", \"stylist\", \"stylist\", \"stylist\", \"stylist\", \"stylist\", \"suitemates\", \"suitemates\", \"suitemates\", \"sure\", \"sure\", \"sure\", \"sure\", \"sure\", \"suxs\", \"table\", \"table\", \"table\", \"table\", \"table\", \"taffy\", \"taffy\", \"taffy\", \"taffy\", \"taffy\", \"tar\", \"tar\", \"tar\", \"tar\", \"tar\", \"taste\", \"taste\", \"taste\", \"taste\", \"taste\", \"tasty\", \"tasty\", \"tasty\", \"tasty\", \"tasty\", \"tattoos\", \"tattoos\", \"tattoos\", \"tattoos\", \"tattoos\", \"taxi\", \"taxi\", \"taxi\", \"taxi\", \"taxi\", \"terms\", \"terms\", \"terms\", \"terms\", \"terms\", \"thank\", \"thank\", \"thank\", \"thank\", \"thank\", \"thi\", \"things\", \"things\", \"things\", \"things\", \"things\", \"time\", \"time\", \"time\", \"time\", \"time\", \"times\", \"times\", \"times\", \"times\", \"times\", \"toad\", \"toad\", \"toad\", \"told\", \"told\", \"told\", \"told\", \"told\", \"tons\", \"tons\", \"tons\", \"tons\", \"tons\", \"tried\", \"tried\", \"tried\", \"tried\", \"tried\", \"try\", \"try\", \"try\", \"try\", \"try\", \"trying\", \"trying\", \"trying\", \"trying\", \"trying\", \"tso\", \"tso\", \"tso\", \"tso\", \"tso\", \"turnt\", \"turnt\", \"unauthentic\", \"underrated\", \"underrated\", \"underrated\", \"underrated\", \"underrated\", \"upsetting\", \"upsetting\", \"upsetting\", \"upsetting\", \"upsetting\", \"urbana\", \"urbana\", \"urbana\", \"vadai\", \"vadai\", \"vadai\", \"ve\", \"ve\", \"ve\", \"ve\", \"ve\", \"vegas\", \"vegas\", \"vegas\", \"vegas\", \"vegas\", \"vinh\", \"vinh\", \"vinh\", \"vinh\", \"vinh\", \"visit\", \"visit\", \"visit\", \"visit\", \"visit\", \"visiting\", \"visiting\", \"visiting\", \"visiting\", \"visiting\", \"visual\", \"visual\", \"visual\", \"visual\", \"visual\", \"wait\", \"wait\", \"wait\", \"wait\", \"wait\", \"walkthrough\", \"walkthrough\", \"want\", \"want\", \"want\", \"want\", \"want\", \"water\", \"water\", \"water\", \"water\", \"water\", \"waxes\", \"waxes\", \"waxes\", \"waxes\", \"waxes\", \"way\", \"way\", \"way\", \"way\", \"way\", \"weather\", \"weather\", \"weather\", \"weather\", \"weather\", \"weren\", \"weren\", \"weren\", \"weren\", \"weren\", \"wilkes\", \"wilkes\", \"wilkes\", \"wilkes\", \"wilkes\", \"wine\", \"wine\", \"wine\", \"wine\", \"wine\", \"woods\", \"woods\", \"woods\", \"woods\", \"woods\", \"woot\", \"woot\", \"woot\", \"woot\", \"woot\", \"work\", \"work\", \"work\", \"work\", \"work\", \"worst\", \"worst\", \"worst\", \"worst\", \"worst\", \"wow\", \"wow\", \"wow\", \"wow\", \"wow\", \"yasmin\", \"yasmin\", \"yasmin\", \"yasmin\", \"year\", \"year\", \"year\", \"year\", \"year\", \"years\", \"years\", \"years\", \"years\", \"years\", \"yoghurt\", \"yoghurt\", \"yoghurt\", \"yoghurt\", \"yoghurt\", \"yuk\", \"yuk\", \"yuk\", \"yuk\", \"yuk\"]}, \"R\": 30, \"lambda.step\": 0.01, \"plot.opts\": {\"xlab\": \"PC1\", \"ylab\": \"PC2\"}, \"topic.order\": [5, 4, 2, 3, 1]};\n",
       "\n",
       "function LDAvis_load_lib(url, callback){\n",
       "  var s = document.createElement('script');\n",
       "  s.src = url;\n",
       "  s.async = true;\n",
       "  s.onreadystatechange = s.onload = callback;\n",
       "  s.onerror = function(){console.warn(\"failed to load library \" + url);};\n",
       "  document.getElementsByTagName(\"head\")[0].appendChild(s);\n",
       "}\n",
       "\n",
       "if(typeof(LDAvis) !== \"undefined\"){\n",
       "   // already loaded: just create the visualization\n",
       "   !function(LDAvis){\n",
       "       new LDAvis(\"#\" + \"ldavis_el9133294192021361825565404\", ldavis_el9133294192021361825565404_data);\n",
       "   }(LDAvis);\n",
       "}else if(typeof define === \"function\" && define.amd){\n",
       "   // require.js is available: use it to load d3/LDAvis\n",
       "   require.config({paths: {d3: \"https://cdnjs.cloudflare.com/ajax/libs/d3/3.5.5/d3.min\"}});\n",
       "   require([\"d3\"], function(d3){\n",
       "      window.d3 = d3;\n",
       "      LDAvis_load_lib(\"https://cdn.rawgit.com/bmabey/pyLDAvis/files/ldavis.v1.0.0.js\", function(){\n",
       "        new LDAvis(\"#\" + \"ldavis_el9133294192021361825565404\", ldavis_el9133294192021361825565404_data);\n",
       "      });\n",
       "    });\n",
       "}else{\n",
       "    // require.js not available: dynamically load d3 & LDAvis\n",
       "    LDAvis_load_lib(\"https://cdnjs.cloudflare.com/ajax/libs/d3/3.5.5/d3.min.js\", function(){\n",
       "         LDAvis_load_lib(\"https://cdn.rawgit.com/bmabey/pyLDAvis/files/ldavis.v1.0.0.js\", function(){\n",
       "                 new LDAvis(\"#\" + \"ldavis_el9133294192021361825565404\", ldavis_el9133294192021361825565404_data);\n",
       "            })\n",
       "         });\n",
       "}\n",
       "</script>"
      ],
      "text/plain": [
       "PreparedData(topic_coordinates=              x         y  topics  cluster       Freq\n",
       "topic                                                \n",
       "4      0.005723 -0.000334       1        1  20.823475\n",
       "3     -0.000775  0.004948       2        1  19.850107\n",
       "1     -0.003497 -0.003043       3        1  19.825617\n",
       "2      0.000846 -0.002707       4        1  19.809280\n",
       "0     -0.002297  0.001136       5        1  19.691523, topic_info=     Category         Freq        Term        Total  loglift  logprob\n",
       "44    Default  3487.000000     service  3487.000000  30.0000  30.0000\n",
       "39    Default  4447.000000        good  4447.000000  29.0000  29.0000\n",
       "18    Default  3312.000000        like  3312.000000  28.0000  28.0000\n",
       "131   Default  4549.000000       place  4549.000000  27.0000  27.0000\n",
       "206   Default  4123.000000       great  4123.000000  26.0000  26.0000\n",
       "114   Default  1857.000000          ve  1857.000000  25.0000  25.0000\n",
       "142   Default  4743.000000        food  4743.000000  24.0000  24.0000\n",
       "74    Default  1994.000000         got  1994.000000  23.0000  23.0000\n",
       "1274  Default  1347.000000     chicken  1347.000000  22.0000  22.0000\n",
       "155   Default   870.000000       price   870.000000  21.0000  21.0000\n",
       "120   Default  1744.000000        best  1744.000000  20.0000  20.0000\n",
       "45    Default  1507.000000       staff  1507.000000  19.0000  19.0000\n",
       "36    Default   944.000000        wait   944.000000  18.0000  18.0000\n",
       "30    Default  1162.000000        said  1162.000000  17.0000  17.0000\n",
       "732   Default  1587.000000        love  1587.000000  16.0000  16.0000\n",
       "205   Default  1111.000000       going  1111.000000  15.0000  15.0000\n",
       "133   Default   780.000000       table   780.000000  14.0000  14.0000\n",
       "134   Default   800.000000         bad   800.000000  13.0000  13.0000\n",
       "648   Default  1331.000000  restaurant  1331.000000  12.0000  12.0000\n",
       "676   Default   642.000000   excellent   642.000000  11.0000  11.0000\n",
       "162   Default   598.000000       stars   598.000000  10.0000  10.0000\n",
       "392   Default   761.000000       pizza   761.000000   9.0000   9.0000\n",
       "796   Default   546.000000     friends   546.000000   8.0000   8.0000\n",
       "369   Default   906.000000       fresh   906.000000   7.0000   7.0000\n",
       "35    Default   364.000000      trying   364.000000   6.0000   6.0000\n",
       "1003  Default   675.000000     looking   675.000000   5.0000   5.0000\n",
       "236   Default   610.000000        away   610.000000   4.0000   4.0000\n",
       "700   Default   470.000000       money   470.000000   3.0000   3.0000\n",
       "129   Default  1381.000000      people  1381.000000   2.0000   2.0000\n",
       "401   Default   657.000000      server   657.000000   1.0000   1.0000\n",
       "...       ...          ...         ...          ...      ...      ...\n",
       "30     Topic5   274.187378        said  1162.319458   0.1806  -5.8365\n",
       "339    Topic5   158.106171         big   630.641113   0.2415  -6.3870\n",
       "74     Topic5   442.269653         got  1994.344360   0.1188  -5.3584\n",
       "933    Topic5   171.977585       clean   698.649963   0.2232  -6.3029\n",
       "754    Topic5   135.855331      things   538.439148   0.2479  -6.5387\n",
       "207    Topic5    99.102982        hair   383.309998   0.2723  -6.8541\n",
       "241    Topic5   139.250992        meat   564.613953   0.2251  -6.5140\n",
       "860    Topic5    80.590904       makes   303.485352   0.2990  -7.0609\n",
       "38     Topic5   295.169281    friendly  1334.708862   0.1161  -5.7627\n",
       "311    Topic5   227.024246        want   994.998901   0.1473  -6.0252\n",
       "349    Topic5   302.886322        come  1403.604126   0.0915  -5.7369\n",
       "142    Topic5   856.401794        food  4743.991211  -0.0869  -4.6975\n",
       "91     Topic5   354.631592        nice  1690.570312   0.0632  -5.5792\n",
       "190    Topic5   286.316681     amazing  1316.127686   0.0996  -5.7932\n",
       "182    Topic5   249.010040   recommend  1123.067261   0.1187  -5.9328\n",
       "385    Topic5   306.429199       order  1449.638794   0.0709  -5.7253\n",
       "115    Topic5   199.785782       vegas   879.746216   0.1426  -6.1530\n",
       "18     Topic5   573.720215        like  3312.174805  -0.1282  -5.0981\n",
       "39     Topic5   701.406616        good  4447.162598  -0.2220  -4.8972\n",
       "356    Topic5   273.518127  definitely  1396.694092  -0.0055  -5.8389\n",
       "44     Topic5   532.089417     service  3487.266357  -0.2551  -5.1735\n",
       "648    Topic5   263.900269  restaurant  1331.183472   0.0067  -5.8747\n",
       "379    Topic5   265.926575      little  1372.933105  -0.0165  -5.8670\n",
       "206    Topic5   487.954254       great  4123.022949  -0.5091  -5.2600\n",
       "357    Topic5   232.072525   delicious  1194.458984  -0.0134  -6.0032\n",
       "308    Topic5   254.232697         try  1401.406494  -0.0820  -5.9120\n",
       "114    Topic5   290.344238          ve  1857.792480  -0.2311  -5.7792\n",
       "120    Topic5   270.213928        best  1744.597412  -0.2401  -5.8511\n",
       "1263   Topic5   251.484131     ordered  1484.470825  -0.1505  -5.9229\n",
       "732    Topic5   249.126144        love  1587.593872  -0.2270  -5.9323\n",
       "\n",
       "[474 rows x 6 columns], token_table=       Topic      Freq         Term\n",
       "term                               \n",
       "20502      1  0.169959        adobo\n",
       "20502      2  0.169959        adobo\n",
       "20502      3  0.339919        adobo\n",
       "20502      4  0.169959        adobo\n",
       "20502      5  0.169959        adobo\n",
       "2719       1  0.201766          air\n",
       "2719       2  0.201766          air\n",
       "2719       3  0.184952          air\n",
       "2719       4  0.285835          air\n",
       "2719       5  0.117697          air\n",
       "6950       5  0.616653         alam\n",
       "190        1  0.163358      amazing\n",
       "190        2  0.232500      amazing\n",
       "190        3  0.201348      amazing\n",
       "190        4  0.184633      amazing\n",
       "190        5  0.217304      amazing\n",
       "25640      2  0.322696     angelica\n",
       "25640      3  0.322696     angelica\n",
       "25640      5  0.322696     angelica\n",
       "9318       1  0.155495      answers\n",
       "9318       2  0.155495      answers\n",
       "9318       3  0.155495      answers\n",
       "9318       4  0.186595      answers\n",
       "9318       5  0.310991      answers\n",
       "560        1  0.140114  appointment\n",
       "560        2  0.168773  appointment\n",
       "560        3  0.191064  appointment\n",
       "560        4  0.210171  appointment\n",
       "560        5  0.289781  appointment\n",
       "24576      2  0.321973       aptive\n",
       "...      ...       ...          ...\n",
       "534        5  0.170513        worst\n",
       "333        1  0.207050          wow\n",
       "333        2  0.164422          wow\n",
       "333        3  0.164422          wow\n",
       "333        4  0.292305          wow\n",
       "333        5  0.170511          wow\n",
       "25106      1  0.192141       yasmin\n",
       "25106      2  0.192141       yasmin\n",
       "25106      3  0.384282       yasmin\n",
       "25106      4  0.192141       yasmin\n",
       "117        1  0.189156         year\n",
       "117        2  0.269826         year\n",
       "117        3  0.194720         year\n",
       "117        4  0.150212         year\n",
       "117        5  0.200283         year\n",
       "763        1  0.176207        years\n",
       "763        2  0.150577        years\n",
       "763        3  0.246689        years\n",
       "763        4  0.254699        years\n",
       "763        5  0.171401        years\n",
       "6296       1  0.160185      yoghurt\n",
       "6296       2  0.160185      yoghurt\n",
       "6296       3  0.160185      yoghurt\n",
       "6296       4  0.320370      yoghurt\n",
       "6296       5  0.160185      yoghurt\n",
       "13095      1  0.064999          yuk\n",
       "13095      2  0.324995          yuk\n",
       "13095      3  0.227497          yuk\n",
       "13095      4  0.194997          yuk\n",
       "13095      5  0.162498          yuk\n",
       "\n",
       "[1419 rows x 3 columns], R=30, lambda_step=0.01, plot_opts={'xlab': 'PC1', 'ylab': 'PC2'}, topic_order=[5, 4, 2, 3, 1])"
      ]
     },
     "execution_count": 44,
     "metadata": {},
     "output_type": "execute_result"
    }
   ],
   "source": [
    "#this may take a while--note to self\n",
    "pyLDAvis.gensim.prepare(lda, corpus, id2word)"
   ]
  },
  {
   "cell_type": "markdown",
   "metadata": {},
   "source": [
    "## A few words about the above visual\n",
    "Above you can see that there are descrete topics\n",
    "The slider allows us to rank them according to relevance with .6 being optimal.\n",
    "Each circle is a topic and the distance between the topics is computed using Jensen-Shannon Divergence\n",
    "This is a glabal view of topics and how they are different from one another.\n",
    "Place, food, and good come up the most as well as great and like"
   ]
  },
  {
   "cell_type": "markdown",
   "metadata": {},
   "source": [
    "## Stretch Goals\n",
    "\n",
    "Complete one of more of these to push your score towards a three: \n",
    "* Incorporate named entity recognition into your analysis\n",
    "* Compare vectorization methods in the classification section\n",
    "* Analyze more (or all) of the yelp dataset - this one is v. hard. \n",
    "* Use a generator object on the reviews file - this would help you with the analyzing the whole dataset.\n",
    "* Incorporate any of the other yelp dataset entities in your analysis (business, users, etc.)"
   ]
  },
  {
   "cell_type": "code",
   "execution_count": 45,
   "metadata": {},
   "outputs": [],
   "source": [
    "distro = [lda[d] for d in corpus]"
   ]
  },
  {
   "cell_type": "code",
   "execution_count": 46,
   "metadata": {},
   "outputs": [],
   "source": [
    "distro = [lda[d] for d in corpus]\n",
    "\n",
    "def update(doc):\n",
    "        d_dist = {k:0 for k in range(0,15)}\n",
    "        for t in doc:\n",
    "            d_dist[t[0]] = t[1]\n",
    "        return d_dist\n",
    "    \n",
    "new_distro = [update(d) for d in distro]"
   ]
  },
  {
   "cell_type": "code",
   "execution_count": null,
   "metadata": {},
   "outputs": [],
   "source": []
  }
 ],
 "metadata": {
  "kernel_info": {
   "name": "u4-s1-nlp"
  },
  "kernelspec": {
   "display_name": "U4-S1-NLP (numpy updates)",
   "language": "python",
   "name": "u4-s1-nlp"
  },
  "language_info": {
   "codemirror_mode": {
    "name": "ipython",
    "version": 3
   },
   "file_extension": ".py",
   "mimetype": "text/x-python",
   "name": "python",
   "nbconvert_exporter": "python",
   "pygments_lexer": "ipython3",
   "version": "3.7.0"
  },
  "nteract": {
   "version": "0.14.5"
  },
  "toc-autonumbering": false
 },
 "nbformat": 4,
 "nbformat_minor": 4
}
