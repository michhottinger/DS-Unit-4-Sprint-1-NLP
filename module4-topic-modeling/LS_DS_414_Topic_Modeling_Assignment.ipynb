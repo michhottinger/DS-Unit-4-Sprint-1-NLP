{
 "cells": [
  {
   "cell_type": "markdown",
   "metadata": {},
   "source": [
    "<img align=\"left\" src=\"https://lever-client-logos.s3.amazonaws.com/864372b1-534c-480e-acd5-9711f850815c-1524247202159.png\" width=200>\n",
    "<br></br>\n",
    "<br></br>\n",
    "\n",
    "# Topic Modeling\n",
    "## *Data Science Unit 4 Sprint 1 Assignment 4*\n",
    "\n",
    "Analyze a corpus of Amazon reviews from Unit 4 Sprint 1 Module 1's lecture using topic modeling: \n",
    "\n",
    "- Fit a Gensim LDA topic model on Amazon Reviews\n",
    "- Select appropriate number of topics\n",
    "- Create some dope visualization of the topics\n",
    "- Write a few bullets on your findings in markdown at the end\n",
    "- **Note**: You don't *have* to use generators for this assignment"
   ]
  },
  {
   "cell_type": "code",
   "execution_count": 1,
   "metadata": {},
   "outputs": [],
   "source": [
    "#Start Here\n",
    "import numpy as np\n",
    "import gensim\n",
    "import os\n",
    "import re\n",
    "\n",
    "from gensim.utils import simple_preprocess\n",
    "from gensim.parsing.preprocessing import STOPWORDS\n",
    "from gensim import corpora\n",
    "\n",
    "from gensim.models.ldamulticore import LdaMulticore\n",
    "\n",
    "import pandas as pd"
   ]
  },
  {
   "cell_type": "code",
   "execution_count": 2,
   "metadata": {},
   "outputs": [
    {
     "data": {
      "text/html": [
       "<div>\n",
       "<style scoped>\n",
       "    .dataframe tbody tr th:only-of-type {\n",
       "        vertical-align: middle;\n",
       "    }\n",
       "\n",
       "    .dataframe tbody tr th {\n",
       "        vertical-align: top;\n",
       "    }\n",
       "\n",
       "    .dataframe thead th {\n",
       "        text-align: right;\n",
       "    }\n",
       "</style>\n",
       "<table border=\"1\" class=\"dataframe\">\n",
       "  <thead>\n",
       "    <tr style=\"text-align: right;\">\n",
       "      <th></th>\n",
       "      <th>id</th>\n",
       "      <th>dateAdded</th>\n",
       "      <th>dateUpdated</th>\n",
       "      <th>name</th>\n",
       "      <th>asins</th>\n",
       "      <th>brand</th>\n",
       "      <th>categories</th>\n",
       "      <th>primaryCategories</th>\n",
       "      <th>imageURLs</th>\n",
       "      <th>keys</th>\n",
       "      <th>...</th>\n",
       "      <th>reviews.didPurchase</th>\n",
       "      <th>reviews.doRecommend</th>\n",
       "      <th>reviews.id</th>\n",
       "      <th>reviews.numHelpful</th>\n",
       "      <th>reviews.rating</th>\n",
       "      <th>reviews.sourceURLs</th>\n",
       "      <th>reviews.text</th>\n",
       "      <th>reviews.title</th>\n",
       "      <th>reviews.username</th>\n",
       "      <th>sourceURLs</th>\n",
       "    </tr>\n",
       "  </thead>\n",
       "  <tbody>\n",
       "    <tr>\n",
       "      <th>0</th>\n",
       "      <td>AVpgNzjwLJeJML43Kpxn</td>\n",
       "      <td>2015-10-30T08:59:32Z</td>\n",
       "      <td>2019-04-25T09:08:16Z</td>\n",
       "      <td>AmazonBasics AAA Performance Alkaline Batterie...</td>\n",
       "      <td>B00QWO9P0O,B00LH3DMUO</td>\n",
       "      <td>Amazonbasics</td>\n",
       "      <td>AA,AAA,Health,Electronics,Health &amp; Household,C...</td>\n",
       "      <td>Health &amp; Beauty</td>\n",
       "      <td>https://images-na.ssl-images-amazon.com/images...</td>\n",
       "      <td>amazonbasics/hl002619,amazonbasicsaaaperforman...</td>\n",
       "      <td>...</td>\n",
       "      <td>NaN</td>\n",
       "      <td>NaN</td>\n",
       "      <td>NaN</td>\n",
       "      <td>NaN</td>\n",
       "      <td>3</td>\n",
       "      <td>https://www.amazon.com/product-reviews/B00QWO9...</td>\n",
       "      <td>I order 3 of them and one of the item is bad q...</td>\n",
       "      <td>... 3 of them and one of the item is bad quali...</td>\n",
       "      <td>Byger yang</td>\n",
       "      <td>https://www.barcodable.com/upc/841710106442,ht...</td>\n",
       "    </tr>\n",
       "    <tr>\n",
       "      <th>1</th>\n",
       "      <td>AVpgNzjwLJeJML43Kpxn</td>\n",
       "      <td>2015-10-30T08:59:32Z</td>\n",
       "      <td>2019-04-25T09:08:16Z</td>\n",
       "      <td>AmazonBasics AAA Performance Alkaline Batterie...</td>\n",
       "      <td>B00QWO9P0O,B00LH3DMUO</td>\n",
       "      <td>Amazonbasics</td>\n",
       "      <td>AA,AAA,Health,Electronics,Health &amp; Household,C...</td>\n",
       "      <td>Health &amp; Beauty</td>\n",
       "      <td>https://images-na.ssl-images-amazon.com/images...</td>\n",
       "      <td>amazonbasics/hl002619,amazonbasicsaaaperforman...</td>\n",
       "      <td>...</td>\n",
       "      <td>NaN</td>\n",
       "      <td>NaN</td>\n",
       "      <td>NaN</td>\n",
       "      <td>NaN</td>\n",
       "      <td>4</td>\n",
       "      <td>https://www.amazon.com/product-reviews/B00QWO9...</td>\n",
       "      <td>Bulk is always the less expensive way to go fo...</td>\n",
       "      <td>... always the less expensive way to go for pr...</td>\n",
       "      <td>ByMG</td>\n",
       "      <td>https://www.barcodable.com/upc/841710106442,ht...</td>\n",
       "    </tr>\n",
       "    <tr>\n",
       "      <th>2</th>\n",
       "      <td>AVpgNzjwLJeJML43Kpxn</td>\n",
       "      <td>2015-10-30T08:59:32Z</td>\n",
       "      <td>2019-04-25T09:08:16Z</td>\n",
       "      <td>AmazonBasics AAA Performance Alkaline Batterie...</td>\n",
       "      <td>B00QWO9P0O,B00LH3DMUO</td>\n",
       "      <td>Amazonbasics</td>\n",
       "      <td>AA,AAA,Health,Electronics,Health &amp; Household,C...</td>\n",
       "      <td>Health &amp; Beauty</td>\n",
       "      <td>https://images-na.ssl-images-amazon.com/images...</td>\n",
       "      <td>amazonbasics/hl002619,amazonbasicsaaaperforman...</td>\n",
       "      <td>...</td>\n",
       "      <td>NaN</td>\n",
       "      <td>NaN</td>\n",
       "      <td>NaN</td>\n",
       "      <td>NaN</td>\n",
       "      <td>5</td>\n",
       "      <td>https://www.amazon.com/product-reviews/B00QWO9...</td>\n",
       "      <td>Well they are not Duracell but for the price i...</td>\n",
       "      <td>... are not Duracell but for the price i am ha...</td>\n",
       "      <td>BySharon Lambert</td>\n",
       "      <td>https://www.barcodable.com/upc/841710106442,ht...</td>\n",
       "    </tr>\n",
       "    <tr>\n",
       "      <th>3</th>\n",
       "      <td>AVpgNzjwLJeJML43Kpxn</td>\n",
       "      <td>2015-10-30T08:59:32Z</td>\n",
       "      <td>2019-04-25T09:08:16Z</td>\n",
       "      <td>AmazonBasics AAA Performance Alkaline Batterie...</td>\n",
       "      <td>B00QWO9P0O,B00LH3DMUO</td>\n",
       "      <td>Amazonbasics</td>\n",
       "      <td>AA,AAA,Health,Electronics,Health &amp; Household,C...</td>\n",
       "      <td>Health &amp; Beauty</td>\n",
       "      <td>https://images-na.ssl-images-amazon.com/images...</td>\n",
       "      <td>amazonbasics/hl002619,amazonbasicsaaaperforman...</td>\n",
       "      <td>...</td>\n",
       "      <td>NaN</td>\n",
       "      <td>NaN</td>\n",
       "      <td>NaN</td>\n",
       "      <td>NaN</td>\n",
       "      <td>5</td>\n",
       "      <td>https://www.amazon.com/product-reviews/B00QWO9...</td>\n",
       "      <td>Seem to work as well as name brand batteries a...</td>\n",
       "      <td>... as well as name brand batteries at a much ...</td>\n",
       "      <td>Bymark sexson</td>\n",
       "      <td>https://www.barcodable.com/upc/841710106442,ht...</td>\n",
       "    </tr>\n",
       "    <tr>\n",
       "      <th>4</th>\n",
       "      <td>AVpgNzjwLJeJML43Kpxn</td>\n",
       "      <td>2015-10-30T08:59:32Z</td>\n",
       "      <td>2019-04-25T09:08:16Z</td>\n",
       "      <td>AmazonBasics AAA Performance Alkaline Batterie...</td>\n",
       "      <td>B00QWO9P0O,B00LH3DMUO</td>\n",
       "      <td>Amazonbasics</td>\n",
       "      <td>AA,AAA,Health,Electronics,Health &amp; Household,C...</td>\n",
       "      <td>Health &amp; Beauty</td>\n",
       "      <td>https://images-na.ssl-images-amazon.com/images...</td>\n",
       "      <td>amazonbasics/hl002619,amazonbasicsaaaperforman...</td>\n",
       "      <td>...</td>\n",
       "      <td>NaN</td>\n",
       "      <td>NaN</td>\n",
       "      <td>NaN</td>\n",
       "      <td>NaN</td>\n",
       "      <td>5</td>\n",
       "      <td>https://www.amazon.com/product-reviews/B00QWO9...</td>\n",
       "      <td>These batteries are very long lasting the pric...</td>\n",
       "      <td>... batteries are very long lasting the price ...</td>\n",
       "      <td>Bylinda</td>\n",
       "      <td>https://www.barcodable.com/upc/841710106442,ht...</td>\n",
       "    </tr>\n",
       "  </tbody>\n",
       "</table>\n",
       "<p>5 rows × 24 columns</p>\n",
       "</div>"
      ],
      "text/plain": [
       "                     id             dateAdded           dateUpdated  \\\n",
       "0  AVpgNzjwLJeJML43Kpxn  2015-10-30T08:59:32Z  2019-04-25T09:08:16Z   \n",
       "1  AVpgNzjwLJeJML43Kpxn  2015-10-30T08:59:32Z  2019-04-25T09:08:16Z   \n",
       "2  AVpgNzjwLJeJML43Kpxn  2015-10-30T08:59:32Z  2019-04-25T09:08:16Z   \n",
       "3  AVpgNzjwLJeJML43Kpxn  2015-10-30T08:59:32Z  2019-04-25T09:08:16Z   \n",
       "4  AVpgNzjwLJeJML43Kpxn  2015-10-30T08:59:32Z  2019-04-25T09:08:16Z   \n",
       "\n",
       "                                                name                  asins  \\\n",
       "0  AmazonBasics AAA Performance Alkaline Batterie...  B00QWO9P0O,B00LH3DMUO   \n",
       "1  AmazonBasics AAA Performance Alkaline Batterie...  B00QWO9P0O,B00LH3DMUO   \n",
       "2  AmazonBasics AAA Performance Alkaline Batterie...  B00QWO9P0O,B00LH3DMUO   \n",
       "3  AmazonBasics AAA Performance Alkaline Batterie...  B00QWO9P0O,B00LH3DMUO   \n",
       "4  AmazonBasics AAA Performance Alkaline Batterie...  B00QWO9P0O,B00LH3DMUO   \n",
       "\n",
       "          brand                                         categories  \\\n",
       "0  Amazonbasics  AA,AAA,Health,Electronics,Health & Household,C...   \n",
       "1  Amazonbasics  AA,AAA,Health,Electronics,Health & Household,C...   \n",
       "2  Amazonbasics  AA,AAA,Health,Electronics,Health & Household,C...   \n",
       "3  Amazonbasics  AA,AAA,Health,Electronics,Health & Household,C...   \n",
       "4  Amazonbasics  AA,AAA,Health,Electronics,Health & Household,C...   \n",
       "\n",
       "  primaryCategories                                          imageURLs  \\\n",
       "0   Health & Beauty  https://images-na.ssl-images-amazon.com/images...   \n",
       "1   Health & Beauty  https://images-na.ssl-images-amazon.com/images...   \n",
       "2   Health & Beauty  https://images-na.ssl-images-amazon.com/images...   \n",
       "3   Health & Beauty  https://images-na.ssl-images-amazon.com/images...   \n",
       "4   Health & Beauty  https://images-na.ssl-images-amazon.com/images...   \n",
       "\n",
       "                                                keys  ... reviews.didPurchase  \\\n",
       "0  amazonbasics/hl002619,amazonbasicsaaaperforman...  ...                 NaN   \n",
       "1  amazonbasics/hl002619,amazonbasicsaaaperforman...  ...                 NaN   \n",
       "2  amazonbasics/hl002619,amazonbasicsaaaperforman...  ...                 NaN   \n",
       "3  amazonbasics/hl002619,amazonbasicsaaaperforman...  ...                 NaN   \n",
       "4  amazonbasics/hl002619,amazonbasicsaaaperforman...  ...                 NaN   \n",
       "\n",
       "  reviews.doRecommend reviews.id reviews.numHelpful reviews.rating  \\\n",
       "0                 NaN        NaN                NaN              3   \n",
       "1                 NaN        NaN                NaN              4   \n",
       "2                 NaN        NaN                NaN              5   \n",
       "3                 NaN        NaN                NaN              5   \n",
       "4                 NaN        NaN                NaN              5   \n",
       "\n",
       "                                  reviews.sourceURLs  \\\n",
       "0  https://www.amazon.com/product-reviews/B00QWO9...   \n",
       "1  https://www.amazon.com/product-reviews/B00QWO9...   \n",
       "2  https://www.amazon.com/product-reviews/B00QWO9...   \n",
       "3  https://www.amazon.com/product-reviews/B00QWO9...   \n",
       "4  https://www.amazon.com/product-reviews/B00QWO9...   \n",
       "\n",
       "                                        reviews.text  \\\n",
       "0  I order 3 of them and one of the item is bad q...   \n",
       "1  Bulk is always the less expensive way to go fo...   \n",
       "2  Well they are not Duracell but for the price i...   \n",
       "3  Seem to work as well as name brand batteries a...   \n",
       "4  These batteries are very long lasting the pric...   \n",
       "\n",
       "                                       reviews.title  reviews.username  \\\n",
       "0  ... 3 of them and one of the item is bad quali...        Byger yang   \n",
       "1  ... always the less expensive way to go for pr...              ByMG   \n",
       "2  ... are not Duracell but for the price i am ha...  BySharon Lambert   \n",
       "3  ... as well as name brand batteries at a much ...     Bymark sexson   \n",
       "4  ... batteries are very long lasting the price ...           Bylinda   \n",
       "\n",
       "                                          sourceURLs  \n",
       "0  https://www.barcodable.com/upc/841710106442,ht...  \n",
       "1  https://www.barcodable.com/upc/841710106442,ht...  \n",
       "2  https://www.barcodable.com/upc/841710106442,ht...  \n",
       "3  https://www.barcodable.com/upc/841710106442,ht...  \n",
       "4  https://www.barcodable.com/upc/841710106442,ht...  \n",
       "\n",
       "[5 rows x 24 columns]"
      ]
     },
     "execution_count": 2,
     "metadata": {},
     "output_type": "execute_result"
    }
   ],
   "source": [
    "df = pd.read_csv('/Users/michelle/Downloads/Datafiniti_Amazon_Consumer_Reviews_of_Amazon_Products_May19.csv')\n",
    "df.head(5)\n"
   ]
  },
  {
   "cell_type": "code",
   "execution_count": 3,
   "metadata": {},
   "outputs": [
    {
     "data": {
      "text/plain": [
       "\"Bought a lot of batteries for Christmas and the AmazonBasics Cell have been good. I haven't noticed a difference between the brand name batteries and the Amazon Basic brand. Just a lot easier to purchase and have arrive at the house and have on hand. Will buy again.\""
      ]
     },
     "execution_count": 3,
     "metadata": {},
     "output_type": "execute_result"
    }
   ],
   "source": [
    "df['reviews.text'][5]"
   ]
  },
  {
   "cell_type": "code",
   "execution_count": 4,
   "metadata": {},
   "outputs": [
    {
     "name": "stdout",
     "output_type": "stream",
     "text": [
      "(28332,)\n",
      "(28332,)\n"
     ]
    }
   ],
   "source": [
    "review = df['reviews.text']\n",
    "rev_title = df['reviews.title']\n",
    "review.head(5)\n",
    "print(review.shape)\n",
    "print(rev_title.shape)"
   ]
  },
  {
   "cell_type": "code",
   "execution_count": 5,
   "metadata": {},
   "outputs": [],
   "source": [
    "from spacy.tokenizer import Tokenizer\n",
    "\n",
    "STOPWORDS = set(STOPWORDS).union(set(['batteries', 'bought', 'name', 'amazon', 'comment', 'review']))\n",
    "\n",
    "def tokenize(text):\n",
    "    return [token for token in simple_preprocess(text) if token not in STOPWORDS]"
   ]
  },
  {
   "cell_type": "code",
   "execution_count": 6,
   "metadata": {},
   "outputs": [],
   "source": [
    "import warnings\n",
    "warnings.filterwarnings('ignore')\n"
   ]
  },
  {
   "cell_type": "code",
   "execution_count": 7,
   "metadata": {},
   "outputs": [],
   "source": [
    "#Gensim LDA Topic Modeling\n",
    "# A Dictionary Representation of all the words in our corpus\n",
    "id2word = corpora.Dictionary(df['reviews.text'].apply(tokenize))\n"
   ]
  },
  {
   "cell_type": "code",
   "execution_count": 8,
   "metadata": {},
   "outputs": [],
   "source": [
    "#id2word.doc2bow(tok_titles)"
   ]
  },
  {
   "cell_type": "code",
   "execution_count": 9,
   "metadata": {},
   "outputs": [
    {
     "data": {
      "text/plain": [
       "56"
      ]
     },
     "execution_count": 9,
     "metadata": {},
     "output_type": "execute_result"
    }
   ],
   "source": [
    "import sys\n",
    "sys.getsizeof(id2word)"
   ]
  },
  {
   "cell_type": "code",
   "execution_count": 10,
   "metadata": {},
   "outputs": [
    {
     "data": {
      "text/plain": [
       "9617"
      ]
     },
     "execution_count": 10,
     "metadata": {},
     "output_type": "execute_result"
    }
   ],
   "source": [
    "len(id2word.keys())"
   ]
  },
  {
   "cell_type": "code",
   "execution_count": 11,
   "metadata": {},
   "outputs": [
    {
     "data": {
      "text/plain": [
       "'worth'"
      ]
     },
     "execution_count": 11,
     "metadata": {},
     "output_type": "execute_result"
    }
   ],
   "source": [
    "id2word[255]"
   ]
  },
  {
   "cell_type": "code",
   "execution_count": 12,
   "metadata": {},
   "outputs": [],
   "source": [
    "# Let's remove extreme values from the dataset\n",
    "id2word.filter_extremes(no_below=5, no_above=0.95)"
   ]
  },
  {
   "cell_type": "code",
   "execution_count": 13,
   "metadata": {},
   "outputs": [
    {
     "data": {
      "text/plain": [
       "3577"
      ]
     },
     "execution_count": 13,
     "metadata": {},
     "output_type": "execute_result"
    }
   ],
   "source": [
    "len(id2word.keys())"
   ]
  },
  {
   "cell_type": "code",
   "execution_count": 14,
   "metadata": {},
   "outputs": [],
   "source": [
    "# a bag of words(bow) representation of our corpus\n",
    "# Note: we haven't actually read any text into memory here\n",
    "corpus = [id2word.doc2bow(text) for text in df['reviews.text'].apply(tokenize)]"
   ]
  },
  {
   "cell_type": "code",
   "execution_count": 15,
   "metadata": {},
   "outputs": [
    {
     "data": {
      "text/plain": [
       "[(0, 1),\n",
       " (1, 1),\n",
       " (2, 1),\n",
       " (3, 1),\n",
       " (4, 1),\n",
       " (5, 1),\n",
       " (6, 1),\n",
       " (7, 1),\n",
       " (8, 1),\n",
       " (9, 1)]"
      ]
     },
     "execution_count": 15,
     "metadata": {},
     "output_type": "execute_result"
    }
   ],
   "source": [
    "corpus[0][:10]"
   ]
  },
  {
   "cell_type": "code",
   "execution_count": 16,
   "metadata": {},
   "outputs": [],
   "source": [
    "lda = LdaMulticore(corpus=corpus,\n",
    "                   id2word=id2word,\n",
    "                   random_state=723812,\n",
    "                   num_topics = 4,\n",
    "                   passes=4,\n",
    "                   workers=4\n",
    "                  )"
   ]
  },
  {
   "cell_type": "code",
   "execution_count": 17,
   "metadata": {},
   "outputs": [],
   "source": [
    "words = [re.findall(r'\"([^\"]*)\"',t[1]) for t in lda.print_topics()]"
   ]
  },
  {
   "cell_type": "code",
   "execution_count": 18,
   "metadata": {},
   "outputs": [],
   "source": [
    "topics = [' '.join(t[0:5]) for t in words]"
   ]
  },
  {
   "cell_type": "code",
   "execution_count": 19,
   "metadata": {},
   "outputs": [
    {
     "name": "stdout",
     "output_type": "stream",
     "text": [
      "------ Topic 0 ------\n",
      "battery use long like kindle\n",
      "\n",
      "------ Topic 1 ------\n",
      "great tablet kindle love old\n",
      "\n",
      "------ Topic 2 ------\n",
      "good price great buy product\n",
      "\n",
      "------ Topic 3 ------\n",
      "tablet use easy kids great\n",
      "\n"
     ]
    }
   ],
   "source": [
    "for id, t in enumerate(topics): \n",
    "    print(f\"------ Topic {id} ------\")\n",
    "    print(t, end=\"\\n\\n\")"
   ]
  },
  {
   "cell_type": "code",
   "execution_count": 20,
   "metadata": {},
   "outputs": [],
   "source": [
    "#Topic Distance Visualization\n",
    "\n",
    "import pyLDAvis.gensim\n",
    "\n",
    "pyLDAvis.enable_notebook()"
   ]
  },
  {
   "cell_type": "code",
   "execution_count": 21,
   "metadata": {},
   "outputs": [
    {
     "data": {
      "text/html": [
       "\n",
       "<link rel=\"stylesheet\" type=\"text/css\" href=\"https://cdn.rawgit.com/bmabey/pyLDAvis/files/ldavis.v1.0.0.css\">\n",
       "\n",
       "\n",
       "<div id=\"ldavis_el8820847957431121048816728\"></div>\n",
       "<script type=\"text/javascript\">\n",
       "\n",
       "var ldavis_el8820847957431121048816728_data = {\"mdsDat\": {\"x\": [0.12378943801708366, -0.11654827395496407, 0.08987883499828765, -0.09711999906040732], \"y\": [0.08543110274038951, 0.013183832851875606, -0.0995535495191126, 0.0009386139268475711], \"topics\": [1, 2, 3, 4], \"cluster\": [1, 1, 1, 1], \"Freq\": [28.274778366088867, 26.201570510864258, 22.86385726928711, 22.659793853759766]}, \"tinfo\": {\"Category\": [\"Default\", \"Default\", \"Default\", \"Default\", \"Default\", \"Default\", \"Default\", \"Default\", \"Default\", \"Default\", \"Default\", \"Default\", \"Default\", \"Default\", \"Default\", \"Default\", \"Default\", \"Default\", \"Default\", \"Default\", \"Default\", \"Default\", \"Default\", \"Default\", \"Default\", \"Default\", \"Default\", \"Default\", \"Default\", \"Default\", \"Topic1\", \"Topic1\", \"Topic1\", \"Topic1\", \"Topic1\", \"Topic1\", \"Topic1\", \"Topic1\", \"Topic1\", \"Topic1\", \"Topic1\", \"Topic1\", \"Topic1\", \"Topic1\", \"Topic1\", \"Topic1\", \"Topic1\", \"Topic1\", \"Topic1\", \"Topic1\", \"Topic1\", \"Topic1\", \"Topic1\", \"Topic1\", \"Topic1\", \"Topic1\", \"Topic1\", \"Topic1\", \"Topic1\", \"Topic1\", \"Topic1\", \"Topic1\", \"Topic1\", \"Topic1\", \"Topic1\", \"Topic1\", \"Topic1\", \"Topic1\", \"Topic1\", \"Topic1\", \"Topic1\", \"Topic1\", \"Topic1\", \"Topic1\", \"Topic1\", \"Topic1\", \"Topic1\", \"Topic1\", \"Topic1\", \"Topic1\", \"Topic1\", \"Topic1\", \"Topic1\", \"Topic1\", \"Topic1\", \"Topic1\", \"Topic1\", \"Topic1\", \"Topic1\", \"Topic1\", \"Topic1\", \"Topic1\", \"Topic1\", \"Topic1\", \"Topic1\", \"Topic1\", \"Topic1\", \"Topic1\", \"Topic1\", \"Topic1\", \"Topic1\", \"Topic1\", \"Topic1\", \"Topic1\", \"Topic1\", \"Topic1\", \"Topic1\", \"Topic1\", \"Topic1\", \"Topic1\", \"Topic1\", \"Topic1\", \"Topic1\", \"Topic1\", \"Topic1\", \"Topic1\", \"Topic1\", \"Topic1\", \"Topic1\", \"Topic1\", \"Topic1\", \"Topic1\", \"Topic1\", \"Topic1\", \"Topic1\", \"Topic1\", \"Topic2\", \"Topic2\", \"Topic2\", \"Topic2\", \"Topic2\", \"Topic2\", \"Topic2\", \"Topic2\", \"Topic2\", \"Topic2\", \"Topic2\", \"Topic2\", \"Topic2\", \"Topic2\", \"Topic2\", \"Topic2\", \"Topic2\", \"Topic2\", \"Topic2\", \"Topic2\", \"Topic2\", \"Topic2\", \"Topic2\", \"Topic2\", \"Topic2\", \"Topic2\", \"Topic2\", \"Topic2\", \"Topic2\", \"Topic2\", \"Topic2\", \"Topic2\", \"Topic2\", \"Topic2\", \"Topic2\", \"Topic2\", \"Topic2\", \"Topic2\", \"Topic2\", \"Topic2\", \"Topic2\", \"Topic2\", \"Topic2\", \"Topic2\", \"Topic2\", \"Topic2\", \"Topic2\", \"Topic2\", \"Topic2\", \"Topic2\", \"Topic2\", \"Topic2\", \"Topic2\", \"Topic2\", \"Topic2\", \"Topic2\", \"Topic2\", \"Topic2\", \"Topic2\", \"Topic2\", \"Topic2\", \"Topic2\", \"Topic2\", \"Topic2\", \"Topic2\", \"Topic2\", \"Topic2\", \"Topic2\", \"Topic2\", \"Topic2\", \"Topic2\", \"Topic2\", \"Topic2\", \"Topic2\", \"Topic2\", \"Topic2\", \"Topic2\", \"Topic2\", \"Topic2\", \"Topic2\", \"Topic2\", \"Topic3\", \"Topic3\", \"Topic3\", \"Topic3\", \"Topic3\", \"Topic3\", \"Topic3\", \"Topic3\", \"Topic3\", \"Topic3\", \"Topic3\", \"Topic3\", \"Topic3\", \"Topic3\", \"Topic3\", \"Topic3\", \"Topic3\", \"Topic3\", \"Topic3\", \"Topic3\", \"Topic3\", \"Topic3\", \"Topic3\", \"Topic3\", \"Topic3\", \"Topic3\", \"Topic3\", \"Topic3\", \"Topic3\", \"Topic3\", \"Topic3\", \"Topic3\", \"Topic3\", \"Topic3\", \"Topic3\", \"Topic3\", \"Topic3\", \"Topic3\", \"Topic3\", \"Topic3\", \"Topic3\", \"Topic3\", \"Topic3\", \"Topic3\", \"Topic3\", \"Topic3\", \"Topic3\", \"Topic3\", \"Topic3\", \"Topic3\", \"Topic3\", \"Topic3\", \"Topic3\", \"Topic3\", \"Topic3\", \"Topic3\", \"Topic3\", \"Topic3\", \"Topic3\", \"Topic3\", \"Topic3\", \"Topic3\", \"Topic3\", \"Topic3\", \"Topic3\", \"Topic3\", \"Topic3\", \"Topic3\", \"Topic3\", \"Topic3\", \"Topic3\", \"Topic3\", \"Topic3\", \"Topic3\", \"Topic3\", \"Topic3\", \"Topic3\", \"Topic3\", \"Topic3\", \"Topic3\", \"Topic3\", \"Topic3\", \"Topic3\", \"Topic3\", \"Topic4\", \"Topic4\", \"Topic4\", \"Topic4\", \"Topic4\", \"Topic4\", \"Topic4\", \"Topic4\", \"Topic4\", \"Topic4\", \"Topic4\", \"Topic4\", \"Topic4\", \"Topic4\", \"Topic4\", \"Topic4\", \"Topic4\", \"Topic4\", \"Topic4\", \"Topic4\", \"Topic4\", \"Topic4\", \"Topic4\", \"Topic4\", \"Topic4\", \"Topic4\", \"Topic4\", \"Topic4\", \"Topic4\", \"Topic4\", \"Topic4\", \"Topic4\", \"Topic4\", \"Topic4\", \"Topic4\", \"Topic4\", \"Topic4\", \"Topic4\", \"Topic4\", \"Topic4\", \"Topic4\", \"Topic4\", \"Topic4\", \"Topic4\", \"Topic4\", \"Topic4\", \"Topic4\", \"Topic4\", \"Topic4\", \"Topic4\", \"Topic4\", \"Topic4\", \"Topic4\", \"Topic4\", \"Topic4\", \"Topic4\", \"Topic4\", \"Topic4\", \"Topic4\", \"Topic4\", \"Topic4\", \"Topic4\", \"Topic4\", \"Topic4\", \"Topic4\", \"Topic4\", \"Topic4\", \"Topic4\", \"Topic4\", \"Topic4\", \"Topic4\", \"Topic4\", \"Topic4\", \"Topic4\", \"Topic4\", \"Topic4\", \"Topic4\", \"Topic4\", \"Topic4\", \"Topic4\", \"Topic4\", \"Topic4\", \"Topic4\", \"Topic4\", \"Topic4\"], \"Freq\": [5588.0, 6825.0, 4791.0, 8521.0, 2984.0, 2126.0, 3360.0, 2184.0, 2436.0, 1723.0, 2012.0, 1769.0, 2062.0, 1352.0, 1070.0, 3547.0, 2187.0, 945.0, 1885.0, 1001.0, 1076.0, 1138.0, 2032.0, 4432.0, 955.0, 1868.0, 745.0, 656.0, 664.0, 943.0, 239.1654510498047, 34.25682067871094, 49.333045959472656, 26.511470794677734, 17.212162017822266, 56.34817886352539, 46.36870193481445, 16.184831619262695, 21.6774959564209, 14.230148315429688, 17.827682495117188, 28.668609619140625, 13.2719144821167, 45.62217330932617, 16.37974739074707, 21.83294677734375, 57.68696975708008, 139.26324462890625, 20.781982421875, 20.509017944335938, 12.788848876953125, 33.309383392333984, 12.545440673828125, 11.972811698913574, 14.348145484924316, 17.521516799926758, 13.064945220947266, 11.627144813537598, 11.510376930236816, 11.216368675231934, 229.67218017578125, 75.6834945678711, 96.28280639648438, 22.1475887298584, 22.655166625976562, 121.09000396728516, 199.6578826904297, 25.19312286376953, 34.01627731323242, 152.42721557617188, 224.6710968017578, 143.2119903564453, 100.77867889404297, 73.72212219238281, 156.7893524169922, 1533.400390625, 35.77169418334961, 38.80640411376953, 164.40919494628906, 89.5560073852539, 131.88487243652344, 270.7411804199219, 130.5165557861328, 47.02558898925781, 258.4039306640625, 124.30012512207031, 611.2935180664062, 705.9925537109375, 130.46864318847656, 196.99966430664062, 298.5155029296875, 200.32086181640625, 309.9168395996094, 273.6695861816406, 208.0812530517578, 370.11016845703125, 165.89959716796875, 221.072998046875, 643.7061157226562, 912.3812255859375, 569.7389526367188, 220.33180236816406, 577.2451782226562, 769.661865234375, 483.4672546386719, 509.98822021484375, 879.5673217773438, 680.171142578125, 878.9204711914062, 372.6744079589844, 571.0613403320312, 928.5985717773438, 381.8416748046875, 272.4243469238281, 358.2593078613281, 258.2947692871094, 335.1534729003906, 415.6129150390625, 613.0802001953125, 437.74432373046875, 367.8916320800781, 358.93499755859375, 354.3122253417969, 324.87750244140625, 398.4402160644531, 330.82012939453125, 56.518856048583984, 61.94844055175781, 36.69511795043945, 38.20761489868164, 17.766740798950195, 34.01361846923828, 19.80881118774414, 18.52857208251953, 20.903461456298828, 13.134187698364258, 25.603452682495117, 17.516624450683594, 13.503292083740234, 9.867761611938477, 13.503705978393555, 12.011459350585938, 11.521930694580078, 13.050643920898438, 10.786551475524902, 159.02574157714844, 9.05347728729248, 10.375105857849121, 12.399406433105469, 28.15683364868164, 10.715921401977539, 52.72056198120117, 37.15000915527344, 11.501954078674316, 37.18754959106445, 9.17379379272461, 140.2974395751953, 86.62824249267578, 40.3651008605957, 227.5913543701172, 347.4596252441406, 280.7491455078125, 113.70144653320312, 28.462881088256836, 863.3159790039062, 94.63646697998047, 2208.558837890625, 827.8186645507812, 48.32786560058594, 594.6798706054688, 272.6795349121094, 83.28726196289062, 130.95257568359375, 1618.822998046875, 368.6001892089844, 256.7061462402344, 369.6815490722656, 314.58294677734375, 3812.410888671875, 124.49671936035156, 1123.3956298828125, 242.6811065673828, 2233.86279296875, 91.99673461914062, 290.0793762207031, 1041.1856689453125, 1058.3848876953125, 613.2750854492188, 826.5977172851562, 436.45794677734375, 775.1581420898438, 473.5291442871094, 188.0947265625, 572.77490234375, 1476.5693359375, 841.2020263671875, 590.017822265625, 451.48956298828125, 580.2330322265625, 738.89208984375, 454.8735046386719, 425.14697265625, 409.7881164550781, 365.4254455566406, 346.35382080078125, 367.91058349609375, 384.63623046875, 17.470956802368164, 17.752790451049805, 17.269269943237305, 12.08755111694336, 18.87896728515625, 12.836771011352539, 11.619948387145996, 14.517003059387207, 11.073214530944824, 26.548797607421875, 12.3916654586792, 9.336947441101074, 10.614789009094238, 8.757466316223145, 15.545500755310059, 13.295372009277344, 12.636149406433105, 10.043906211853027, 8.984516143798828, 8.39723014831543, 7.9498677253723145, 9.398017883300781, 9.21609115600586, 7.8556599617004395, 8.070486068725586, 7.532449245452881, 9.825393676757812, 9.006121635437012, 8.061982154846191, 7.648723602294922, 50.91347885131836, 10.040478706359863, 751.7265625, 3567.27783203125, 85.93885803222656, 4009.8447265625, 37.762351989746094, 14.819855690002441, 549.0126342773438, 217.80599975585938, 106.95146942138672, 904.5093994140625, 18.844388961791992, 454.39923095703125, 84.07660675048828, 1202.8946533203125, 97.90861511230469, 58.2011833190918, 57.28681945800781, 1255.4827880859375, 297.1614990234375, 242.2698211669922, 330.61614990234375, 102.50249481201172, 88.8882827758789, 95.68164825439453, 286.8845520019531, 246.5593719482422, 3562.33154296875, 204.80792236328125, 160.17625427246094, 140.6691436767578, 503.46539306640625, 677.6643676757812, 123.47759246826172, 833.9772338867188, 250.25653076171875, 612.9769287109375, 670.7008666992188, 544.6445922851562, 393.6292419433594, 463.0068359375, 957.299560546875, 737.331298828125, 424.28662109375, 316.7562255859375, 716.5128173828125, 700.7816162109375, 337.8571472167969, 412.97332763671875, 279.6168212890625, 311.54937744140625, 399.4921569824219, 313.8967590332031, 113.67133331298828, 15.785628318786621, 21.978763580322266, 19.29242706298828, 26.856380462646484, 31.755191802978516, 13.74945068359375, 14.316802978515625, 12.237198829650879, 11.35877799987793, 18.157705307006836, 10.597761154174805, 10.439927101135254, 9.880088806152344, 24.74970245361328, 10.548689842224121, 29.24343490600586, 10.048797607421875, 11.127776145935059, 36.316673278808594, 31.81844711303711, 9.809900283813477, 10.420365333557129, 8.808178901672363, 37.9581184387207, 10.649373054504395, 8.270768165588379, 8.868438720703125, 8.202777862548828, 8.86396312713623, 25.158903121948242, 25.868104934692383, 20.693462371826172, 15.357195854187012, 118.25550079345703, 167.7926025390625, 341.6215515136719, 62.82628631591797, 93.56853485107422, 328.57501220703125, 20.335586547851562, 352.7781982421875, 463.9053649902344, 118.14871215820312, 342.07159423828125, 39.73571014404297, 130.38059997558594, 129.71803283691406, 193.636962890625, 114.4304428100586, 1709.424560546875, 55.679771423339844, 547.0886840820312, 228.9266357421875, 890.5565795898438, 189.35552978515625, 115.75372314453125, 1025.9820556640625, 365.6257019042969, 3246.74169921875, 847.3723754882812, 438.5143127441406, 1504.0921630859375, 992.833251953125, 2487.3857421875, 124.92485046386719, 807.080078125, 132.8623046875, 294.6927795410156, 241.37489318847656, 453.13958740234375, 592.0311889648438, 414.83740234375, 411.2428283691406, 272.5191345214844, 461.07147216796875, 565.40283203125, 469.1485900878906, 591.460693359375, 506.2870178222656, 556.8179931640625, 482.61883544921875, 569.5155029296875, 441.0149230957031, 340.26666259765625], \"Term\": [\"good\", \"tablet\", \"price\", \"great\", \"easy\", \"old\", \"kindle\", \"loves\", \"kids\", \"games\", \"product\", \"year\", \"battery\", \"quality\", \"gift\", \"love\", \"buy\", \"value\", \"apps\", \"brand\", \"perfect\", \"play\", \"long\", \"use\", \"daughter\", \"screen\", \"deal\", \"movies\", \"brands\", \"son\", \"keyboard\", \"paired\", \"magazine\", \"keys\", \"compete\", \"leak\", \"print\", \"sunny\", \"disable\", \"birthdays\", \"scale\", \"cut\", \"prize\", \"flashlight\", \"wouldnt\", \"mah\", \"font\", \"buttons\", \"public\", \"bezel\", \"lightest\", \"sized\", \"coat\", \"corner\", \"riding\", \"enlarge\", \"native\", \"bf\", \"dish\", \"wizard\", \"page\", \"drain\", \"paper\", \"longest\", \"connecting\", \"white\", \"voyage\", \"performing\", \"form\", \"alkaline\", \"remote\", \"oasis\", \"noticed\", \"appear\", \"button\", \"battery\", \"swipe\", \"leaking\", \"paperwhite\", \"soon\", \"open\", \"power\", \"short\", \"leaked\", \"ok\", \"maybe\", \"ve\", \"life\", \"wireless\", \"turn\", \"cost\", \"tried\", \"longer\", \"box\", \"aaa\", \"charge\", \"week\", \"devices\", \"nice\", \"long\", \"device\", \"days\", \"far\", \"screen\", \"brand\", \"size\", \"like\", \"time\", \"kindle\", \"light\", \"work\", \"use\", \"store\", \"big\", \"need\", \"buying\", \"lot\", \"books\", \"good\", \"buy\", \"read\", \"quality\", \"better\", \"new\", \"price\", \"best\", \"starter\", \"grandchildren\", \"hundreds\", \"silk\", \"clumsy\", \"occupied\", \"directions\", \"indestructible\", \"grandaughter\", \"searches\", \"rugged\", \"grandmother\", \"savy\", \"assured\", \"enjoyment\", \"accidental\", \"logic\", \"hes\", \"entertain\", \"niece\", \"daugther\", \"manga\", \"customizable\", \"maneuver\", \"teen\", \"functional\", \"rubber\", \"limitations\", \"interested\", \"modified\", \"nephew\", \"adult\", \"preloaded\", \"navigate\", \"friendly\", \"item\", \"setup\", \"downfall\", \"gift\", \"adults\", \"easy\", \"perfect\", \"proof\", \"case\", \"user\", \"port\", \"young\", \"kids\", \"kid\", \"yr\", \"child\", \"children\", \"tablet\", \"samsung\", \"apps\", \"durable\", \"use\", \"parents\", \"videos\", \"old\", \"loves\", \"play\", \"games\", \"set\", \"year\", \"son\", \"slow\", \"purchased\", \"great\", \"love\", \"product\", \"nice\", \"like\", \"good\", \"books\", \"read\", \"got\", \"little\", \"daughter\", \"time\", \"price\", \"iphones\", \"impulse\", \"greater\", \"tutorials\", \"salesman\", \"husbands\", \"lightning\", \"sharing\", \"babies\", \"shown\", \"regrets\", \"immensely\", \"east\", \"destroy\", \"reorder\", \"charm\", \"jack\", \"north\", \"collection\", \"answered\", \"drinks\", \"compromise\", \"professional\", \"novice\", \"stone\", \"lovely\", \"buys\", \"withstand\", \"structure\", \"batterys\", \"quantity\", \"theses\", \"value\", \"price\", \"controllers\", \"good\", \"exchange\", \"cold\", \"deal\", \"friday\", \"reasonable\", \"quality\", \"unbeatable\", \"brands\", \"shipping\", \"product\", \"priced\", \"dark\", \"prices\", \"buy\", \"beat\", \"black\", \"cheap\", \"friend\", \"bulk\", \"xbox\", \"duracell\", \"cheaper\", \"great\", \"sale\", \"energizer\", \"grandkids\", \"brand\", \"better\", \"exactly\", \"long\", \"expensive\", \"best\", \"work\", \"works\", \"purchase\", \"far\", \"love\", \"like\", \"got\", \"light\", \"kindle\", \"use\", \"recommend\", \"easy\", \"money\", \"read\", \"tablet\", \"time\", \"tool\", \"siblings\", \"transferred\", \"louder\", \"exceeded\", \"watches\", \"bedtime\", \"twin\", \"fuss\", \"replaces\", \"fee\", \"shapes\", \"gifted\", \"occupy\", \"transfer\", \"traded\", \"tasks\", \"bedroom\", \"december\", \"hulu\", \"underground\", \"quirks\", \"facing\", \"learns\", \"cracked\", \"companion\", \"luv\", \"clubhouse\", \"ticking\", \"mickey\", \"fires\", \"net\", \"expansion\", \"clicking\", \"surfing\", \"likes\", \"music\", \"stream\", \"listen\", \"learning\", \"seven\", \"prime\", \"movies\", \"pictures\", \"grandson\", \"investment\", \"speaker\", \"speed\", \"alexa\", \"plays\", \"kindle\", \"functionality\", \"daughter\", \"playing\", \"year\", \"watching\", \"enjoys\", \"old\", \"free\", \"great\", \"games\", \"hd\", \"love\", \"loves\", \"tablet\", \"present\", \"screen\", \"bigger\", \"app\", \"access\", \"new\", \"works\", \"christmas\", \"son\", \"watch\", \"play\", \"books\", \"reading\", \"time\", \"work\", \"kids\", \"apps\", \"use\", \"price\", \"like\"], \"Total\": [5588.0, 6825.0, 4791.0, 8521.0, 2984.0, 2126.0, 3360.0, 2184.0, 2436.0, 1723.0, 2012.0, 1769.0, 2062.0, 1352.0, 1070.0, 3547.0, 2187.0, 945.0, 1885.0, 1001.0, 1076.0, 1138.0, 2032.0, 4432.0, 955.0, 1868.0, 745.0, 656.0, 664.0, 943.0, 243.74232482910156, 35.023956298828125, 50.608333587646484, 27.362178802490234, 17.92906951904297, 58.71310043334961, 48.360107421875, 16.888967514038086, 22.706920623779297, 14.949950218200684, 18.76679801940918, 30.200279235839844, 13.993829727172852, 48.184749603271484, 17.30327033996582, 23.11577606201172, 61.12316131591797, 147.66360473632812, 22.047101974487305, 21.78534507751465, 13.593628883361816, 35.4094123840332, 13.341458320617676, 12.737567901611328, 15.265809059143066, 18.65001106262207, 13.91128921508789, 12.386012077331543, 12.270439147949219, 11.964098930358887, 246.5567626953125, 80.8355941772461, 104.13257598876953, 23.658597946166992, 24.210205078125, 132.599609375, 222.0609130859375, 26.981271743774414, 36.7963981628418, 173.07656860351562, 258.25537109375, 162.41395568847656, 113.77991485595703, 82.92436218261719, 183.80474853515625, 2062.28564453125, 39.06527328491211, 42.65043258666992, 198.6807098388672, 104.03421020507812, 158.9422149658203, 346.24774169921875, 158.1666259765625, 52.49766540527344, 335.0859069824219, 151.308837890625, 879.2706909179688, 1038.9415283203125, 159.9101104736328, 253.05947875976562, 413.36328125, 264.7768249511719, 441.3843994140625, 394.7221984863281, 290.9380187988281, 587.836669921875, 224.7578125, 323.6642150878906, 1277.7037353515625, 2032.8375244140625, 1154.5670166015625, 323.9506530761719, 1233.4521484375, 1868.733642578125, 1001.6937255859375, 1108.43115234375, 2537.398193359375, 1953.439208984375, 3360.71630859375, 828.9229125976562, 1809.265625, 4432.7587890625, 1017.0293579101562, 505.0623474121094, 923.4179077148438, 470.4932556152344, 930.68408203125, 1647.885009765625, 5588.31689453125, 2187.652099609375, 1361.6458740234375, 1352.15283203125, 1451.2763671875, 1002.97705078125, 4791.36962890625, 1493.1268310546875, 58.60360336303711, 65.04456329345703, 38.58020782470703, 40.1956672668457, 18.695802688598633, 35.96883773803711, 21.049219131469727, 19.721065521240234, 22.258625030517578, 14.04660415649414, 27.460651397705078, 18.878700256347656, 14.558613777160645, 10.660013198852539, 14.590620040893555, 12.987447738647461, 12.478825569152832, 14.135583877563477, 11.702651023864746, 172.57611083984375, 9.838367462158203, 11.298898696899414, 13.518987655639648, 30.734413146972656, 11.718557357788086, 57.72391128540039, 40.706851959228516, 12.617485046386719, 40.82676315307617, 10.081023216247559, 154.60870361328125, 95.58354187011719, 44.95566177368164, 262.9620056152344, 409.69183349609375, 334.1993713378906, 132.09762573242188, 31.698461532592773, 1070.699462890625, 109.51808166503906, 2984.824462890625, 1076.0087890625, 55.60502243041992, 785.2093505859375, 347.21038818359375, 99.19664764404297, 160.67453002929688, 2436.493896484375, 494.08343505859375, 334.39813232421875, 497.95977783203125, 433.4320373535156, 6825.875, 156.58274841308594, 1885.419189453125, 336.8952331542969, 4432.7587890625, 113.04751586914062, 445.14263916015625, 2126.22412109375, 2184.27734375, 1138.3143310546875, 1723.3353271484375, 809.8717651367188, 1769.626220703125, 943.215087890625, 273.8426208496094, 1390.1959228515625, 8521.6865234375, 3547.900634765625, 2012.3516845703125, 1277.7037353515625, 2537.398193359375, 5588.31689453125, 1647.885009765625, 1361.6458740234375, 1312.034912109375, 962.0468139648438, 955.3760986328125, 1953.439208984375, 4791.36962890625, 18.35386848449707, 18.680065155029297, 18.23213768005371, 12.802388191223145, 20.058317184448242, 13.716715812683105, 12.426008224487305, 15.525284767150879, 11.873065948486328, 28.555660247802734, 13.342560768127441, 10.060800552368164, 11.446975708007812, 9.453758239746094, 16.8004093170166, 14.382664680480957, 13.691020011901855, 10.884490966796875, 9.760952949523926, 9.132013320922852, 8.653996467590332, 10.23510456085205, 10.058023452758789, 8.579054832458496, 8.81371021270752, 8.229872703552246, 10.75226879119873, 9.857826232910156, 8.832361221313477, 8.385281562805176, 56.84711456298828, 11.043785095214844, 945.5291137695312, 4791.36962890625, 101.4005355834961, 5588.31689453125, 43.396610260009766, 16.582429885864258, 745.10693359375, 287.3882751464844, 136.27261352539062, 1352.15283203125, 21.51641845703125, 664.3984985351562, 107.86201477050781, 2012.3516845703125, 130.36087036132812, 73.84344482421875, 72.60701751708984, 2187.652099609375, 446.43011474609375, 361.18890380859375, 517.1307983398438, 140.2756805419922, 119.71355438232422, 131.159423828125, 462.4906005859375, 390.63787841796875, 8521.6865234375, 316.9939270019531, 241.66236877441406, 213.8263397216797, 1001.6937255859375, 1451.2763671875, 185.08726501464844, 2032.8375244140625, 457.9273376464844, 1493.1268310546875, 1809.265625, 1440.39404296875, 931.175048828125, 1233.4521484375, 3547.900634765625, 2537.398193359375, 1312.034912109375, 828.9229125976562, 3360.71630859375, 4432.7587890625, 1102.111083984375, 2984.824462890625, 737.808837890625, 1361.6458740234375, 6825.875, 1953.439208984375, 118.63668823242188, 16.659666061401367, 23.201744079589844, 20.58413314819336, 28.663755416870117, 34.0599365234375, 14.749825477600098, 15.372434616088867, 13.1535062789917, 12.300386428833008, 19.68865966796875, 11.492191314697266, 11.3296480178833, 10.738542556762695, 26.91359519958496, 11.47864818572998, 31.82445526123047, 10.936673164367676, 12.12448787689209, 39.59946060180664, 34.71324157714844, 10.710793495178223, 11.387946128845215, 9.633023262023926, 41.562339782714844, 11.70930004119873, 9.09921646118164, 9.791661262512207, 9.059165954589844, 9.791321754455566, 28.020305633544922, 28.973398208618164, 23.078460693359375, 17.09604835510254, 137.55337524414062, 205.63272094726562, 441.74090576171875, 74.61448669433594, 115.47038269042969, 442.66424560546875, 23.065750122070312, 481.43939208984375, 656.603515625, 156.3503875732422, 500.3106384277344, 48.38983154296875, 178.96466064453125, 180.16481018066406, 283.7423095703125, 158.02923583984375, 3360.71630859375, 70.81924438476562, 955.3760986328125, 363.4329528808594, 1769.626220703125, 292.76666259765625, 165.2698974609375, 2126.22412109375, 636.4092407226562, 8521.6865234375, 1723.3353271484375, 801.1924438476562, 3547.900634765625, 2184.27734375, 6825.875, 180.97445678710938, 1868.733642578125, 196.71383666992188, 557.487548828125, 430.98297119140625, 1002.97705078125, 1440.39404296875, 894.8966064453125, 943.215087890625, 524.0698852539062, 1138.3143310546875, 1647.885009765625, 1307.4923095703125, 1953.439208984375, 1809.265625, 2436.493896484375, 1885.419189453125, 4432.7587890625, 4791.36962890625, 2537.398193359375], \"loglift\": [30.0, 29.0, 28.0, 27.0, 26.0, 25.0, 24.0, 23.0, 22.0, 21.0, 20.0, 19.0, 18.0, 17.0, 16.0, 15.0, 14.0, 13.0, 12.0, 11.0, 10.0, 9.0, 8.0, 7.0, 6.0, 5.0, 4.0, 3.0, 2.0, 1.0, 1.2441999912261963, 1.2410999536514282, 1.2376999855041504, 1.231600046157837, 1.2223999500274658, 1.222100019454956, 1.2210999727249146, 1.2206000089645386, 1.2167999744415283, 1.2138999700546265, 1.211899995803833, 1.2111999988555908, 1.2101999521255493, 1.2086000442504883, 1.208400011062622, 1.2060999870300293, 1.205299973487854, 1.2045999765396118, 1.2041000127792358, 1.2028000354766846, 1.2022000551223755, 1.2021000385284424, 1.20169997215271, 1.201300024986267, 1.201200008392334, 1.2007999420166016, 1.2003999948501587, 1.2000000476837158, 1.1993000507354736, 1.198699951171875, 1.1922999620437622, 1.1972999572753906, 1.1848000288009644, 1.1971999406814575, 1.1967999935150146, 1.1723999977111816, 1.1569000482559204, 1.194599986076355, 1.1845999956130981, 1.136199951171875, 1.123900055885315, 1.1374000310897827, 1.1418999433517456, 1.1455999612808228, 1.104200005531311, 0.9668999910354614, 1.1750999689102173, 1.1686999797821045, 1.0738999843597412, 1.1132999658584595, 1.0765999555587769, 1.017199993133545, 1.0710999965667725, 1.1531000137329102, 1.0032999515533447, 1.06659996509552, 0.8996999859809875, 0.876800000667572, 1.0597000122070312, 1.0127999782562256, 0.9376999735832214, 0.9842000007629395, 0.909600019454956, 0.8968999981880188, 0.9279999732971191, 0.800599992275238, 0.9595999717712402, 0.8820000290870667, 0.5776000022888184, 0.46209999918937683, 0.5569000244140625, 0.8776999711990356, 0.5038999915122986, 0.37610000371932983, 0.5346999764442444, 0.4869000017642975, 0.2037000060081482, 0.20819999277591705, -0.07800000160932541, 0.46380001306533813, 0.10999999940395355, -0.29989999532699585, 0.28360000252723694, 0.6459000110626221, 0.3163999915122986, 0.6635000109672546, 0.2418999969959259, -0.11429999768733978, -0.9466999769210815, -0.3456999957561493, -0.045499999076128006, -0.06310000270605087, -0.1467999964952469, 0.13590000569820404, -1.2237999439239502, -0.24390000104904175, 1.3030999898910522, 1.2905999422073364, 1.2892999649047852, 1.288599967956543, 1.2884000539779663, 1.2834999561309814, 1.2785999774932861, 1.2769999504089355, 1.2764999866485596, 1.2721999883651733, 1.2692999839782715, 1.2645000219345093, 1.2640999555587769, 1.2620999813079834, 1.2618999481201172, 1.261199951171875, 1.259600043296814, 1.2595000267028809, 1.2577999830245972, 1.257599949836731, 1.2561999559402466, 1.25409996509552, 1.2529000043869019, 1.2517999410629272, 1.249899983406067, 1.2487000226974487, 1.2479000091552734, 1.2467999458312988, 1.246000051498413, 1.2450000047683716, 1.2422000169754028, 1.2410000562667847, 1.231600046157837, 1.1949000358581543, 1.1746000051498413, 1.1650999784469604, 1.1893999576568604, 1.2316999435424805, 1.1240999698638916, 1.1933000087738037, 1.0382000207901, 1.0771000385284424, 1.1991000175476074, 1.061400055885315, 1.0976999998092651, 1.1644999980926514, 1.1347999572753906, 0.9304999709129333, 1.0463999509811401, 1.0750000476837158, 1.0414999723434448, 1.0189000368118286, 0.7569000124931335, 1.1100000143051147, 0.8216000199317932, 1.011299967765808, 0.6541000008583069, 1.1332999467849731, 0.9110999703407288, 0.6254000067710876, 0.614799976348877, 0.7208999991416931, 0.6047000288963318, 0.7211999893188477, 0.5138999819755554, 0.6503000259399414, 0.963699996471405, 0.45260000228881836, -0.41350001096725464, -0.09989999979734421, 0.11240000277757645, 0.29910001158714294, -0.13609999418258667, -0.683899998664856, 0.05209999904036522, 0.1753000020980835, 0.17569999396800995, 0.37139999866485596, 0.3246999979019165, -0.3301999866962433, -1.1828999519348145, 1.426300048828125, 1.4247000217437744, 1.4213999509811401, 1.4182000160217285, 1.4149999618530273, 1.4092999696731567, 1.4084999561309814, 1.4084999561309814, 1.405900001525879, 1.4026999473571777, 1.4017000198364258, 1.4009000062942505, 1.4000999927520752, 1.3990999460220337, 1.3980000019073486, 1.3969999551773071, 1.395400047302246, 1.3952000141143799, 1.392699956893921, 1.391700029373169, 1.3906999826431274, 1.3903000354766846, 1.388200044631958, 1.3875000476837158, 1.3875000476837158, 1.3870999813079834, 1.3854999542236328, 1.3853000402450562, 1.3844000101089478, 1.3837000131607056, 1.365399956703186, 1.3803999423980713, 1.2461999654769897, 1.1806000471115112, 1.3101999759674072, 1.1437000036239624, 1.3365000486373901, 1.3631999492645264, 1.170199990272522, 1.1984000205993652, 1.233299970626831, 1.0736000537872314, 1.343000054359436, 1.0957000255584717, 1.2265000343322754, 0.9610000252723694, 1.1892999410629272, 1.2375999689102173, 1.2386000156402588, 0.9203000068664551, 1.068600058555603, 1.076300024986267, 1.0283000469207764, 1.1619000434875488, 1.177899956703186, 1.1601999998092651, 0.9980999827384949, 1.0154000520706177, 0.6033999919891357, 1.0388000011444092, 1.0642999410629272, 1.0569000244140625, 0.7876999974250793, 0.7141000032424927, 1.0707999467849731, 0.5845999717712402, 0.871399998664856, 0.5853000283241272, 0.48330000042915344, 0.5030999779701233, 0.6146000027656555, 0.4957999885082245, 0.1656000018119812, 0.23980000615119934, 0.3467000126838684, 0.5135999917984009, -0.06989999860525131, -0.36899998784065247, 0.29330000281333923, -0.5023000240325928, 0.505299985408783, 0.000699999975040555, -1.3626999855041504, -0.35269999504089355, 1.4417999982833862, 1.4306999444961548, 1.430400013923645, 1.419800043106079, 1.4193999767303467, 1.4144999980926514, 1.4142999649047852, 1.4134000539779663, 1.4124000072479248, 1.4048999547958374, 1.4035999774932861, 1.4035999774932861, 1.4027999639511108, 1.4012999534606934, 1.4007999897003174, 1.4000999927520752, 1.399999976158142, 1.399899959564209, 1.398800015449524, 1.3980000019073486, 1.3975000381469727, 1.3967000246047974, 1.395799994468689, 1.3950999975204468, 1.3939000368118286, 1.3897000551223755, 1.3890999555587769, 1.3854999542236328, 1.3853000402450562, 1.38510000705719, 1.3768999576568604, 1.3711999654769897, 1.375499963760376, 1.3773000240325928, 1.333400011062622, 1.2812000513076782, 1.2275999784469604, 1.312600016593933, 1.2742999792099, 1.1864999532699585, 1.3586000204086304, 1.1735999584197998, 1.1371999979019165, 1.2043999433517456, 1.1044000387191772, 1.287500023841858, 1.167799949645996, 1.1561000347137451, 1.1024999618530273, 1.1618000268936157, 0.8086000084877014, 1.2440999746322632, 0.9271000027656555, 1.0224000215530396, 0.7979000210762024, 1.048799991607666, 1.128499984741211, 0.7559000253677368, 0.9302999973297119, 0.519599974155426, 0.7746999859809875, 0.8819000124931335, 0.6263999938964844, 0.6960999965667725, 0.47510001063346863, 1.1138999462127686, 0.6449999809265137, 1.0921000242233276, 0.847100019454956, 0.9049000144004822, 0.6901000142097473, 0.5954999923706055, 0.7157999873161316, 0.6545000076293945, 0.8306999802589417, 0.5807999968528748, 0.414900004863739, 0.4596000015735626, 0.2897999882698059, 0.210999995470047, 0.008500000461935997, 0.12189999967813492, -0.5673999786376953, -0.9009000062942505, -0.5246000289916992], \"logprob\": [30.0, 29.0, 28.0, 27.0, 26.0, 25.0, 24.0, 23.0, 22.0, 21.0, 20.0, 19.0, 18.0, 17.0, 16.0, 15.0, 14.0, 13.0, 12.0, 11.0, 10.0, 9.0, 8.0, 7.0, 6.0, 5.0, 4.0, 3.0, 2.0, 1.0, -5.8445000648498535, -7.787799835205078, -7.423099994659424, -8.044099807739258, -8.476099967956543, -7.29010009765625, -7.485099792480469, -8.537599563598633, -8.245400428771973, -8.666299819946289, -8.440899848937988, -7.96589994430542, -8.736000061035156, -7.501299858093262, -8.52560043334961, -8.238300323486328, -7.26669979095459, -6.385300159454346, -8.287599563598633, -8.300800323486328, -8.773099899291992, -7.815800189971924, -8.7923002243042, -8.839099884033203, -8.658100128173828, -8.45829963684082, -8.751799583435059, -8.868300437927246, -8.878399848937988, -8.90429973602295, -5.885000228881836, -6.995100021362305, -6.75439977645874, -8.223999977111816, -8.201299667358398, -6.525199890136719, -6.025100231170654, -8.095100402832031, -7.7947998046875, -6.295000076293945, -5.907100200653076, -6.357399940490723, -6.708799839019775, -7.021399974822998, -6.2667999267578125, -3.9863998889923096, -7.744500160217285, -7.663099765777588, -6.219299793243408, -6.8267998695373535, -6.439799785614014, -5.7204999923706055, -6.450200080871582, -7.4710001945495605, -5.767199993133545, -6.499000072479248, -4.906099796295166, -4.7621002197265625, -6.4506001472473145, -6.03849983215332, -5.622900009155273, -6.0218000411987305, -5.585400104522705, -5.709799766540527, -5.983799934387207, -5.407899856567383, -6.210299968719482, -5.9232001304626465, -4.854400157928467, -4.5055999755859375, -4.976500034332275, -5.926599979400635, -4.963399887084961, -4.6757001876831055, -5.140699863433838, -5.087299823760986, -4.542300224304199, -4.799300193786621, -4.543000221252441, -5.401000022888184, -4.9741997718811035, -4.48799991607666, -5.376699924468994, -5.714300155639648, -5.440400123596191, -5.767600059509277, -5.5071001052856445, -5.291900157928467, -4.903200149536133, -5.240099906921387, -5.413899898529053, -5.438499927520752, -5.451499938964844, -5.5381999015808105, -5.334099769592285, -5.520100116729736, -7.210999965667725, -7.119200229644775, -7.642899990081787, -7.602499961853027, -8.368200302124023, -7.718800067901611, -8.259400367736816, -8.326199531555176, -8.205599784851074, -8.670299530029297, -8.002799987792969, -8.382399559020996, -8.642600059509277, -8.956299781799316, -8.642600059509277, -8.759699821472168, -8.801300048828125, -8.6766996383667, -8.867199897766113, -6.176499843597412, -9.042400360107422, -8.906100273132324, -8.727899551391602, -7.907700061798096, -8.873800277709961, -7.2804999351501465, -7.6305999755859375, -8.803000450134277, -7.6296000480651855, -9.029199600219727, -6.301799774169922, -6.783899784088135, -7.547599792480469, -5.817999839782715, -5.394899845123291, -5.608099937438965, -6.51200008392334, -7.896900177001953, -4.484799861907959, -6.695499897003174, -3.5453999042510986, -4.526700019836426, -7.367499828338623, -4.857500076293945, -5.637199878692627, -6.823200225830078, -6.370699882507324, -3.856100082397461, -5.3358001708984375, -5.6975998878479, -5.332900047302246, -5.49429988861084, -2.999500036239624, -6.421299934387207, -4.221399784088135, -5.753799915313721, -3.53410005569458, -6.723800182342529, -5.575399875640869, -4.297399997711182, -4.281000137329102, -4.826700210571289, -4.528200149536133, -5.166800022125244, -4.59250020980835, -5.085299968719482, -6.008600234985352, -4.894999980926514, -3.9481000900268555, -4.510700225830078, -4.8653998374938965, -5.132999897003174, -4.8821001052856445, -4.640399932861328, -5.125500202178955, -5.1930999755859375, -5.229899883270264, -5.3445000648498535, -5.398099899291992, -5.337699890136719, -5.2932000160217285, -8.248700141906738, -8.23270034790039, -8.260299682617188, -8.61709976196289, -8.171199798583984, -8.557000160217285, -8.656599998474121, -8.434000015258789, -8.704700469970703, -7.8302998542785645, -8.592300415039062, -8.875300407409668, -8.746999740600586, -8.939399719238281, -8.365500450134277, -8.521900177001953, -8.572699546813965, -8.802300453186035, -8.913800239562988, -8.981399536132812, -9.036100387573242, -8.868800163269043, -8.888299942016602, -9.04800033569336, -9.021100044250488, -9.090100288391113, -8.824299812316895, -8.911399841308594, -9.022100448608398, -9.074700355529785, -7.179100036621094, -8.80270004272461, -4.4868998527526855, -2.9296998977661133, -6.655600070953369, -2.8127999305725098, -7.478000164031982, -8.413299560546875, -4.801199913024902, -5.7256999015808105, -6.4369001388549805, -4.3018999099731445, -8.173100471496582, -4.990300178527832, -6.677499771118164, -4.0167999267578125, -6.525199890136719, -7.045400142669678, -7.061200141906738, -3.9739999771118164, -5.414999961853027, -5.619200229644775, -5.308300018310547, -6.479400157928467, -6.6219000816345215, -6.5482001304626465, -5.450200080871582, -5.6016998291015625, -2.9310998916625977, -5.787199974060059, -6.0329999923706055, -6.162899971008301, -4.887800216674805, -4.59060001373291, -6.2932000160217285, -4.3831000328063965, -5.5868000984191895, -4.690899848937988, -4.60099983215332, -4.809100151062012, -5.133900165557861, -4.971499919891357, -4.245200157165527, -4.506199836730957, -5.058899879455566, -5.351099967956543, -4.534900188446045, -4.55709981918335, -5.2866997718811035, -5.085899829864502, -5.475900173187256, -5.367700099945068, -5.119100093841553, -5.360199928283691, -6.367000102996826, -8.34119987487793, -8.010199546813965, -8.140600204467773, -7.809800148010254, -7.642300128936768, -8.479299545288086, -8.438899993896484, -8.595800399780273, -8.670299530029297, -8.201199531555176, -8.739700317382812, -8.75469970703125, -8.809800148010254, -7.891499996185303, -8.74429988861084, -7.724699974060059, -8.792900085449219, -8.690899848937988, -7.507999897003174, -7.6402997970581055, -8.816900253295898, -8.756500244140625, -8.924599647521973, -7.463799953460693, -8.734800338745117, -8.987600326538086, -8.917799949645996, -8.995800018310547, -8.918299674987793, -7.875100135803223, -7.847300052642822, -8.070500373840332, -8.36870002746582, -6.327499866485596, -5.97760009765625, -5.266600131988525, -6.95989990234375, -6.561600208282471, -5.305500030517578, -8.087900161743164, -5.234499931335449, -4.960599899291992, -6.328400135040283, -5.2652997970581055, -7.418099880218506, -6.229899883270264, -6.234899997711182, -5.8343000411987305, -6.360300064086914, -3.656399965286255, -7.080699920654297, -4.7957000732421875, -5.666900157928467, -4.308499813079834, -5.8566999435424805, -6.348800182342529, -4.166900157928467, -5.198699951171875, -3.014899969100952, -4.3582000732421875, -5.016900062561035, -3.78439998626709, -4.199699878692627, -3.2813000679016113, -6.272600173950195, -4.406899929046631, -6.210999965667725, -5.414400100708008, -5.613999843597412, -4.984099864959717, -4.716800212860107, -5.072400093078613, -5.081099987030029, -5.492599964141846, -4.966800212860107, -4.762800216674805, -4.949399948120117, -4.717700004577637, -4.873199939727783, -4.77810001373291, -4.92110013961792, -4.755499839782715, -5.011199951171875, -5.270599842071533]}, \"token.table\": {\"Topic\": [1, 2, 3, 4, 1, 2, 3, 4, 2, 2, 3, 4, 1, 2, 3, 4, 1, 2, 3, 4, 1, 2, 3, 4, 3, 1, 2, 3, 4, 1, 2, 3, 4, 1, 2, 3, 4, 2, 3, 1, 2, 3, 4, 3, 1, 2, 3, 4, 4, 4, 1, 2, 3, 4, 1, 2, 3, 4, 1, 2, 1, 1, 2, 3, 4, 1, 2, 3, 4, 1, 1, 2, 3, 4, 1, 2, 3, 4, 1, 2, 3, 4, 1, 2, 3, 4, 1, 2, 3, 4, 1, 2, 3, 4, 1, 2, 3, 4, 1, 2, 3, 4, 1, 2, 3, 4, 1, 2, 3, 4, 3, 1, 2, 3, 4, 1, 2, 3, 4, 3, 1, 2, 3, 4, 1, 2, 3, 4, 1, 2, 3, 4, 1, 2, 3, 4, 1, 2, 3, 4, 1, 2, 4, 4, 2, 1, 1, 3, 3, 4, 1, 3, 1, 4, 1, 2, 3, 4, 1, 1, 2, 3, 4, 1, 2, 3, 4, 2, 1, 2, 3, 1, 2, 3, 4, 1, 2, 3, 4, 2, 1, 2, 3, 4, 1, 2, 3, 4, 4, 3, 1, 2, 3, 4, 1, 2, 3, 4, 2, 3, 1, 1, 2, 4, 1, 2, 3, 4, 3, 1, 2, 3, 4, 1, 2, 3, 4, 3, 1, 2, 3, 4, 1, 2, 3, 4, 1, 2, 1, 2, 3, 4, 1, 2, 1, 2, 3, 4, 3, 4, 1, 2, 3, 4, 2, 3, 4, 1, 2, 3, 4, 4, 1, 2, 3, 4, 1, 4, 1, 3, 4, 1, 2, 3, 1, 2, 3, 1, 2, 3, 4, 1, 2, 3, 4, 1, 2, 3, 4, 1, 2, 3, 4, 1, 2, 3, 4, 1, 2, 3, 4, 1, 2, 3, 4, 4, 1, 2, 3, 4, 1, 2, 3, 4, 4, 1, 2, 3, 4, 1, 2, 3, 4, 2, 4, 1, 2, 3, 4, 1, 2, 3, 4, 2, 1, 2, 3, 4, 1, 2, 3, 4, 3, 1, 2, 3, 4, 2, 1, 3, 4, 2, 3, 4, 3, 3, 3, 2, 1, 2, 3, 2, 3, 4, 3, 1, 2, 3, 4, 3, 1, 2, 3, 4, 1, 1, 2, 3, 4, 1, 2, 3, 4, 1, 2, 3, 4, 1, 3, 4, 1, 3, 4, 1, 2, 3, 4, 1, 2, 3, 4, 4, 1, 2, 3, 4, 1, 2, 3, 4, 1, 3, 1, 2, 3, 4, 1, 2, 3, 4, 2, 1, 2, 3, 4, 1, 2, 3, 4, 2, 1, 2, 3, 4, 1, 2, 3, 4, 1, 2, 3, 1, 2, 3, 4, 1, 3, 4, 1, 2, 3, 4, 3, 1, 2, 3, 4, 4, 1, 1, 3, 1, 2, 3, 2, 1, 2, 3, 4, 4, 2, 1, 2, 3, 4, 1, 2, 3, 4, 1, 2, 3, 4, 1, 1, 2, 3, 4, 1, 2, 3, 4, 1, 2, 3, 4, 1, 3, 4, 1, 2, 3, 4, 1, 2, 3, 4, 1, 2, 3, 4, 3, 1, 2, 3, 4, 3, 1, 2, 3, 4, 2, 3, 4, 4, 1, 2, 3, 4, 1, 2, 3, 4, 1, 2, 3, 4, 1, 2, 3, 4, 1, 1, 3, 4, 1, 2, 3, 4, 1, 2, 3, 4, 1, 2, 3, 4, 1, 3, 4, 1, 2, 3, 4, 1, 2, 3, 4, 1, 2, 3, 4, 1, 2, 3, 4, 1, 2, 3, 4, 1, 2, 3, 4, 1, 2, 3, 4, 1, 2, 3, 4, 1, 2, 3, 4, 1, 2, 3, 4, 1, 2, 3, 4, 1, 2, 3, 4, 1, 2, 3, 1, 1, 2, 3, 4, 3, 1, 2, 3, 4, 1, 1, 2, 3, 4, 1, 2, 3, 4, 1, 2, 3, 4, 1, 3, 4, 1, 2, 3, 4, 1, 2, 3, 4, 1, 2, 3, 4, 1, 2, 3, 4, 3, 1, 2, 3, 4, 1, 3, 4, 1, 2, 3, 4, 2, 3, 1, 2, 3, 4, 2, 3, 1, 2, 3, 4, 2, 1, 1, 2, 3, 4, 2, 1, 2, 3, 4, 1, 2, 3, 4, 3, 4, 4, 3, 1, 2, 3, 4, 1, 2, 3, 4, 1, 2, 3, 4, 1, 2, 3, 4, 1, 2, 3, 4, 1, 2, 4, 1, 2, 3, 4, 1, 2, 3, 4, 1, 2, 3, 4, 1, 2, 3, 4, 1, 2, 3, 4, 1, 2, 3, 4, 3, 1, 2, 3, 4, 1, 2, 3, 4, 3, 1, 1, 2, 3, 4, 1, 3, 4, 1, 2, 3, 4, 1, 2, 3, 4, 1, 2, 3, 4, 1, 2, 3, 4, 1, 2, 3, 4, 4, 1, 2, 3, 4, 1, 4, 1, 2, 3, 4, 1, 2, 3, 4, 3, 4, 1, 3, 1, 3, 4, 1, 2, 3, 4, 1, 2, 3, 4, 1, 2, 3, 4, 1, 2, 3, 4, 1, 2, 3, 4, 1, 2, 3, 4, 1, 2, 3, 4, 1, 2, 4, 1, 2, 3, 4, 1, 2, 3, 4, 1, 2, 3, 4, 1, 2, 3, 4, 3, 1, 1, 2, 3, 4, 1, 2, 3, 4, 1, 3, 1, 2, 3, 4, 1, 2, 3, 4, 1, 2, 3, 4, 1, 2, 3, 4], \"Freq\": [0.714928925037384, 0.006874316371977329, 0.26466119289398193, 0.013748632743954659, 0.046405546367168427, 0.32019826769828796, 0.07192859798669815, 0.5591868162155151, 0.9239690899848938, 0.9101985096931458, 0.020924104377627373, 0.06277231127023697, 0.027392737567424774, 0.8674366474151611, 0.018261823803186417, 0.10044003278017044, 0.14449730515480042, 0.02114594727754593, 0.15507027506828308, 0.6837189793586731, 0.8782240152359009, 0.005777789745479822, 0.09822242707014084, 0.017333369702100754, 0.8760390281677246, 0.23318906128406525, 0.21525144577026367, 0.021525144577026367, 0.5291597843170166, 0.8923794627189636, 0.012059181928634644, 0.0844142735004425, 0.012059181928634644, 0.133126899600029, 0.5956234931945801, 0.01485080923885107, 0.2561764419078827, 0.93808513879776, 0.926466703414917, 0.7433499693870544, 0.07515932619571686, 0.13092270493507385, 0.04994458332657814, 0.9540526270866394, 0.10527963936328888, 0.08735969662666321, 0.6652777194976807, 0.14111950993537903, 0.9143548607826233, 0.9491637945175171, 0.22168244421482086, 0.22570085525512695, 0.4105478525161743, 0.1426536589860916, 0.24392321705818176, 0.09577775746583939, 0.4671749770641327, 0.19293361902236938, 0.9639507532119751, 0.04590241611003876, 0.9688348174095154, 0.5385473966598511, 0.07127832621335983, 0.18611563742160797, 0.20393522083759308, 0.14233873784542084, 0.03050115890800953, 0.15758931636810303, 0.6761090159416199, 0.9364579916000366, 0.03876088187098503, 0.1661180555820465, 0.6700094938278198, 0.12458854168653488, 0.2524448037147522, 0.27611151337623596, 0.1286497563123703, 0.3428637385368347, 0.6941590905189514, 0.07346939295530319, 0.21280789375305176, 0.020267417654395103, 0.4821833074092865, 0.006988164037466049, 0.5021495223045349, 0.006988164037466049, 0.28898319602012634, 0.009030724875628948, 0.6833248138427734, 0.018061449751257896, 0.2171850949525833, 0.025059819221496582, 0.7434412837028503, 0.016706546768546104, 0.8541672825813293, 0.032643336802721024, 0.06528667360544205, 0.05440555885434151, 0.941328763961792, 0.006772149354219437, 0.027088597416877747, 0.02031644806265831, 0.20021465420722961, 0.08593688160181046, 0.5736743807792664, 0.14033310115337372, 0.5483607053756714, 0.09139344841241837, 0.2805566191673279, 0.07651544362306595, 0.9300362467765808, 0.09551592916250229, 0.757759690284729, 0.028018005192279816, 0.11843974888324738, 0.6294265389442444, 0.32832249999046326, 0.022114986553788185, 0.020413832738995552, 0.9038658738136292, 0.2223808765411377, 0.08315110951662064, 0.6400701999664307, 0.05607865750789642, 0.23551224172115326, 0.053758226335048676, 0.6322991251945496, 0.07935738563537598, 0.07831957936286926, 0.743031919002533, 0.008032777346670628, 0.17069651186466217, 0.05998633801937103, 0.7267575263977051, 0.07152216881513596, 0.1430443376302719, 0.026818741112947464, 0.36652278900146484, 0.14303328096866608, 0.463740736246109, 0.05849304795265198, 0.05849304795265198, 0.877395749092102, 0.9191494584083557, 0.9627829194068909, 0.9744062423706055, 0.06030479446053505, 0.9045718908309937, 0.922041118144989, 0.9394242167472839, 0.9481808543205261, 0.8793266415596008, 0.9500126242637634, 0.041304897516965866, 0.1380663365125656, 0.009861880913376808, 0.8481217622756958, 0.009861880913376808, 0.9420951008796692, 0.7233346700668335, 0.08225210756063461, 0.11612062156200409, 0.07741374522447586, 0.024060243740677834, 0.024060243740677834, 0.024060243740677834, 0.9142892360687256, 0.8876404166221619, 0.960256040096283, 0.03311227634549141, 0.03311227634549141, 0.05416865274310112, 0.05416865274310112, 0.7854454517364502, 0.09479514509439468, 0.016747331246733665, 0.3621610403060913, 0.04814857617020607, 0.5725494027137756, 0.9147859215736389, 0.6791157722473145, 0.061737798154354095, 0.1728658378124237, 0.08334602415561676, 0.04831521213054657, 0.03757849708199501, 0.7368069887161255, 0.1771557778120041, 0.9072548151016235, 0.9520023465156555, 0.4936915636062622, 0.2468457818031311, 0.06842391937971115, 0.1914137452840805, 0.6828064322471619, 0.027806594967842102, 0.16992919147014618, 0.12049524486064911, 0.9501540064811707, 0.04750769957900047, 0.9688675999641418, 0.9779601097106934, 0.883323609828949, 0.06309454143047333, 0.9401798844337463, 0.037112362682819366, 0.024741575121879578, 0.012370787560939789, 0.924428403377533, 0.04452422633767128, 0.7212924957275391, 0.026714537292718887, 0.20777973532676697, 0.3675750494003296, 0.006486618425697088, 0.6205531358718872, 0.006486618425697088, 0.9609525203704834, 0.08107679337263107, 0.740077018737793, 0.13836659491062164, 0.040538396686315536, 0.3227643668651581, 0.008276009000837803, 0.6620807647705078, 0.008276009000837803, 0.06853718310594559, 0.9595205783843994, 0.012101417407393456, 0.2480790615081787, 0.03630425035953522, 0.7018821835517883, 0.9651468992233276, 0.9399579763412476, 0.1945028454065323, 0.1134599968791008, 0.6645513772964478, 0.021611427888274193, 0.03488726541399956, 0.941956102848053, 0.04608654975891113, 0.04608654975891113, 0.8756444454193115, 0.023043274879455566, 0.043330445885658264, 0.043330445885658264, 0.9099393486976624, 0.33193039894104004, 0.06769633293151855, 0.5459381341934204, 0.05459381267428398, 0.8781214952468872, 0.4677927792072296, 0.08593766391277313, 0.37536925077438354, 0.07053374499082565, 0.050790660083293915, 0.9142318367958069, 0.07137680798768997, 0.035688403993844986, 0.8922101259231567, 0.9546589255332947, 0.02075345441699028, 0.04150690883398056, 0.9489037990570068, 0.03272081911563873, 0.016360409557819366, 0.9240034818649292, 0.027176573872566223, 0.027176573872566223, 0.027176573872566223, 0.18698659539222717, 0.2121276557445526, 0.02671237103641033, 0.5751016139984131, 0.0034796129912137985, 0.14614374935626984, 0.7585556507110596, 0.09046994149684906, 0.028515277430415154, 0.1497052013874054, 0.7342684268951416, 0.08554583042860031, 0.03661288321018219, 0.8469780683517456, 0.01220429502427578, 0.10007522255182266, 0.05197152867913246, 0.9181637167930603, 0.017323844134807587, 0.017323844134807587, 0.056481823325157166, 0.028240911662578583, 0.14120455086231232, 0.7907454967498779, 0.9123042821884155, 0.012765943072736263, 0.4798834025859833, 0.016247563064098358, 0.4914887845516205, 0.00560381356626749, 0.806015133857727, 0.1793220341205597, 0.008405719883739948, 0.8826399445533752, 0.10969313234090805, 0.1322401762008667, 0.7175684571266174, 0.04044151306152344, 0.1554836630821228, 0.31249168515205383, 0.32316213846206665, 0.2088358998298645, 0.9434545040130615, 0.04492640495300293, 0.015374074690043926, 0.9531926512718201, 0.015374074690043926, 0.015374074690043926, 0.004676692187786102, 0.23383460938930511, 0.6594136357307434, 0.10288722813129425, 0.9534554481506348, 0.003997516352683306, 0.2678335905075073, 0.0439726822078228, 0.6835753321647644, 0.02769404835999012, 0.17332249879837036, 0.41799238324165344, 0.38102784752845764, 0.93241947889328, 0.14977675676345825, 0.15976186096668243, 0.1435360461473465, 0.5479332804679871, 0.9196648597717285, 0.05050573870539665, 0.025252869352698326, 0.909103274345398, 0.9590409994125366, 0.025920026004314423, 0.025920026004314423, 0.9477487206459045, 0.8945609927177429, 0.9635940790176392, 0.9634367823600769, 0.024493737146258354, 0.906268298625946, 0.07348120957612991, 0.04133099690079689, 0.12399299442768097, 0.8266199231147766, 0.9262352585792542, 0.05086784064769745, 0.8408154845237732, 0.05984451621770859, 0.04787561297416687, 0.9495275020599365, 0.9805436730384827, 0.004102693405002356, 0.008205386810004711, 0.008205386810004711, 0.9867635369300842, 0.016191598027944565, 0.7468374371528625, 0.0728621855378151, 0.1639399230480194, 0.025035975500941277, 0.6644793748855591, 0.08208516240119934, 0.228607177734375, 0.2615513801574707, 0.016663113608956337, 0.21334737539291382, 0.5085225701332092, 0.953790545463562, 0.017031973227858543, 0.017031973227858543, 0.8952779173851013, 0.07619386166334152, 0.01904846541583538, 0.914410412311554, 0.023446420207619667, 0.046892840415239334, 0.023446420207619667, 0.024849534034729004, 0.22364580631256104, 0.00903619360178709, 0.743226945400238, 0.9342861175537109, 0.6795377731323242, 0.10683950781822205, 0.15111534297466278, 0.06256367266178131, 0.44998154044151306, 0.14597256481647491, 0.3824239671230316, 0.02171492576599121, 0.9563303589820862, 0.9657164216041565, 0.3468119502067566, 0.22858059406280518, 0.29045501351356506, 0.13399551808834076, 0.014589117839932442, 0.019452156499028206, 0.15075421333312988, 0.8169906139373779, 0.9510611891746521, 0.13856366276741028, 0.025980688631534576, 0.025980688631534576, 0.8140615820884705, 0.29208558797836304, 0.3793994188308716, 0.06860373169183731, 0.25986260175704956, 0.9616289734840393, 0.44863399863243103, 0.08903810381889343, 0.4102639853954315, 0.05165193974971771, 0.7023356556892395, 0.052108775824308395, 0.2039038985967636, 0.04078077897429466, 0.9298945069313049, 0.04226792976260185, 0.04226792976260185, 0.3599502742290497, 0.15687385201454163, 0.2675451338291168, 0.21489569544792175, 0.04858110845088959, 0.04858110845088959, 0.923041045665741, 0.06905492395162582, 0.23704159259796143, 0.26973697543144226, 0.4239126741886139, 0.9720684885978699, 0.009614164009690285, 0.48437073826789856, 0.05127554014325142, 0.4546126127243042, 0.8791965842247009, 0.9682199954986572, 0.9517309665679932, 0.04326049983501434, 0.0325368195772171, 0.9110308885574341, 0.0325368195772171, 0.8850420117378235, 0.8195158839225769, 0.10574398934841156, 0.05948099493980408, 0.0066089993342757225, 0.9191812872886658, 0.892766535282135, 0.3198660612106323, 0.06370213627815247, 0.3795020878314972, 0.23718881607055664, 0.010660924017429352, 0.25586217641830444, 0.025890814140439034, 0.7066669464111328, 0.12903492152690887, 0.05206672102212906, 0.045275408774614334, 0.7742094993591309, 0.934492826461792, 0.034225475043058395, 0.8670454025268555, 0.06845095008611679, 0.034225475043058395, 0.38769012689590454, 0.22091838717460632, 0.21225492656230927, 0.17868399620056152, 0.038807645440101624, 0.905511736869812, 0.0517435297369957, 0.006467941217124462, 0.069028839468956, 0.034514419734478, 0.8973748683929443, 0.32403531670570374, 0.10269427299499512, 0.12163788080215454, 0.45165538787841797, 0.5040292143821716, 0.3529769778251648, 0.060264360159635544, 0.08217867463827133, 0.011589089408516884, 0.921332597732544, 0.0347672700881958, 0.0347672700881958, 0.9187384247779846, 0.8876786231994629, 0.017577795311808586, 0.07031118124723434, 0.026366692036390305, 0.9325036406517029, 0.8804662227630615, 0.05541395768523216, 0.030785532668232918, 0.030785532668232918, 0.9452626705169678, 0.027801843360066414, 0.027801843360066414, 0.931225061416626, 0.7699518203735352, 0.15816839039325714, 0.04476464167237282, 0.02685878425836563, 0.011757932603359222, 0.4896003007888794, 0.015990788117051125, 0.48254555463790894, 0.8304905295372009, 0.11324870586395264, 0.044041164219379425, 0.012583189643919468, 0.9328480958938599, 0.016223445534706116, 0.024335166439414024, 0.028391027823090553, 0.9707641005516052, 0.9219017028808594, 0.05761885643005371, 0.01920628547668457, 0.8254449963569641, 0.020132804289460182, 0.10569722950458527, 0.04529881104826927, 0.035383351147174835, 0.8138170838356018, 0.08845838159322739, 0.06192086637020111, 0.08828923851251602, 0.7695104479789734, 0.06133778765797615, 0.0817837193608284, 0.9265686273574829, 0.03706274554133415, 0.03706274554133415, 0.134313702583313, 0.031979452818632126, 0.07675068825483322, 0.754715085029602, 0.038653645664453506, 0.538515567779541, 0.01756983995437622, 0.40498480200767517, 0.011006156913936138, 0.3246816098690033, 0.03577001020312309, 0.6301024556159973, 0.031639713793992996, 0.23413389921188354, 0.006327942945063114, 0.7213854789733887, 0.11089084297418594, 0.8367218375205994, 0.02016197144985199, 0.02016197144985199, 0.7826765775680542, 0.014440527185797691, 0.16751012206077576, 0.03465726599097252, 0.02224413864314556, 0.8897655606269836, 0.02224413864314556, 0.06673241406679153, 0.07183334231376648, 0.14366668462753296, 0.09393590688705444, 0.6907051801681519, 0.08306601643562317, 0.08035280555486679, 0.7444635629653931, 0.09204048663377762, 0.09972317516803741, 0.13040722906589508, 0.7517593502998352, 0.015342026948928833, 0.1377277374267578, 0.041318319737911224, 0.7850480675697327, 0.027545547112822533, 0.11839496344327927, 0.06231313943862915, 0.08516129106283188, 0.7332179546356201, 0.9511972069740295, 0.02067819982767105, 0.02067819982767105, 0.9289808869361877, 0.032300516963005066, 0.29318931698799133, 0.5978080034255981, 0.07702431082725525, 0.8948079943656921, 0.03596797212958336, 0.863231360912323, 0.03596797212958336, 0.05395196005702019, 0.9525061249732971, 0.16753026843070984, 0.28029102087020874, 0.42312130331993103, 0.1299433410167694, 0.21220029890537262, 0.4121721088886261, 0.18126940727233887, 0.19493655860424042, 0.26550254225730896, 0.050290174782276154, 0.6693030595779419, 0.01479122694581747, 0.08795521408319473, 0.8971431851387024, 0.9336376190185547, 0.27026116847991943, 0.31212225556373596, 0.2291344702243805, 0.18874217569828033, 0.22791720926761627, 0.23633025586605072, 0.17667408287525177, 0.3587019145488739, 0.17611755430698395, 0.0073382314294576645, 0.785190761089325, 0.029352925717830658, 0.12612158060073853, 0.2685754597187042, 0.30668413639068604, 0.29851800203323364, 0.8993775844573975, 0.8712306618690491, 0.003872136352583766, 0.1006755456328392, 0.02323281764984131, 0.0595223605632782, 0.9523577690124512, 0.8942808508872986, 0.9170820713043213, 0.9089378714561462, 0.024565888568758965, 0.04913177713751793, 0.9468092918395996, 0.036415740847587585, 0.09779366850852966, 0.18927808105945587, 0.6467000842094421, 0.06624732911586761, 0.04985463246703148, 0.9472379684448242, 0.13411438465118408, 0.7919135689735413, 0.025545598939061165, 0.044704798609018326, 0.9616299867630005, 0.9591407179832458, 0.4120437502861023, 0.10969995707273483, 0.04655558988451958, 0.43184325098991394, 0.9254906177520752, 0.06914675235748291, 0.5383568406105042, 0.18027545511722565, 0.2123793065547943, 0.06813143193721771, 0.8629981279373169, 0.015140317380428314, 0.0529911108314991, 0.08670864999294281, 0.8670864701271057, 0.9571716785430908, 0.9661658406257629, 0.12052435427904129, 0.06489773094654083, 0.77877277135849, 0.027813313528895378, 0.8282404541969299, 0.06322446465492249, 0.10115914046764374, 0.006322446279227734, 0.03501932695508003, 0.03501932695508003, 0.9455218315124512, 0.9604033827781677, 0.024878302589058876, 0.9453755021095276, 0.024878302589058876, 0.024878302589058876, 0.46010977029800415, 0.24178317189216614, 0.05503273755311966, 0.24268534779548645, 0.9319555759429932, 0.028241079300642014, 0.028241079300642014, 0.11320370435714722, 0.6865257024765015, 0.08764158189296722, 0.11320370435714722, 0.02438468113541603, 0.5025364756584167, 0.03710712492465973, 0.43574365973472595, 0.8651000261306763, 0.038448892533779144, 0.038448892533779144, 0.05767333507537842, 0.1341046839952469, 0.01117539033293724, 0.12292929738759995, 0.7264003753662109, 0.19981704652309418, 0.016651419922709465, 0.06660567969083786, 0.7215615510940552, 0.017063796520233154, 0.9726364612579346, 0.017063796520233154, 0.017063796520233154, 0.9076767563819885, 0.37560370564460754, 0.24286417663097382, 0.2615460455417633, 0.11995720863342285, 0.026804447174072266, 0.05360889434814453, 0.06701111793518066, 0.8443400859832764, 0.9057600498199463, 0.9473640322685242, 0.03634952753782272, 0.0872388631105423, 0.014539810828864574, 0.8578488230705261, 0.9215345978736877, 0.025598183274269104, 0.05119636654853821, 0.0186056736856699, 0.5584632158279419, 0.05845404416322708, 0.3643488883972168, 0.03142237663269043, 0.03142237663269043, 0.03142237663269043, 0.9112489223480225, 0.08533473312854767, 0.9386820793151855, 0.9054866433143616, 0.8830835223197937, 0.34810400009155273, 0.18838569521903992, 0.1607421338558197, 0.3025433421134949, 0.008429096080362797, 0.025287287309765816, 0.008429096080362797, 0.9609169363975525, 0.9583010077476501, 0.037155941128730774, 0.037155941128730774, 0.037155941128730774, 0.9288985729217529, 0.043100208044052124, 0.9482045769691467, 0.7553530931472778, 0.07553531229496002, 0.08308884501457214, 0.0868656113743782, 0.7784731388092041, 0.06717788428068161, 0.05137132108211517, 0.10274264216423035, 0.937325119972229, 0.9107210636138916, 0.09295227378606796, 0.883046567440033, 0.057614900171756744, 0.028807450085878372, 0.9218384027481079, 0.20957602560520172, 0.5039750933647156, 0.15814079344272614, 0.12858809530735016, 0.04032137244939804, 0.7862668037414551, 0.02016068622469902, 0.15264520049095154, 0.05711087957024574, 0.056053269654512405, 0.7953218817710876, 0.09201197326183319, 0.6948940753936768, 0.058002617210149765, 0.17628246545791626, 0.07051298022270203, 0.017971767112612724, 0.6514765620231628, 0.017971767112612724, 0.314505934715271, 0.9006537795066833, 0.004503268748521805, 0.07205229997634888, 0.022516343742609024, 0.020989567041397095, 0.41597506403923035, 0.04197913408279419, 0.5209228992462158, 0.029360007494688034, 0.029360007494688034, 0.9395202398300171, 0.03415689617395401, 0.2903335988521576, 0.02732551470398903, 0.6455653309822083, 0.7385727763175964, 0.05339080095291138, 0.16017240285873413, 0.04449233412742615, 0.9125215411186218, 0.007541500497609377, 0.060332003980875015, 0.022624501958489418, 0.8129567503929138, 0.025014054030179977, 0.125070258975029, 0.03752107918262482, 0.9129801988601685, 0.9194173216819763, 0.31559765338897705, 0.03371533751487732, 0.3708687126636505, 0.27967149019241333, 0.07567373663187027, 0.1353796273469925, 0.37836867570877075, 0.4109986424446106, 0.9246807098388672, 0.0577925443649292, 0.1829834133386612, 0.007624309044331312, 0.7319336533546448, 0.076243095099926, 0.036730919033288956, 0.4379456043243408, 0.022038552910089493, 0.5034961700439453, 0.024895047768950462, 0.8153128027915955, 0.012447523884475231, 0.15559405088424683, 0.01196178887039423, 0.7685449719429016, 0.02392357774078846, 0.1973695307970047], \"Term\": [\"aaa\", \"aaa\", \"aaa\", \"aaa\", \"access\", \"access\", \"access\", \"access\", \"accidental\", \"adult\", \"adult\", \"adult\", \"adults\", \"adults\", \"adults\", \"adults\", \"alexa\", \"alexa\", \"alexa\", \"alexa\", \"alkaline\", \"alkaline\", \"alkaline\", \"alkaline\", \"answered\", \"app\", \"app\", \"app\", \"app\", \"appear\", \"appear\", \"appear\", \"appear\", \"apps\", \"apps\", \"apps\", \"apps\", \"assured\", \"babies\", \"battery\", \"battery\", \"battery\", \"battery\", \"batterys\", \"beat\", \"beat\", \"beat\", \"beat\", \"bedroom\", \"bedtime\", \"best\", \"best\", \"best\", \"best\", \"better\", \"better\", \"better\", \"better\", \"bezel\", \"bezel\", \"bf\", \"big\", \"big\", \"big\", \"big\", \"bigger\", \"bigger\", \"bigger\", \"bigger\", \"birthdays\", \"black\", \"black\", \"black\", \"black\", \"books\", \"books\", \"books\", \"books\", \"box\", \"box\", \"box\", \"box\", \"brand\", \"brand\", \"brand\", \"brand\", \"brands\", \"brands\", \"brands\", \"brands\", \"bulk\", \"bulk\", \"bulk\", \"bulk\", \"button\", \"button\", \"button\", \"button\", \"buttons\", \"buttons\", \"buttons\", \"buttons\", \"buy\", \"buy\", \"buy\", \"buy\", \"buying\", \"buying\", \"buying\", \"buying\", \"buys\", \"case\", \"case\", \"case\", \"case\", \"charge\", \"charge\", \"charge\", \"charge\", \"charm\", \"cheap\", \"cheap\", \"cheap\", \"cheap\", \"cheaper\", \"cheaper\", \"cheaper\", \"cheaper\", \"child\", \"child\", \"child\", \"child\", \"children\", \"children\", \"children\", \"children\", \"christmas\", \"christmas\", \"christmas\", \"christmas\", \"clicking\", \"clicking\", \"clicking\", \"clubhouse\", \"clumsy\", \"coat\", \"cold\", \"cold\", \"collection\", \"companion\", \"compete\", \"compromise\", \"connecting\", \"connecting\", \"controllers\", \"controllers\", \"controllers\", \"controllers\", \"corner\", \"cost\", \"cost\", \"cost\", \"cost\", \"cracked\", \"cracked\", \"cracked\", \"cracked\", \"customizable\", \"cut\", \"cut\", \"cut\", \"dark\", \"dark\", \"dark\", \"dark\", \"daughter\", \"daughter\", \"daughter\", \"daughter\", \"daugther\", \"days\", \"days\", \"days\", \"days\", \"deal\", \"deal\", \"deal\", \"deal\", \"december\", \"destroy\", \"device\", \"device\", \"device\", \"device\", \"devices\", \"devices\", \"devices\", \"devices\", \"directions\", \"directions\", \"disable\", \"dish\", \"downfall\", \"downfall\", \"drain\", \"drain\", \"drain\", \"drain\", \"drinks\", \"durable\", \"durable\", \"durable\", \"durable\", \"duracell\", \"duracell\", \"duracell\", \"duracell\", \"east\", \"easy\", \"easy\", \"easy\", \"easy\", \"energizer\", \"energizer\", \"energizer\", \"energizer\", \"enjoyment\", \"enjoyment\", \"enjoys\", \"enjoys\", \"enjoys\", \"enjoys\", \"enlarge\", \"entertain\", \"exactly\", \"exactly\", \"exactly\", \"exactly\", \"exceeded\", \"exceeded\", \"exchange\", \"exchange\", \"exchange\", \"exchange\", \"expansion\", \"expansion\", \"expansion\", \"expensive\", \"expensive\", \"expensive\", \"expensive\", \"facing\", \"far\", \"far\", \"far\", \"far\", \"fee\", \"fee\", \"fires\", \"fires\", \"fires\", \"flashlight\", \"flashlight\", \"flashlight\", \"font\", \"font\", \"font\", \"form\", \"form\", \"form\", \"form\", \"free\", \"free\", \"free\", \"free\", \"friday\", \"friday\", \"friday\", \"friday\", \"friend\", \"friend\", \"friend\", \"friend\", \"friendly\", \"friendly\", \"friendly\", \"friendly\", \"functional\", \"functional\", \"functional\", \"functional\", \"functionality\", \"functionality\", \"functionality\", \"functionality\", \"fuss\", \"games\", \"games\", \"games\", \"games\", \"gift\", \"gift\", \"gift\", \"gift\", \"gifted\", \"good\", \"good\", \"good\", \"good\", \"got\", \"got\", \"got\", \"got\", \"grandaughter\", \"grandaughter\", \"grandchildren\", \"grandchildren\", \"grandchildren\", \"grandchildren\", \"grandkids\", \"grandkids\", \"grandkids\", \"grandkids\", \"grandmother\", \"grandson\", \"grandson\", \"grandson\", \"grandson\", \"great\", \"great\", \"great\", \"great\", \"greater\", \"hd\", \"hd\", \"hd\", \"hd\", \"hes\", \"hulu\", \"hulu\", \"hulu\", \"hundreds\", \"hundreds\", \"hundreds\", \"husbands\", \"immensely\", \"impulse\", \"indestructible\", \"interested\", \"interested\", \"interested\", \"investment\", \"investment\", \"investment\", \"iphones\", \"item\", \"item\", \"item\", \"item\", \"jack\", \"keyboard\", \"keyboard\", \"keyboard\", \"keyboard\", \"keys\", \"kid\", \"kid\", \"kid\", \"kid\", \"kids\", \"kids\", \"kids\", \"kids\", \"kindle\", \"kindle\", \"kindle\", \"kindle\", \"leak\", \"leak\", \"leak\", \"leaked\", \"leaked\", \"leaked\", \"leaking\", \"leaking\", \"leaking\", \"leaking\", \"learning\", \"learning\", \"learning\", \"learning\", \"learns\", \"life\", \"life\", \"life\", \"life\", \"light\", \"light\", \"light\", \"light\", \"lightest\", \"lightning\", \"like\", \"like\", \"like\", \"like\", \"likes\", \"likes\", \"likes\", \"likes\", \"limitations\", \"listen\", \"listen\", \"listen\", \"listen\", \"little\", \"little\", \"little\", \"little\", \"logic\", \"long\", \"long\", \"long\", \"long\", \"longer\", \"longer\", \"longer\", \"longer\", \"longest\", \"longest\", \"longest\", \"lot\", \"lot\", \"lot\", \"lot\", \"louder\", \"louder\", \"louder\", \"love\", \"love\", \"love\", \"love\", \"lovely\", \"loves\", \"loves\", \"loves\", \"loves\", \"luv\", \"magazine\", \"mah\", \"mah\", \"maneuver\", \"maneuver\", \"maneuver\", \"manga\", \"maybe\", \"maybe\", \"maybe\", \"maybe\", \"mickey\", \"modified\", \"money\", \"money\", \"money\", \"money\", \"movies\", \"movies\", \"movies\", \"movies\", \"music\", \"music\", \"music\", \"music\", \"native\", \"navigate\", \"navigate\", \"navigate\", \"navigate\", \"need\", \"need\", \"need\", \"need\", \"nephew\", \"nephew\", \"nephew\", \"nephew\", \"net\", \"net\", \"net\", \"new\", \"new\", \"new\", \"new\", \"nice\", \"nice\", \"nice\", \"nice\", \"niece\", \"niece\", \"niece\", \"niece\", \"north\", \"noticed\", \"noticed\", \"noticed\", \"noticed\", \"novice\", \"oasis\", \"oasis\", \"oasis\", \"oasis\", \"occupied\", \"occupied\", \"occupied\", \"occupy\", \"ok\", \"ok\", \"ok\", \"ok\", \"old\", \"old\", \"old\", \"old\", \"open\", \"open\", \"open\", \"open\", \"page\", \"page\", \"page\", \"page\", \"paired\", \"paper\", \"paper\", \"paper\", \"paperwhite\", \"paperwhite\", \"paperwhite\", \"paperwhite\", \"parents\", \"parents\", \"parents\", \"parents\", \"perfect\", \"perfect\", \"perfect\", \"perfect\", \"performing\", \"performing\", \"performing\", \"pictures\", \"pictures\", \"pictures\", \"pictures\", \"play\", \"play\", \"play\", \"play\", \"playing\", \"playing\", \"playing\", \"playing\", \"plays\", \"plays\", \"plays\", \"plays\", \"port\", \"port\", \"port\", \"port\", \"power\", \"power\", \"power\", \"power\", \"preloaded\", \"preloaded\", \"preloaded\", \"preloaded\", \"present\", \"present\", \"present\", \"present\", \"price\", \"price\", \"price\", \"price\", \"priced\", \"priced\", \"priced\", \"priced\", \"prices\", \"prices\", \"prices\", \"prices\", \"prime\", \"prime\", \"prime\", \"prime\", \"print\", \"print\", \"print\", \"prize\", \"product\", \"product\", \"product\", \"product\", \"professional\", \"proof\", \"proof\", \"proof\", \"proof\", \"public\", \"purchase\", \"purchase\", \"purchase\", \"purchase\", \"purchased\", \"purchased\", \"purchased\", \"purchased\", \"quality\", \"quality\", \"quality\", \"quality\", \"quantity\", \"quantity\", \"quirks\", \"read\", \"read\", \"read\", \"read\", \"reading\", \"reading\", \"reading\", \"reading\", \"reasonable\", \"reasonable\", \"reasonable\", \"reasonable\", \"recommend\", \"recommend\", \"recommend\", \"recommend\", \"regrets\", \"remote\", \"remote\", \"remote\", \"remote\", \"reorder\", \"reorder\", \"replaces\", \"riding\", \"rubber\", \"rubber\", \"rubber\", \"rugged\", \"rugged\", \"sale\", \"sale\", \"sale\", \"sale\", \"salesman\", \"salesman\", \"samsung\", \"samsung\", \"samsung\", \"samsung\", \"savy\", \"scale\", \"screen\", \"screen\", \"screen\", \"screen\", \"searches\", \"set\", \"set\", \"set\", \"set\", \"setup\", \"setup\", \"setup\", \"setup\", \"seven\", \"seven\", \"shapes\", \"sharing\", \"shipping\", \"shipping\", \"shipping\", \"shipping\", \"short\", \"short\", \"short\", \"short\", \"shown\", \"shown\", \"shown\", \"siblings\", \"silk\", \"silk\", \"silk\", \"silk\", \"size\", \"size\", \"size\", \"size\", \"sized\", \"sized\", \"sized\", \"slow\", \"slow\", \"slow\", \"slow\", \"son\", \"son\", \"son\", \"son\", \"soon\", \"soon\", \"soon\", \"soon\", \"speaker\", \"speaker\", \"speaker\", \"speaker\", \"speed\", \"speed\", \"speed\", \"speed\", \"starter\", \"starter\", \"starter\", \"starter\", \"stone\", \"store\", \"store\", \"store\", \"store\", \"stream\", \"stream\", \"stream\", \"stream\", \"structure\", \"sunny\", \"surfing\", \"surfing\", \"surfing\", \"surfing\", \"swipe\", \"swipe\", \"swipe\", \"tablet\", \"tablet\", \"tablet\", \"tablet\", \"tasks\", \"tasks\", \"tasks\", \"tasks\", \"teen\", \"teen\", \"theses\", \"ticking\", \"time\", \"time\", \"time\", \"time\", \"tool\", \"tool\", \"tool\", \"tool\", \"traded\", \"transfer\", \"transfer\", \"transfer\", \"transfer\", \"transferred\", \"transferred\", \"tried\", \"tried\", \"tried\", \"tried\", \"turn\", \"turn\", \"turn\", \"turn\", \"tutorials\", \"twin\", \"unbeatable\", \"unbeatable\", \"underground\", \"underground\", \"underground\", \"use\", \"use\", \"use\", \"use\", \"user\", \"user\", \"user\", \"user\", \"value\", \"value\", \"value\", \"value\", \"ve\", \"ve\", \"ve\", \"ve\", \"videos\", \"videos\", \"videos\", \"videos\", \"voyage\", \"voyage\", \"voyage\", \"voyage\", \"watch\", \"watch\", \"watch\", \"watch\", \"watches\", \"watches\", \"watches\", \"watching\", \"watching\", \"watching\", \"watching\", \"week\", \"week\", \"week\", \"week\", \"white\", \"white\", \"white\", \"white\", \"wireless\", \"wireless\", \"wireless\", \"wireless\", \"withstand\", \"wizard\", \"work\", \"work\", \"work\", \"work\", \"works\", \"works\", \"works\", \"works\", \"wouldnt\", \"wouldnt\", \"xbox\", \"xbox\", \"xbox\", \"xbox\", \"year\", \"year\", \"year\", \"year\", \"young\", \"young\", \"young\", \"young\", \"yr\", \"yr\", \"yr\", \"yr\"]}, \"R\": 30, \"lambda.step\": 0.01, \"plot.opts\": {\"xlab\": \"PC1\", \"ylab\": \"PC2\"}, \"topic.order\": [1, 4, 3, 2]};\n",
       "\n",
       "function LDAvis_load_lib(url, callback){\n",
       "  var s = document.createElement('script');\n",
       "  s.src = url;\n",
       "  s.async = true;\n",
       "  s.onreadystatechange = s.onload = callback;\n",
       "  s.onerror = function(){console.warn(\"failed to load library \" + url);};\n",
       "  document.getElementsByTagName(\"head\")[0].appendChild(s);\n",
       "}\n",
       "\n",
       "if(typeof(LDAvis) !== \"undefined\"){\n",
       "   // already loaded: just create the visualization\n",
       "   !function(LDAvis){\n",
       "       new LDAvis(\"#\" + \"ldavis_el8820847957431121048816728\", ldavis_el8820847957431121048816728_data);\n",
       "   }(LDAvis);\n",
       "}else if(typeof define === \"function\" && define.amd){\n",
       "   // require.js is available: use it to load d3/LDAvis\n",
       "   require.config({paths: {d3: \"https://cdnjs.cloudflare.com/ajax/libs/d3/3.5.5/d3.min\"}});\n",
       "   require([\"d3\"], function(d3){\n",
       "      window.d3 = d3;\n",
       "      LDAvis_load_lib(\"https://cdn.rawgit.com/bmabey/pyLDAvis/files/ldavis.v1.0.0.js\", function(){\n",
       "        new LDAvis(\"#\" + \"ldavis_el8820847957431121048816728\", ldavis_el8820847957431121048816728_data);\n",
       "      });\n",
       "    });\n",
       "}else{\n",
       "    // require.js not available: dynamically load d3 & LDAvis\n",
       "    LDAvis_load_lib(\"https://cdnjs.cloudflare.com/ajax/libs/d3/3.5.5/d3.min.js\", function(){\n",
       "         LDAvis_load_lib(\"https://cdn.rawgit.com/bmabey/pyLDAvis/files/ldavis.v1.0.0.js\", function(){\n",
       "                 new LDAvis(\"#\" + \"ldavis_el8820847957431121048816728\", ldavis_el8820847957431121048816728_data);\n",
       "            })\n",
       "         });\n",
       "}\n",
       "</script>"
      ],
      "text/plain": [
       "PreparedData(topic_coordinates=              x         y  topics  cluster       Freq\n",
       "topic                                                \n",
       "0      0.123789  0.085431       1        1  28.274778\n",
       "3     -0.116548  0.013184       2        1  26.201571\n",
       "2      0.089879 -0.099554       3        1  22.863857\n",
       "1     -0.097120  0.000939       4        1  22.659794, topic_info=     Category         Freq       Term        Total  loglift  logprob\n",
       "31    Default  5588.000000       good  5588.000000  30.0000  30.0000\n",
       "2428  Default  6825.000000     tablet  6825.000000  29.0000  29.0000\n",
       "17    Default  4791.000000      price  4791.000000  28.0000  28.0000\n",
       "20    Default  8521.000000      great  8521.000000  27.0000  27.0000\n",
       "750   Default  2984.000000       easy  2984.000000  26.0000  26.0000\n",
       "516   Default  2126.000000        old  2126.000000  25.0000  25.0000\n",
       "2071  Default  3360.000000     kindle  3360.000000  24.0000  24.0000\n",
       "1852  Default  2184.000000      loves  2184.000000  23.0000  23.0000\n",
       "188   Default  2436.000000       kids  2436.000000  22.0000  22.0000\n",
       "647   Default  1723.000000      games  1723.000000  21.0000  21.0000\n",
       "161   Default  2012.000000    product  2012.000000  20.0000  20.0000\n",
       "101   Default  1769.000000       year  1769.000000  19.0000  19.0000\n",
       "2     Default  2062.000000    battery  2062.000000  18.0000  18.0000\n",
       "7     Default  1352.000000    quality  1352.000000  17.0000  17.0000\n",
       "880   Default  1070.000000       gift  1070.000000  16.0000  16.0000\n",
       "87    Default  3547.000000       love  3547.000000  15.0000  15.0000\n",
       "26    Default  2187.000000        buy  2187.000000  14.0000  14.0000\n",
       "382   Default   945.000000      value   945.000000  13.0000  13.0000\n",
       "1543  Default  1885.000000       apps  1885.000000  12.0000  12.0000\n",
       "19    Default  1001.000000      brand  1001.000000  11.0000  11.0000\n",
       "45    Default  1076.000000    perfect  1076.000000  10.0000  10.0000\n",
       "404   Default  1138.000000       play  1138.000000   9.0000   9.0000\n",
       "22    Default  2032.000000       long  2032.000000   8.0000   8.0000\n",
       "91    Default  4432.000000        use  4432.000000   7.0000   7.0000\n",
       "1263  Default   955.000000   daughter   955.000000   6.0000   6.0000\n",
       "1674  Default  1868.000000     screen  1868.000000   5.0000   5.0000\n",
       "427   Default   745.000000       deal   745.000000   4.0000   4.0000\n",
       "2549  Default   656.000000     movies   656.000000   3.0000   3.0000\n",
       "71    Default   664.000000     brands   664.000000   2.0000   2.0000\n",
       "723   Default   943.000000        son   943.000000   1.0000   1.0000\n",
       "...       ...          ...        ...          ...      ...      ...\n",
       "2685   Topic4   189.355530   watching   292.766663   1.0488  -5.8567\n",
       "2858   Topic4   115.753723     enjoys   165.269897   1.1285  -6.3488\n",
       "516    Topic4  1025.982056        old  2126.224121   0.7559  -4.1669\n",
       "895    Topic4   365.625702       free   636.409241   0.9303  -5.1987\n",
       "20     Topic4  3246.741699      great  8521.686523   0.5196  -3.0149\n",
       "647    Topic4   847.372375      games  1723.335327   0.7747  -4.3582\n",
       "2781   Topic4   438.514313         hd   801.192444   0.8819  -5.0169\n",
       "87     Topic4  1504.092163       love  3547.900635   0.6264  -3.7844\n",
       "1852   Topic4   992.833252      loves  2184.277344   0.6961  -4.1997\n",
       "2428   Topic4  2487.385742     tablet  6825.875000   0.4751  -3.2813\n",
       "1815   Topic4   124.924850    present   180.974457   1.1139  -6.2726\n",
       "1674   Topic4   807.080078     screen  1868.733643   0.6450  -4.4069\n",
       "1030   Topic4   132.862305     bigger   196.713837   1.0921  -6.2110\n",
       "2260   Topic4   294.692780        app   557.487549   0.8471  -5.4144\n",
       "1466   Topic4   241.374893     access   430.982971   0.9049  -5.6140\n",
       "234    Topic4   453.139587        new  1002.977051   0.6901  -4.9841\n",
       "93     Topic4   592.031189      works  1440.394043   0.5955  -4.7168\n",
       "28     Topic4   414.837402  christmas   894.896606   0.7158  -5.0724\n",
       "723    Topic4   411.242828        son   943.215088   0.6545  -5.0811\n",
       "1829   Topic4   272.519135      watch   524.069885   0.8307  -5.4926\n",
       "404    Topic4   461.071472       play  1138.314331   0.5808  -4.9668\n",
       "2082   Topic4   565.402832      books  1647.885010   0.4149  -4.7628\n",
       "941    Topic4   469.148590    reading  1307.492310   0.4596  -4.9494\n",
       "169    Topic4   591.460693       time  1953.439209   0.2898  -4.7177\n",
       "9      Topic4   506.287018       work  1809.265625   0.2110  -4.8732\n",
       "188    Topic4   556.817993       kids  2436.493896   0.0085  -4.7781\n",
       "1543   Topic4   482.618835       apps  1885.419189   0.1219  -4.9211\n",
       "91     Topic4   569.515503        use  4432.758789  -0.5674  -4.7555\n",
       "17     Topic4   441.014923      price  4791.369629  -0.9009  -5.0112\n",
       "12     Topic4   340.266663       like  2537.398193  -0.5246  -5.2706\n",
       "\n",
       "[376 rows x 6 columns], token_table=      Topic      Freq        Term\n",
       "term                             \n",
       "54        1  0.714929         aaa\n",
       "54        2  0.006874         aaa\n",
       "54        3  0.264661         aaa\n",
       "54        4  0.013749         aaa\n",
       "1466      1  0.046406      access\n",
       "1466      2  0.320198      access\n",
       "1466      3  0.071929      access\n",
       "1466      4  0.559187      access\n",
       "3210      2  0.923969  accidental\n",
       "1488      2  0.910199       adult\n",
       "1488      3  0.020924       adult\n",
       "1488      4  0.062772       adult\n",
       "2892      1  0.027393      adults\n",
       "2892      2  0.867437      adults\n",
       "2892      3  0.018262      adults\n",
       "2892      4  0.100440      adults\n",
       "923       1  0.144497       alexa\n",
       "923       2  0.021146       alexa\n",
       "923       3  0.155070       alexa\n",
       "923       4  0.683719       alexa\n",
       "265       1  0.878224    alkaline\n",
       "265       2  0.005778    alkaline\n",
       "265       3  0.098222    alkaline\n",
       "265       4  0.017333    alkaline\n",
       "2849      3  0.876039    answered\n",
       "2260      1  0.233189         app\n",
       "2260      2  0.215251         app\n",
       "2260      3  0.021525         app\n",
       "2260      4  0.529160         app\n",
       "55        1  0.892379      appear\n",
       "...     ...       ...         ...\n",
       "207       3  0.125070    wireless\n",
       "207       4  0.037521    wireless\n",
       "3318      3  0.912980   withstand\n",
       "920       1  0.919417      wizard\n",
       "9         1  0.315598        work\n",
       "9         2  0.033715        work\n",
       "9         3  0.370869        work\n",
       "9         4  0.279671        work\n",
       "93        1  0.075674       works\n",
       "93        2  0.135380       works\n",
       "93        3  0.378369       works\n",
       "93        4  0.410999       works\n",
       "1545      1  0.924681     wouldnt\n",
       "1545      3  0.057793     wouldnt\n",
       "148       1  0.182983        xbox\n",
       "148       2  0.007624        xbox\n",
       "148       3  0.731934        xbox\n",
       "148       4  0.076243        xbox\n",
       "101       1  0.036731        year\n",
       "101       2  0.437946        year\n",
       "101       3  0.022039        year\n",
       "101       4  0.503496        year\n",
       "956       1  0.024895       young\n",
       "956       2  0.815313       young\n",
       "956       3  0.012448       young\n",
       "956       4  0.155594       young\n",
       "1799      1  0.011962          yr\n",
       "1799      2  0.768545          yr\n",
       "1799      3  0.023924          yr\n",
       "1799      4  0.197370          yr\n",
       "\n",
       "[868 rows x 3 columns], R=30, lambda_step=0.01, plot_opts={'xlab': 'PC1', 'ylab': 'PC2'}, topic_order=[1, 4, 3, 2])"
      ]
     },
     "execution_count": 21,
     "metadata": {},
     "output_type": "execute_result"
    }
   ],
   "source": [
    "pyLDAvis.gensim.prepare(lda, corpus, id2word)"
   ]
  },
  {
   "cell_type": "code",
   "execution_count": 26,
   "metadata": {},
   "outputs": [
    {
     "data": {
      "text/plain": [
       "[(0, 0.27097452), (1, 0.023207366), (2, 0.5717869), (3, 0.13403125)]"
      ]
     },
     "execution_count": 26,
     "metadata": {},
     "output_type": "execute_result"
    }
   ],
   "source": [
    "lda[corpus[0]]\n"
   ]
  },
  {
   "cell_type": "code",
   "execution_count": 27,
   "metadata": {},
   "outputs": [],
   "source": [
    "distro = [lda[d] for d in corpus]"
   ]
  },
  {
   "cell_type": "code",
   "execution_count": 28,
   "metadata": {},
   "outputs": [
    {
     "data": {
      "text/plain": [
       "[(0, 0.27158242), (1, 0.023207415), (2, 0.57150614), (3, 0.13370405)]"
      ]
     },
     "execution_count": 28,
     "metadata": {},
     "output_type": "execute_result"
    }
   ],
   "source": [
    "distro[0]"
   ]
  },
  {
   "cell_type": "code",
   "execution_count": 29,
   "metadata": {},
   "outputs": [],
   "source": [
    "distro = [lda[d] for d in corpus]\n",
    "\n",
    "def update(doc):\n",
    "        d_dist = {k:0 for k in range(0,15)}\n",
    "        for t in doc:\n",
    "            d_dist[t[0]] = t[1]\n",
    "        return d_dist\n",
    "    \n",
    "new_distro = [update(d) for d in distro]"
   ]
  },
  {
   "cell_type": "code",
   "execution_count": 30,
   "metadata": {},
   "outputs": [
    {
     "data": {
      "text/plain": [
       "28332"
      ]
     },
     "execution_count": 30,
     "metadata": {},
     "output_type": "execute_result"
    }
   ],
   "source": [
    "len(new_distro)"
   ]
  },
  {
   "cell_type": "code",
   "execution_count": null,
   "metadata": {},
   "outputs": [],
   "source": []
  },
  {
   "cell_type": "code",
   "execution_count": 25,
   "metadata": {},
   "outputs": [],
   "source": [
    "#Selecting the Number of Topics (Learn)"
   ]
  },
  {
   "cell_type": "code",
   "execution_count": 41,
   "metadata": {},
   "outputs": [
    {
     "ename": "ValueError",
     "evalue": "Length mismatch: Expected axis has 15 elements, new values have 4 elements",
     "output_type": "error",
     "traceback": [
      "\u001b[0;31m---------------------------------------------------------------------------\u001b[0m",
      "\u001b[0;31mValueError\u001b[0m                                Traceback (most recent call last)",
      "\u001b[0;32m<ipython-input-41-3bcb3324afce>\u001b[0m in \u001b[0;36m<module>\u001b[0;34m\u001b[0m\n\u001b[1;32m      1\u001b[0m \u001b[0mdf\u001b[0m \u001b[0;34m=\u001b[0m \u001b[0mpd\u001b[0m\u001b[0;34m.\u001b[0m\u001b[0mDataFrame\u001b[0m\u001b[0;34m.\u001b[0m\u001b[0mfrom_records\u001b[0m\u001b[0;34m(\u001b[0m\u001b[0mnew_distro\u001b[0m\u001b[0;34m,\u001b[0m \u001b[0mindex\u001b[0m\u001b[0;34m=\u001b[0m\u001b[0mrev_title\u001b[0m\u001b[0;34m)\u001b[0m\u001b[0;34m\u001b[0m\u001b[0m\n\u001b[0;32m----> 2\u001b[0;31m \u001b[0mdf\u001b[0m\u001b[0;34m.\u001b[0m\u001b[0mcolumns\u001b[0m \u001b[0;34m=\u001b[0m \u001b[0mtopics\u001b[0m\u001b[0;34m\u001b[0m\u001b[0m\n\u001b[0m",
      "\u001b[0;32m~/opt/anaconda3/envs/U4-S1-NLP/lib/python3.7/site-packages/pandas/core/generic.py\u001b[0m in \u001b[0;36m__setattr__\u001b[0;34m(self, name, value)\u001b[0m\n\u001b[1;32m   5078\u001b[0m         \u001b[0;32mtry\u001b[0m\u001b[0;34m:\u001b[0m\u001b[0;34m\u001b[0m\u001b[0m\n\u001b[1;32m   5079\u001b[0m             \u001b[0mobject\u001b[0m\u001b[0;34m.\u001b[0m\u001b[0m__getattribute__\u001b[0m\u001b[0;34m(\u001b[0m\u001b[0mself\u001b[0m\u001b[0;34m,\u001b[0m \u001b[0mname\u001b[0m\u001b[0;34m)\u001b[0m\u001b[0;34m\u001b[0m\u001b[0m\n\u001b[0;32m-> 5080\u001b[0;31m             \u001b[0;32mreturn\u001b[0m \u001b[0mobject\u001b[0m\u001b[0;34m.\u001b[0m\u001b[0m__setattr__\u001b[0m\u001b[0;34m(\u001b[0m\u001b[0mself\u001b[0m\u001b[0;34m,\u001b[0m \u001b[0mname\u001b[0m\u001b[0;34m,\u001b[0m \u001b[0mvalue\u001b[0m\u001b[0;34m)\u001b[0m\u001b[0;34m\u001b[0m\u001b[0m\n\u001b[0m\u001b[1;32m   5081\u001b[0m         \u001b[0;32mexcept\u001b[0m \u001b[0mAttributeError\u001b[0m\u001b[0;34m:\u001b[0m\u001b[0;34m\u001b[0m\u001b[0m\n\u001b[1;32m   5082\u001b[0m             \u001b[0;32mpass\u001b[0m\u001b[0;34m\u001b[0m\u001b[0m\n",
      "\u001b[0;32mpandas/_libs/properties.pyx\u001b[0m in \u001b[0;36mpandas._libs.properties.AxisProperty.__set__\u001b[0;34m()\u001b[0m\n",
      "\u001b[0;32m~/opt/anaconda3/envs/U4-S1-NLP/lib/python3.7/site-packages/pandas/core/generic.py\u001b[0m in \u001b[0;36m_set_axis\u001b[0;34m(self, axis, labels)\u001b[0m\n\u001b[1;32m    636\u001b[0m \u001b[0;34m\u001b[0m\u001b[0m\n\u001b[1;32m    637\u001b[0m     \u001b[0;32mdef\u001b[0m \u001b[0m_set_axis\u001b[0m\u001b[0;34m(\u001b[0m\u001b[0mself\u001b[0m\u001b[0;34m,\u001b[0m \u001b[0maxis\u001b[0m\u001b[0;34m,\u001b[0m \u001b[0mlabels\u001b[0m\u001b[0;34m)\u001b[0m\u001b[0;34m:\u001b[0m\u001b[0;34m\u001b[0m\u001b[0m\n\u001b[0;32m--> 638\u001b[0;31m         \u001b[0mself\u001b[0m\u001b[0;34m.\u001b[0m\u001b[0m_data\u001b[0m\u001b[0;34m.\u001b[0m\u001b[0mset_axis\u001b[0m\u001b[0;34m(\u001b[0m\u001b[0maxis\u001b[0m\u001b[0;34m,\u001b[0m \u001b[0mlabels\u001b[0m\u001b[0;34m)\u001b[0m\u001b[0;34m\u001b[0m\u001b[0m\n\u001b[0m\u001b[1;32m    639\u001b[0m         \u001b[0mself\u001b[0m\u001b[0;34m.\u001b[0m\u001b[0m_clear_item_cache\u001b[0m\u001b[0;34m(\u001b[0m\u001b[0;34m)\u001b[0m\u001b[0;34m\u001b[0m\u001b[0m\n\u001b[1;32m    640\u001b[0m \u001b[0;34m\u001b[0m\u001b[0m\n",
      "\u001b[0;32m~/opt/anaconda3/envs/U4-S1-NLP/lib/python3.7/site-packages/pandas/core/internals/managers.py\u001b[0m in \u001b[0;36mset_axis\u001b[0;34m(self, axis, new_labels)\u001b[0m\n\u001b[1;32m    153\u001b[0m             raise ValueError(\n\u001b[1;32m    154\u001b[0m                 \u001b[0;34m'Length mismatch: Expected axis has {old} elements, new '\u001b[0m\u001b[0;34m\u001b[0m\u001b[0m\n\u001b[0;32m--> 155\u001b[0;31m                 'values have {new} elements'.format(old=old_len, new=new_len))\n\u001b[0m\u001b[1;32m    156\u001b[0m \u001b[0;34m\u001b[0m\u001b[0m\n\u001b[1;32m    157\u001b[0m         \u001b[0mself\u001b[0m\u001b[0;34m.\u001b[0m\u001b[0maxes\u001b[0m\u001b[0;34m[\u001b[0m\u001b[0maxis\u001b[0m\u001b[0;34m]\u001b[0m \u001b[0;34m=\u001b[0m \u001b[0mnew_labels\u001b[0m\u001b[0;34m\u001b[0m\u001b[0m\n",
      "\u001b[0;31mValueError\u001b[0m: Length mismatch: Expected axis has 15 elements, new values have 4 elements"
     ]
    }
   ],
   "source": [
    "df = pd.DataFrame.from_records(new_distro, index=rev_title)\n",
    "df.columns = topics"
   ]
  },
  {
   "cell_type": "code",
   "execution_count": null,
   "metadata": {},
   "outputs": [],
   "source": []
  },
  {
   "cell_type": "code",
   "execution_count": null,
   "metadata": {},
   "outputs": [],
   "source": []
  },
  {
   "cell_type": "code",
   "execution_count": null,
   "metadata": {},
   "outputs": [],
   "source": []
  },
  {
   "cell_type": "code",
   "execution_count": null,
   "metadata": {},
   "outputs": [],
   "source": []
  },
  {
   "cell_type": "code",
   "execution_count": null,
   "metadata": {},
   "outputs": [],
   "source": []
  },
  {
   "cell_type": "code",
   "execution_count": null,
   "metadata": {},
   "outputs": [],
   "source": []
  },
  {
   "cell_type": "markdown",
   "metadata": {},
   "source": [
    "## Stretch Goals\n",
    "\n",
    "* Incorporate Named Entity Recognition in your analysis\n",
    "* Incorporate some custom pre-processing from our previous lessons (like spacy lemmatization)\n",
    "* Analyze a dataset of interest to you with topic modeling"
   ]
  }
 ],
 "metadata": {
  "kernelspec": {
   "display_name": "U4-S1-NLP (numpy updates)",
   "language": "python",
   "name": "u4-s1-nlp"
  },
  "language_info": {
   "codemirror_mode": {
    "name": "ipython",
    "version": 3
   },
   "file_extension": ".py",
   "mimetype": "text/x-python",
   "name": "python",
   "nbconvert_exporter": "python",
   "pygments_lexer": "ipython3",
   "version": "3.7.0"
  }
 },
 "nbformat": 4,
 "nbformat_minor": 4
}
